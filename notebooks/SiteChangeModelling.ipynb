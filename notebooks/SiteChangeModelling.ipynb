{
 "cells": [
  {
   "cell_type": "markdown",
   "metadata": {},
   "source": [
    "# Load data and clone source repo"
   ]
  },
  {
   "cell_type": "code",
   "execution_count": 1,
   "metadata": {
    "colab": {
     "base_uri": "https://localhost:8080/"
    },
    "id": "ec3zfW5iiCeW",
    "outputId": "8b50bb12-304e-400e-c040-31f3b895e98f"
   },
   "outputs": [
    {
     "name": "stdout",
     "output_type": "stream",
     "text": [
      "Mounted at /content/drive\n"
     ]
    }
   ],
   "source": [
    "from google.colab import drive\n",
    "drive.mount('/content/drive')"
   ]
  },
  {
   "cell_type": "code",
   "execution_count": 28,
   "metadata": {
    "execution": {
     "iopub.execute_input": "2023-08-02T12:23:33.928319Z",
     "iopub.status.busy": "2023-08-02T12:23:33.927801Z",
     "iopub.status.idle": "2023-08-02T12:23:41.903372Z",
     "shell.execute_reply": "2023-08-02T12:23:41.901737Z",
     "shell.execute_reply.started": "2023-08-02T12:23:33.928279Z"
    },
    "id": "YhP4-h22i5ng"
   },
   "outputs": [],
   "source": [
    "import shutil\n",
    "import zipfile\n",
    "import os\n",
    "\n",
    "if not os.path.isdir('OMS2CD'):\n",
    "    with zipfile.ZipFile('/datasets/oms2cd_subset/OMS2CD_subset.zip', 'r') as zip_ref:\n",
    "        zip_ref.extractall('OMS2CD')\n",
    "\n",
    "if not os.path.isdir('TestData'):\n",
    "    with zipfile.ZipFile('/datasets/jasanskytest/Jasansky_2023_rgb_after2019.zip', 'r') as zip_ref:\n",
    "        zip_ref.extractall('TestData')\n",
    "\n",
    "if not os.path.isdir('TestDataIR'):\n",
    "    with zipfile.ZipFile('/datasets/jasanskytestir/Jasansky_2023_rgbir_after2019.zip', 'r') as zip_ref:\n",
    "        zip_ref.extractall('TestDataIR')"
   ]
  },
  {
   "cell_type": "code",
   "execution_count": 1,
   "metadata": {
    "colab": {
     "base_uri": "https://localhost:8080/"
    },
    "execution": {
     "iopub.execute_input": "2023-08-02T11:56:22.773433Z",
     "iopub.status.busy": "2023-08-02T11:56:22.773056Z",
     "iopub.status.idle": "2023-08-02T11:56:29.277641Z",
     "shell.execute_reply": "2023-08-02T11:56:29.275817Z",
     "shell.execute_reply.started": "2023-08-02T11:56:22.773400Z"
    },
    "id": "GuD2hP8yi7zs",
    "outputId": "f4d63b9b-6882-4839-fbc4-74031a92e7a8"
   },
   "outputs": [
    {
     "name": "stdout",
     "output_type": "stream",
     "text": [
      "fatal: destination path 'OpenMineChangeDetection' already exists and is not an empty directory.\n"
     ]
    }
   ],
   "source": [
    "!git clone https://github.com/Dibz15/OpenMineChangeDetection.git\n",
    "import sys\n",
    "sys.path.append('OpenMineChangeDetection/')"
   ]
  },
  {
   "cell_type": "markdown",
   "metadata": {},
   "source": [
    "# Install dependencies"
   ]
  },
  {
   "cell_type": "code",
   "execution_count": 2,
   "metadata": {
    "execution": {
     "iopub.execute_input": "2023-08-02T11:56:30.885357Z",
     "iopub.status.busy": "2023-08-02T11:56:30.885005Z",
     "iopub.status.idle": "2023-08-02T11:57:21.729720Z",
     "shell.execute_reply": "2023-08-02T11:57:21.728192Z",
     "shell.execute_reply.started": "2023-08-02T11:56:30.885326Z"
    },
    "id": "gfLH4XiAjAUv"
   },
   "outputs": [],
   "source": [
    "%%capture\n",
    "!pip install rasterio==1.3.8\n",
    "!pip install torchgeo==0.4.1\n",
    "!pip install tiler==0.5.7\n",
    "!pip install kornia==0.6.12\n",
    "!pip install lightning==1.9.5\n",
    "!pip install torchmetrics==0.11.4"
   ]
  },
  {
   "cell_type": "markdown",
   "metadata": {},
   "source": [
    "# Seed random, set device"
   ]
  },
  {
   "cell_type": "code",
   "execution_count": 3,
   "metadata": {
    "execution": {
     "iopub.execute_input": "2023-08-02T11:57:21.733655Z",
     "iopub.status.busy": "2023-08-02T11:57:21.732477Z",
     "iopub.status.idle": "2023-08-02T11:57:24.155956Z",
     "shell.execute_reply": "2023-08-02T11:57:24.154770Z",
     "shell.execute_reply.started": "2023-08-02T11:57:21.733590Z"
    },
    "id": "5uWKnCxHjB_K"
   },
   "outputs": [],
   "source": [
    "import torch\n",
    "import random\n",
    "import numpy as np\n",
    "\n",
    "if torch.cuda.is_available():\n",
    "  device = torch.device('cuda')\n",
    "else:\n",
    "  device = torch.device('cpu')\n",
    "\n",
    "torch.manual_seed(543)\n",
    "if torch.cuda.is_available():\n",
    "    torch.cuda.manual_seed_all(543)\n",
    "random.seed(543)\n",
    "np.random.seed(543)"
   ]
  },
  {
   "cell_type": "code",
   "execution_count": 5,
   "metadata": {
    "execution": {
     "iopub.execute_input": "2023-08-02T11:57:31.681858Z",
     "iopub.status.busy": "2023-08-02T11:57:31.681087Z",
     "iopub.status.idle": "2023-08-02T11:57:31.746372Z",
     "shell.execute_reply": "2023-08-02T11:57:31.744904Z",
     "shell.execute_reply.started": "2023-08-02T11:57:31.681816Z"
    },
    "id": "6124_v0J_S9Y"
   },
   "outputs": [],
   "source": [
    "import kornia.augmentation as K\n",
    "from OpenMineChangeDetection.datasets import OMS2CD\n",
    "\n",
    "normalize_sample = OMS2CD.GetNormalizeTransform(bands='rgb')\n",
    "normalize_batch = K.Normalize(mean=normalize_sample.mean, std=normalize_sample.std)\n",
    "\n",
    "def get_mask_preds_tinycd(model, batch, device):\n",
    "    batch = {k: v.to(device) for k,v in batch.items() if isinstance(v, torch.Tensor)}\n",
    "    batch['image'] = normalize_batch(batch['image'])\n",
    "    mask_pred = model(batch['image']).squeeze(1)\n",
    "    return mask_pred\n",
    "\n",
    "def get_mask_preds_lsnet(model, batch, device):\n",
    "    batch = {k: v.to(device) for k,v in batch.items() if isinstance(v, torch.Tensor)}\n",
    "    batch['image'] = normalize_batch(batch['image'])\n",
    "    mask_pred = model(batch)\n",
    "    mask_pred = mask_pred[-1]\n",
    "    mask_pred_prob = torch.softmax(mask_pred, dim=1)\n",
    "    mask_pred_prob_class1 = mask_pred_prob[:, 1, :, :]\n",
    "    return mask_pred_prob_class1\n",
    " \n",
    "def get_mask_preds_ddpmcd(model, batch, device):\n",
    "    batch = {k: v.to(device) for k,v in batch.items() if isinstance(v, torch.Tensor)}\n",
    "    batch['image'] = normalize_batch(batch['image'])\n",
    "    mask_pred = model(batch)\n",
    "    mask_pred_prob = torch.softmax(mask_pred, dim=1)\n",
    "    mask_pred_prob_class1 = mask_pred_prob[:, 1, :, :]\n",
    "    return mask_pred_prob_class1"
   ]
  },
  {
   "cell_type": "markdown",
   "metadata": {},
   "source": [
    "# Load case study data"
   ]
  },
  {
   "cell_type": "code",
   "execution_count": 6,
   "metadata": {
    "execution": {
     "iopub.execute_input": "2023-08-02T11:57:31.748537Z",
     "iopub.status.busy": "2023-08-02T11:57:31.748149Z",
     "iopub.status.idle": "2023-08-02T11:57:38.191574Z",
     "shell.execute_reply": "2023-08-02T11:57:38.190429Z",
     "shell.execute_reply.started": "2023-08-02T11:57:31.748509Z"
    },
    "id": "PDkRTl1p2WWm"
   },
   "outputs": [],
   "source": [
    "from OpenMineChangeDetection.datasets.CaseStudyDataset\n",
    "dataset = CaseStudyDataset('TestData', stride=200)"
   ]
  },
  {
   "cell_type": "markdown",
   "metadata": {},
   "source": [
    "# Define visualisation functions"
   ]
  },
  {
   "cell_type": "code",
   "execution_count": 7,
   "metadata": {
    "execution": {
     "iopub.execute_input": "2023-08-02T11:57:38.193290Z",
     "iopub.status.busy": "2023-08-02T11:57:38.193012Z",
     "iopub.status.idle": "2023-08-02T11:57:38.207293Z",
     "shell.execute_reply": "2023-08-02T11:57:38.205928Z",
     "shell.execute_reply.started": "2023-08-02T11:57:38.193263Z"
    },
    "id": "vXeVr9MlI54g"
   },
   "outputs": [],
   "source": [
    "import numpy as np\n",
    "import torch\n",
    "import matplotlib.pyplot as plt\n",
    "\n",
    "def predict_file_mask(model, dataset, pred_func, device, file_index, threshold=None, plot=False, output_path=None):\n",
    "    batch_size = 3 # Set your batch size\n",
    "    image_tile_map = dataset.get_image_tile_ranges()\n",
    "    chip_idx_range = image_tile_map[file_index]\n",
    "    tiler, full_image_shape = dataset._get_tiler(file_index, channels_override = 1)\n",
    "\n",
    "    full_meta = dataset.get_tile_metadata(chip_idx_range[0], mask = True, no_tile = True)\n",
    "    merger_out = Merger(tiler)\n",
    "\n",
    "    tile_batch = []\n",
    "    tile_ids = []\n",
    "    for absolute_chip_id in range(chip_idx_range[0], chip_idx_range[1]+1):\n",
    "        relative_tile_id = absolute_chip_id - chip_idx_range[0]\n",
    "        tile_dict = dataset[absolute_chip_id]\n",
    "        tile_batch.append(tile_dict)\n",
    "        tile_ids.append(relative_tile_id)\n",
    "\n",
    "        # Check if batch is full or if we are at the end of the loop\n",
    "        if len(tile_batch) == batch_size or absolute_chip_id == chip_idx_range[1]:\n",
    "            batch_input = torch.stack([tile['image'] for tile in tile_batch]).to(device)\n",
    "\n",
    "            mask_pred_batch = pred_func(model, {'image': batch_input}, device)\n",
    "            for i, mask_pred in enumerate(mask_pred_batch):\n",
    "                mask_pred_numpy = mask_pred.unsqueeze(0).detach().cpu().numpy()\n",
    "                merger_out.add(tile_ids[i], mask_pred_numpy)\n",
    "\n",
    "            # Reset the batch\n",
    "            tile_batch = []\n",
    "            tile_ids = []\n",
    "\n",
    "    final_mask = merger_out.merge(unpad=True).squeeze(0)\n",
    "    if threshold is not None:\n",
    "        final_mask = final_mask > threshold\n",
    "    if plot:\n",
    "        plt.figure()\n",
    "        plt.imshow(final_mask)\n",
    "        plt.show()\n",
    "\n",
    "    if output_path is not None:\n",
    "        with rasterio.open(output_path, 'w', **full_meta) as dst:\n",
    "            dst.write((final_mask * 255).astype(np.uint8), 1)\n",
    "\n",
    "    return final_mask, (full_image_shape[1]*full_image_shape[2])\n"
   ]
  },
  {
   "cell_type": "code",
   "execution_count": 8,
   "metadata": {
    "execution": {
     "iopub.execute_input": "2023-08-02T11:57:38.209935Z",
     "iopub.status.busy": "2023-08-02T11:57:38.209569Z",
     "iopub.status.idle": "2023-08-02T11:57:38.872609Z",
     "shell.execute_reply": "2023-08-02T11:57:38.871248Z",
     "shell.execute_reply.started": "2023-08-02T11:57:38.209907Z"
    },
    "id": "6Hun2a7a6-h2"
   },
   "outputs": [],
   "source": [
    "import matplotlib.pyplot as plt\n",
    "import pandas as pd\n",
    "from tqdm import tqdm\n",
    "from matplotlib.colors import ListedColormap\n",
    "from matplotlib.lines import Line2D\n",
    "from matplotlib import colors as mcolors\n",
    "\n",
    "def create_timeline_mask(date_list, mask_list, date_range_list, path=None):\n",
    "    # Create a color-coded plot for this facility\n",
    "    # Normalize dates to the range [0, 1] for color mapping\n",
    "    min_date, max_date = pd.to_datetime(min(date_list)), pd.to_datetime(max(date_list))\n",
    "    if min_date != max_date:\n",
    "        norm_dates = [(pd.to_datetime(d) - min_date) / (max_date - min_date) for d in date_list]\n",
    "    else:\n",
    "        norm_dates = [0.5] * len(date_list)\n",
    "\n",
    "    cmap = plt.get_cmap('viridis')\n",
    "    hybrid_mask = np.zeros((*mask_list[0].shape, 3))  # Initialize with zeros, expecting 3D data for RGB\n",
    "    for mask, norm_date in zip(mask_list, norm_dates):\n",
    "        # Replace hybrid_mask with color-coded mask where mask == 1\n",
    "        hybrid_mask[mask == 1] = np.array(cmap(norm_date))[:3]  # Take RGB, ignore alpha\n",
    "\n",
    "    fig, ax = plt.subplots(figsize=(10, 10))\n",
    "    ax.imshow(hybrid_mask, alpha=0.6)\n",
    "\n",
    "    # Create legend\n",
    "    custom_lines = [Line2D([0], [0], color=cmap(i / (len(date_list)-1)), lw=4) for i in range(len(date_list))]\n",
    "    ax.legend(custom_lines, [str(d) for d in sorted(date_range_list)], title='Dates', loc='upper right')\n",
    "\n",
    "    if path is not None:\n",
    "        # Save the figure for this facility\n",
    "        plt.savefig(path, dpi=300)\n",
    "    else:\n",
    "        plt.show()\n",
    "    plt.close()\n",
    "\n",
    "def predict_masks(model, dataset, pred_func, device, threshold=None, output_dir=None, filter_area=False, facilities=None):\n",
    "    change_list = []\n",
    "    if output_dir is not None:\n",
    "        os.makedirs(output_dir, exist_ok=True)\n",
    "    if facilities is None:\n",
    "        facilities = dataset.get_facilities()\n",
    "\n",
    "    for facility in tqdm(sorted(facilities)):\n",
    "        facility_file_indices = dataset.get_facility_file_indices(facility)\n",
    "        mask_list = []\n",
    "        date_list = []\n",
    "        cumulative_mask = None  # Initialize the cumulative mask\n",
    "\n",
    "        if filter_area:\n",
    "            area_mask_path = os.path.join(dataset.root_dir, 'area_mask', f'{facility}.tif')\n",
    "            if os.path.isfile(area_mask_path):\n",
    "                area_mask, _ = dataset._load_image(area_mask_path)\n",
    "                area_mask = np.clip(area_mask, a_min=0, a_max=1).astype(np.uint8)\n",
    "                area_mask = area_mask.squeeze(0)\n",
    "\n",
    "        date_range_list = []  # This will store the date ranges for each file index\n",
    "        for file_index in facility_file_indices:\n",
    "            file_info = dataset.file_list[file_index]\n",
    "            predate, postdate = file_info[3:5]\n",
    "            date_range_list.append(f\"{predate} - {postdate}\")\n",
    "\n",
    "            if output_dir is not None:\n",
    "                output_path = os.path.join(output_dir, f'pred_{facility}_{file_index}_{predate}_{postdate}.tif')\n",
    "            else:\n",
    "                output_path = None\n",
    "\n",
    "            mask, image_pixels = predict_file_mask(model, dataset, pred_func, device, file_index, threshold, plot=False, output_path=output_path)\n",
    "            if filter_area:\n",
    "                mask = mask & area_mask\n",
    "\n",
    "            if cumulative_mask is None:\n",
    "                cumulative_mask = mask  # Start with the first mask\n",
    "            else:\n",
    "                cumulative_mask = np.logical_or(cumulative_mask, mask)  # Logical OR operation\n",
    "\n",
    "            cumulative_area_change = cumulative_mask.sum() * 100  # Total unique area change\n",
    "\n",
    "            area_change = mask.sum() * 100  # (each pixel is 100 m^2)\n",
    "            image_area = image_pixels * 100  # each pixel is 100m^2\n",
    "            prop = float(area_change) / float(image_area)\n",
    "            cumu_prop = float(cumulative_area_change) / float(image_area)\n",
    "            # Append the mask and dates to the respective lists\n",
    "            mask_list.append(mask)\n",
    "            date_list.append(postdate)  # We only need postdate for coloring\n",
    "\n",
    "            change_list.append({\"facility\": facility, \"index\": file_index,\n",
    "                                \"predate\": predate, \"postdate\": postdate,\n",
    "                                \"change_area\": area_change, \"image_area\": image_area,\n",
    "                                \"proportion\": prop, \"cumulative_area\": cumulative_area_change,\n",
    "                                \"cumulative_prop\": cumu_prop})\n",
    "\n",
    "        if output_dir is not None:\n",
    "            create_timeline_mask(date_list, mask_list, date_range_list,\n",
    "                                path=os.path.join(output_dir, f'{facility}_hybrid_mask.png'))\n",
    "\n",
    "    return pd.DataFrame(change_list)"
   ]
  },
  {
   "cell_type": "code",
   "execution_count": 9,
   "metadata": {
    "execution": {
     "iopub.execute_input": "2023-08-02T11:57:38.875148Z",
     "iopub.status.busy": "2023-08-02T11:57:38.874364Z",
     "iopub.status.idle": "2023-08-02T11:57:38.978061Z",
     "shell.execute_reply": "2023-08-02T11:57:38.976858Z",
     "shell.execute_reply.started": "2023-08-02T11:57:38.875099Z"
    },
    "id": "WwUH7ur_0yAf"
   },
   "outputs": [],
   "source": [
    "import pandas as pd\n",
    "import matplotlib.pyplot as plt\n",
    "import seaborn as sns\n",
    "import numpy as np\n",
    "\n",
    "def plot_changes_multimodel(df, facilities, yvar='change_area', add_median=False, path=None, inclusions=None):\n",
    "    df = df.copy()\n",
    "    df['predate'] = pd.to_datetime(df['predate'])\n",
    "    df['postdate'] = pd.to_datetime(df['postdate'])\n",
    "\n",
    "    df = df.sort_values('predate')\n",
    "\n",
    "    sns.set(style=\"whitegrid\")\n",
    "\n",
    "    models = df['model'].unique()\n",
    "\n",
    "    if isinstance(facilities, str):\n",
    "        facilities = [facilities]\n",
    "\n",
    "    fig, axs = plt.subplots(len(facilities), 1, figsize=(14, 8*len(facilities)))\n",
    "\n",
    "    # If only one subplot, put axs into a list\n",
    "    if len(facilities) == 1:\n",
    "        axs = [axs]\n",
    "\n",
    "    for f, facility in enumerate(facilities):\n",
    "        # Filter data for the chosen facility\n",
    "        data = df[df['facility'] == facility]\n",
    "\n",
    "        # Generate unique colors for each model\n",
    "        colors = plt.cm.viridis(np.linspace(0, 1, len(models)))\n",
    "        medians = []\n",
    "        stds = []\n",
    "        dates = []\n",
    "\n",
    "        # Get unique intervals\n",
    "        intervals = data[['predate', 'postdate']].drop_duplicates()\n",
    "\n",
    "        for interval_index, interval_row in intervals.iterrows():\n",
    "            interval_values = []\n",
    "\n",
    "            for i, model in enumerate(models):\n",
    "                model_data = data[(data['model'] == model) &\n",
    "                                  (data['predate'] == interval_row['predate']) &\n",
    "                                  (data['postdate'] == interval_row['postdate'])]\n",
    "\n",
    "                # Plotting each line with a unique color\n",
    "                for _, row in model_data.iterrows():\n",
    "                    if inclusions is None or (inclusions is not None and model in inclusions):\n",
    "                        axs[f].plot([row['predate'], row['postdate']], [row[yvar], row[yvar]],\n",
    "                                marker='o',\n",
    "                                markeredgecolor='black', color=colors[i],\n",
    "                                linestyle='-', label=model)\n",
    "\n",
    "                    if model != 'GT': # Don't count ground truth into the median\n",
    "                        # Add to interval values\n",
    "                        interval_values.append(row[yvar])\n",
    "\n",
    "            if add_median and interval_values:\n",
    "                # Compute and store median for this interval\n",
    "                median_val = np.median(interval_values)\n",
    "                std_val = np.std(interval_values)\n",
    "                medians.append(median_val)\n",
    "                stds.append(std_val)\n",
    "                # dates.append(interval_row['postdate'])\n",
    "                midpoint_date = interval_row['predate'] + (interval_row['postdate'] - interval_row['predate']) / 2\n",
    "                dates.append(midpoint_date)\n",
    "\n",
    "        # Plot median line with error bars after all intervals are processed\n",
    "        if add_median and medians:\n",
    "            axs[f].errorbar(dates, medians, yerr=stds, fmt='o', color='red',\n",
    "                            elinewidth=2, capsize=5, label='Median', linewidth=2)\n",
    "\n",
    "        # Adding legend and labels\n",
    "        axs[f].set_title(f'Change Over Time for {facility}')\n",
    "        axs[f].set_xlabel('Time')\n",
    "        axs[f].set_ylabel(yvar)\n",
    "\n",
    "        # Ensure all model labels are included in the legend\n",
    "        handles, labels = axs[f].get_legend_handles_labels()\n",
    "        by_label = dict(zip(labels, handles))\n",
    "        axs[f].legend(by_label.values(), by_label.keys(), title='Model')\n",
    "\n",
    "    # Adjust the layout\n",
    "    plt.tight_layout()\n",
    "\n",
    "    if path is None:\n",
    "        plt.show()\n",
    "    else:\n",
    "        plt.savefig(path)\n",
    "        plt.clf()\n",
    "\n",
    "    plt.close()"
   ]
  },
  {
   "cell_type": "markdown",
   "metadata": {},
   "source": [
    "# Load models"
   ]
  },
  {
   "cell_type": "code",
   "execution_count": null,
   "metadata": {
    "execution": {
     "iopub.execute_input": "2023-07-23T13:45:41.574663Z",
     "iopub.status.busy": "2023-07-23T13:45:41.574491Z",
     "iopub.status.idle": "2023-07-23T13:45:46.184605Z",
     "shell.execute_reply": "2023-07-23T13:45:46.184062Z",
     "shell.execute_reply.started": "2023-07-23T13:45:41.574647Z"
    },
    "id": "sudhPie-7qqY"
   },
   "outputs": [],
   "source": [
    "from OpenMineChangeDetection.utils import load_tinycd_oms2cd, load_lsnet_oms2cd, load_ddpmcd_oms2cd\n",
    "tinycd = load_tinycd_oms2cd(device)\n",
    "lsnet = load_lsnet_oms2cd(device)\n",
    "ddpmcd = load_ddpmcd_oms2cd(device)"
   ]
  },
  {
   "cell_type": "markdown",
   "metadata": {},
   "source": [
    "# Make case study mask predictions"
   ]
  },
  {
   "cell_type": "code",
   "execution_count": 12,
   "metadata": {
    "execution": {
     "iopub.execute_input": "2023-07-23T13:45:46.837671Z",
     "iopub.status.busy": "2023-07-23T13:45:46.837500Z",
     "iopub.status.idle": "2023-07-23T13:45:46.843888Z",
     "shell.execute_reply": "2023-07-23T13:45:46.843223Z",
     "shell.execute_reply.started": "2023-07-23T13:45:46.837655Z"
    },
    "id": "i2GgCBcLLwx3"
   },
   "outputs": [],
   "source": [
    "def predict_case_study_masks(root, threshold=0.6):\n",
    "    # Assume root is repo subdir\n",
    "    threshroot = os.path.join(root, 'modelchanges', str(threshold))\n",
    "    os.makedirs(threshroot, exist_ok=True)\n",
    "    print('Predicting TinyCD masks')\n",
    "    tinycd_changes = predict_masks(tinycd, dataset, get_mask_preds_tinycd, device,\n",
    "                                   threshold=threshold, output_dir=os.path.join(threshroot, 'masks_tinycd'), filter_area=False)\n",
    "    tinycd_changes['model'] = 'TinyCD'\n",
    "\n",
    "    print('Predicting LSNet masks')\n",
    "    lsnet_changes = predict_masks(lsnet, dataset, get_mask_preds_lsnet, device,\n",
    "                                  threshold=threshold, output_dir=os.path.join(threshroot, 'masks_lsnet'), filter_area=False)\n",
    "    lsnet_changes['model'] = 'LSNet'\n",
    "    print('Predicting DDPM-CD masks')\n",
    "    ddpmcd_changes = predict_masks(ddpmcd, dataset, get_mask_preds_ddpmcd, device,\n",
    "                                   threshold=threshold, output_dir=os.path.join(threshroot, 'masks_ddpmcd'), filter_area=False)\n",
    "    ddpmcd_changes['model'] = 'DDPMCD'\n",
    "\n",
    "    modeldf = pd.concat([tinycd_changes, lsnet_changes, ddpmcd_changes], ignore_index=True)\n",
    "    modeldf.to_csv(os.path.join(threshroot, 'model_changes.csv'), index=False)\n",
    "\n",
    "    # modeldf = pd.read_csv(os.path.join(threshroot, 'model_changes.csv'))\n",
    "\n",
    "    model_names = modeldf['model'].unique()\n",
    "    site_names = modeldf['facility'].unique()\n",
    "\n",
    "    for facility in site_names:\n",
    "        output_path_area = os.path.join(threshroot, f'{facility}_area.png')\n",
    "        output_path_prop = os.path.join(threshroot, f'{facility}_prop.png')\n",
    "        print(f'Plotting {facility} changes and saving to {output_path_area}.')\n",
    "        plot_changes_multimodel(modeldf, [facility], yvar='change_area', add_median=True, path=output_path_area)\n",
    "        plot_changes_multimodel(modeldf, [facility], yvar='proportion', add_median=True, path=output_path_prop)\n",
    "\n",
    "        output_path_area = os.path.join(threshroot, f'{facility}_cumuarea.png')\n",
    "        output_path_prop = os.path.join(threshroot, f'{facility}_cumuprop.png')\n",
    "        print(f'Plotting {facility} changes and saving to {output_path_area}.')\n",
    "        plot_changes_multimodel(modeldf, [facility], yvar='cumulative_area', add_median=True, path=output_path_area)\n",
    "        plot_changes_multimodel(modeldf, [facility], yvar='cumulative_prop', add_median=True, path=output_path_prop)"
   ]
  },
  {
   "cell_type": "code",
   "execution_count": 13,
   "metadata": {
    "colab": {
     "base_uri": "https://localhost:8080/",
     "height": 440
    },
    "execution": {
     "iopub.execute_input": "2023-07-23T13:46:00.749935Z",
     "iopub.status.busy": "2023-07-23T13:46:00.749277Z",
     "iopub.status.idle": "2023-07-23T13:46:29.044896Z",
     "shell.execute_reply": "2023-07-23T13:46:29.044343Z",
     "shell.execute_reply.started": "2023-07-23T13:46:00.749911Z"
    },
    "id": "wr-L1-rbFgEF",
    "outputId": "0f8f2178-9f52-4c19-9e08-352e78bd0cd0"
   },
   "outputs": [
    {
     "name": "stdout",
     "output_type": "stream",
     "text": [
      "Plotting Amazon changes and saving to OpenMineChangeDetection/site_data/modelchanges/0.4/Amazon_area.png.\n",
      "Plotting Amazon changes and saving to OpenMineChangeDetection/site_data/modelchanges/0.4/Amazon_cumuarea.png.\n",
      "Plotting Amazon_baseline changes and saving to OpenMineChangeDetection/site_data/modelchanges/0.4/Amazon_baseline_area.png.\n",
      "Plotting Amazon_baseline changes and saving to OpenMineChangeDetection/site_data/modelchanges/0.4/Amazon_baseline_cumuarea.png.\n",
      "Plotting Carrapateena changes and saving to OpenMineChangeDetection/site_data/modelchanges/0.4/Carrapateena_area.png.\n",
      "Plotting Carrapateena changes and saving to OpenMineChangeDetection/site_data/modelchanges/0.4/Carrapateena_cumuarea.png.\n",
      "Plotting Carrapateena_baseline changes and saving to OpenMineChangeDetection/site_data/modelchanges/0.4/Carrapateena_baseline_area.png.\n",
      "Plotting Carrapateena_baseline changes and saving to OpenMineChangeDetection/site_data/modelchanges/0.4/Carrapateena_baseline_cumuarea.png.\n",
      "Plotting Craters changes and saving to OpenMineChangeDetection/site_data/modelchanges/0.4/Craters_area.png.\n",
      "Plotting Craters changes and saving to OpenMineChangeDetection/site_data/modelchanges/0.4/Craters_cumuarea.png.\n",
      "Plotting Craters_baseline changes and saving to OpenMineChangeDetection/site_data/modelchanges/0.4/Craters_baseline_area.png.\n",
      "Plotting Craters_baseline changes and saving to OpenMineChangeDetection/site_data/modelchanges/0.4/Craters_baseline_cumuarea.png.\n",
      "Plotting Iluka Western Australia changes and saving to OpenMineChangeDetection/site_data/modelchanges/0.4/Iluka Western Australia_area.png.\n",
      "Plotting Iluka Western Australia changes and saving to OpenMineChangeDetection/site_data/modelchanges/0.4/Iluka Western Australia_cumuarea.png.\n",
      "Plotting Iluka Western Australia_baseline changes and saving to OpenMineChangeDetection/site_data/modelchanges/0.4/Iluka Western Australia_baseline_area.png.\n",
      "Plotting Iluka Western Australia_baseline changes and saving to OpenMineChangeDetection/site_data/modelchanges/0.4/Iluka Western Australia_baseline_cumuarea.png.\n",
      "Plotting London changes and saving to OpenMineChangeDetection/site_data/modelchanges/0.4/London_area.png.\n",
      "Plotting London changes and saving to OpenMineChangeDetection/site_data/modelchanges/0.4/London_cumuarea.png.\n",
      "Plotting London_baseline changes and saving to OpenMineChangeDetection/site_data/modelchanges/0.4/London_baseline_area.png.\n",
      "Plotting London_baseline changes and saving to OpenMineChangeDetection/site_data/modelchanges/0.4/London_baseline_cumuarea.png.\n",
      "Plotting Meliadine changes and saving to OpenMineChangeDetection/site_data/modelchanges/0.4/Meliadine_area.png.\n",
      "Plotting Meliadine changes and saving to OpenMineChangeDetection/site_data/modelchanges/0.4/Meliadine_cumuarea.png.\n",
      "Plotting Meliadine_baseline changes and saving to OpenMineChangeDetection/site_data/modelchanges/0.4/Meliadine_baseline_area.png.\n",
      "Plotting Meliadine_baseline changes and saving to OpenMineChangeDetection/site_data/modelchanges/0.4/Meliadine_baseline_cumuarea.png.\n",
      "Plotting Merthyr Tydfil changes and saving to OpenMineChangeDetection/site_data/modelchanges/0.4/Merthyr Tydfil_area.png.\n",
      "Plotting Merthyr Tydfil changes and saving to OpenMineChangeDetection/site_data/modelchanges/0.4/Merthyr Tydfil_cumuarea.png.\n",
      "Plotting Merthyr Tydfil_baseline changes and saving to OpenMineChangeDetection/site_data/modelchanges/0.4/Merthyr Tydfil_baseline_area.png.\n",
      "Plotting Merthyr Tydfil_baseline changes and saving to OpenMineChangeDetection/site_data/modelchanges/0.4/Merthyr Tydfil_baseline_cumuarea.png.\n",
      "Plotting MetCoal changes and saving to OpenMineChangeDetection/site_data/modelchanges/0.4/MetCoal_area.png.\n",
      "Plotting MetCoal changes and saving to OpenMineChangeDetection/site_data/modelchanges/0.4/MetCoal_cumuarea.png.\n",
      "Plotting MetCoal_baseline changes and saving to OpenMineChangeDetection/site_data/modelchanges/0.4/MetCoal_baseline_area.png.\n",
      "Plotting MetCoal_baseline changes and saving to OpenMineChangeDetection/site_data/modelchanges/0.4/MetCoal_baseline_cumuarea.png.\n",
      "Plotting Ubuntu changes and saving to OpenMineChangeDetection/site_data/modelchanges/0.4/Ubuntu_area.png.\n",
      "Plotting Ubuntu changes and saving to OpenMineChangeDetection/site_data/modelchanges/0.4/Ubuntu_cumuarea.png.\n",
      "Plotting Ubuntu_baseline changes and saving to OpenMineChangeDetection/site_data/modelchanges/0.4/Ubuntu_baseline_area.png.\n",
      "Plotting Ubuntu_baseline changes and saving to OpenMineChangeDetection/site_data/modelchanges/0.4/Ubuntu_baseline_cumuarea.png.\n"
     ]
    }
   ],
   "source": [
    "with torch.no_grad():\n",
    "    predict_case_study_masks('OpenMineChangeDetection/site_data', threshold=0.4)"
   ]
  },
  {
   "cell_type": "code",
   "execution_count": 14,
   "metadata": {
    "execution": {
     "iopub.execute_input": "2023-07-23T13:50:56.062687Z",
     "iopub.status.busy": "2023-07-23T13:50:56.061863Z",
     "iopub.status.idle": "2023-07-23T13:51:23.735041Z",
     "shell.execute_reply": "2023-07-23T13:51:23.734363Z",
     "shell.execute_reply.started": "2023-07-23T13:50:56.062662Z"
    },
    "id": "TD1-8aB6GQuj"
   },
   "outputs": [
    {
     "name": "stdout",
     "output_type": "stream",
     "text": [
      "Plotting Amazon changes and saving to OpenMineChangeDetection/site_data/modelchanges/0.6/Amazon_area.png.\n",
      "Plotting Amazon changes and saving to OpenMineChangeDetection/site_data/modelchanges/0.6/Amazon_cumuarea.png.\n",
      "Plotting Amazon_baseline changes and saving to OpenMineChangeDetection/site_data/modelchanges/0.6/Amazon_baseline_area.png.\n",
      "Plotting Amazon_baseline changes and saving to OpenMineChangeDetection/site_data/modelchanges/0.6/Amazon_baseline_cumuarea.png.\n",
      "Plotting Carrapateena changes and saving to OpenMineChangeDetection/site_data/modelchanges/0.6/Carrapateena_area.png.\n",
      "Plotting Carrapateena changes and saving to OpenMineChangeDetection/site_data/modelchanges/0.6/Carrapateena_cumuarea.png.\n",
      "Plotting Carrapateena_baseline changes and saving to OpenMineChangeDetection/site_data/modelchanges/0.6/Carrapateena_baseline_area.png.\n",
      "Plotting Carrapateena_baseline changes and saving to OpenMineChangeDetection/site_data/modelchanges/0.6/Carrapateena_baseline_cumuarea.png.\n",
      "Plotting Craters changes and saving to OpenMineChangeDetection/site_data/modelchanges/0.6/Craters_area.png.\n",
      "Plotting Craters changes and saving to OpenMineChangeDetection/site_data/modelchanges/0.6/Craters_cumuarea.png.\n",
      "Plotting Craters_baseline changes and saving to OpenMineChangeDetection/site_data/modelchanges/0.6/Craters_baseline_area.png.\n",
      "Plotting Craters_baseline changes and saving to OpenMineChangeDetection/site_data/modelchanges/0.6/Craters_baseline_cumuarea.png.\n",
      "Plotting Iluka Western Australia changes and saving to OpenMineChangeDetection/site_data/modelchanges/0.6/Iluka Western Australia_area.png.\n",
      "Plotting Iluka Western Australia changes and saving to OpenMineChangeDetection/site_data/modelchanges/0.6/Iluka Western Australia_cumuarea.png.\n",
      "Plotting Iluka Western Australia_baseline changes and saving to OpenMineChangeDetection/site_data/modelchanges/0.6/Iluka Western Australia_baseline_area.png.\n",
      "Plotting Iluka Western Australia_baseline changes and saving to OpenMineChangeDetection/site_data/modelchanges/0.6/Iluka Western Australia_baseline_cumuarea.png.\n",
      "Plotting London changes and saving to OpenMineChangeDetection/site_data/modelchanges/0.6/London_area.png.\n",
      "Plotting London changes and saving to OpenMineChangeDetection/site_data/modelchanges/0.6/London_cumuarea.png.\n",
      "Plotting London_baseline changes and saving to OpenMineChangeDetection/site_data/modelchanges/0.6/London_baseline_area.png.\n",
      "Plotting London_baseline changes and saving to OpenMineChangeDetection/site_data/modelchanges/0.6/London_baseline_cumuarea.png.\n",
      "Plotting Meliadine changes and saving to OpenMineChangeDetection/site_data/modelchanges/0.6/Meliadine_area.png.\n",
      "Plotting Meliadine changes and saving to OpenMineChangeDetection/site_data/modelchanges/0.6/Meliadine_cumuarea.png.\n",
      "Plotting Meliadine_baseline changes and saving to OpenMineChangeDetection/site_data/modelchanges/0.6/Meliadine_baseline_area.png.\n",
      "Plotting Meliadine_baseline changes and saving to OpenMineChangeDetection/site_data/modelchanges/0.6/Meliadine_baseline_cumuarea.png.\n",
      "Plotting Merthyr Tydfil changes and saving to OpenMineChangeDetection/site_data/modelchanges/0.6/Merthyr Tydfil_area.png.\n",
      "Plotting Merthyr Tydfil changes and saving to OpenMineChangeDetection/site_data/modelchanges/0.6/Merthyr Tydfil_cumuarea.png.\n",
      "Plotting Merthyr Tydfil_baseline changes and saving to OpenMineChangeDetection/site_data/modelchanges/0.6/Merthyr Tydfil_baseline_area.png.\n",
      "Plotting Merthyr Tydfil_baseline changes and saving to OpenMineChangeDetection/site_data/modelchanges/0.6/Merthyr Tydfil_baseline_cumuarea.png.\n",
      "Plotting MetCoal changes and saving to OpenMineChangeDetection/site_data/modelchanges/0.6/MetCoal_area.png.\n",
      "Plotting MetCoal changes and saving to OpenMineChangeDetection/site_data/modelchanges/0.6/MetCoal_cumuarea.png.\n",
      "Plotting MetCoal_baseline changes and saving to OpenMineChangeDetection/site_data/modelchanges/0.6/MetCoal_baseline_area.png.\n",
      "Plotting MetCoal_baseline changes and saving to OpenMineChangeDetection/site_data/modelchanges/0.6/MetCoal_baseline_cumuarea.png.\n",
      "Plotting Ubuntu changes and saving to OpenMineChangeDetection/site_data/modelchanges/0.6/Ubuntu_area.png.\n",
      "Plotting Ubuntu changes and saving to OpenMineChangeDetection/site_data/modelchanges/0.6/Ubuntu_cumuarea.png.\n",
      "Plotting Ubuntu_baseline changes and saving to OpenMineChangeDetection/site_data/modelchanges/0.6/Ubuntu_baseline_area.png.\n",
      "Plotting Ubuntu_baseline changes and saving to OpenMineChangeDetection/site_data/modelchanges/0.6/Ubuntu_baseline_cumuarea.png.\n"
     ]
    }
   ],
   "source": [
    "predict_case_study_masks('OpenMineChangeDetection/site_data', threshold=0.6)"
   ]
  },
  {
   "cell_type": "markdown",
   "metadata": {},
   "source": [
    "# Make NDVI/NDWI index visualisations"
   ]
  },
  {
   "cell_type": "code",
   "execution_count": 28,
   "metadata": {
    "execution": {
     "iopub.execute_input": "2023-07-22T23:43:53.037249Z",
     "iopub.status.busy": "2023-07-22T23:43:53.036827Z",
     "iopub.status.idle": "2023-07-22T23:43:53.047849Z",
     "shell.execute_reply": "2023-07-22T23:43:53.047209Z",
     "shell.execute_reply.started": "2023-07-22T23:43:53.037226Z"
    },
    "id": "9UhG2vKKWm_8"
   },
   "outputs": [],
   "source": [
    "from torchgeo.transforms import AppendNDVI, AppendNDWI\n",
    "\n",
    "def predict_index(dataset, index_func, device, file_index, plot=False, output_path=None):\n",
    "    image_tile_map = dataset.get_image_tile_ranges()\n",
    "    chip_idx_range = image_tile_map[file_index]\n",
    "    tiler, full_image_shape = dataset._get_tiler(file_index, channels_override = 1)\n",
    "    full_meta = dataset.get_tile_metadata(chip_idx_range[0], mask = True, no_tile = True)\n",
    "    merger_out_pre = Merger(tiler)\n",
    "    merger_out_post = Merger(tiler)\n",
    "\n",
    "    for absolute_chip_id in range(chip_idx_range[0], chip_idx_range[1]+1):\n",
    "        relative_tile_id = absolute_chip_id - chip_idx_range[0]\n",
    "        tile_dict = dataset[absolute_chip_id]\n",
    "\n",
    "        pre_index, post_index = index_func(tile_dict, device)\n",
    "        pre_index_numpy = pre_index.detach().cpu().numpy()\n",
    "        post_index_numpy = post_index.detach().cpu().numpy()\n",
    "        merger_out_pre.add(relative_tile_id, pre_index_numpy)\n",
    "        merger_out_post.add(relative_tile_id, post_index_numpy)\n",
    "\n",
    "    final_index_pre = merger_out_pre.merge(unpad=True).squeeze(0)\n",
    "    final_index_post = merger_out_post.merge(unpad=True).squeeze(0)\n",
    "\n",
    "    if plot:\n",
    "        fig, axs = plt.subplots(1, 2, figsize=(12, 6), sharey=True)\n",
    "        img1 = axs[0].imshow(final_index_pre, cmap='RdYlGn', vmin=0, vmax=1)\n",
    "        axs[0].set_title('Index Image 1')\n",
    "        img2 = axs[1].imshow(final_index_post, cmap='RdYlGn', vmin=0, vmax=1)\n",
    "        axs[1].set_title('Index Image 2')\n",
    "        cbar = fig.colorbar(img1, ax=axs.ravel().tolist(), fraction=.1)\n",
    "        cbar.set_label('Index')\n",
    "        plt.show()\n",
    "\n",
    "    if output_path is not None:\n",
    "        with rasterio.open(output_path, 'w', **full_meta) as dst:\n",
    "            dst.write((final_index_pre * 255).astype(np.uint8), 1)\n",
    "\n",
    "    return final_index_pre, final_index_post, (full_image_shape[1]*full_image_shape[2])"
   ]
  },
  {
   "cell_type": "code",
   "execution_count": 29,
   "metadata": {
    "execution": {
     "iopub.execute_input": "2023-07-22T23:43:53.048757Z",
     "iopub.status.busy": "2023-07-22T23:43:53.048558Z",
     "iopub.status.idle": "2023-07-22T23:43:53.054104Z",
     "shell.execute_reply": "2023-07-22T23:43:53.053114Z",
     "shell.execute_reply.started": "2023-07-22T23:43:53.048738Z"
    },
    "id": "Dls3Z2r9CRmw"
   },
   "outputs": [],
   "source": [
    "def predict_indices(dataset, pred_func, device):\n",
    "    change_list = []\n",
    "    for facility in sorted(dataset.get_facilities()):\n",
    "        facility_file_indices = dataset.get_facility_file_indices(facility)\n",
    "\n",
    "        for file_index in facility_file_indices:\n",
    "            file_info = dataset.file_list[file_index]\n",
    "            predate, postdate = file_info[3:5]\n",
    "            index_pre, index_post, image_pixels = predict_index(dataset, pred_func, device, file_index, plot=False, output_path=None)\n",
    "            diff_img = index_post - index_pre\n",
    "            area_change = diff_img.sum() * 100 # (each pixel is 100 m^2)\n",
    "            image_area = image_pixels * 100 # each pixel is 100m^2\n",
    "            prop = float(area_change) / float(image_area)\n",
    "            # print(f'{facility}:{file_index}:{postdate} - {pixel_change}/{image_area} ({prop}).')\n",
    "            change_list.append({ \"facility\": facility, \"index\": file_index, \"predate\": predate, \"postdate\": postdate, \"change_area\": area_change, \"image_area\": image_area, \"proportion\": prop })\n",
    "    return pd.DataFrame(change_list)"
   ]
  },
  {
   "cell_type": "code",
   "execution_count": 30,
   "metadata": {
    "execution": {
     "iopub.execute_input": "2023-07-22T23:43:53.055148Z",
     "iopub.status.busy": "2023-07-22T23:43:53.054940Z",
     "iopub.status.idle": "2023-07-22T23:43:53.062493Z",
     "shell.execute_reply": "2023-07-22T23:43:53.061791Z",
     "shell.execute_reply.started": "2023-07-22T23:43:53.055128Z"
    },
    "id": "s37h3wRhYB5u"
   },
   "outputs": [],
   "source": [
    "ndvi = AppendNDVI(index_nir=3, index_red=0).to(device)\n",
    "ndwi = AppendNDWI(index_nir=3, index_green=1).to(device)\n",
    "\n",
    "def norm_index(img):\n",
    "    return (img + 1) / 2\n",
    "\n",
    "def predict_ndvi(sample, device):\n",
    "    n_bands = 4 #RGB+NIR\n",
    "    images = sample['image'].to(device)\n",
    "    pre, post = images[0:n_bands, :], images[n_bands:2*n_bands, :]\n",
    "    pre_ndvi_image = norm_index(ndvi(pre).squeeze(0)[-1])\n",
    "    post_ndvi_image = norm_index(ndvi(post).squeeze(0)[-1])\n",
    "    return pre_ndvi_image.unsqueeze(0), post_ndvi_image.unsqueeze(0)\n",
    "\n",
    "def predict_ndwi(sample, device):\n",
    "    n_bands = 4 #RGB+NIR\n",
    "    images = sample['image'].to(device)\n",
    "    pre, post = images[0:n_bands, :], images[n_bands:2*n_bands, :]\n",
    "    pre_ndwi_image = norm_index(ndwi(pre).squeeze(0)[-1])\n",
    "    post_ndwi_image = norm_index(ndwi(post).squeeze(0)[-1])\n",
    "    return pre_ndwi_image.unsqueeze(0), post_ndwi_image.unsqueeze(0)"
   ]
  },
  {
   "cell_type": "code",
   "execution_count": 20,
   "metadata": {
    "execution": {
     "iopub.execute_input": "2023-07-23T13:59:03.910538Z",
     "iopub.status.busy": "2023-07-23T13:59:03.909922Z",
     "iopub.status.idle": "2023-07-23T13:59:03.916295Z",
     "shell.execute_reply": "2023-07-23T13:59:03.915706Z",
     "shell.execute_reply.started": "2023-07-23T13:59:03.910511Z"
    },
    "id": "MNbR9SkPY3gb"
   },
   "outputs": [],
   "source": [
    "def predict_case_study_indices(root):\n",
    "    datasetir = CaseStudyDataset('TestDataIR', stride=200)\n",
    "\n",
    "    ndvi_changes = predict_indices(datasetir, predict_ndvi, device)\n",
    "    ndvi_changes['model'] = 'NDVI'\n",
    "\n",
    "    ndwi_changes = predict_indices(datasetir, predict_ndwi, device)\n",
    "    ndwi_changes['model'] = 'NDWI'\n",
    "\n",
    "    indexdf = pd.concat([ndvi_changes, ndwi_changes], ignore_index=True)\n",
    "    indexdf.to_csv(os.path.join(root, 'index_changes.csv'), index=False)\n",
    "    # indexdf = pd.read_csv(os.path.join(root, 'index_changes.csv'))\n",
    "    model_names = indexdf['model'].unique()\n",
    "    site_names = indexdf['facility'].unique()\n",
    "\n",
    "    indexroot = os.path.join(root, 'indexchanges')\n",
    "    os.makedirs(indexroot, exist_ok=True)\n",
    "\n",
    "    indexdf['change_area'] = indexdf['change_area'].abs()\n",
    "    indexdf['proportion'] = indexdf['proportion'].abs()\n",
    "\n",
    "    for facility in site_names:\n",
    "        output_path_area = os.path.join(indexroot, f'{facility}_area.png')\n",
    "        output_path_prop = os.path.join(indexroot, f'{facility}_prop.png')\n",
    "        print(f'Plotting {facility} changes and saving to {output_path_area}.')\n",
    "        plot_changes_multimodel(indexdf, [facility], yvar='change_area', add_median=False, path=output_path_area)\n",
    "        plot_changes_multimodel(indexdf, [facility], yvar='proportion', add_median=False, path=output_path_prop)"
   ]
  },
  {
   "cell_type": "code",
   "execution_count": 22,
   "metadata": {
    "execution": {
     "iopub.execute_input": "2023-07-23T14:01:51.810368Z",
     "iopub.status.busy": "2023-07-23T14:01:51.809830Z",
     "iopub.status.idle": "2023-07-23T14:02:04.615846Z",
     "shell.execute_reply": "2023-07-23T14:02:04.615116Z",
     "shell.execute_reply.started": "2023-07-23T14:01:51.810344Z"
    },
    "id": "UI1ftfn-G8x1"
   },
   "outputs": [
    {
     "name": "stdout",
     "output_type": "stream",
     "text": [
      "Plotting Amazon changes and saving to OpenMineChangeDetection/site_data/indexchanges/Amazon_area.png.\n",
      "Plotting Amazon_baseline changes and saving to OpenMineChangeDetection/site_data/indexchanges/Amazon_baseline_area.png.\n",
      "Plotting Carrapateena changes and saving to OpenMineChangeDetection/site_data/indexchanges/Carrapateena_area.png.\n",
      "Plotting Carrapateena_baseline changes and saving to OpenMineChangeDetection/site_data/indexchanges/Carrapateena_baseline_area.png.\n",
      "Plotting Craters changes and saving to OpenMineChangeDetection/site_data/indexchanges/Craters_area.png.\n",
      "Plotting Craters_baseline changes and saving to OpenMineChangeDetection/site_data/indexchanges/Craters_baseline_area.png.\n",
      "Plotting Iluka Western Australia changes and saving to OpenMineChangeDetection/site_data/indexchanges/Iluka Western Australia_area.png.\n",
      "Plotting Iluka Western Australia_baseline changes and saving to OpenMineChangeDetection/site_data/indexchanges/Iluka Western Australia_baseline_area.png.\n",
      "Plotting London changes and saving to OpenMineChangeDetection/site_data/indexchanges/London_area.png.\n",
      "Plotting London_baseline changes and saving to OpenMineChangeDetection/site_data/indexchanges/London_baseline_area.png.\n",
      "Plotting Meliadine changes and saving to OpenMineChangeDetection/site_data/indexchanges/Meliadine_area.png.\n",
      "Plotting Meliadine_baseline changes and saving to OpenMineChangeDetection/site_data/indexchanges/Meliadine_baseline_area.png.\n",
      "Plotting Merthyr Tydfil changes and saving to OpenMineChangeDetection/site_data/indexchanges/Merthyr Tydfil_area.png.\n",
      "Plotting Merthyr Tydfil_baseline changes and saving to OpenMineChangeDetection/site_data/indexchanges/Merthyr Tydfil_baseline_area.png.\n",
      "Plotting MetCoal changes and saving to OpenMineChangeDetection/site_data/indexchanges/MetCoal_area.png.\n",
      "Plotting MetCoal_baseline changes and saving to OpenMineChangeDetection/site_data/indexchanges/MetCoal_baseline_area.png.\n",
      "Plotting Ubuntu changes and saving to OpenMineChangeDetection/site_data/indexchanges/Ubuntu_area.png.\n",
      "Plotting Ubuntu_baseline changes and saving to OpenMineChangeDetection/site_data/indexchanges/Ubuntu_baseline_area.png.\n"
     ]
    }
   ],
   "source": [
    "predict_case_study_indices('OpenMineChangeDetection/site_data')"
   ]
  },
  {
   "cell_type": "markdown",
   "metadata": {},
   "source": [
    "# Define ground-truth mask helper functions"
   ]
  },
  {
   "cell_type": "code",
   "execution_count": 29,
   "metadata": {
    "execution": {
     "iopub.execute_input": "2023-08-02T12:24:21.136433Z",
     "iopub.status.busy": "2023-08-02T12:24:21.136033Z",
     "iopub.status.idle": "2023-08-02T12:24:21.144232Z",
     "shell.execute_reply": "2023-08-02T12:24:21.143200Z",
     "shell.execute_reply.started": "2023-08-02T12:24:21.136394Z"
    },
    "id": "JUJk2yKYxvL5"
   },
   "outputs": [],
   "source": [
    "import pandas as pd\n",
    "\n",
    "def create_mapping(root):\n",
    "    source_dir = root\n",
    "    mapping_file_path = os.path.join(source_dir, 'mapping.csv')\n",
    "\n",
    "    df = pd.read_csv(mapping_file_path)\n",
    "    df.to_csv(os.path.join(source_dir, 'old_mapping.csv'))\n",
    "    # Extract facility name\n",
    "    df['facility'] = df['mask'].str.replace('.tif', '', regex=False)\n",
    "\n",
    "    # Adjust predate and postdate to remove the '.tif'\n",
    "    df['predate'] = df['imageA'].str.replace('.tif', '', regex=False)\n",
    "    df['postdate'] = df['imageB'].str.replace('.tif', '', regex=False)\n",
    "\n",
    "    # Extract predate and postdate\n",
    "    df['predate'] = pd.to_datetime(df['predate'].str.split('_').str[-1])\n",
    "    df['postdate'] = pd.to_datetime(df['postdate'].str.split('_').str[-1])\n",
    "\n",
    "    df.to_csv(mapping_file_path)\n",
    "    return df"
   ]
  },
  {
   "cell_type": "code",
   "execution_count": 11,
   "metadata": {
    "execution": {
     "iopub.execute_input": "2023-08-02T11:57:38.996373Z",
     "iopub.status.busy": "2023-08-02T11:57:38.995883Z",
     "iopub.status.idle": "2023-08-02T11:57:39.012748Z",
     "shell.execute_reply": "2023-08-02T11:57:39.011219Z",
     "shell.execute_reply.started": "2023-08-02T11:57:38.996334Z"
    },
    "id": "c_bnopQCtCNJ"
   },
   "outputs": [],
   "source": [
    "import matplotlib.pyplot as plt\n",
    "import pandas as pd\n",
    "import numpy as np\n",
    "from tqdm import tqdm\n",
    "\n",
    "def predict_masks_validated(dataset, facilities, output_dir=None):\n",
    "    change_list = []\n",
    "    if output_dir is not None:\n",
    "        os.makedirs(output_dir, exist_ok=True)\n",
    "    for facility in sorted(facilities):\n",
    "        facility_file_indices = dataset.get_facility_file_indices(facility)\n",
    "        cumulative_mask = None\n",
    "        mask_list = []\n",
    "        date_list = []\n",
    "        date_range_list = []\n",
    "        for file_index in facility_file_indices:\n",
    "            file_info = dataset.file_list[file_index]\n",
    "            predate, postdate = file_info[3:5]\n",
    "            date_range_list.append(f\"{predate} - {postdate}\")\n",
    "\n",
    "            mask_id = file_info[5]\n",
    "            mask_path = os.path.join(dataset.root_dir, 'mask', f'{facility}_{str(mask_id).zfill(4)}.tif')\n",
    "\n",
    "            if os.path.isfile(mask_path):\n",
    "                mask, _ = dataset._load_image(mask_path)\n",
    "                mask = np.clip(mask, a_min=0, a_max=1).astype(np.uint8)\n",
    "\n",
    "                if cumulative_mask is None:\n",
    "                    cumulative_mask = mask  # Start with the first mask\n",
    "                else:\n",
    "                    cumulative_mask = np.logical_or(cumulative_mask, mask)  # Logical OR operation\n",
    "\n",
    "                cumulative_area_change = cumulative_mask.sum() * 100  # Total unique area change\n",
    "\n",
    "                shape = list(mask.shape)\n",
    "                image_pixels = shape[1] * shape[2]\n",
    "                area_change = mask.sum() * 100 # (each pixel is 100 m^2)\n",
    "                image_area = image_pixels * 100 # each pixel is 100m^2\n",
    "                prop = float(area_change) / float(image_area)\n",
    "                cumu_prop = float(cumulative_area_change) / float(image_area)\n",
    "                mask_list.append(mask.squeeze(0))\n",
    "                date_list.append(postdate)  # We only need postdate for coloring\n",
    "\n",
    "            # print(f'{facility}:{file_index}:{postdate} - {pixel_change}/{image_area} ({prop}).')\n",
    "                change_list.append({ \"facility\": facility, \"index\": file_index,\n",
    "                                    \"predate\": predate, \"postdate\": postdate,\n",
    "                                     \"change_area\": area_change, \"image_area\": image_area,\n",
    "                                     \"proportion\": prop, \"cumulative_area\": cumulative_area_change,\n",
    "                                     \"cumulative_prop\": cumu_prop})\n",
    "                # break\n",
    "        # break\n",
    "        if output_dir is not None:\n",
    "            create_timeline_mask(date_list, mask_list, date_range_list,\n",
    "                                path=os.path.join(output_dir, f'{facility}_hybrid_mask_GT.png'))\n",
    "\n",
    "    df = pd.DataFrame(change_list)\n",
    "    df['model'] = 'GT'\n",
    "    return df"
   ]
  },
  {
   "cell_type": "code",
   "execution_count": 30,
   "metadata": {
    "execution": {
     "iopub.execute_input": "2023-08-02T12:24:25.439330Z",
     "iopub.status.busy": "2023-08-02T12:24:25.438877Z",
     "iopub.status.idle": "2023-08-02T12:24:25.446191Z",
     "shell.execute_reply": "2023-08-02T12:24:25.444717Z",
     "shell.execute_reply.started": "2023-08-02T12:24:25.439301Z"
    },
    "id": "RuSohuTquZF-"
   },
   "outputs": [],
   "source": [
    "def get_facilities(split, dataset):\n",
    "    valid_facilities = set()\n",
    "    split_file_path = os.path.join(dataset.root_dir, f'{split}.csv')\n",
    "    with open(split_file_path, 'r') as file:\n",
    "        reader = csv.reader(file)\n",
    "        next(reader)\n",
    "        valid_facilities = set([str(row[0]) for row in reader])\n",
    "    return list(valid_facilities)"
   ]
  },
  {
   "cell_type": "markdown",
   "metadata": {},
   "source": [
    "# Prepare OMS2CD for evaluation"
   ]
  },
  {
   "cell_type": "code",
   "execution_count": 31,
   "metadata": {
    "execution": {
     "iopub.execute_input": "2023-08-02T12:24:31.019380Z",
     "iopub.status.busy": "2023-08-02T12:24:31.019031Z",
     "iopub.status.idle": "2023-08-02T12:24:32.182084Z",
     "shell.execute_reply": "2023-08-02T12:24:32.180545Z",
     "shell.execute_reply.started": "2023-08-02T12:24:31.019352Z"
    },
    "id": "rlm4VneBHHhB"
   },
   "outputs": [],
   "source": [
    "create_mapping('OMS2CD')\n",
    "dataset_oms2cd = CaseStudyDataset('OMS2CD', stride=200)"
   ]
  },
  {
   "cell_type": "markdown",
   "metadata": {},
   "source": [
    "# Predict 'validated' (with ground-truth) mask outputs"
   ]
  },
  {
   "cell_type": "code",
   "execution_count": 37,
   "metadata": {
    "execution": {
     "iopub.execute_input": "2023-07-22T23:45:57.846951Z",
     "iopub.status.busy": "2023-07-22T23:45:57.844729Z",
     "iopub.status.idle": "2023-07-22T23:46:01.303436Z",
     "shell.execute_reply": "2023-07-22T23:46:01.302686Z",
     "shell.execute_reply.started": "2023-07-22T23:45:57.846925Z"
    },
    "id": "Vl32THMTHTkd"
   },
   "outputs": [],
   "source": [
    "val_validated_df = predict_masks_validated(dataset_oms2cd, get_facilities('val', dataset_oms2cd), output_dir='OpenMineChangeDetection/site_data/modelchanges_validated')\n",
    "test_validated_df = predict_masks_validated(dataset_oms2cd, get_facilities('test', dataset_oms2cd), output_dir='OpenMineChangeDetection/site_data/modelchanges_validated')"
   ]
  },
  {
   "cell_type": "code",
   "execution_count": 17,
   "metadata": {
    "execution": {
     "iopub.execute_input": "2023-07-23T13:55:10.792650Z",
     "iopub.status.busy": "2023-07-23T13:55:10.792380Z",
     "iopub.status.idle": "2023-07-23T13:55:10.801211Z",
     "shell.execute_reply": "2023-07-23T13:55:10.800429Z",
     "shell.execute_reply.started": "2023-07-23T13:55:10.792630Z"
    },
    "id": "cLVcT_5KxVpU"
   },
   "outputs": [],
   "source": [
    "def predict_all_validated_masks(root, threshold=0.6, filter_area=True):\n",
    "    threshroot = os.path.join(root, 'modelchanges_validated', str(threshold))\n",
    "    os.makedirs(threshroot, exist_ok=True)\n",
    "    tinycd_val_changes = predict_masks(tinycd, dataset_oms2cd,\n",
    "                                      get_mask_preds_tinycd, device,\n",
    "                                      facilities=get_facilities('val', dataset_oms2cd),\n",
    "                                      threshold=threshold,\n",
    "                                      output_dir=os.path.join(threshroot, 'masks_tinycd'),\n",
    "                                      filter_area=filter_area)\n",
    "    tinycd_val_changes['model'] = 'TinyCD'\n",
    "    tinycd_test_changes = predict_masks(tinycd, dataset_oms2cd,\n",
    "                                        get_mask_preds_tinycd, device,\n",
    "                                        facilities=get_facilities('test', dataset_oms2cd),\n",
    "                                        threshold=threshold,\n",
    "                                        output_dir=os.path.join(threshroot, 'masks_tinycd'),\n",
    "                                        filter_area=filter_area)\n",
    "    tinycd_test_changes['model'] = 'TinyCD'\n",
    "\n",
    "    lsnet_val_changes = predict_masks(lsnet, dataset_oms2cd,\n",
    "                                      get_mask_preds_lsnet, device,\n",
    "                                      facilities=get_facilities('val', dataset_oms2cd),\n",
    "                                      threshold=threshold,\n",
    "                                      output_dir=os.path.join(threshroot, 'masks_lsnet'),\n",
    "                                      filter_area=filter_area)\n",
    "    lsnet_val_changes['model'] = 'LSNet'\n",
    "    lsnet_test_changes = predict_masks(lsnet, dataset_oms2cd,\n",
    "                                      get_mask_preds_lsnet, device,\n",
    "                                      facilities=get_facilities('test', dataset_oms2cd),\n",
    "                                      threshold=threshold,\n",
    "                                      output_dir=os.path.join(threshroot, 'masks_lsnet'),\n",
    "                                      filter_area=filter_area)\n",
    "    lsnet_test_changes['model'] = 'LSNet'\n",
    "\n",
    "    ddpmcd_val_changes = predict_masks(ddpmcd, dataset_oms2cd,\n",
    "                                      get_mask_preds_ddpmcd, device,\n",
    "                                      facilities=get_facilities('val', dataset_oms2cd),\n",
    "                                      threshold=threshold,\n",
    "                                      output_dir=os.path.join(threshroot, 'masks_ddpmcd'),\n",
    "                                      filter_area=filter_area)\n",
    "    ddpmcd_val_changes['model'] = 'DDPMCD'\n",
    "    ddpmcd_test_changes = predict_masks(ddpmcd, dataset_oms2cd,\n",
    "                                        get_mask_preds_ddpmcd, device,\n",
    "                                        facilities=get_facilities('test', dataset_oms2cd),\n",
    "                                        threshold=threshold,\n",
    "                                        output_dir=os.path.join(threshroot, 'masks_ddpmcd'),\n",
    "                                        filter_area=filter_area)\n",
    "    ddpmcd_test_changes['model'] = 'DDPMCD'\n",
    "\n",
    "    modeldf = pd.concat([val_validated_df, test_validated_df,\n",
    "                                  tinycd_val_changes, tinycd_test_changes,\n",
    "                                  lsnet_val_changes, lsnet_test_changes,\n",
    "                                  ddpmcd_val_changes, ddpmcd_test_changes], ignore_index=True)\n",
    "    # modeldf.to_csv(os.path.join(threshroot, 'model_changes_validated.csv'))\n",
    "    modeldf = pd.read_csv(os.path.join(threshroot, 'model_changes_validated.csv'))\n",
    "    model_names = modeldf['model'].unique()\n",
    "    site_names = modeldf['facility'].unique()\n",
    "\n",
    "    for facility in site_names:\n",
    "        output_path_area = os.path.join(threshroot, f'{facility}_area.png')\n",
    "        output_path_prop = os.path.join(threshroot, f'{facility}_prop.png')\n",
    "        print(f'Plotting {facility} changes and saving to {output_path_area}.')\n",
    "        plot_changes_multimodel(modeldf, [facility], yvar='change_area', add_median=True, path=output_path_area)\n",
    "        plot_changes_multimodel(modeldf, [facility], yvar='proportion', add_median=True, path=output_path_prop)\n",
    "\n",
    "        output_path_area = os.path.join(threshroot, f'{facility}_cumuarea.png')\n",
    "        output_path_prop = os.path.join(threshroot, f'{facility}_cumuprop.png')\n",
    "        plot_changes_multimodel(modeldf, [facility], yvar='cumulative_area', add_median=True, path=output_path_area)\n",
    "        plot_changes_multimodel(modeldf, [facility], yvar='cumulative_prop', add_median=True, path=output_path_prop)\n",
    "\n",
    "        output_path_area = os.path.join(threshroot, f'{facility}_area_medgt.png')\n",
    "        output_path_prop = os.path.join(threshroot, f'{facility}_prop_medgt.png')\n",
    "        plot_changes_multimodel(modeldf, [facility], yvar='change_area', add_median=True, path=output_path_area, inclusions=['GT'])\n",
    "        plot_changes_multimodel(modeldf, [facility], yvar='proportion', add_median=True, path=output_path_prop, inclusions=['GT'])\n",
    "\n",
    "        output_path_area = os.path.join(threshroot, f'{facility}_cumuarea_medgt.png')\n",
    "        output_path_prop = os.path.join(threshroot, f'{facility}_cumuprop_medgt.png')\n",
    "        plot_changes_multimodel(modeldf, [facility], yvar='cumulative_area', add_median=True, path=output_path_area, inclusions=['GT'])\n",
    "        plot_changes_multimodel(modeldf, [facility], yvar='cumulative_prop', add_median=True, path=output_path_prop, inclusions=['GT'])"
   ]
  },
  {
   "cell_type": "code",
   "execution_count": 18,
   "metadata": {
    "execution": {
     "iopub.execute_input": "2023-07-23T13:55:15.179136Z",
     "iopub.status.busy": "2023-07-23T13:55:15.178894Z",
     "iopub.status.idle": "2023-07-23T13:55:26.182131Z",
     "shell.execute_reply": "2023-07-23T13:55:26.181530Z",
     "shell.execute_reply.started": "2023-07-23T13:55:15.179118Z"
    },
    "id": "uePJdjbl8l-F"
   },
   "outputs": [
    {
     "name": "stdout",
     "output_type": "stream",
     "text": [
      "Plotting Gunnedah_vickery changes and saving to OpenMineChangeDetection/site_data/modelchanges_validated/0.4/Gunnedah_vickery_area.png.\n",
      "Plotting Werris Creek changes and saving to OpenMineChangeDetection/site_data/modelchanges_validated/0.4/Werris Creek_area.png.\n",
      "Plotting Guizhou_Xiuwen changes and saving to OpenMineChangeDetection/site_data/modelchanges_validated/0.4/Guizhou_Xiuwen_area.png.\n",
      "Plotting Mianchi changes and saving to OpenMineChangeDetection/site_data/modelchanges_validated/0.4/Mianchi_area.png.\n"
     ]
    }
   ],
   "source": [
    "predict_all_validated_masks('OpenMineChangeDetection/site_data', threshold=0.4, filter_area=True)"
   ]
  },
  {
   "cell_type": "code",
   "execution_count": 19,
   "metadata": {
    "execution": {
     "iopub.execute_input": "2023-07-23T13:55:26.183369Z",
     "iopub.status.busy": "2023-07-23T13:55:26.183179Z",
     "iopub.status.idle": "2023-07-23T13:55:36.928357Z",
     "shell.execute_reply": "2023-07-23T13:55:36.927821Z",
     "shell.execute_reply.started": "2023-07-23T13:55:26.183348Z"
    },
    "id": "qJ_s9q2-EzLp"
   },
   "outputs": [
    {
     "name": "stdout",
     "output_type": "stream",
     "text": [
      "Plotting Gunnedah_vickery changes and saving to OpenMineChangeDetection/site_data/modelchanges_validated/0.6/Gunnedah_vickery_area.png.\n",
      "Plotting Werris Creek changes and saving to OpenMineChangeDetection/site_data/modelchanges_validated/0.6/Werris Creek_area.png.\n",
      "Plotting Guizhou_Xiuwen changes and saving to OpenMineChangeDetection/site_data/modelchanges_validated/0.6/Guizhou_Xiuwen_area.png.\n",
      "Plotting Mianchi changes and saving to OpenMineChangeDetection/site_data/modelchanges_validated/0.6/Mianchi_area.png.\n"
     ]
    }
   ],
   "source": [
    "predict_all_validated_masks('OpenMineChangeDetection/site_data', threshold=0.6, filter_area=True)"
   ]
  },
  {
   "cell_type": "markdown",
   "metadata": {},
   "source": [
    "# NDTCI"
   ]
  },
  {
   "cell_type": "markdown",
   "metadata": {},
   "source": [
    "## Define helper functions"
   ]
  },
  {
   "cell_type": "code",
   "execution_count": 39,
   "metadata": {
    "execution": {
     "iopub.execute_input": "2023-08-02T12:34:00.258485Z",
     "iopub.status.busy": "2023-08-02T12:34:00.257972Z",
     "iopub.status.idle": "2023-08-02T12:34:00.273324Z",
     "shell.execute_reply": "2023-08-02T12:34:00.271999Z",
     "shell.execute_reply.started": "2023-08-02T12:34:00.258445Z"
    }
   },
   "outputs": [],
   "source": [
    "import numpy as np\n",
    "import rasterio\n",
    "from rasterio.plot import show\n",
    "import matplotlib.pyplot as plt\n",
    "import os\n",
    "import glob\n",
    "from PIL import Image\n",
    "\n",
    "def calculate_average_mask(directory, facility_name='', ignore=[], prefix='pred_'):\n",
    "    # Find all GeoTIFF files in the directory\n",
    "    mask_files = glob.glob(os.path.join(directory, f'{prefix}{facility_name}*.tif'))\n",
    "\n",
    "    masks = []\n",
    "\n",
    "    # Read each mask file\n",
    "    for mask_file in mask_files:\n",
    "        if mask_file.endswith('_NDTCI.tif'):\n",
    "            continue\n",
    "        \n",
    "        on_ignore_list = False\n",
    "        for i in ignore:\n",
    "            if i in mask_file:\n",
    "                on_ignore_list = True\n",
    "                break\n",
    "        if on_ignore_list:\n",
    "            continue\n",
    "        with rasterio.open(mask_file) as src:\n",
    "            mask = src.read(1)  # Reading the first band\n",
    "            mask = np.clip(mask, a_min=0, a_max=1).astype(float)\n",
    "            masks.append(mask)\n",
    "    \n",
    "    # Convert the list of masks to a 3D numpy array and calculate the average\n",
    "    average_mask = np.mean(masks, axis=0)\n",
    "    \n",
    "    return average_mask\n",
    "\n",
    "def calculate_x_stable(average_mask, quantile=0.25):\n",
    "    # Flatten the average mask to a 1D array\n",
    "    flat_mask = average_mask.flatten()\n",
    "\n",
    "    # Calculate the value at the given quantile\n",
    "    x_stable = np.quantile(flat_mask, quantile)\n",
    "\n",
    "    return x_stable\n"
   ]
  },
  {
   "cell_type": "code",
   "execution_count": 28,
   "metadata": {
    "execution": {
     "iopub.execute_input": "2023-07-31T12:23:42.684762Z",
     "iopub.status.busy": "2023-07-31T12:23:42.683874Z",
     "iopub.status.idle": "2023-07-31T12:23:42.902393Z",
     "shell.execute_reply": "2023-07-31T12:23:42.901533Z",
     "shell.execute_reply.started": "2023-07-31T12:23:42.684732Z"
    }
   },
   "outputs": [
    {
     "data": {
      "image/png": "[encoded data removed]",
      "text/plain": [
       "<Figure size 640x480 with 1 Axes>"
      ]
     },
     "metadata": {},
     "output_type": "display_data"
    },
    {
     "name": "stdout",
     "output_type": "stream",
     "text": [
      "0.0\n"
     ]
    }
   ],
   "source": []
  },
  {
   "cell_type": "code",
   "execution_count": 14,
   "metadata": {
    "execution": {
     "iopub.execute_input": "2023-08-02T11:57:39.040585Z",
     "iopub.status.busy": "2023-08-02T11:57:39.040101Z",
     "iopub.status.idle": "2023-08-02T11:57:39.050686Z",
     "shell.execute_reply": "2023-08-02T11:57:39.048758Z",
     "shell.execute_reply.started": "2023-08-02T11:57:39.040518Z"
    },
    "id": "CSGj1FtAzyXw"
   },
   "outputs": [],
   "source": [
    "\n",
    "\n",
    "def calculate_NDTCI(input_filepath, x_stable, eps=1e-6, area_mask=None):\n",
    "    # Open the GeoTIFF mask file\n",
    "    with rasterio.open(input_filepath) as src:\n",
    "        x_activity = src.read(1)  # Reading the first band\n",
    "        x_activity = np.clip(x_activity, a_min=0, a_max=1).astype(float)\n",
    "        if area_mask is not None:\n",
    "            x_activity = (x_activity.astype(np.uint8) & area_mask.astype(np.uint8)).astype(float)\n",
    "    # Compute the NDTCI\n",
    "    NDTCI = (x_activity - x_stable) / (x_activity + x_stable + eps)\n",
    "    \n",
    "    # Normalize the NDTCI to [0, 1] for coloring\n",
    "    # NDTCI_normalized = (NDTCI + 1) / 2    \n",
    "    # Define a colormap to go from red/brown (high values) to blue/green (low values)\n",
    "    colormap = plt.get_cmap('RdYlBu_r')\n",
    "\n",
    "    # Apply the colormap to the NDTCI matrix (this will create a 3D array)\n",
    "    NDTCI_color = colormap(NDTCI)[:,:,:3] # Cut out alpha channel from colormap result\n",
    "    # Get the original metadata from the source file\n",
    "    meta = src.meta\n",
    "    meta.update(count=3, dtype=rasterio.uint8)\n",
    "    \n",
    "    return NDTCI, NDTCI_color, meta\n"
   ]
  },
  {
   "cell_type": "code",
   "execution_count": 15,
   "metadata": {
    "execution": {
     "iopub.execute_input": "2023-08-02T11:57:39.053266Z",
     "iopub.status.busy": "2023-08-02T11:57:39.052705Z",
     "iopub.status.idle": "2023-08-02T11:57:39.066231Z",
     "shell.execute_reply": "2023-08-02T11:57:39.064344Z",
     "shell.execute_reply.started": "2023-08-02T11:57:39.053227Z"
    }
   },
   "outputs": [],
   "source": [
    "def process_all_files(directory, out_dir='', x_stable=0.0, facility_name='', ignore=[]):\n",
    "    # Find all GeoTIFF files in the directory\n",
    "    mask_files = glob.glob(os.path.join(directory, f'*{facility_name}*.tif'))\n",
    "    \n",
    "    NDTCI_matrices = []\n",
    "    meta = None\n",
    "    \n",
    "    if len(mask_files) == 0:\n",
    "        print(f'No masks found in directory {directory}')\n",
    "        return [], {}\n",
    "\n",
    "    # Calculate the NDTCI for each mask file\n",
    "    for mask_file in mask_files:\n",
    "        if mask_file.endswith('_NDTCI.tif'):\n",
    "            continue\n",
    "        on_ignore_list = False\n",
    "        for i in ignore:\n",
    "            if i in mask_file:\n",
    "                on_ignore_list = True\n",
    "                break\n",
    "        if on_ignore_list:\n",
    "            continue\n",
    "        output_filepath = mask_file.replace('.tif', '_NDTCI.tif')\n",
    "        if len(out_dir):\n",
    "            output_filepath = os.path.join(out_dir, os.path.basename(output_filepath))\n",
    "        NDTCI, _, meta = calculate_NDTCI(mask_file, x_stable)\n",
    "        NDTCI_matrices.append(NDTCI)\n",
    "    \n",
    "    return NDTCI_matrices, meta\n"
   ]
  },
  {
   "cell_type": "code",
   "execution_count": 16,
   "metadata": {
    "execution": {
     "iopub.execute_input": "2023-08-02T11:57:39.068693Z",
     "iopub.status.busy": "2023-08-02T11:57:39.068346Z",
     "iopub.status.idle": "2023-08-02T11:57:39.109912Z",
     "shell.execute_reply": "2023-08-02T11:57:39.108798Z",
     "shell.execute_reply.started": "2023-08-02T11:57:39.068636Z"
    }
   },
   "outputs": [],
   "source": [
    "import matplotlib.pyplot as plt\n",
    "import matplotlib.colors as colors\n",
    "\n",
    "from mpl_toolkits.axes_grid1 import make_axes_locatable\n",
    "\n",
    "def write_average_NDTCI(NDTCI_matrices, output_filepath, meta):\n",
    "    if len(NDTCI_matrices) == 0:\n",
    "        print('No matrices given to calculate average NDTCI')\n",
    "        return\n",
    "    # Compute the average NDTCI matrix\n",
    "    average_NDTCI = np.mean(NDTCI_matrices, axis=0)\n",
    "\n",
    "    # Apply the colormap to the average NDTCI matrix (this will create a 3D array)\n",
    "    colormap = plt.get_cmap('RdYlBu_r')\n",
    "    average_NDTCI_color = colormap(average_NDTCI)[:,:,:3] # cut out alpha channel from colormap result\n",
    "\n",
    "    # Write the average NDTCI GeoTIFF\n",
    "    with rasterio.open(output_filepath, 'w', **meta) as dst:\n",
    "        for channel in range(average_NDTCI_color.shape[2]):\n",
    "            chc = average_NDTCI_color[:, :, channel]\n",
    "            dst.write((chc * 255).astype(np.uint8), channel + 1)\n",
    "\n",
    "    # Plotting the average NDTCI matrix\n",
    "    fig, ax = plt.subplots()\n",
    "\n",
    "    # Display the average NDTCI matrix using the colormap\n",
    "    img = ax.imshow(average_NDTCI, cmap=colormap)\n",
    "    # Create an axes for the colorbar\n",
    "    divider = make_axes_locatable(ax)\n",
    "    \n",
    "    cax = divider.append_axes(\"right\", size=\"5%\", pad=0.05)\n",
    "\n",
    "    # Create a colorbar\n",
    "    cbar = fig.colorbar(img, cax=cax)\n",
    "\n",
    "    # Save the plot as a .png file\n",
    "    plt.savefig(output_filepath.replace('.tif', '.png'))\n",
    "    plt.close()\n",
    "\n"
   ]
  },
  {
   "cell_type": "code",
   "execution_count": 17,
   "metadata": {
    "execution": {
     "iopub.execute_input": "2023-08-02T11:57:39.111626Z",
     "iopub.status.busy": "2023-08-02T11:57:39.111376Z",
     "iopub.status.idle": "2023-08-02T11:57:39.120865Z",
     "shell.execute_reply": "2023-08-02T11:57:39.119334Z",
     "shell.execute_reply.started": "2023-08-02T11:57:39.111599Z"
    }
   },
   "outputs": [],
   "source": [
    "import pandas as pd\n",
    "\n",
    "def create_ndtci_averages(root, threshold):\n",
    "    threshroot = os.path.join(root, 'modelchanges', str(threshold))\n",
    "    modeldf = pd.read_csv(os.path.join(threshroot, 'model_changes.csv'))\n",
    "    model_names = modeldf['model'].unique()\n",
    "    site_names = modeldf['facility'].unique()\n",
    "    \n",
    "    for model in model_names:\n",
    "        print(model)\n",
    "        for facility in site_names:\n",
    "            # Set your directory\n",
    "            directory = os.path.join(threshroot, f'masks_{model.lower()}')\n",
    "            print(directory)\n",
    "            output_directory = directory\n",
    "            ignore = ['baseline']\n",
    "            # Calculate the average mask\n",
    "            average_mask = calculate_average_mask(directory, facility_name=facility, ignore=ignore)\n",
    "            # Calculate x_stable\n",
    "            x_stable = calculate_x_stable(average_mask, quantile=0.5)\n",
    "\n",
    "            NDTCI_matrices, meta = process_all_files(directory, out_dir=output_directory, x_stable=x_stable, facility_name=facility, ignore=ignore)\n",
    "            if len(NDTCI_matrices) == 0:\n",
    "                continue\n",
    "            # Set your output file path\n",
    "            output_filepath = os.path.join(output_directory, f'{facility}_average_NDTCI.tif')\n",
    "\n",
    "            write_average_NDTCI(NDTCI_matrices, output_filepath, meta)"
   ]
  },
  {
   "cell_type": "markdown",
   "metadata": {},
   "source": [
    "## Create NDTCI avarages outputs"
   ]
  },
  {
   "cell_type": "code",
   "execution_count": 43,
   "metadata": {
    "collapsed": true,
    "execution": {
     "iopub.execute_input": "2023-07-31T15:59:26.681090Z",
     "iopub.status.busy": "2023-07-31T15:59:26.680585Z",
     "iopub.status.idle": "2023-07-31T15:59:45.565694Z",
     "shell.execute_reply": "2023-07-31T15:59:45.564646Z",
     "shell.execute_reply.started": "2023-07-31T15:59:26.681049Z"
    },
    "jupyter": {
     "outputs_hidden": true
    }
   },
   "outputs": [
    {
     "name": "stdout",
     "output_type": "stream",
     "text": [
      "TinyCD\n",
      "OpenMineChangeDetection/site_data/modelchanges/0.4/masks_tinycd\n",
      "Amazon\n",
      "0.0\n",
      "OpenMineChangeDetection/site_data/modelchanges/0.4/masks_tinycd\n",
      "Amazon_baseline\n",
      "nan\n",
      "OpenMineChangeDetection/site_data/modelchanges/0.4/masks_tinycd\n",
      "Carrapateena\n",
      "0.0\n"
     ]
    },
    {
     "name": "stderr",
     "output_type": "stream",
     "text": [
      "/usr/local/lib/python3.9/dist-packages/numpy/core/fromnumeric.py:3432: RuntimeWarning: Mean of empty slice.\n",
      "  return _methods._mean(a, axis=axis, dtype=dtype,\n",
      "/usr/local/lib/python3.9/dist-packages/numpy/core/_methods.py:190: RuntimeWarning: invalid value encountered in double_scalars\n",
      "  ret = ret.dtype.type(ret / rcount)\n"
     ]
    },
    {
     "name": "stdout",
     "output_type": "stream",
     "text": [
      "OpenMineChangeDetection/site_data/modelchanges/0.4/masks_tinycd\n",
      "Carrapateena_baseline\n",
      "nan\n",
      "OpenMineChangeDetection/site_data/modelchanges/0.4/masks_tinycd\n",
      "Craters\n",
      "0.0\n",
      "OpenMineChangeDetection/site_data/modelchanges/0.4/masks_tinycd\n",
      "Craters_baseline\n",
      "nan\n",
      "OpenMineChangeDetection/site_data/modelchanges/0.4/masks_tinycd\n",
      "Iluka Western Australia\n",
      "0.0\n",
      "OpenMineChangeDetection/site_data/modelchanges/0.4/masks_tinycd\n",
      "Iluka Western Australia_baseline\n",
      "nan\n",
      "OpenMineChangeDetection/site_data/modelchanges/0.4/masks_tinycd\n",
      "London\n",
      "0.0\n",
      "OpenMineChangeDetection/site_data/modelchanges/0.4/masks_tinycd\n",
      "London_baseline\n",
      "nan\n",
      "OpenMineChangeDetection/site_data/modelchanges/0.4/masks_tinycd\n",
      "Meliadine\n",
      "0.0\n",
      "OpenMineChangeDetection/site_data/modelchanges/0.4/masks_tinycd\n",
      "Meliadine_baseline\n",
      "nan\n",
      "OpenMineChangeDetection/site_data/modelchanges/0.4/masks_tinycd\n",
      "Merthyr Tydfil\n",
      "0.0\n",
      "OpenMineChangeDetection/site_data/modelchanges/0.4/masks_tinycd\n",
      "Merthyr Tydfil_baseline\n",
      "nan\n",
      "OpenMineChangeDetection/site_data/modelchanges/0.4/masks_tinycd\n",
      "MetCoal\n",
      "0.0\n",
      "OpenMineChangeDetection/site_data/modelchanges/0.4/masks_tinycd\n",
      "MetCoal_baseline\n",
      "nan\n",
      "OpenMineChangeDetection/site_data/modelchanges/0.4/masks_tinycd\n",
      "Ubuntu\n",
      "0.0\n",
      "OpenMineChangeDetection/site_data/modelchanges/0.4/masks_tinycd\n",
      "Ubuntu_baseline\n",
      "nan\n",
      "LSNet\n",
      "OpenMineChangeDetection/site_data/modelchanges/0.4/masks_lsnet\n",
      "Amazon\n",
      "0.0\n",
      "OpenMineChangeDetection/site_data/modelchanges/0.4/masks_lsnet\n",
      "Amazon_baseline\n",
      "nan\n",
      "OpenMineChangeDetection/site_data/modelchanges/0.4/masks_lsnet\n",
      "Carrapateena\n",
      "0.0\n",
      "OpenMineChangeDetection/site_data/modelchanges/0.4/masks_lsnet\n",
      "Carrapateena_baseline\n",
      "nan\n",
      "OpenMineChangeDetection/site_data/modelchanges/0.4/masks_lsnet\n",
      "Craters\n",
      "0.0\n",
      "OpenMineChangeDetection/site_data/modelchanges/0.4/masks_lsnet\n",
      "Craters_baseline\n",
      "nan\n",
      "OpenMineChangeDetection/site_data/modelchanges/0.4/masks_lsnet\n",
      "Iluka Western Australia\n",
      "0.0\n",
      "OpenMineChangeDetection/site_data/modelchanges/0.4/masks_lsnet\n",
      "Iluka Western Australia_baseline\n",
      "nan\n",
      "OpenMineChangeDetection/site_data/modelchanges/0.4/masks_lsnet\n",
      "London\n",
      "0.0\n",
      "OpenMineChangeDetection/site_data/modelchanges/0.4/masks_lsnet\n",
      "London_baseline\n",
      "nan\n",
      "OpenMineChangeDetection/site_data/modelchanges/0.4/masks_lsnet\n",
      "Meliadine\n",
      "0.0\n",
      "OpenMineChangeDetection/site_data/modelchanges/0.4/masks_lsnet\n",
      "Meliadine_baseline\n",
      "nan\n",
      "OpenMineChangeDetection/site_data/modelchanges/0.4/masks_lsnet\n",
      "Merthyr Tydfil\n",
      "0.0\n",
      "OpenMineChangeDetection/site_data/modelchanges/0.4/masks_lsnet\n",
      "Merthyr Tydfil_baseline\n",
      "nan\n",
      "OpenMineChangeDetection/site_data/modelchanges/0.4/masks_lsnet\n",
      "MetCoal\n",
      "0.0\n",
      "OpenMineChangeDetection/site_data/modelchanges/0.4/masks_lsnet\n",
      "MetCoal_baseline\n",
      "nan\n",
      "OpenMineChangeDetection/site_data/modelchanges/0.4/masks_lsnet\n",
      "Ubuntu\n",
      "0.0\n",
      "OpenMineChangeDetection/site_data/modelchanges/0.4/masks_lsnet\n",
      "Ubuntu_baseline\n",
      "nan\n",
      "DDPMCD\n",
      "OpenMineChangeDetection/site_data/modelchanges/0.4/masks_ddpmcd\n",
      "Amazon\n",
      "0.0\n",
      "OpenMineChangeDetection/site_data/modelchanges/0.4/masks_ddpmcd\n",
      "Amazon_baseline\n",
      "nan\n",
      "OpenMineChangeDetection/site_data/modelchanges/0.4/masks_ddpmcd\n",
      "Carrapateena\n",
      "0.0\n",
      "OpenMineChangeDetection/site_data/modelchanges/0.4/masks_ddpmcd\n",
      "Carrapateena_baseline\n",
      "nan\n",
      "OpenMineChangeDetection/site_data/modelchanges/0.4/masks_ddpmcd\n",
      "Craters\n",
      "0.0\n",
      "OpenMineChangeDetection/site_data/modelchanges/0.4/masks_ddpmcd\n",
      "Craters_baseline\n",
      "nan\n",
      "OpenMineChangeDetection/site_data/modelchanges/0.4/masks_ddpmcd\n",
      "Iluka Western Australia\n",
      "0.0\n",
      "OpenMineChangeDetection/site_data/modelchanges/0.4/masks_ddpmcd\n",
      "Iluka Western Australia_baseline\n",
      "nan\n",
      "OpenMineChangeDetection/site_data/modelchanges/0.4/masks_ddpmcd\n",
      "London\n",
      "0.0\n",
      "OpenMineChangeDetection/site_data/modelchanges/0.4/masks_ddpmcd\n",
      "London_baseline\n",
      "nan\n",
      "OpenMineChangeDetection/site_data/modelchanges/0.4/masks_ddpmcd\n",
      "Meliadine\n",
      "0.0\n",
      "OpenMineChangeDetection/site_data/modelchanges/0.4/masks_ddpmcd\n",
      "Meliadine_baseline\n",
      "nan\n",
      "OpenMineChangeDetection/site_data/modelchanges/0.4/masks_ddpmcd\n",
      "Merthyr Tydfil\n",
      "0.0\n",
      "OpenMineChangeDetection/site_data/modelchanges/0.4/masks_ddpmcd\n",
      "Merthyr Tydfil_baseline\n",
      "nan\n",
      "OpenMineChangeDetection/site_data/modelchanges/0.4/masks_ddpmcd\n",
      "MetCoal\n",
      "0.0\n",
      "OpenMineChangeDetection/site_data/modelchanges/0.4/masks_ddpmcd\n",
      "MetCoal_baseline\n",
      "nan\n",
      "OpenMineChangeDetection/site_data/modelchanges/0.4/masks_ddpmcd\n",
      "Ubuntu\n",
      "0.0\n",
      "OpenMineChangeDetection/site_data/modelchanges/0.4/masks_ddpmcd\n",
      "Ubuntu_baseline\n",
      "nan\n"
     ]
    }
   ],
   "source": [
    "create_ndtci_averages('OpenMineChangeDetection/site_data', threshold=0.4)"
   ]
  },
  {
   "cell_type": "markdown",
   "metadata": {},
   "source": [
    "# More NDTCI helper/visualisation functions"
   ]
  },
  {
   "cell_type": "code",
   "execution_count": 44,
   "metadata": {
    "execution": {
     "iopub.execute_input": "2023-08-02T12:40:09.933767Z",
     "iopub.status.busy": "2023-08-02T12:40:09.933414Z",
     "iopub.status.idle": "2023-08-02T12:40:09.955770Z",
     "shell.execute_reply": "2023-08-02T12:40:09.954492Z",
     "shell.execute_reply.started": "2023-08-02T12:40:09.933738Z"
    }
   },
   "outputs": [],
   "source": [
    "import matplotlib.pyplot as plt\n",
    "import pandas as pd\n",
    "from tqdm import tqdm\n",
    "from matplotlib.colors import ListedColormap\n",
    "from matplotlib.lines import Line2D\n",
    "from matplotlib import colors as mcolors\n",
    "import numpy as np\n",
    "\n",
    "def predict_ndtci_masks(dataset, input_dir, output_dir, filter_area=False, facilities=None):\n",
    "    change_list = []\n",
    "    if output_dir is not None:\n",
    "        os.makedirs(output_dir, exist_ok=True)\n",
    "    if facilities is None:\n",
    "        facilities = dataset.get_facilities()\n",
    "\n",
    "    for facility in tqdm(sorted(facilities)):\n",
    "        facility_file_indices = dataset.get_facility_file_indices(facility)\n",
    "        if filter_area:\n",
    "            area_mask_path = os.path.join(dataset.root_dir, 'area_mask', f'{facility}.tif')\n",
    "            if os.path.isfile(area_mask_path):\n",
    "                area_mask, _ = dataset._load_image(area_mask_path)\n",
    "                area_mask = np.clip(area_mask, a_min=0, a_max=1).astype(np.uint8)\n",
    "                area_mask = area_mask.squeeze(0)\n",
    "\n",
    "        if 'baseline' not in facility:\n",
    "            ignore = ['baseline']\n",
    "        else:\n",
    "            ignore = []\n",
    "            \n",
    "        average_mask = calculate_average_mask(input_dir, facility_name=facility, ignore=ignore)\n",
    "        x_stable = calculate_x_stable(average_mask, quantile=0.5)\n",
    "        NDTCI_matrices = []\n",
    "        if filter_area:\n",
    "            NDTCI_matrices_masked = []\n",
    "        meta = None\n",
    "        date_range_list = []  # This will store the date ranges for each file index\n",
    "        for file_index in facility_file_indices:\n",
    "            file_info = dataset.file_list[file_index]\n",
    "            predate, postdate = file_info[3:5]\n",
    "\n",
    "            input_path = os.path.join(input_dir, f'pred_{facility}_{file_index}_{predate}_{postdate}.tif')\n",
    "            \n",
    "            NDTCI, _, meta = calculate_NDTCI(input_path, x_stable)\n",
    "            NDTCI_matrices.append(NDTCI)\n",
    "            shape = list(NDTCI.shape)\n",
    "            \n",
    "            if filter_area:\n",
    "                NDTCI_masked, _, _ = calculate_NDTCI(input_path, x_stable, area_mask=area_mask)\n",
    "                ndtci_mean = NDTCI_masked.sum() / (shape[0] * shape[1])\n",
    "                NDTCI_matrices_masked.append(NDTCI_masked)\n",
    "            else:\n",
    "                ndtci_mean = NDTCI.sum() / (shape[0] * shape[1])\n",
    "\n",
    "            change_list.append({\"facility\": facility, \"index\": file_index,\n",
    "                                \"predate\": predate, \"postdate\": postdate,\n",
    "                                \"NDTCI\": ndtci_mean})\n",
    "\n",
    "        output_filepath = os.path.join(output_dir, f'{facility}_average_NDTCI.tif')\n",
    "        write_average_NDTCI(NDTCI_matrices, output_filepath, meta)\n",
    "        if filter_area:\n",
    "            output_filepath = os.path.join(output_dir, f'{facility}_masked_average_NDTCI.tif')\n",
    "            write_average_NDTCI(NDTCI_matrices_masked, output_filepath, meta)\n",
    "            \n",
    "    return pd.DataFrame(change_list)\n",
    "\n",
    "\n",
    "def predict_ndtci_masks_validated(dataset, facilities, output_dir):\n",
    "    change_list = []\n",
    "\n",
    "    for facility in sorted(facilities):\n",
    "        facility_file_indices = dataset.get_facility_file_indices(facility)\n",
    "        if 'alt' not in facility:\n",
    "            ignore = ['alt']\n",
    "        else:\n",
    "            ignore = []\n",
    "        average_mask = calculate_average_mask(os.path.join(dataset.root_dir, 'mask'), facility_name=facility, ignore=ignore, prefix='')\n",
    "        x_stable = calculate_x_stable(average_mask, quantile=0.5)\n",
    "        NDTCI_matrices = []\n",
    "        for file_index in facility_file_indices:\n",
    "            file_info = dataset.file_list[file_index]\n",
    "            predate, postdate = file_info[3:5]\n",
    "\n",
    "            mask_id = file_info[5]\n",
    "            mask_path = os.path.join(dataset.root_dir, 'mask', f'{facility}_{str(mask_id).zfill(4)}.tif')\n",
    "            if os.path.isfile(mask_path):\n",
    "                NDTCI, _, meta = calculate_NDTCI(mask_path, x_stable)\n",
    "                NDTCI_matrices.append(NDTCI)\n",
    "                shape = list(NDTCI.shape)\n",
    "                ndtci_mean = NDTCI.sum() / (shape[0] * shape[1])\n",
    "                change_list.append({\"facility\": facility, \"index\": file_index,\n",
    "                                    \"predate\": predate, \"postdate\": postdate,\n",
    "                                     \"NDTCI\": ndtci_mean})        \n",
    "\n",
    "        output_filepath = os.path.join(output_dir, f'{facility}_GT_average_NDTCI.tif')\n",
    "        write_average_NDTCI(NDTCI_matrices, output_filepath, meta)\n",
    "        \n",
    "    df = pd.DataFrame(change_list)\n",
    "    df['model'] = 'GT'\n",
    "    return df"
   ]
  },
  {
   "cell_type": "code",
   "execution_count": 43,
   "metadata": {
    "execution": {
     "iopub.execute_input": "2023-08-02T12:39:31.753946Z",
     "iopub.status.busy": "2023-08-02T12:39:31.753592Z",
     "iopub.status.idle": "2023-08-02T12:39:31.771251Z",
     "shell.execute_reply": "2023-08-02T12:39:31.769566Z",
     "shell.execute_reply.started": "2023-08-02T12:39:31.753918Z"
    }
   },
   "outputs": [],
   "source": [
    "def predict_all_ndtci_masks(root, threshold=0.4):\n",
    "    threshroot = os.path.join(root, 'modelchanges', str(threshold))\n",
    "    all_changes = []\n",
    "    for model in ['DDPMCD', 'TinyCD', 'LSNet']:\n",
    "        out_dir = os.path.join(threshroot, f'masks_{model.lower()}')\n",
    "        print(f'Predicting NDTCI masks for {model} to output dir {out_dir}')\n",
    "        model_changes = predict_ndtci_masks(dataset,\n",
    "                                          facilities=dataset.get_facilities(),\n",
    "                                          input_dir=out_dir,\n",
    "                                          output_dir=out_dir,\n",
    "                                          filter_area=False)\n",
    "        model_changes['model'] = model\n",
    "        all_changes.append(model_changes)\n",
    "\n",
    "    modeldf = pd.concat(all_changes, ignore_index=True)\n",
    "        \n",
    "    model_names = modeldf['model'].unique()\n",
    "    site_names = modeldf['facility'].unique()\n",
    "\n",
    "    for facility in site_names:\n",
    "        output_path_area = os.path.join(threshroot, f'{facility}_ndtci.png')\n",
    "        print(f'Plotting {facility} NDTCI and saving to {output_path_area}.')\n",
    "        plot_changes_multimodel(modeldf, [facility], yvar='NDTCI', add_median=True, path=output_path_area)\n",
    "\n",
    "    modeldf.to_csv(os.path.join(threshroot, 'model_ndtci.csv'))\n",
    "    \n",
    "def predict_all_ndtci_masks_validated(root, threshold=0.4, filter_area=True):\n",
    "    threshroot = os.path.join(root, 'modelchanges_validated', str(threshold))\n",
    "    all_changes = []\n",
    "    for model in ['DDPMCD', 'TinyCD', 'LSNet']:\n",
    "        out_dir = os.path.join(threshroot, f'masks_{model.lower()}')\n",
    "        print(f'Predicting NDTCI masks for {model} to output dir {out_dir}')\n",
    "        for split in ['val', 'test']:\n",
    "            model_changes = predict_ndtci_masks(dataset_oms2cd,\n",
    "                                              facilities=get_facilities(split, dataset_oms2cd),\n",
    "                                              input_dir=out_dir,\n",
    "                                              output_dir=out_dir,\n",
    "                                              filter_area=filter_area)\n",
    "            model_changes['model'] = model\n",
    "            all_changes.append(model_changes)\n",
    "\n",
    "    print(f'Predicting GT NDTCI masks')\n",
    "    all_changes.append(predict_ndtci_masks_validated(dataset_oms2cd, get_facilities('val', dataset_oms2cd), os.path.join(root, 'modelchanges_validated')))\n",
    "    all_changes.append(predict_ndtci_masks_validated(dataset_oms2cd, get_facilities('test', dataset_oms2cd), os.path.join(root, 'modelchanges_validated')))\n",
    "    \n",
    "    modeldf = pd.concat(all_changes, ignore_index=True)\n",
    "        \n",
    "    model_names = modeldf['model'].unique()\n",
    "    site_names = modeldf['facility'].unique()\n",
    "\n",
    "    for facility in site_names:\n",
    "        output_path_area = os.path.join(threshroot, f'{facility}_ndtci{\"\" if filter_area else \"_nofilter\"}.png')\n",
    "        print(f'Plotting {facility} NDTCI and saving to {output_path_area}.')\n",
    "        plot_changes_multimodel(modeldf, [facility], yvar='NDTCI', add_median=True, path=output_path_area)\n",
    "        \n",
    "        output_path_area_gt = os.path.join(threshroot, f'{facility}_ndtci_medgt{\"\" if filter_area else \"_nofilter\"}.png')\n",
    "        plot_changes_multimodel(modeldf, [facility], yvar='NDTCI', add_median=True, path=output_path_area_gt, inclusions=['GT'])\n",
    "\n",
    "    modeldf.to_csv(os.path.join(threshroot, f'model_ndtci_validated{\"\" if filter_area else \"_nofilter\"}.csv'))"
   ]
  },
  {
   "cell_type": "code",
   "execution_count": 108,
   "metadata": {
    "execution": {
     "iopub.execute_input": "2023-07-31T18:49:30.843672Z",
     "iopub.status.busy": "2023-07-31T18:49:30.843294Z",
     "iopub.status.idle": "2023-07-31T18:50:54.236605Z",
     "shell.execute_reply": "2023-07-31T18:50:54.235526Z",
     "shell.execute_reply.started": "2023-07-31T18:49:30.843645Z"
    }
   },
   "outputs": [
    {
     "name": "stdout",
     "output_type": "stream",
     "text": [
      "Predicting NDTCI masks for DDPMCD to output dir OpenMineChangeDetection/site_data/modelchanges/0.4/masks_ddpmcd\n"
     ]
    },
    {
     "name": "stderr",
     "output_type": "stream",
     "text": [
      "100%|██████████| 18/18 [00:09<00:00,  1.84it/s]\n"
     ]
    },
    {
     "name": "stdout",
     "output_type": "stream",
     "text": [
      "Predicting NDTCI masks for TinyCD to output dir OpenMineChangeDetection/site_data/modelchanges/0.4/masks_tinycd\n"
     ]
    },
    {
     "name": "stderr",
     "output_type": "stream",
     "text": [
      "100%|██████████| 18/18 [00:11<00:00,  1.62it/s]\n"
     ]
    },
    {
     "name": "stdout",
     "output_type": "stream",
     "text": [
      "Predicting NDTCI masks for LSNet to output dir OpenMineChangeDetection/site_data/modelchanges/0.4/masks_lsnet\n"
     ]
    },
    {
     "name": "stderr",
     "output_type": "stream",
     "text": [
      "100%|██████████| 18/18 [00:10<00:00,  1.73it/s]\n"
     ]
    },
    {
     "name": "stdout",
     "output_type": "stream",
     "text": [
      "Plotting Amazon NDTCI and saving to OpenMineChangeDetection/site_data/modelchanges/0.4/Amazon_ndtci.png.\n",
      "Plotting Amazon_baseline NDTCI and saving to OpenMineChangeDetection/site_data/modelchanges/0.4/Amazon_baseline_ndtci.png.\n",
      "Plotting Carrapateena NDTCI and saving to OpenMineChangeDetection/site_data/modelchanges/0.4/Carrapateena_ndtci.png.\n",
      "Plotting Carrapateena_baseline NDTCI and saving to OpenMineChangeDetection/site_data/modelchanges/0.4/Carrapateena_baseline_ndtci.png.\n",
      "Plotting Craters NDTCI and saving to OpenMineChangeDetection/site_data/modelchanges/0.4/Craters_ndtci.png.\n",
      "Plotting Craters_baseline NDTCI and saving to OpenMineChangeDetection/site_data/modelchanges/0.4/Craters_baseline_ndtci.png.\n",
      "Plotting Iluka Western Australia NDTCI and saving to OpenMineChangeDetection/site_data/modelchanges/0.4/Iluka Western Australia_ndtci.png.\n",
      "Plotting Iluka Western Australia_baseline NDTCI and saving to OpenMineChangeDetection/site_data/modelchanges/0.4/Iluka Western Australia_baseline_ndtci.png.\n",
      "Plotting London NDTCI and saving to OpenMineChangeDetection/site_data/modelchanges/0.4/London_ndtci.png.\n",
      "Plotting London_baseline NDTCI and saving to OpenMineChangeDetection/site_data/modelchanges/0.4/London_baseline_ndtci.png.\n",
      "Plotting Meliadine NDTCI and saving to OpenMineChangeDetection/site_data/modelchanges/0.4/Meliadine_ndtci.png.\n",
      "Plotting Meliadine_baseline NDTCI and saving to OpenMineChangeDetection/site_data/modelchanges/0.4/Meliadine_baseline_ndtci.png.\n",
      "Plotting Merthyr Tydfil NDTCI and saving to OpenMineChangeDetection/site_data/modelchanges/0.4/Merthyr Tydfil_ndtci.png.\n",
      "Plotting Merthyr Tydfil_baseline NDTCI and saving to OpenMineChangeDetection/site_data/modelchanges/0.4/Merthyr Tydfil_baseline_ndtci.png.\n",
      "Plotting MetCoal NDTCI and saving to OpenMineChangeDetection/site_data/modelchanges/0.4/MetCoal_ndtci.png.\n",
      "Plotting MetCoal_baseline NDTCI and saving to OpenMineChangeDetection/site_data/modelchanges/0.4/MetCoal_baseline_ndtci.png.\n",
      "Plotting Ubuntu NDTCI and saving to OpenMineChangeDetection/site_data/modelchanges/0.4/Ubuntu_ndtci.png.\n",
      "Plotting Ubuntu_baseline NDTCI and saving to OpenMineChangeDetection/site_data/modelchanges/0.4/Ubuntu_baseline_ndtci.png.\n",
      "Predicting NDTCI masks for DDPMCD to output dir OpenMineChangeDetection/site_data/modelchanges/0.6/masks_ddpmcd\n"
     ]
    },
    {
     "name": "stderr",
     "output_type": "stream",
     "text": [
      "100%|██████████| 18/18 [00:10<00:00,  1.73it/s]\n"
     ]
    },
    {
     "name": "stdout",
     "output_type": "stream",
     "text": [
      "Predicting NDTCI masks for TinyCD to output dir OpenMineChangeDetection/site_data/modelchanges/0.6/masks_tinycd\n"
     ]
    },
    {
     "name": "stderr",
     "output_type": "stream",
     "text": [
      "100%|██████████| 18/18 [00:11<00:00,  1.63it/s]\n"
     ]
    },
    {
     "name": "stdout",
     "output_type": "stream",
     "text": [
      "Predicting NDTCI masks for LSNet to output dir OpenMineChangeDetection/site_data/modelchanges/0.6/masks_lsnet\n"
     ]
    },
    {
     "name": "stderr",
     "output_type": "stream",
     "text": [
      "100%|██████████| 18/18 [00:10<00:00,  1.70it/s]\n"
     ]
    },
    {
     "name": "stdout",
     "output_type": "stream",
     "text": [
      "Plotting Amazon NDTCI and saving to OpenMineChangeDetection/site_data/modelchanges/0.6/Amazon_ndtci.png.\n",
      "Plotting Amazon_baseline NDTCI and saving to OpenMineChangeDetection/site_data/modelchanges/0.6/Amazon_baseline_ndtci.png.\n",
      "Plotting Carrapateena NDTCI and saving to OpenMineChangeDetection/site_data/modelchanges/0.6/Carrapateena_ndtci.png.\n",
      "Plotting Carrapateena_baseline NDTCI and saving to OpenMineChangeDetection/site_data/modelchanges/0.6/Carrapateena_baseline_ndtci.png.\n",
      "Plotting Craters NDTCI and saving to OpenMineChangeDetection/site_data/modelchanges/0.6/Craters_ndtci.png.\n",
      "Plotting Craters_baseline NDTCI and saving to OpenMineChangeDetection/site_data/modelchanges/0.6/Craters_baseline_ndtci.png.\n",
      "Plotting Iluka Western Australia NDTCI and saving to OpenMineChangeDetection/site_data/modelchanges/0.6/Iluka Western Australia_ndtci.png.\n",
      "Plotting Iluka Western Australia_baseline NDTCI and saving to OpenMineChangeDetection/site_data/modelchanges/0.6/Iluka Western Australia_baseline_ndtci.png.\n",
      "Plotting London NDTCI and saving to OpenMineChangeDetection/site_data/modelchanges/0.6/London_ndtci.png.\n",
      "Plotting London_baseline NDTCI and saving to OpenMineChangeDetection/site_data/modelchanges/0.6/London_baseline_ndtci.png.\n",
      "Plotting Meliadine NDTCI and saving to OpenMineChangeDetection/site_data/modelchanges/0.6/Meliadine_ndtci.png.\n",
      "Plotting Meliadine_baseline NDTCI and saving to OpenMineChangeDetection/site_data/modelchanges/0.6/Meliadine_baseline_ndtci.png.\n",
      "Plotting Merthyr Tydfil NDTCI and saving to OpenMineChangeDetection/site_data/modelchanges/0.6/Merthyr Tydfil_ndtci.png.\n",
      "Plotting Merthyr Tydfil_baseline NDTCI and saving to OpenMineChangeDetection/site_data/modelchanges/0.6/Merthyr Tydfil_baseline_ndtci.png.\n",
      "Plotting MetCoal NDTCI and saving to OpenMineChangeDetection/site_data/modelchanges/0.6/MetCoal_ndtci.png.\n",
      "Plotting MetCoal_baseline NDTCI and saving to OpenMineChangeDetection/site_data/modelchanges/0.6/MetCoal_baseline_ndtci.png.\n",
      "Plotting Ubuntu NDTCI and saving to OpenMineChangeDetection/site_data/modelchanges/0.6/Ubuntu_ndtci.png.\n",
      "Plotting Ubuntu_baseline NDTCI and saving to OpenMineChangeDetection/site_data/modelchanges/0.6/Ubuntu_baseline_ndtci.png.\n"
     ]
    }
   ],
   "source": [
    "predict_all_ndtci_masks('OpenMineChangeDetection/site_data', threshold=0.4)\n",
    "predict_all_ndtci_masks('OpenMineChangeDetection/site_data', threshold=0.6)"
   ]
  },
  {
   "cell_type": "code",
   "execution_count": 45,
   "metadata": {
    "execution": {
     "iopub.execute_input": "2023-08-02T12:40:35.443037Z",
     "iopub.status.busy": "2023-08-02T12:40:35.441696Z",
     "iopub.status.idle": "2023-08-02T12:41:02.336794Z",
     "shell.execute_reply": "2023-08-02T12:41:02.335927Z",
     "shell.execute_reply.started": "2023-08-02T12:40:35.443000Z"
    }
   },
   "outputs": [
    {
     "name": "stdout",
     "output_type": "stream",
     "text": [
      "Predicting NDTCI masks for DDPMCD to output dir OpenMineChangeDetection/site_data/modelchanges_validated/0.4/masks_ddpmcd\n"
     ]
    },
    {
     "name": "stderr",
     "output_type": "stream",
     "text": [
      "100%|██████████| 2/2 [00:00<00:00,  2.04it/s]\n",
      "100%|██████████| 2/2 [00:00<00:00,  2.06it/s]\n"
     ]
    },
    {
     "name": "stdout",
     "output_type": "stream",
     "text": [
      "Predicting NDTCI masks for TinyCD to output dir OpenMineChangeDetection/site_data/modelchanges_validated/0.4/masks_tinycd\n"
     ]
    },
    {
     "name": "stderr",
     "output_type": "stream",
     "text": [
      "100%|██████████| 2/2 [00:01<00:00,  1.82it/s]\n",
      "100%|██████████| 2/2 [00:01<00:00,  1.85it/s]\n"
     ]
    },
    {
     "name": "stdout",
     "output_type": "stream",
     "text": [
      "Predicting NDTCI masks for LSNet to output dir OpenMineChangeDetection/site_data/modelchanges_validated/0.4/masks_lsnet\n"
     ]
    },
    {
     "name": "stderr",
     "output_type": "stream",
     "text": [
      "100%|██████████| 2/2 [00:01<00:00,  1.85it/s]\n",
      "100%|██████████| 2/2 [00:01<00:00,  1.81it/s]\n"
     ]
    },
    {
     "name": "stdout",
     "output_type": "stream",
     "text": [
      "Predicting GT NDTCI masks\n",
      "Plotting Gunnedah_vickery NDTCI and saving to OpenMineChangeDetection/site_data/modelchanges_validated/0.4/Gunnedah_vickery_ndtci_nofilter.png.\n",
      "Plotting Werris Creek NDTCI and saving to OpenMineChangeDetection/site_data/modelchanges_validated/0.4/Werris Creek_ndtci_nofilter.png.\n",
      "Plotting Guizhou_Xiuwen NDTCI and saving to OpenMineChangeDetection/site_data/modelchanges_validated/0.4/Guizhou_Xiuwen_ndtci_nofilter.png.\n",
      "Plotting Mianchi NDTCI and saving to OpenMineChangeDetection/site_data/modelchanges_validated/0.4/Mianchi_ndtci_nofilter.png.\n",
      "Predicting NDTCI masks for DDPMCD to output dir OpenMineChangeDetection/site_data/modelchanges_validated/0.6/masks_ddpmcd\n"
     ]
    },
    {
     "name": "stderr",
     "output_type": "stream",
     "text": [
      "100%|██████████| 2/2 [00:01<00:00,  1.79it/s]\n",
      "100%|██████████| 2/2 [00:01<00:00,  1.94it/s]\n"
     ]
    },
    {
     "name": "stdout",
     "output_type": "stream",
     "text": [
      "Predicting NDTCI masks for TinyCD to output dir OpenMineChangeDetection/site_data/modelchanges_validated/0.6/masks_tinycd\n"
     ]
    },
    {
     "name": "stderr",
     "output_type": "stream",
     "text": [
      "100%|██████████| 2/2 [00:01<00:00,  1.71it/s]\n",
      "100%|██████████| 2/2 [00:01<00:00,  1.88it/s]\n"
     ]
    },
    {
     "name": "stdout",
     "output_type": "stream",
     "text": [
      "Predicting NDTCI masks for LSNet to output dir OpenMineChangeDetection/site_data/modelchanges_validated/0.6/masks_lsnet\n"
     ]
    },
    {
     "name": "stderr",
     "output_type": "stream",
     "text": [
      "100%|██████████| 2/2 [00:01<00:00,  1.75it/s]\n",
      "100%|██████████| 2/2 [00:01<00:00,  1.85it/s]\n"
     ]
    },
    {
     "name": "stdout",
     "output_type": "stream",
     "text": [
      "Predicting GT NDTCI masks\n",
      "Plotting Gunnedah_vickery NDTCI and saving to OpenMineChangeDetection/site_data/modelchanges_validated/0.6/Gunnedah_vickery_ndtci_nofilter.png.\n",
      "Plotting Werris Creek NDTCI and saving to OpenMineChangeDetection/site_data/modelchanges_validated/0.6/Werris Creek_ndtci_nofilter.png.\n",
      "Plotting Guizhou_Xiuwen NDTCI and saving to OpenMineChangeDetection/site_data/modelchanges_validated/0.6/Guizhou_Xiuwen_ndtci_nofilter.png.\n",
      "Plotting Mianchi NDTCI and saving to OpenMineChangeDetection/site_data/modelchanges_validated/0.6/Mianchi_ndtci_nofilter.png.\n"
     ]
    }
   ],
   "source": [
    "predict_all_ndtci_masks_validated('OpenMineChangeDetection/site_data', threshold=0.4, filter_area=False)\n",
    "predict_all_ndtci_masks_validated('OpenMineChangeDetection/site_data', threshold=0.6, filter_area=False)\n"
   ]
  },
  {
   "cell_type": "code",
   "execution_count": 84,
   "metadata": {
    "execution": {
     "iopub.execute_input": "2023-08-02T14:38:00.520369Z",
     "iopub.status.busy": "2023-08-02T14:38:00.519910Z",
     "iopub.status.idle": "2023-08-02T14:38:00.553760Z",
     "shell.execute_reply": "2023-08-02T14:38:00.552415Z",
     "shell.execute_reply.started": "2023-08-02T14:38:00.520331Z"
    }
   },
   "outputs": [],
   "source": [
    "import seaborn as sns\n",
    "import matplotlib.pyplot as plt\n",
    "from scipy import stats\n",
    "import pandas as pd\n",
    "\n",
    "def create_correlation_plot(df_path, var, title, output_path, gt=False):\n",
    "    df = pd.read_csv(df_path)\n",
    "    # Pivot the DataFrame so that each model's 'proportion' forms a column\n",
    "    df_pivot = df.pivot_table(index=['facility', 'predate', 'postdate'], \n",
    "                              columns='model', values=var).reset_index()\n",
    "    models = ['DDPMCD', 'TinyCD', 'LSNet']\n",
    "    if gt:\n",
    "        models.append('GT')\n",
    "    df_pivot['Median'] = df_pivot[models].loc[:, df_pivot.dtypes != 'object'].median(axis=1)\n",
    "\n",
    "    # Now, compute the correlation matrix specifying 'numeric_only=True'\n",
    "    correlation_matrix = df_pivot.corr(numeric_only=True)\n",
    "\n",
    "    # Also, compute a matrix of p-values\n",
    "    p_value_matrix = correlation_matrix.copy()\n",
    "    for col in correlation_matrix.columns:\n",
    "        for row in correlation_matrix.index:\n",
    "            if col != row:  # Skip when column and row are the same\n",
    "                temp_df = df_pivot[[col, row]].dropna()\n",
    "                try:\n",
    "                    r, p_value = stats.pearsonr(temp_df[col].values, temp_df[row].values)\n",
    "                    p_value_matrix.loc[row, col] = p_value\n",
    "                except ValueError as e:\n",
    "                    print(f\"Failed to calculate pearson correlation for columns '{col}' and '{row}': {str(e)}\")\n",
    "                    p_value_matrix.loc[row, col] = np.nan\n",
    "            else:  # If column and row are the same, set p-value to NaN (as it's not meaningful in this context)\n",
    "                p_value_matrix.loc[row, col] = np.nan\n",
    "\n",
    "    # Replace p-values with asterisks to denote their significance levels\n",
    "    significance_level = 0.05  # Set a significance level\n",
    "    p_value_matrix = p_value_matrix.applymap(lambda x: '***' if x < significance_level/100 else '**' if x < significance_level/10 else '*' if x < significance_level else '')\n",
    "\n",
    "    # Combine correlation values with significance annotations\n",
    "    combined_matrix = correlation_matrix.applymap('{:.2f}'.format) + \"\\n\" + p_value_matrix\n",
    "    # Create a heatmap of correlation coefficients, annotated with significance levels\n",
    "    plt.figure(figsize=(10, 10))\n",
    "    sns.heatmap(correlation_matrix, annot=combined_matrix, fmt='s', square=True, cmap='coolwarm', \n",
    "                xticklabels=correlation_matrix.columns, yticklabels=correlation_matrix.columns,\n",
    "                vmin=0.4, vmax=1)\n",
    "\n",
    "    plt.title(title)\n",
    "    \n",
    "    # Add a description of significance levels\n",
    "    plt.text(0.33, 0.1, f'Significance levels: *: p<{significance_level:.2f}, **: p<{significance_level/10:.3f}, ***: p<{significance_level/100:.4f}', \n",
    "             size=10, ha=\"center\", transform=plt.gcf().transFigure)\n",
    "    plt.savefig(output_path)\n",
    "    plt.show()\n",
    "\n",
    "\n",
    "def mape(y_true, y_pred): \n",
    "    y_true, y_pred = np.array(y_true), np.array(y_pred)\n",
    "    return np.mean(np.abs((y_true - y_pred) / y_true)) * 100\n",
    "\n",
    "def smape(y_true, y_pred):\n",
    "    y_true, y_pred = np.array(y_true), np.array(y_pred)\n",
    "    return np.mean((np.abs(y_pred - y_true) * 200/ (np.abs(y_pred) + np.abs(y_true))))\n",
    "\n",
    "def rmse(y_true, y_pred):\n",
    "    y_true, y_pred = np.array(y_true), np.array(y_pred)\n",
    "    return np.sqrt(((y_pred - y_true) ** 2).mean())\n",
    "\n",
    "def calculate_rmse(df_path, var):\n",
    "    df = pd.read_csv(df_path)\n",
    "    # Pivot the DataFrame so that each model's 'proportion' forms a column\n",
    "    df_pivot = df.pivot_table(index=['facility', 'predate', 'postdate'], \n",
    "                              columns='model', values=var).reset_index()\n",
    "    models = ['DDPMCD', 'TinyCD', 'LSNet', 'GT']\n",
    "    df_pivot['Median'] = df_pivot[models].loc[:, df_pivot.dtypes != 'object'].median(axis=1)\n",
    "    df_pivot = df_pivot.dropna()\n",
    "    models = ['DDPMCD', 'TinyCD', 'LSNet', 'Median']\n",
    "    # Initialize an empty DataFrame to store the metrics\n",
    "    metrics = []\n",
    "    for model in models:\n",
    "        # Calculate the RMSE\n",
    "        rmse_value = rmse(df_pivot['GT'], df_pivot[model])\n",
    "\n",
    "        # Append the metrics to the list\n",
    "        metrics.append({'model': model, 'RMSE': rmse_value})\n",
    "    \n",
    "    return pd.DataFrame(metrics)\n",
    "\n",
    "def plot_rmse(df_path1, df_path2, var, title, output_path):\n",
    "    df_metrics1 = calculate_rmse(df_path1, var)\n",
    "    df_metrics2 = calculate_rmse(df_path2, var)\n",
    "\n",
    "    models = ['DDPMCD', 'TinyCD', 'LSNet', 'Median']\n",
    "\n",
    "    # Setting the positions and width for the bars\n",
    "    pos = list(range(len(df_metrics1['RMSE'])))\n",
    "    width = 0.2\n",
    "    print(df_metrics1)\n",
    "    print(df_metrics2)\n",
    "    # Plotting the bars\n",
    "    fig, ax = plt.subplots(figsize=(7,5))\n",
    "\n",
    "    # Create a bar with RMSE data from the first DataFrame\n",
    "    plt.bar(pos,\n",
    "            df_metrics1['RMSE'],\n",
    "            width,\n",
    "            # alpha=0.5,\n",
    "            # color='#EE3224',\n",
    "            label='with mask')\n",
    "\n",
    "    # Create a bar with RMSE data from the second DataFrame,\n",
    "    # in position pos + some width buffer\n",
    "    plt.bar([p + width for p in pos],\n",
    "            df_metrics2['RMSE'],\n",
    "            width,\n",
    "            # alpha=0.5,\n",
    "            # color='#F78F1E',\n",
    "            label='no mask')\n",
    "\n",
    "    # Set the y axis label\n",
    "    ax.set_ylabel('RMSE')\n",
    "\n",
    "    # Set the chart's title\n",
    "    ax.set_title(title)\n",
    "\n",
    "    # Set the position of the x ticks\n",
    "    ax.set_xticks([p + 0.5 * width for p in pos])\n",
    "\n",
    "    # Set the labels for the x ticks\n",
    "    ax.set_xticklabels(models)\n",
    "\n",
    "    # Adding the legend and showing the plot\n",
    "    plt.legend(loc='upper right')\n",
    "    plt.grid()\n",
    "    plt.savefig(output_path)\n",
    "    plt.show()\n",
    "\n",
    "# Use the function as:\n",
    "# plot_rmse(df_path1, df_path2, var, title)"
   ]
  },
  {
   "cell_type": "code",
   "execution_count": 85,
   "metadata": {
    "execution": {
     "iopub.execute_input": "2023-08-02T14:38:19.356592Z",
     "iopub.status.busy": "2023-08-02T14:38:19.356066Z",
     "iopub.status.idle": "2023-08-02T14:38:20.284982Z",
     "shell.execute_reply": "2023-08-02T14:38:20.283600Z",
     "shell.execute_reply.started": "2023-08-02T14:38:19.356551Z"
    }
   },
   "outputs": [
    {
     "name": "stdout",
     "output_type": "stream",
     "text": [
      "    model      RMSE\n",
      "0  DDPMCD  0.004580\n",
      "1  TinyCD  0.005734\n",
      "2   LSNet  0.006129\n",
      "3  Median  0.004028\n",
      "    model      RMSE\n",
      "0  DDPMCD  0.014549\n",
      "1  TinyCD  0.006293\n",
      "2   LSNet  0.010035\n",
      "3  Median  0.006876\n"
     ]
    },
    {
     "data": {
      "image/png": "[encoded data removed]",
      "text/plain": [
       "<Figure size 700x500 with 1 Axes>"
      ]
     },
     "metadata": {},
     "output_type": "display_data"
    },
    {
     "name": "stdout",
     "output_type": "stream",
     "text": [
      "    model      RMSE\n",
      "0  DDPMCD  0.007666\n",
      "1  TinyCD  0.008895\n",
      "2   LSNet  0.007790\n",
      "3  Median  0.007157\n",
      "    model      RMSE\n",
      "0  DDPMCD  0.007241\n",
      "1  TinyCD  0.007704\n",
      "2   LSNet  0.008511\n",
      "3  Median  0.005960\n"
     ]
    },
    {
     "data": {
      "image/png": "[encoded data removed]",
      "text/plain": [
       "<Figure size 700x500 with 1 Axes>"
      ]
     },
     "metadata": {},
     "output_type": "display_data"
    }
   ],
   "source": [
    "for sub in ['', '_validated']:\n",
    "    if sub == '_validated':\n",
    "        gt = True\n",
    "    else:\n",
    "        gt = False\n",
    "    for filtering in (['', '_nofilter'] if gt else ['']):\n",
    "        for thresh in [0.4, 0.6]:\n",
    "            if filtering == '':\n",
    "                create_correlation_plot(f'OpenMineChangeDetection/site_data/modelchanges{sub}/{str(thresh)}/model_changes{sub}{filtering}.csv', \n",
    "                                        'proportion', \n",
    "                                        'Model Correlation Matrix for Predicted Changes',\n",
    "                                        f'OpenMineChangeDetection/site_data/modelchanges{sub}/{str(thresh)}/model_changes{sub}{filtering}_corr.png',\n",
    "                                        gt)\n",
    "                pass\n",
    "            elif gt:\n",
    "                plot_rmse(f'OpenMineChangeDetection/site_data/modelchanges_validated/{thresh}/model_ndtci_validated.csv',\n",
    "                          f'OpenMineChangeDetection/site_data/modelchanges_validated/{thresh}/model_ndtci_validated_nofilter.csv',\n",
    "                          'NDTCI',\n",
    "                          'Model NDTCI Error Compared to Ground-truth',\n",
    "                          f'OpenMineChangeDetection/site_data/modelchanges{sub}/{str(thresh)}/model_ndtci_err.png')\n",
    "\n",
    "            create_correlation_plot(f'OpenMineChangeDetection/site_data/modelchanges{sub}/{str(thresh)}/model_ndtci{sub}{filtering}.csv', \n",
    "                                    'NDTCI', \n",
    "                                    'Model Correlation Matrix for NDTCI',\n",
    "                                    f'OpenMineChangeDetection/site_data/modelchanges{sub}/{str(thresh)}/model_nctci{sub}{filtering}_corr.png',\n",
    "                                    gt)\n"
   ]
  },
  {
   "cell_type": "code",
   "execution_count": null,
   "metadata": {},
   "outputs": [],
   "source": []
  }
 ],
 "metadata": {
  "accelerator": "GPU",
  "colab": {
   "gpuType": "T4",
   "provenance": []
  },
  "kernelspec": {
   "display_name": "Python 3 (ipykernel)",
   "language": "python",
   "name": "python3"
  },
  "language_info": {
   "codemirror_mode": {
    "name": "ipython",
    "version": 3
   },
   "file_extension": ".py",
   "mimetype": "text/x-python",
   "name": "python",
   "nbconvert_exporter": "python",
   "pygments_lexer": "ipython3",
   "version": "3.9.16"
  }
 },
 "nbformat": 4,
 "nbformat_minor": 4
}
