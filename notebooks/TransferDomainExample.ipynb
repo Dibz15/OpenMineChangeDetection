{
  "cells": [
    {
      "cell_type": "markdown",
      "metadata": {},
      "source": [
        "# Introduction\n",
        "\n",
        "Author: Austin Dibble\n",
        "\n",
        "A short notebook which demonstrates the performance of the models on OMS2CD when they had only been trained on other datasets (such as OSCD, OMCD, and LEVIR-CD)."
      ]
    },
    {
      "cell_type": "markdown",
      "metadata": {},
      "source": [
        "# Clone repository and download dataset"
      ]
    },
    {
      "cell_type": "code",
      "execution_count": 3,
      "metadata": {
        "colab": {
          "base_uri": "https://localhost:8080/"
        },
        "id": "EVv6rp391ybi",
        "outputId": "4a19efc3-b636-44f1-aa21-010d07c6954b"
      },
      "outputs": [
        {
          "name": "stdout",
          "output_type": "stream",
          "text": [
            "Cloning into 'OpenMineChangeDetection'...\n",
            "remote: Enumerating objects: 3454, done.\u001b[K\n",
            "remote: Counting objects: 100% (53/53), done.\u001b[K\n",
            "remote: Compressing objects: 100% (37/37), done.\u001b[K\n",
            "remote: Total 3454 (delta 23), reused 35 (delta 16), pack-reused 3401\u001b[K\n",
            "Receiving objects: 100% (3454/3454), 112.52 MiB | 18.00 MiB/s, done.\n",
            "Resolving deltas: 100% (2247/2247), done.\n",
            "Updating files: 100% (2404/2404), done.\n"
          ]
        }
      ],
      "source": [
        "# from IPython.display import clear_output; key = input(); clear_output()\n",
        "!git clone https://github.com/Dibz15/OpenMineChangeDetection.git\n",
        "import sys\n",
        "sys.path.append('/content/OpenMineChangeDetection/')"
      ]
    },
    {
      "cell_type": "code",
      "execution_count": null,
      "metadata": {},
      "outputs": [],
      "source": [
        "from OpenMineChangeDetection.utils import download_prep_oms2cd\n",
        "download_prep_oms2cd(output_dir='OMS2CD')"
      ]
    },
    {
      "cell_type": "markdown",
      "metadata": {},
      "source": [
        "# Install dependencies"
      ]
    },
    {
      "cell_type": "code",
      "execution_count": 4,
      "metadata": {
        "id": "O4NFaLY713UN"
      },
      "outputs": [],
      "source": [
        "%%capture\n",
        "!pip install rasterio==1.3.8\n",
        "!pip install torchgeo==0.4.1\n",
        "!pip install tiler==0.5.7\n",
        "!pip install kornia==0.6.12\n",
        "!pip install lightning==1.9.5\n",
        "!pip install torchmetrics==0.11.4"
      ]
    },
    {
      "cell_type": "markdown",
      "metadata": {},
      "source": [
        "# Seed random, set device"
      ]
    },
    {
      "cell_type": "code",
      "execution_count": 5,
      "metadata": {
        "id": "Up7yt-MG3ktJ"
      },
      "outputs": [],
      "source": [
        "import os\n",
        "import torch\n",
        "import random\n",
        "import numpy as np\n",
        "\n",
        "if torch.cuda.is_available():\n",
        "  device = torch.device('cuda')\n",
        "else:\n",
        "  device = torch.device('cpu')\n",
        "\n",
        "torch.manual_seed(543)\n",
        "if torch.cuda.is_available():\n",
        "    torch.cuda.manual_seed_all(543)\n",
        "random.seed(543)\n",
        "np.random.seed(543)"
      ]
    },
    {
      "cell_type": "markdown",
      "metadata": {},
      "source": [
        "# Load pre-trained models"
      ]
    },
    {
      "cell_type": "code",
      "execution_count": 14,
      "metadata": {
        "colab": {
          "base_uri": "https://localhost:8080/",
          "height": 35
        },
        "id": "UnDZVDUU4VKY",
        "outputId": "d3ad701a-c902-4adc-e496-aec1a5154b2d"
      },
      "outputs": [
        {
          "data": {
            "application/vnd.google.colaboratory.intrinsic+json": {
              "type": "string"
            },
            "text/plain": [
              "'LSNet_diffFPN_state.pt'"
            ]
          },
          "execution_count": 14,
          "metadata": {},
          "output_type": "execute_result"
        }
      ],
      "source": [
        "import shutil\n",
        "import os\n",
        "os.makedirs('diffusion_weights', exist_ok=True)\n",
        "shutil.copyfile('drive/MyDrive/2023_dissertation/model_weights/ddpm_cd/best_cd_model_gen.pth', 'diffusion_weights/best_cd_model_gen.pth')\n",
        "shutil.copyfile('drive/MyDrive/2023_dissertation/model_weights/LSNet/LSNet_diffFPN_state.pt', 'LSNet_diffFPN_state.pt')"
      ]
    },
    {
      "cell_type": "code",
      "execution_count": 19,
      "metadata": {
        "id": "SN56Rd7f2EUM"
      },
      "outputs": [],
      "source": [
        "import torch\n",
        "\n",
        "def load_tinycd(device):\n",
        "    from OpenMineChangeDetection.TinyCD.models.cd_lightning import ChangeDetectorLightningModule\n",
        "    tinycd = ChangeDetectorLightningModule(freeze_backbone=False)\n",
        "    tinycd.change_detector.load_state_dict(torch.load(\"OpenMineChangeDetection/TinyCD/pretrained_models/levir_best.pth\", map_location=device))\n",
        "    return tinycd.to(device).eval()\n",
        "\n",
        "def load_lsnet(device):\n",
        "    from OpenMineChangeDetection.LSNet import LSNetLightning\n",
        "    from OpenMineChangeDetection.LSNet.utils.parser import get_parser_with_args\n",
        "    class AttributeDict(object):\n",
        "        def __init__(self, dictionary):\n",
        "            for key, value in dictionary.items():\n",
        "                setattr(self, key, value)\n",
        "\n",
        "    state = torch.load(\"LSNet_diffFPN_state.pt\", map_location=device)\n",
        "    opt = get_parser_with_args(metadata_json='OpenMineChangeDetection/LSNet/metadata.json')\n",
        "    opt = AttributeDict(opt)\n",
        "    model = LSNetLightning(opt)\n",
        "    model.model.load_state_dict(state, strict=False)\n",
        "    return model.to(device).eval()\n",
        "\n",
        "def load_ddpmcd(device):\n",
        "    from OpenMineChangeDetection.ddpm_cd.core import logger as Logger\n",
        "    from OpenMineChangeDetection.ddpm_cd.ddpm_lightning import CD\n",
        "\n",
        "    class Args:\n",
        "        def __init__(self):\n",
        "            self.config = 'OpenMineChangeDetection/ddpm_cd/config/oms2cd.json'\n",
        "            self.phase = 'train'\n",
        "            self.gpu_ids = '0'\n",
        "            self.debug = False\n",
        "            self.enable_wandb = False\n",
        "            self.log_eval = False\n",
        "\n",
        "    opt = Logger.parse(Args())\n",
        "    opt = Logger.dict_to_nonedict(opt)\n",
        "    change_detection = CD(opt)\n",
        "    opt['path_cd']['finetune_path'] = 'diffusion_weights'\n",
        "    opt['path_cd']['resume_opt'] = None\n",
        "\n",
        "    if opt['path_cd']['finetune_path'] is not None:\n",
        "        change_detection.load_network()\n",
        "    return change_detection.to(device).eval()\n"
      ]
    },
    {
      "cell_type": "code",
      "execution_count": 12,
      "metadata": {
        "id": "PcmpzAic4lko"
      },
      "outputs": [],
      "source": [
        "tinycd = load_tinycd(device)"
      ]
    },
    {
      "cell_type": "code",
      "execution_count": 16,
      "metadata": {
        "id": "76_t2-OO4mEn"
      },
      "outputs": [],
      "source": [
        "lsnet = load_lsnet(device)"
      ]
    },
    {
      "cell_type": "code",
      "execution_count": 20,
      "metadata": {
        "colab": {
          "base_uri": "https://localhost:8080/"
        },
        "id": "wcGS8Eng4mhm",
        "outputId": "b85361de-2d0b-494e-91ec-ed31762243e9"
      },
      "outputs": [
        {
          "name": "stdout",
          "output_type": "stream",
          "text": [
            "export CUDA_VISIBLE_DEVICES=0\n"
          ]
        },
        {
          "name": "stderr",
          "output_type": "stream",
          "text": [
            "Downloading file to diffusion_weights/I190000_E97_opt.pth: 100%|██████████| 2.91G/2.91G [01:39<00:00, 31.5MB/s]\n"
          ]
        },
        {
          "name": "stdout",
          "output_type": "stream",
          "text": [
            "Verifying hashes: Good.\n"
          ]
        },
        {
          "name": "stderr",
          "output_type": "stream",
          "text": [
            "Downloading file to diffusion_weights/I190000_E97_gen.pth: 100%|██████████| 1.46G/1.46G [01:03<00:00, 24.8MB/s]\n"
          ]
        },
        {
          "name": "stdout",
          "output_type": "stream",
          "text": [
            "Verifying hashes: Good.\n",
            "Loading CD gen state dict from diffusion_weights/best_cd_model_gen.pth.\n"
          ]
        }
      ],
      "source": [
        "ddpmcd = load_ddpmcd(device)"
      ]
    },
    {
      "cell_type": "markdown",
      "metadata": {},
      "source": [
        "# Prepare dataloader"
      ]
    },
    {
      "cell_type": "code",
      "execution_count": 21,
      "metadata": {
        "id": "AHuQu3OC5ZPj"
      },
      "outputs": [],
      "source": [
        "from OpenMineChangeDetection.datasets import OMS2CDDataModule\n",
        "from torchgeo.transforms import AugmentationSequential\n",
        "import kornia.augmentation as K\n",
        "from OpenMineChangeDetection.ddpm_cd.ddpm_lightning import CD\n",
        "\n",
        "datamodule = OMS2CDDataModule(root='OMS2CD', bands='rgb', load_area_mask=False,\n",
        "                              batch_size=1, tile_mode=\"constant\", index_no_mask=True, stride=100)\n",
        "datamodule.setup('fit')\n",
        "datamodule.setup('validate')\n",
        "datamodule.setup('test')"
      ]
    },
    {
      "cell_type": "markdown",
      "metadata": {},
      "source": [
        "# Evaluate pre-trained models"
      ]
    },
    {
      "cell_type": "code",
      "execution_count": 22,
      "metadata": {
        "colab": {
          "base_uri": "https://localhost:8080/"
        },
        "id": "XVCJabPz4ww8",
        "outputId": "5a83eec6-f70d-43ca-f134-aa2675b7a13f"
      },
      "outputs": [
        {
          "name": "stderr",
          "output_type": "stream",
          "text": [
            "100%|██████████| 463/463 [00:28<00:00, 16.53it/s]"
          ]
        },
        {
          "name": "stdout",
          "output_type": "stream",
          "text": [
            "Validation stats:\n",
            "{'OA': 0.9863958954811096, 'F1': 0.0003632480220403522, 'recall': 0.00018165743676945567, 'precision': 0.9868420958518982, 'AP': 0.015304083935916424, 'PRC': (tensor([0.0136, 0.3937, 0.5878, 0.6675, 0.7186, 0.7462, 0.7885, 0.8080, 0.8349,\n",
            "        0.8667, 0.8775, 0.8896, 0.8993, 0.9600, 0.9651, 0.9859, 0.9825, 1.0000,\n",
            "        1.0000, 1.0000, 1.0000, 1.0000, 1.0000, 1.0000, 1.0000, 1.0000, 0.0000,\n",
            "        0.0000, 0.0000, 0.0000, 0.0000, 0.0000, 0.0000, 0.0000, 0.0000, 0.0000,\n",
            "        0.0000, 0.0000, 0.0000, 0.0000, 0.0000, 0.0000, 0.0000, 0.0000, 0.0000,\n",
            "        0.0000, 0.0000, 0.0000, 0.0000, 0.0000, 1.0000], device='cuda:0'), tensor([1.0000e+00, 2.6183e-03, 1.6858e-03, 1.3128e-03, 1.1069e-03, 9.3977e-04,\n",
            "        8.3078e-04, 7.3390e-04, 6.4912e-04, 5.3528e-04, 4.3356e-04, 3.5120e-04,\n",
            "        3.0276e-04, 2.3252e-04, 2.0103e-04, 1.6955e-04, 1.3564e-04, 1.1142e-04,\n",
            "        7.2663e-05, 5.0864e-05, 4.1176e-05, 3.8754e-05, 2.6643e-05, 1.6955e-05,\n",
            "        1.2110e-05, 2.4221e-06, 0.0000e+00, 0.0000e+00, 0.0000e+00, 0.0000e+00,\n",
            "        0.0000e+00, 0.0000e+00, 0.0000e+00, 0.0000e+00, 0.0000e+00, 0.0000e+00,\n",
            "        0.0000e+00, 0.0000e+00, 0.0000e+00, 0.0000e+00, 0.0000e+00, 0.0000e+00,\n",
            "        0.0000e+00, 0.0000e+00, 0.0000e+00, 0.0000e+00, 0.0000e+00, 0.0000e+00,\n",
            "        0.0000e+00, 0.0000e+00, 0.0000e+00], device='cuda:0'), tensor([0.0000, 0.0204, 0.0408, 0.0612, 0.0816, 0.1020, 0.1224, 0.1429, 0.1633,\n",
            "        0.1837, 0.2041, 0.2245, 0.2449, 0.2653, 0.2857, 0.3061, 0.3265, 0.3469,\n",
            "        0.3673, 0.3878, 0.4082, 0.4286, 0.4490, 0.4694, 0.4898, 0.5102, 0.5306,\n",
            "        0.5510, 0.5714, 0.5918, 0.6122, 0.6327, 0.6531, 0.6735, 0.6939, 0.7143,\n",
            "        0.7347, 0.7551, 0.7755, 0.7959, 0.8163, 0.8367, 0.8571, 0.8776, 0.8980,\n",
            "        0.9184, 0.9388, 0.9592, 0.9796, 1.0000], device='cuda:0')), 'IoU': 0.5616391985790808}\n"
          ]
        },
        {
          "name": "stderr",
          "output_type": "stream",
          "text": [
            "\n"
          ]
        }
      ],
      "source": [
        "from OpenMineChangeDetection.utils import evaluate_model, get_mask_preds_tinycd, get_mask_preds_lsnet, get_mask_preds_ddpmcd\n",
        "\n",
        "stats = evaluate_model(tinycd, datamodule.val_dataloader(), get_mask_preds_tinycd, device, threshold=0.3)\n",
        "print(\"Validation stats:\")\n",
        "print(stats)"
      ]
    },
    {
      "cell_type": "code",
      "execution_count": 23,
      "metadata": {
        "colab": {
          "base_uri": "https://localhost:8080/"
        },
        "id": "8ycfS5kz6R25",
        "outputId": "b2dfbb95-5fdf-4212-babb-e33320683d1a"
      },
      "outputs": [
        {
          "name": "stderr",
          "output_type": "stream",
          "text": [
            "100%|██████████| 342/342 [00:15<00:00, 22.18it/s]\n"
          ]
        },
        {
          "name": "stdout",
          "output_type": "stream",
          "text": [
            "Test stats:\n",
            "{'OA': 0.9820842146873474, 'F1': 0.0, 'recall': 0.0, 'precision': 0.0, 'AP': 0.015359574928879738, 'PRC': (tensor([1.7912e-02, 1.0500e-02, 7.2780e-04, 0.0000e+00, 0.0000e+00, 0.0000e+00,\n",
            "        0.0000e+00, 0.0000e+00, 0.0000e+00, 0.0000e+00, 0.0000e+00, 0.0000e+00,\n",
            "        0.0000e+00, 0.0000e+00, 0.0000e+00, 0.0000e+00, 0.0000e+00, 0.0000e+00,\n",
            "        0.0000e+00, 0.0000e+00, 0.0000e+00, 0.0000e+00, 0.0000e+00, 0.0000e+00,\n",
            "        0.0000e+00, 0.0000e+00, 0.0000e+00, 0.0000e+00, 0.0000e+00, 0.0000e+00,\n",
            "        0.0000e+00, 0.0000e+00, 0.0000e+00, 0.0000e+00, 0.0000e+00, 0.0000e+00,\n",
            "        0.0000e+00, 0.0000e+00, 0.0000e+00, 0.0000e+00, 0.0000e+00, 0.0000e+00,\n",
            "        0.0000e+00, 0.0000e+00, 0.0000e+00, 0.0000e+00, 0.0000e+00, 0.0000e+00,\n",
            "        0.0000e+00, 0.0000e+00, 1.0000e+00], device='cuda:0'), tensor([1.0000e+00, 8.4687e-05, 2.4908e-06, 0.0000e+00, 0.0000e+00, 0.0000e+00,\n",
            "        0.0000e+00, 0.0000e+00, 0.0000e+00, 0.0000e+00, 0.0000e+00, 0.0000e+00,\n",
            "        0.0000e+00, 0.0000e+00, 0.0000e+00, 0.0000e+00, 0.0000e+00, 0.0000e+00,\n",
            "        0.0000e+00, 0.0000e+00, 0.0000e+00, 0.0000e+00, 0.0000e+00, 0.0000e+00,\n",
            "        0.0000e+00, 0.0000e+00, 0.0000e+00, 0.0000e+00, 0.0000e+00, 0.0000e+00,\n",
            "        0.0000e+00, 0.0000e+00, 0.0000e+00, 0.0000e+00, 0.0000e+00, 0.0000e+00,\n",
            "        0.0000e+00, 0.0000e+00, 0.0000e+00, 0.0000e+00, 0.0000e+00, 0.0000e+00,\n",
            "        0.0000e+00, 0.0000e+00, 0.0000e+00, 0.0000e+00, 0.0000e+00, 0.0000e+00,\n",
            "        0.0000e+00, 0.0000e+00, 0.0000e+00], device='cuda:0'), tensor([0.0000, 0.0204, 0.0408, 0.0612, 0.0816, 0.1020, 0.1224, 0.1429, 0.1633,\n",
            "        0.1837, 0.2041, 0.2245, 0.2449, 0.2653, 0.2857, 0.3061, 0.3265, 0.3469,\n",
            "        0.3673, 0.3878, 0.4082, 0.4286, 0.4490, 0.4694, 0.4898, 0.5102, 0.5306,\n",
            "        0.5510, 0.5714, 0.5918, 0.6122, 0.6327, 0.6531, 0.6735, 0.6939, 0.7143,\n",
            "        0.7347, 0.7551, 0.7755, 0.7959, 0.8163, 0.8367, 0.8571, 0.8776, 0.8980,\n",
            "        0.9184, 0.9388, 0.9592, 0.9796, 1.0000], device='cuda:0')), 'IoU': 0.25438596854909}\n"
          ]
        }
      ],
      "source": [
        "stats = evaluate_model(tinycd, datamodule.test_dataloader(), get_mask_preds_tinycd, device, threshold=0.3)\n",
        "print(\"Test stats:\")\n",
        "print(stats)"
      ]
    },
    {
      "cell_type": "code",
      "execution_count": 24,
      "metadata": {
        "colab": {
          "base_uri": "https://localhost:8080/"
        },
        "id": "UgMWmckV5rUA",
        "outputId": "4aee9e33-fbe4-47eb-8556-8d6d1782ab5c"
      },
      "outputs": [
        {
          "name": "stderr",
          "output_type": "stream",
          "text": [
            "100%|██████████| 463/463 [00:25<00:00, 18.44it/s]\n"
          ]
        },
        {
          "name": "stdout",
          "output_type": "stream",
          "text": [
            "Validation stats:\n",
            "{'OA': 0.9863935112953186, 'F1': 0.0, 'recall': 0.0, 'precision': 0.0, 'AP': 0.013590898364782333, 'PRC': (tensor([0.0136, 0.0092, 0.0000, 0.0000, 0.0000, 0.0000, 0.0000, 0.0000, 0.0000,\n",
            "        0.0000, 0.0000, 0.0000, 0.0000, 0.0000, 0.0000, 0.0000, 0.0000, 0.0000,\n",
            "        0.0000, 0.0000, 0.0000, 0.0000, 0.0000, 0.0000, 0.0000, 0.0000, 0.0000,\n",
            "        0.0000, 0.0000, 0.0000, 0.0000, 0.0000, 0.0000, 0.0000, 0.0000, 0.0000,\n",
            "        0.0000, 0.0000, 0.0000, 0.0000, 0.0000, 0.0000, 0.0000, 0.0000, 0.0000,\n",
            "        0.0000, 0.0000, 0.0000, 0.0000, 0.0000, 1.0000], device='cuda:0'), tensor([1.0000e+00, 2.4221e-05, 0.0000e+00, 0.0000e+00, 0.0000e+00, 0.0000e+00,\n",
            "        0.0000e+00, 0.0000e+00, 0.0000e+00, 0.0000e+00, 0.0000e+00, 0.0000e+00,\n",
            "        0.0000e+00, 0.0000e+00, 0.0000e+00, 0.0000e+00, 0.0000e+00, 0.0000e+00,\n",
            "        0.0000e+00, 0.0000e+00, 0.0000e+00, 0.0000e+00, 0.0000e+00, 0.0000e+00,\n",
            "        0.0000e+00, 0.0000e+00, 0.0000e+00, 0.0000e+00, 0.0000e+00, 0.0000e+00,\n",
            "        0.0000e+00, 0.0000e+00, 0.0000e+00, 0.0000e+00, 0.0000e+00, 0.0000e+00,\n",
            "        0.0000e+00, 0.0000e+00, 0.0000e+00, 0.0000e+00, 0.0000e+00, 0.0000e+00,\n",
            "        0.0000e+00, 0.0000e+00, 0.0000e+00, 0.0000e+00, 0.0000e+00, 0.0000e+00,\n",
            "        0.0000e+00, 0.0000e+00, 0.0000e+00], device='cuda:0'), tensor([0.0000, 0.0204, 0.0408, 0.0612, 0.0816, 0.1020, 0.1224, 0.1429, 0.1633,\n",
            "        0.1837, 0.2041, 0.2245, 0.2449, 0.2653, 0.2857, 0.3061, 0.3265, 0.3469,\n",
            "        0.3673, 0.3878, 0.4082, 0.4286, 0.4490, 0.4694, 0.4898, 0.5102, 0.5306,\n",
            "        0.5510, 0.5714, 0.5918, 0.6122, 0.6327, 0.6531, 0.6735, 0.6939, 0.7143,\n",
            "        0.7347, 0.7551, 0.7755, 0.7959, 0.8163, 0.8367, 0.8571, 0.8776, 0.8980,\n",
            "        0.9184, 0.9388, 0.9592, 0.9796, 1.0000], device='cuda:0')), 'IoU': 0.561555084212867}\n"
          ]
        }
      ],
      "source": [
        "stats = evaluate_model(lsnet, datamodule.val_dataloader(), get_mask_preds_lsnet, device, threshold=0.3)\n",
        "print(\"Validation stats:\")\n",
        "print(stats)"
      ]
    },
    {
      "cell_type": "code",
      "execution_count": 25,
      "metadata": {
        "colab": {
          "base_uri": "https://localhost:8080/"
        },
        "id": "-0iN7Htd6aUp",
        "outputId": "488189ed-9a0a-4664-960a-f798ccdbb9d3"
      },
      "outputs": [
        {
          "name": "stderr",
          "output_type": "stream",
          "text": [
            "100%|██████████| 342/342 [00:19<00:00, 17.13it/s]"
          ]
        },
        {
          "name": "stdout",
          "output_type": "stream",
          "text": [
            "Test stats:\n",
            "{'OA': 0.9820874929428101, 'F1': 0.0, 'recall': 0.0, 'precision': 0.0, 'AP': 0.01782796159386635, 'PRC': (tensor([0.0179, 0.0094, 0.0000, 0.0000, 0.0000, 0.0000, 0.0000, 0.0000, 0.0000,\n",
            "        0.0000, 0.0000, 0.0000, 0.0000, 0.0000, 0.0000, 0.0000, 0.0000, 0.0000,\n",
            "        0.0000, 0.0000, 0.0000, 0.0000, 0.0000, 0.0000, 0.0000, 0.0000, 0.0000,\n",
            "        0.0000, 0.0000, 0.0000, 0.0000, 0.0000, 0.0000, 0.0000, 0.0000, 0.0000,\n",
            "        0.0000, 0.0000, 0.0000, 0.0000, 0.0000, 0.0000, 0.0000, 0.0000, 0.0000,\n",
            "        0.0000, 0.0000, 0.0000, 0.0000, 0.0000, 1.0000], device='cuda:0'), tensor([1.0000e+00, 1.9926e-05, 0.0000e+00, 0.0000e+00, 0.0000e+00, 0.0000e+00,\n",
            "        0.0000e+00, 0.0000e+00, 0.0000e+00, 0.0000e+00, 0.0000e+00, 0.0000e+00,\n",
            "        0.0000e+00, 0.0000e+00, 0.0000e+00, 0.0000e+00, 0.0000e+00, 0.0000e+00,\n",
            "        0.0000e+00, 0.0000e+00, 0.0000e+00, 0.0000e+00, 0.0000e+00, 0.0000e+00,\n",
            "        0.0000e+00, 0.0000e+00, 0.0000e+00, 0.0000e+00, 0.0000e+00, 0.0000e+00,\n",
            "        0.0000e+00, 0.0000e+00, 0.0000e+00, 0.0000e+00, 0.0000e+00, 0.0000e+00,\n",
            "        0.0000e+00, 0.0000e+00, 0.0000e+00, 0.0000e+00, 0.0000e+00, 0.0000e+00,\n",
            "        0.0000e+00, 0.0000e+00, 0.0000e+00, 0.0000e+00, 0.0000e+00, 0.0000e+00,\n",
            "        0.0000e+00, 0.0000e+00, 0.0000e+00], device='cuda:0'), tensor([0.0000, 0.0204, 0.0408, 0.0612, 0.0816, 0.1020, 0.1224, 0.1429, 0.1633,\n",
            "        0.1837, 0.2041, 0.2245, 0.2449, 0.2653, 0.2857, 0.3061, 0.3265, 0.3469,\n",
            "        0.3673, 0.3878, 0.4082, 0.4286, 0.4490, 0.4694, 0.4898, 0.5102, 0.5306,\n",
            "        0.5510, 0.5714, 0.5918, 0.6122, 0.6327, 0.6531, 0.6735, 0.6939, 0.7143,\n",
            "        0.7347, 0.7551, 0.7755, 0.7959, 0.8163, 0.8367, 0.8571, 0.8776, 0.8980,\n",
            "        0.9184, 0.9388, 0.9592, 0.9796, 1.0000], device='cuda:0')), 'IoU': 0.254385968549102}\n"
          ]
        },
        {
          "name": "stderr",
          "output_type": "stream",
          "text": [
            "\n"
          ]
        }
      ],
      "source": [
        "stats = evaluate_model(lsnet, datamodule.test_dataloader(), get_mask_preds_lsnet, device, threshold=0.3)\n",
        "print(\"Test stats:\")\n",
        "print(stats)"
      ]
    },
    {
      "cell_type": "code",
      "execution_count": 26,
      "metadata": {
        "colab": {
          "base_uri": "https://localhost:8080/"
        },
        "id": "NOdCwRpg59LO",
        "outputId": "3617722a-a4f8-48ec-8a92-ec5c7ca19bfb"
      },
      "outputs": [
        {
          "name": "stderr",
          "output_type": "stream",
          "text": [
            "100%|██████████| 463/463 [11:01<00:00,  1.43s/it]"
          ]
        },
        {
          "name": "stdout",
          "output_type": "stream",
          "text": [
            "Validation stats:\n",
            "{'OA': 0.9863342642784119, 'F1': 0.00022181823442224413, 'recall': 0.00011141656432300806, 'precision': 0.024351509287953377, 'AP': 0.009571156464517117, 'PRC': (tensor([0.0136, 0.0078, 0.0067, 0.0065, 0.0068, 0.0071, 0.0077, 0.0087, 0.0101,\n",
            "        0.0110, 0.0136, 0.0155, 0.0182, 0.0218, 0.0224, 0.0264, 0.0348, 0.0369,\n",
            "        0.0459, 0.0300, 0.0162, 0.0000, 0.0000, 0.0000, 0.0000, 0.0000, 0.0000,\n",
            "        0.0000, 0.0000, 0.0000, 0.0000, 0.0000, 0.0000, 0.0000, 0.0000, 0.0000,\n",
            "        0.0000, 0.0000, 0.0000, 0.0000, 0.0000, 0.0000, 0.0000, 0.0000, 0.0000,\n",
            "        0.0000, 0.0000, 0.0000, 0.0000, 0.0000, 1.0000], device='cuda:0'), tensor([1.0000e+00, 1.6020e-02, 6.8885e-03, 3.7664e-03, 2.3155e-03, 1.4557e-03,\n",
            "        9.8822e-04, 7.2663e-04, 5.6193e-04, 4.1176e-04, 3.4394e-04, 2.7128e-04,\n",
            "        2.2526e-04, 1.8650e-04, 1.3322e-04, 1.0899e-04, 9.9306e-05, 6.7819e-05,\n",
            "        5.3286e-05, 2.1799e-05, 7.2663e-06, 0.0000e+00, 0.0000e+00, 0.0000e+00,\n",
            "        0.0000e+00, 0.0000e+00, 0.0000e+00, 0.0000e+00, 0.0000e+00, 0.0000e+00,\n",
            "        0.0000e+00, 0.0000e+00, 0.0000e+00, 0.0000e+00, 0.0000e+00, 0.0000e+00,\n",
            "        0.0000e+00, 0.0000e+00, 0.0000e+00, 0.0000e+00, 0.0000e+00, 0.0000e+00,\n",
            "        0.0000e+00, 0.0000e+00, 0.0000e+00, 0.0000e+00, 0.0000e+00, 0.0000e+00,\n",
            "        0.0000e+00, 0.0000e+00, 0.0000e+00], device='cuda:0'), tensor([0.0000, 0.0204, 0.0408, 0.0612, 0.0816, 0.1020, 0.1224, 0.1429, 0.1633,\n",
            "        0.1837, 0.2041, 0.2245, 0.2449, 0.2653, 0.2857, 0.3061, 0.3265, 0.3469,\n",
            "        0.3673, 0.3878, 0.4082, 0.4286, 0.4490, 0.4694, 0.4898, 0.5102, 0.5306,\n",
            "        0.5510, 0.5714, 0.5918, 0.6122, 0.6327, 0.6531, 0.6735, 0.6939, 0.7143,\n",
            "        0.7347, 0.7551, 0.7755, 0.7959, 0.8163, 0.8367, 0.8571, 0.8776, 0.8980,\n",
            "        0.9184, 0.9388, 0.9592, 0.9796, 1.0000], device='cuda:0')), 'IoU': 0.028160180958531476}\n"
          ]
        },
        {
          "name": "stderr",
          "output_type": "stream",
          "text": [
            "\n"
          ]
        }
      ],
      "source": [
        "stats = evaluate_model(ddpmcd, datamodule.val_dataloader(), get_mask_preds_ddpmcd, device, threshold=0.3)\n",
        "print(\"Validation stats:\")\n",
        "print(stats)"
      ]
    },
    {
      "cell_type": "code",
      "execution_count": 27,
      "metadata": {
        "colab": {
          "base_uri": "https://localhost:8080/"
        },
        "id": "hxVhnhb17oZs",
        "outputId": "dfe50bd4-af63-42a3-dbd9-f6982667db1f"
      },
      "outputs": [
        {
          "name": "stderr",
          "output_type": "stream",
          "text": [
            "100%|██████████| 342/342 [08:09<00:00,  1.43s/it]"
          ]
        },
        {
          "name": "stdout",
          "output_type": "stream",
          "text": [
            "Test stats:\n",
            "{'OA': 0.9820408225059509, 'F1': 0.0004966168198734522, 'recall': 0.00024907966144382954, 'precision': 0.0801924616098404, 'AP': 0.01696985960006714, 'PRC': (tensor([0.0179, 0.0178, 0.0185, 0.0197, 0.0217, 0.0238, 0.0256, 0.0292, 0.0341,\n",
            "        0.0390, 0.0421, 0.0465, 0.0515, 0.0590, 0.0720, 0.0838, 0.0943, 0.1149,\n",
            "        0.1406, 0.1277, 0.1622, 0.1951, 0.2692, 0.2500, 0.2000, 0.0000, 0.0000,\n",
            "        0.0000, 0.0000, 0.0000, 0.0000, 0.0000, 0.0000, 0.0000, 0.0000, 0.0000,\n",
            "        0.0000, 0.0000, 0.0000, 0.0000, 0.0000, 0.0000, 0.0000, 0.0000, 0.0000,\n",
            "        0.0000, 0.0000, 0.0000, 0.0000, 0.0000, 1.0000], device='cuda:0'), tensor([1.0000e+00, 2.6126e-02, 1.3463e-02, 7.9880e-03, 5.1012e-03, 3.4024e-03,\n",
            "        2.3090e-03, 1.6863e-03, 1.2977e-03, 1.0138e-03, 7.4973e-04, 5.7786e-04,\n",
            "        4.4585e-04, 3.5867e-04, 2.9890e-04, 2.2915e-04, 1.7436e-04, 1.2703e-04,\n",
            "        8.9669e-05, 4.4834e-05, 2.9890e-05, 1.9926e-05, 1.7436e-05, 9.9632e-06,\n",
            "        4.9816e-06, 0.0000e+00, 0.0000e+00, 0.0000e+00, 0.0000e+00, 0.0000e+00,\n",
            "        0.0000e+00, 0.0000e+00, 0.0000e+00, 0.0000e+00, 0.0000e+00, 0.0000e+00,\n",
            "        0.0000e+00, 0.0000e+00, 0.0000e+00, 0.0000e+00, 0.0000e+00, 0.0000e+00,\n",
            "        0.0000e+00, 0.0000e+00, 0.0000e+00, 0.0000e+00, 0.0000e+00, 0.0000e+00,\n",
            "        0.0000e+00, 0.0000e+00, 0.0000e+00], device='cuda:0'), tensor([0.0000, 0.0204, 0.0408, 0.0612, 0.0816, 0.1020, 0.1224, 0.1429, 0.1633,\n",
            "        0.1837, 0.2041, 0.2245, 0.2449, 0.2653, 0.2857, 0.3061, 0.3265, 0.3469,\n",
            "        0.3673, 0.3878, 0.4082, 0.4286, 0.4490, 0.4694, 0.4898, 0.5102, 0.5306,\n",
            "        0.5510, 0.5714, 0.5918, 0.6122, 0.6327, 0.6531, 0.6735, 0.6939, 0.7143,\n",
            "        0.7347, 0.7551, 0.7755, 0.7959, 0.8163, 0.8367, 0.8571, 0.8776, 0.8980,\n",
            "        0.9184, 0.9388, 0.9592, 0.9796, 1.0000], device='cuda:0')), 'IoU': 0.02943178864443761}\n"
          ]
        },
        {
          "name": "stderr",
          "output_type": "stream",
          "text": [
            "\n"
          ]
        }
      ],
      "source": [
        "stats = evaluate_model(ddpmcd, datamodule.test_dataloader(), get_mask_preds_ddpmcd, device, threshold=0.3)\n",
        "print(\"Test stats:\")\n",
        "print(stats)"
      ]
    },
    {
      "cell_type": "code",
      "execution_count": null,
      "metadata": {
        "id": "cnT65Yc97rLN"
      },
      "outputs": [],
      "source": []
    }
  ],
  "metadata": {
    "accelerator": "GPU",
    "colab": {
      "gpuType": "T4",
      "provenance": []
    },
    "kernelspec": {
      "display_name": "Python 3",
      "name": "python3"
    },
    "language_info": {
      "name": "python"
    }
  },
  "nbformat": 4,
  "nbformat_minor": 0
}
