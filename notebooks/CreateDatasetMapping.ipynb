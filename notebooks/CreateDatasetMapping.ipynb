{
  "nbformat": 4,
  "nbformat_minor": 0,
  "metadata": {
    "colab": {
      "provenance": []
    },
    "kernelspec": {
      "name": "python3",
      "display_name": "Python 3"
    },
    "language_info": {
      "name": "python"
    }
  },
  "cells": [
    {
      "cell_type": "code",
      "execution_count": null,
      "metadata": {
        "colab": {
          "base_uri": "https://localhost:8080/"
        },
        "id": "A_0jfsLK21HD",
        "outputId": "e5a943d2-94a7-4c06-c727-84f6562aa5b0"
      },
      "outputs": [
        {
          "output_type": "stream",
          "name": "stdout",
          "text": [
            "Collecting rasterio\n",
            "  Downloading rasterio-1.3.8-cp310-cp310-manylinux_2_17_x86_64.manylinux2014_x86_64.whl (21.3 MB)\n",
            "\u001b[2K     \u001b[90m━━━━━━━━━━━━━━━━━━━━━━━━━━━━━━━━━━━━━━━━\u001b[0m \u001b[32m21.3/21.3 MB\u001b[0m \u001b[31m57.0 MB/s\u001b[0m eta \u001b[36m0:00:00\u001b[0m\n",
            "\u001b[?25hCollecting affine (from rasterio)\n",
            "  Downloading affine-2.4.0-py3-none-any.whl (15 kB)\n",
            "Requirement already satisfied: attrs in /usr/local/lib/python3.10/dist-packages (from rasterio) (23.1.0)\n",
            "Requirement already satisfied: certifi in /usr/local/lib/python3.10/dist-packages (from rasterio) (2023.5.7)\n",
            "Requirement already satisfied: click>=4.0 in /usr/local/lib/python3.10/dist-packages (from rasterio) (8.1.4)\n",
            "Requirement already satisfied: cligj>=0.5 in /usr/local/lib/python3.10/dist-packages (from rasterio) (0.7.2)\n",
            "Requirement already satisfied: numpy>=1.18 in /usr/local/lib/python3.10/dist-packages (from rasterio) (1.22.4)\n",
            "Collecting snuggs>=1.4.1 (from rasterio)\n",
            "  Downloading snuggs-1.4.7-py3-none-any.whl (5.4 kB)\n",
            "Requirement already satisfied: click-plugins in /usr/local/lib/python3.10/dist-packages (from rasterio) (1.1.1)\n",
            "Requirement already satisfied: setuptools in /usr/local/lib/python3.10/dist-packages (from rasterio) (67.7.2)\n",
            "Requirement already satisfied: pyparsing>=2.1.6 in /usr/local/lib/python3.10/dist-packages (from snuggs>=1.4.1->rasterio) (3.1.0)\n",
            "Installing collected packages: snuggs, affine, rasterio\n",
            "Successfully installed affine-2.4.0 rasterio-1.3.8 snuggs-1.4.7\n"
          ]
        }
      ],
      "source": [
        "!pip install rasterio"
      ]
    },
    {
      "cell_type": "code",
      "source": [
        "from google.colab import drive\n",
        "drive.mount('/content/drive')"
      ],
      "metadata": {
        "colab": {
          "base_uri": "https://localhost:8080/"
        },
        "id": "XvO-NT2kQ0hn",
        "outputId": "67632fd8-6b78-4b85-e450-66ff46842576"
      },
      "execution_count": null,
      "outputs": [
        {
          "output_type": "stream",
          "name": "stdout",
          "text": [
            "Mounted at /content/drive\n"
          ]
        }
      ]
    },
    {
      "cell_type": "markdown",
      "source": [
        "# Download Dataset from Drive"
      ],
      "metadata": {
        "id": "Y7YoEsPo0cxK"
      }
    },
    {
      "cell_type": "code",
      "source": [
        "import shutil\n",
        "import zipfile\n",
        "\n",
        "shutil.copy('/content/drive/MyDrive/2023_dissertation/dataset_archives/Jasansky_2023_images.zip', '/content/Jasansky_2023_images.zip')\n",
        "\n",
        "with zipfile.ZipFile('/content/Jasansky_2023_images.zip', 'r') as zip_ref:\n",
        "    zip_ref.extractall('/content/')"
      ],
      "metadata": {
        "id": "H4XDp_4QQ1Eb"
      },
      "execution_count": null,
      "outputs": []
    },
    {
      "cell_type": "markdown",
      "source": [
        "# Create mapping file which sorts the images into CD triplets"
      ],
      "metadata": {
        "id": "9MEQH_sd0ppF"
      }
    },
    {
      "cell_type": "code",
      "source": [
        "import os\n",
        "import csv\n",
        "from datetime import datetime\n",
        "import re\n",
        "\n",
        "source_dir = '/content/Jasansky_2023_images'  # replace with your source directory\n",
        "mapping_file_path = os.path.join(source_dir, 'mapping.csv')\n",
        "\n",
        "# Get the list of s2 files and sort them\n",
        "s2_files = [f for f in os.listdir(source_dir) if f.startswith('s2_') and f.endswith('.tif')]\n",
        "s2_files.sort()\n",
        "\n",
        "# Initialize the facility name and date\n",
        "prev_facility = None\n",
        "prev_date = None\n",
        "counter = 1\n",
        "imageAWrite = True\n",
        "\n",
        "# Open the mapping file in write mode\n",
        "with open(mapping_file_path, 'w', newline='') as mapping_file:\n",
        "    writer = csv.writer(mapping_file)\n",
        "    writer.writerow(['id', 'imageA', 'imageB', 'mask'])  # Write the header\n",
        "\n",
        "    for s2_file in s2_files:\n",
        "        # Parse the facility name and date from the filename\n",
        "        s2_file_without_ext = s2_file.replace('.tif', '')\n",
        "        s2_prefix_and_rest, date_str = s2_file_without_ext.rsplit('_', 1)\n",
        "        s2_prefix, rest = s2_prefix_and_rest.split('_', 1)\n",
        "        facility = re.split(r'[\\d-]', rest)[0].strip('_')\n",
        "\n",
        "        date = datetime.strptime(date_str, '%Y-%m-%d')\n",
        "\n",
        "        if facility == prev_facility and not imageAWrite:\n",
        "            # If the facility is the same as the previous one, write the file to imageB\n",
        "            new_filename = s2_file\n",
        "            writer.writerow([str(counter).zfill(4), prev_filename, new_filename, f'{facility}.tif'])\n",
        "            print(f'Wrote {counter:04d} {prev_filename}, {new_filename}, {facility}.tif to mapping file')\n",
        "            imageAWrite = True\n",
        "            counter += 1\n",
        "        else:\n",
        "            # If the facility is different, check for the corresponding mask file\n",
        "            mask_file = f'{facility}.tif'\n",
        "            if not os.path.exists(os.path.join(source_dir, 'masks', mask_file)):\n",
        "                print(f'No mask file found for {facility}')\n",
        "\n",
        "        # Write the s2 file to imageA\n",
        "        if imageAWrite:\n",
        "            imageAWrite = False\n",
        "\n",
        "        # Update the facility name and date\n",
        "        prev_filename = s2_file\n",
        "        prev_facility = facility\n",
        "        prev_date = date\n"
      ],
      "metadata": {
        "colab": {
          "base_uri": "https://localhost:8080/"
        },
        "id": "cvO86x12Suvi",
        "outputId": "dbcafe4f-2ffd-4977-9569-cc07ac61b040"
      },
      "execution_count": null,
      "outputs": [
        {
          "output_type": "stream",
          "name": "stdout",
          "text": [
            "Wrote 0001 s2_Artemyevsky_81.7826042963516_50.600017274045_2018-12-01.tif, s2_Artemyevsky_81.7826042963516_50.600017274045_2019-01-01.tif, Artemyevsky.tif to mapping file\n",
            "Wrote 0002 s2_Artemyevsky_81.7826042963516_50.600017274045_2019-01-01.tif, s2_Artemyevsky_81.7826042963516_50.600017274045_2019-02-01.tif, Artemyevsky.tif to mapping file\n",
            "Wrote 0003 s2_Artemyevsky_81.7826042963516_50.600017274045_2019-02-01.tif, s2_Artemyevsky_81.7826042963516_50.600017274045_2019-03-01.tif, Artemyevsky.tif to mapping file\n",
            "Wrote 0004 s2_Artemyevsky_81.7826042963516_50.600017274045_2019-03-01.tif, s2_Artemyevsky_81.7826042963516_50.600017274045_2019-04-01.tif, Artemyevsky.tif to mapping file\n",
            "Wrote 0005 s2_Artemyevsky_81.7826042963516_50.600017274045_2019-04-01.tif, s2_Artemyevsky_81.7826042963516_50.600017274045_2019-05-01.tif, Artemyevsky.tif to mapping file\n",
            "Wrote 0006 s2_Artemyevsky_81.7826042963516_50.600017274045_2019-05-01.tif, s2_Artemyevsky_81.7826042963516_50.600017274045_2019-06-01.tif, Artemyevsky.tif to mapping file\n",
            "Wrote 0007 s2_Artemyevsky_81.7826042963516_50.600017274045_2019-06-01.tif, s2_Artemyevsky_81.7826042963516_50.600017274045_2019-07-01.tif, Artemyevsky.tif to mapping file\n",
            "Wrote 0008 s2_Artemyevsky_81.7826042963516_50.600017274045_2019-07-01.tif, s2_Artemyevsky_81.7826042963516_50.600017274045_2019-08-01.tif, Artemyevsky.tif to mapping file\n",
            "Wrote 0009 s2_Artemyevsky_81.7826042963516_50.600017274045_2019-08-01.tif, s2_Artemyevsky_81.7826042963516_50.600017274045_2019-10-01.tif, Artemyevsky.tif to mapping file\n",
            "Wrote 0010 s2_Artemyevsky_81.7826042963516_50.600017274045_2019-10-01.tif, s2_Artemyevsky_81.7826042963516_50.600017274045_2019-11-01.tif, Artemyevsky.tif to mapping file\n",
            "Wrote 0011 s2_Artemyevsky_81.7826042963516_50.600017274045_2019-11-01.tif, s2_Artemyevsky_81.7826042963516_50.600017274045_2020-01-01.tif, Artemyevsky.tif to mapping file\n",
            "Wrote 0012 s2_Artemyevsky_81.7826042963516_50.600017274045_2020-01-01.tif, s2_Artemyevsky_81.7826042963516_50.600017274045_2020-02-01.tif, Artemyevsky.tif to mapping file\n",
            "Wrote 0013 s2_Artemyevsky_81.7826042963516_50.600017274045_2020-02-01.tif, s2_Artemyevsky_81.7826042963516_50.600017274045_2020-03-01.tif, Artemyevsky.tif to mapping file\n",
            "Wrote 0014 s2_Artemyevsky_81.7826042963516_50.600017274045_2020-03-01.tif, s2_Artemyevsky_81.7826042963516_50.600017274045_2020-04-01.tif, Artemyevsky.tif to mapping file\n",
            "Wrote 0015 s2_Artemyevsky_81.7826042963516_50.600017274045_2020-04-01.tif, s2_Artemyevsky_81.7826042963516_50.600017274045_2020-05-01.tif, Artemyevsky.tif to mapping file\n",
            "Wrote 0016 s2_Artemyevsky_81.7826042963516_50.600017274045_2020-05-01.tif, s2_Artemyevsky_81.7826042963516_50.600017274045_2020-06-01.tif, Artemyevsky.tif to mapping file\n",
            "Wrote 0017 s2_Artemyevsky_81.7826042963516_50.600017274045_2020-06-01.tif, s2_Artemyevsky_81.7826042963516_50.600017274045_2020-07-01.tif, Artemyevsky.tif to mapping file\n",
            "Wrote 0018 s2_Artemyevsky_81.7826042963516_50.600017274045_2020-07-01.tif, s2_Artemyevsky_81.7826042963516_50.600017274045_2020-08-01.tif, Artemyevsky.tif to mapping file\n",
            "Wrote 0019 s2_Artemyevsky_81.7826042963516_50.600017274045_2020-08-01.tif, s2_Artemyevsky_81.7826042963516_50.600017274045_2020-09-01.tif, Artemyevsky.tif to mapping file\n",
            "Wrote 0020 s2_Artemyevsky_81.7826042963516_50.600017274045_2020-09-01.tif, s2_Artemyevsky_81.7826042963516_50.600017274045_2020-10-01.tif, Artemyevsky.tif to mapping file\n",
            "Wrote 0021 s2_Artemyevsky_81.7826042963516_50.600017274045_2020-10-01.tif, s2_Artemyevsky_81.7826042963516_50.600017274045_2020-12-01.tif, Artemyevsky.tif to mapping file\n",
            "Wrote 0022 s2_Guizhou_Xiuwen_106.62430578887023_26.78665816391409_2019-03-01.tif, s2_Guizhou_Xiuwen_106.62430578887023_26.78665816391409_2019-04-01.tif, Guizhou_Xiuwen.tif to mapping file\n",
            "Wrote 0023 s2_Guizhou_Xiuwen_106.62430578887023_26.78665816391409_2019-04-01.tif, s2_Guizhou_Xiuwen_106.62430578887023_26.78665816391409_2019-10-01.tif, Guizhou_Xiuwen.tif to mapping file\n",
            "Wrote 0024 s2_Guizhou_Xiuwen_106.62430578887023_26.78665816391409_2019-10-01.tif, s2_Guizhou_Xiuwen_106.62430578887023_26.78665816391409_2019-12-01.tif, Guizhou_Xiuwen.tif to mapping file\n",
            "Wrote 0025 s2_Guizhou_Xiuwen_106.62430578887023_26.78665816391409_2019-12-01.tif, s2_Guizhou_Xiuwen_106.62430578887023_26.78665816391409_2020-04-01.tif, Guizhou_Xiuwen.tif to mapping file\n",
            "Wrote 0026 s2_Guizhou_Xiuwen_106.62430578887023_26.78665816391409_2020-04-01.tif, s2_Guizhou_Xiuwen_106.62430578887023_26.78665816391409_2020-07-01.tif, Guizhou_Xiuwen.tif to mapping file\n",
            "Wrote 0027 s2_Guizhou_Xiuwen_106.62430578887023_26.78665816391409_2020-07-01.tif, s2_Guizhou_Xiuwen_106.62430578887023_26.78665816391409_2020-08-01.tif, Guizhou_Xiuwen.tif to mapping file\n",
            "Wrote 0028 s2_Guizhou_Xiuwen_106.62430578887023_26.78665816391409_2020-08-01.tif, s2_Guizhou_Xiuwen_106.62430578887023_26.78665816391409_2020-11-01.tif, Guizhou_Xiuwen.tif to mapping file\n",
            "Wrote 0029 s2_Gunnedah_leard_150.17770055678767_-30.62245095758179_2019-02-01.tif, s2_Gunnedah_leard_150.17770055678767_-30.62245095758179_2019-04-01.tif, Gunnedah_leard.tif to mapping file\n",
            "Wrote 0030 s2_Gunnedah_leard_150.17770055678767_-30.62245095758179_2019-04-01.tif, s2_Gunnedah_leard_150.17770055678767_-30.62245095758179_2019-05-01.tif, Gunnedah_leard.tif to mapping file\n",
            "Wrote 0031 s2_Gunnedah_leard_150.17770055678767_-30.62245095758179_2019-05-01.tif, s2_Gunnedah_leard_150.17770055678767_-30.62245095758179_2019-06-01.tif, Gunnedah_leard.tif to mapping file\n",
            "Wrote 0032 s2_Gunnedah_leard_150.17770055678767_-30.62245095758179_2019-06-01.tif, s2_Gunnedah_leard_150.17770055678767_-30.62245095758179_2019-07-01.tif, Gunnedah_leard.tif to mapping file\n",
            "Wrote 0033 s2_Gunnedah_leard_150.17770055678767_-30.62245095758179_2019-07-01.tif, s2_Gunnedah_leard_150.17770055678767_-30.62245095758179_2019-08-01.tif, Gunnedah_leard.tif to mapping file\n",
            "Wrote 0034 s2_Gunnedah_leard_150.17770055678767_-30.62245095758179_2019-08-01.tif, s2_Gunnedah_leard_150.17770055678767_-30.62245095758179_2019-09-01.tif, Gunnedah_leard.tif to mapping file\n",
            "Wrote 0035 s2_Gunnedah_leard_150.17770055678767_-30.62245095758179_2019-09-01.tif, s2_Gunnedah_leard_150.17770055678767_-30.62245095758179_2019-11-01.tif, Gunnedah_leard.tif to mapping file\n",
            "Wrote 0036 s2_Gunnedah_leard_150.17770055678767_-30.62245095758179_2019-11-01.tif, s2_Gunnedah_leard_150.17770055678767_-30.62245095758179_2019-12-01.tif, Gunnedah_leard.tif to mapping file\n",
            "Wrote 0037 s2_Gunnedah_leard_150.17770055678767_-30.62245095758179_2019-12-01.tif, s2_Gunnedah_leard_150.17770055678767_-30.62245095758179_2020-01-01.tif, Gunnedah_leard.tif to mapping file\n",
            "Wrote 0038 s2_Gunnedah_leard_150.17770055678767_-30.62245095758179_2020-01-01.tif, s2_Gunnedah_leard_150.17770055678767_-30.62245095758179_2020-02-01.tif, Gunnedah_leard.tif to mapping file\n",
            "Wrote 0039 s2_Gunnedah_leard_150.17770055678767_-30.62245095758179_2020-02-01.tif, s2_Gunnedah_leard_150.17770055678767_-30.62245095758179_2020-03-01.tif, Gunnedah_leard.tif to mapping file\n",
            "Wrote 0040 s2_Gunnedah_leard_150.17770055678767_-30.62245095758179_2020-03-01.tif, s2_Gunnedah_leard_150.17770055678767_-30.62245095758179_2020-04-01.tif, Gunnedah_leard.tif to mapping file\n",
            "Wrote 0041 s2_Gunnedah_leard_150.17770055678767_-30.62245095758179_2020-04-01.tif, s2_Gunnedah_leard_150.17770055678767_-30.62245095758179_2020-05-01.tif, Gunnedah_leard.tif to mapping file\n",
            "Wrote 0042 s2_Gunnedah_leard_150.17770055678767_-30.62245095758179_2020-05-01.tif, s2_Gunnedah_leard_150.17770055678767_-30.62245095758179_2020-06-01.tif, Gunnedah_leard.tif to mapping file\n",
            "Wrote 0043 s2_Gunnedah_leard_150.17770055678767_-30.62245095758179_2020-06-01.tif, s2_Gunnedah_leard_150.17770055678767_-30.62245095758179_2020-07-01.tif, Gunnedah_leard.tif to mapping file\n",
            "Wrote 0044 s2_Gunnedah_leard_150.17770055678767_-30.62245095758179_2020-07-01.tif, s2_Gunnedah_leard_150.17770055678767_-30.62245095758179_2020-08-01.tif, Gunnedah_leard.tif to mapping file\n",
            "Wrote 0045 s2_Gunnedah_leard_150.17770055678767_-30.62245095758179_2020-08-01.tif, s2_Gunnedah_leard_150.17770055678767_-30.62245095758179_2020-09-01.tif, Gunnedah_leard.tif to mapping file\n",
            "Wrote 0046 s2_Gunnedah_leard_150.17770055678767_-30.62245095758179_2020-09-01.tif, s2_Gunnedah_leard_150.17770055678767_-30.62245095758179_2020-10-01.tif, Gunnedah_leard.tif to mapping file\n",
            "Wrote 0047 s2_Gunnedah_leard_150.17770055678767_-30.62245095758179_2020-10-01.tif, s2_Gunnedah_leard_150.17770055678767_-30.62245095758179_2020-11-01.tif, Gunnedah_leard.tif to mapping file\n",
            "Wrote 0048 s2_Gunnedah_leard_150.17770055678767_-30.62245095758179_2020-11-01.tif, s2_Gunnedah_leard_150.17770055678767_-30.62245095758179_2020-12-01.tif, Gunnedah_leard.tif to mapping file\n",
            "Wrote 0049 s2_Gunnedah_sugarloaf_150.11685310638242_-30.981028551012983_2018-12-01.tif, s2_Gunnedah_sugarloaf_150.11685310638242_-30.981028551012983_2019-05-01.tif, Gunnedah_sugarloaf.tif to mapping file\n",
            "Wrote 0050 s2_Gunnedah_sugarloaf_150.11685310638242_-30.981028551012983_2019-05-01.tif, s2_Gunnedah_sugarloaf_150.11685310638242_-30.981028551012983_2019-12-01.tif, Gunnedah_sugarloaf.tif to mapping file\n",
            "Wrote 0051 s2_Gunnedah_sugarloaf_150.11685310638242_-30.981028551012983_2019-12-01.tif, s2_Gunnedah_sugarloaf_150.11685310638242_-30.981028551012983_2020-02-01.tif, Gunnedah_sugarloaf.tif to mapping file\n",
            "Wrote 0052 s2_Gunnedah_sugarloaf_150.11685310638242_-30.981028551012983_2020-02-01.tif, s2_Gunnedah_sugarloaf_150.11685310638242_-30.981028551012983_2020-07-01.tif, Gunnedah_sugarloaf.tif to mapping file\n",
            "Wrote 0053 s2_Gunnedah_sugarloaf_150.11685310638242_-30.981028551012983_2020-07-01.tif, s2_Gunnedah_sugarloaf_150.11685310638242_-30.981028551012983_2020-08-01.tif, Gunnedah_sugarloaf.tif to mapping file\n",
            "Wrote 0054 s2_Gunnedah_sugarloaf_150.11685310638242_-30.981028551012983_2020-08-01.tif, s2_Gunnedah_sugarloaf_150.11685310638242_-30.981028551012983_2020-09-01.tif, Gunnedah_sugarloaf.tif to mapping file\n",
            "Wrote 0055 s2_Gunnedah_vickery_150.27155437222632_-30.761526187954605_2018-12-01.tif, s2_Gunnedah_vickery_150.27155437222632_-30.761526187954605_2019-01-01.tif, Gunnedah_vickery.tif to mapping file\n",
            "Wrote 0056 s2_Gunnedah_vickery_150.27155437222632_-30.761526187954605_2019-01-01.tif, s2_Gunnedah_vickery_150.27155437222632_-30.761526187954605_2019-02-01.tif, Gunnedah_vickery.tif to mapping file\n",
            "Wrote 0057 s2_Gunnedah_vickery_150.27155437222632_-30.761526187954605_2019-02-01.tif, s2_Gunnedah_vickery_150.27155437222632_-30.761526187954605_2019-03-01.tif, Gunnedah_vickery.tif to mapping file\n",
            "Wrote 0058 s2_Gunnedah_vickery_150.27155437222632_-30.761526187954605_2019-03-01.tif, s2_Gunnedah_vickery_150.27155437222632_-30.761526187954605_2019-04-01.tif, Gunnedah_vickery.tif to mapping file\n",
            "Wrote 0059 s2_Gunnedah_vickery_150.27155437222632_-30.761526187954605_2019-04-01.tif, s2_Gunnedah_vickery_150.27155437222632_-30.761526187954605_2019-05-01.tif, Gunnedah_vickery.tif to mapping file\n",
            "Wrote 0060 s2_Gunnedah_vickery_150.27155437222632_-30.761526187954605_2019-05-01.tif, s2_Gunnedah_vickery_150.27155437222632_-30.761526187954605_2019-06-01.tif, Gunnedah_vickery.tif to mapping file\n",
            "Wrote 0061 s2_Gunnedah_vickery_150.27155437222632_-30.761526187954605_2019-06-01.tif, s2_Gunnedah_vickery_150.27155437222632_-30.761526187954605_2019-07-01.tif, Gunnedah_vickery.tif to mapping file\n",
            "Wrote 0062 s2_Gunnedah_vickery_150.27155437222632_-30.761526187954605_2019-07-01.tif, s2_Gunnedah_vickery_150.27155437222632_-30.761526187954605_2019-08-01.tif, Gunnedah_vickery.tif to mapping file\n",
            "Wrote 0063 s2_Gunnedah_vickery_150.27155437222632_-30.761526187954605_2019-08-01.tif, s2_Gunnedah_vickery_150.27155437222632_-30.761526187954605_2019-09-01.tif, Gunnedah_vickery.tif to mapping file\n",
            "Wrote 0064 s2_Gunnedah_vickery_150.27155437222632_-30.761526187954605_2019-09-01.tif, s2_Gunnedah_vickery_150.27155437222632_-30.761526187954605_2019-10-01.tif, Gunnedah_vickery.tif to mapping file\n",
            "Wrote 0065 s2_Gunnedah_vickery_150.27155437222632_-30.761526187954605_2019-10-01.tif, s2_Gunnedah_vickery_150.27155437222632_-30.761526187954605_2019-11-01.tif, Gunnedah_vickery.tif to mapping file\n",
            "Wrote 0066 s2_Gunnedah_vickery_150.27155437222632_-30.761526187954605_2019-11-01.tif, s2_Gunnedah_vickery_150.27155437222632_-30.761526187954605_2019-12-01.tif, Gunnedah_vickery.tif to mapping file\n",
            "Wrote 0067 s2_Gunnedah_vickery_150.27155437222632_-30.761526187954605_2019-12-01.tif, s2_Gunnedah_vickery_150.27155437222632_-30.761526187954605_2020-01-01.tif, Gunnedah_vickery.tif to mapping file\n",
            "Wrote 0068 s2_Gunnedah_vickery_150.27155437222632_-30.761526187954605_2020-01-01.tif, s2_Gunnedah_vickery_150.27155437222632_-30.761526187954605_2020-02-01.tif, Gunnedah_vickery.tif to mapping file\n",
            "Wrote 0069 s2_Gunnedah_vickery_150.27155437222632_-30.761526187954605_2020-02-01.tif, s2_Gunnedah_vickery_150.27155437222632_-30.761526187954605_2020-03-01.tif, Gunnedah_vickery.tif to mapping file\n",
            "Wrote 0070 s2_Gunnedah_vickery_150.27155437222632_-30.761526187954605_2020-03-01.tif, s2_Gunnedah_vickery_150.27155437222632_-30.761526187954605_2020-04-01.tif, Gunnedah_vickery.tif to mapping file\n",
            "Wrote 0071 s2_Gunnedah_vickery_150.27155437222632_-30.761526187954605_2020-04-01.tif, s2_Gunnedah_vickery_150.27155437222632_-30.761526187954605_2020-05-01.tif, Gunnedah_vickery.tif to mapping file\n",
            "Wrote 0072 s2_Gunnedah_vickery_150.27155437222632_-30.761526187954605_2020-05-01.tif, s2_Gunnedah_vickery_150.27155437222632_-30.761526187954605_2020-06-01.tif, Gunnedah_vickery.tif to mapping file\n",
            "Wrote 0073 s2_Gunnedah_vickery_150.27155437222632_-30.761526187954605_2020-06-01.tif, s2_Gunnedah_vickery_150.27155437222632_-30.761526187954605_2020-07-01.tif, Gunnedah_vickery.tif to mapping file\n",
            "Wrote 0074 s2_Gunnedah_vickery_150.27155437222632_-30.761526187954605_2020-07-01.tif, s2_Gunnedah_vickery_150.27155437222632_-30.761526187954605_2020-08-01.tif, Gunnedah_vickery.tif to mapping file\n",
            "Wrote 0075 s2_Gunnedah_vickery_150.27155437222632_-30.761526187954605_2020-08-01.tif, s2_Gunnedah_vickery_150.27155437222632_-30.761526187954605_2020-09-01.tif, Gunnedah_vickery.tif to mapping file\n",
            "Wrote 0076 s2_Gunnedah_vickery_150.27155437222632_-30.761526187954605_2020-09-01.tif, s2_Gunnedah_vickery_150.27155437222632_-30.761526187954605_2020-10-01.tif, Gunnedah_vickery.tif to mapping file\n",
            "Wrote 0077 s2_Gunnedah_vickery_150.27155437222632_-30.761526187954605_2020-10-01.tif, s2_Gunnedah_vickery_150.27155437222632_-30.761526187954605_2020-11-01.tif, Gunnedah_vickery.tif to mapping file\n",
            "Wrote 0078 s2_Gunnedah_vickery_150.27155437222632_-30.761526187954605_2020-11-01.tif, s2_Gunnedah_vickery_150.27155437222632_-30.761526187954605_2020-12-01.tif, Gunnedah_vickery.tif to mapping file\n",
            "Wrote 0079 s2_Gunnedah_west_150.20090234050477_-30.95199350557367_2018-12-01.tif, s2_Gunnedah_west_150.20090234050477_-30.95199350557367_2019-01-01.tif, Gunnedah_west.tif to mapping file\n",
            "Wrote 0080 s2_Gunnedah_west_150.20090234050477_-30.95199350557367_2019-01-01.tif, s2_Gunnedah_west_150.20090234050477_-30.95199350557367_2019-02-01.tif, Gunnedah_west.tif to mapping file\n",
            "Wrote 0081 s2_Gunnedah_west_150.20090234050477_-30.95199350557367_2019-02-01.tif, s2_Gunnedah_west_150.20090234050477_-30.95199350557367_2019-05-01.tif, Gunnedah_west.tif to mapping file\n",
            "Wrote 0082 s2_Gunnedah_west_150.20090234050477_-30.95199350557367_2019-05-01.tif, s2_Gunnedah_west_150.20090234050477_-30.95199350557367_2019-06-01.tif, Gunnedah_west.tif to mapping file\n",
            "Wrote 0083 s2_Gunnedah_west_150.20090234050477_-30.95199350557367_2019-06-01.tif, s2_Gunnedah_west_150.20090234050477_-30.95199350557367_2019-07-01.tif, Gunnedah_west.tif to mapping file\n",
            "Wrote 0084 s2_Gunnedah_west_150.20090234050477_-30.95199350557367_2019-07-01.tif, s2_Gunnedah_west_150.20090234050477_-30.95199350557367_2019-08-01.tif, Gunnedah_west.tif to mapping file\n",
            "Wrote 0085 s2_Gunnedah_west_150.20090234050477_-30.95199350557367_2019-08-01.tif, s2_Gunnedah_west_150.20090234050477_-30.95199350557367_2019-12-01.tif, Gunnedah_west.tif to mapping file\n",
            "Wrote 0086 s2_Gunnedah_west_150.20090234050477_-30.95199350557367_2019-12-01.tif, s2_Gunnedah_west_150.20090234050477_-30.95199350557367_2020-01-01.tif, Gunnedah_west.tif to mapping file\n",
            "Wrote 0087 s2_Gunnedah_west_150.20090234050477_-30.95199350557367_2020-01-01.tif, s2_Gunnedah_west_150.20090234050477_-30.95199350557367_2020-02-01.tif, Gunnedah_west.tif to mapping file\n",
            "Wrote 0088 s2_Gunnedah_west_150.20090234050477_-30.95199350557367_2020-02-01.tif, s2_Gunnedah_west_150.20090234050477_-30.95199350557367_2020-03-01.tif, Gunnedah_west.tif to mapping file\n",
            "Wrote 0089 s2_Gunnedah_west_150.20090234050477_-30.95199350557367_2020-03-01.tif, s2_Gunnedah_west_150.20090234050477_-30.95199350557367_2020-04-01.tif, Gunnedah_west.tif to mapping file\n",
            "Wrote 0090 s2_Gunnedah_west_150.20090234050477_-30.95199350557367_2020-04-01.tif, s2_Gunnedah_west_150.20090234050477_-30.95199350557367_2020-05-01.tif, Gunnedah_west.tif to mapping file\n",
            "Wrote 0091 s2_Gunnedah_west_150.20090234050477_-30.95199350557367_2020-05-01.tif, s2_Gunnedah_west_150.20090234050477_-30.95199350557367_2020-06-01.tif, Gunnedah_west.tif to mapping file\n",
            "Wrote 0092 s2_Gunnedah_west_150.20090234050477_-30.95199350557367_2020-06-01.tif, s2_Gunnedah_west_150.20090234050477_-30.95199350557367_2020-07-01.tif, Gunnedah_west.tif to mapping file\n",
            "Wrote 0093 s2_Gunnedah_west_150.20090234050477_-30.95199350557367_2020-07-01.tif, s2_Gunnedah_west_150.20090234050477_-30.95199350557367_2020-08-01.tif, Gunnedah_west.tif to mapping file\n",
            "Wrote 0094 s2_Gunnedah_west_150.20090234050477_-30.95199350557367_2020-08-01.tif, s2_Gunnedah_west_150.20090234050477_-30.95199350557367_2020-09-01.tif, Gunnedah_west.tif to mapping file\n",
            "Wrote 0095 s2_Gunnedah_west_150.20090234050477_-30.95199350557367_2020-09-01.tif, s2_Gunnedah_west_150.20090234050477_-30.95199350557367_2020-10-01.tif, Gunnedah_west.tif to mapping file\n",
            "Wrote 0096 s2_Gunnedah_west_150.20090234050477_-30.95199350557367_2020-10-01.tif, s2_Gunnedah_west_150.20090234050477_-30.95199350557367_2020-11-01.tif, Gunnedah_west.tif to mapping file\n",
            "Wrote 0097 s2_Gunnedah_west_150.20090234050477_-30.95199350557367_2020-11-01.tif, s2_Gunnedah_west_150.20090234050477_-30.95199350557367_2020-12-01.tif, Gunnedah_west.tif to mapping file\n",
            "Wrote 0098 s2_Maules Creek_150.1189704360766_-30.55877474487686_2019-02-01.tif, s2_Maules Creek_150.1189704360766_-30.55877474487686_2019-04-01.tif, Maules Creek.tif to mapping file\n",
            "Wrote 0099 s2_Maules Creek_150.1189704360766_-30.55877474487686_2019-04-01.tif, s2_Maules Creek_150.1189704360766_-30.55877474487686_2019-05-01.tif, Maules Creek.tif to mapping file\n",
            "Wrote 0100 s2_Maules Creek_150.1189704360766_-30.55877474487686_2019-05-01.tif, s2_Maules Creek_150.1189704360766_-30.55877474487686_2019-06-01.tif, Maules Creek.tif to mapping file\n",
            "Wrote 0101 s2_Maules Creek_150.1189704360766_-30.55877474487686_2019-06-01.tif, s2_Maules Creek_150.1189704360766_-30.55877474487686_2019-07-01.tif, Maules Creek.tif to mapping file\n",
            "Wrote 0102 s2_Maules Creek_150.1189704360766_-30.55877474487686_2019-07-01.tif, s2_Maules Creek_150.1189704360766_-30.55877474487686_2019-08-01.tif, Maules Creek.tif to mapping file\n",
            "Wrote 0103 s2_Maules Creek_150.1189704360766_-30.55877474487686_2019-08-01.tif, s2_Maules Creek_150.1189704360766_-30.55877474487686_2019-09-01.tif, Maules Creek.tif to mapping file\n",
            "Wrote 0104 s2_Maules Creek_150.1189704360766_-30.55877474487686_2019-09-01.tif, s2_Maules Creek_150.1189704360766_-30.55877474487686_2019-11-01.tif, Maules Creek.tif to mapping file\n",
            "Wrote 0105 s2_Maules Creek_150.1189704360766_-30.55877474487686_2019-11-01.tif, s2_Maules Creek_150.1189704360766_-30.55877474487686_2019-12-01.tif, Maules Creek.tif to mapping file\n",
            "Wrote 0106 s2_Maules Creek_150.1189704360766_-30.55877474487686_2019-12-01.tif, s2_Maules Creek_150.1189704360766_-30.55877474487686_2020-01-01.tif, Maules Creek.tif to mapping file\n",
            "Wrote 0107 s2_Maules Creek_150.1189704360766_-30.55877474487686_2020-01-01.tif, s2_Maules Creek_150.1189704360766_-30.55877474487686_2020-02-01.tif, Maules Creek.tif to mapping file\n",
            "Wrote 0108 s2_Maules Creek_150.1189704360766_-30.55877474487686_2020-02-01.tif, s2_Maules Creek_150.1189704360766_-30.55877474487686_2020-03-01.tif, Maules Creek.tif to mapping file\n",
            "Wrote 0109 s2_Maules Creek_150.1189704360766_-30.55877474487686_2020-03-01.tif, s2_Maules Creek_150.1189704360766_-30.55877474487686_2020-04-01.tif, Maules Creek.tif to mapping file\n",
            "Wrote 0110 s2_Maules Creek_150.1189704360766_-30.55877474487686_2020-04-01.tif, s2_Maules Creek_150.1189704360766_-30.55877474487686_2020-05-01.tif, Maules Creek.tif to mapping file\n",
            "Wrote 0111 s2_Maules Creek_150.1189704360766_-30.55877474487686_2020-05-01.tif, s2_Maules Creek_150.1189704360766_-30.55877474487686_2020-06-01.tif, Maules Creek.tif to mapping file\n",
            "Wrote 0112 s2_Maules Creek_150.1189704360766_-30.55877474487686_2020-06-01.tif, s2_Maules Creek_150.1189704360766_-30.55877474487686_2020-07-01.tif, Maules Creek.tif to mapping file\n",
            "Wrote 0113 s2_Maules Creek_150.1189704360766_-30.55877474487686_2020-07-01.tif, s2_Maules Creek_150.1189704360766_-30.55877474487686_2020-08-01.tif, Maules Creek.tif to mapping file\n",
            "Wrote 0114 s2_Maules Creek_150.1189704360766_-30.55877474487686_2020-08-01.tif, s2_Maules Creek_150.1189704360766_-30.55877474487686_2020-09-01.tif, Maules Creek.tif to mapping file\n",
            "Wrote 0115 s2_Maules Creek_150.1189704360766_-30.55877474487686_2020-09-01.tif, s2_Maules Creek_150.1189704360766_-30.55877474487686_2020-10-01.tif, Maules Creek.tif to mapping file\n",
            "Wrote 0116 s2_Maules Creek_150.1189704360766_-30.55877474487686_2020-10-01.tif, s2_Maules Creek_150.1189704360766_-30.55877474487686_2020-11-01.tif, Maules Creek.tif to mapping file\n",
            "Wrote 0117 s2_Maules Creek_150.1189704360766_-30.55877474487686_2020-11-01.tif, s2_Maules Creek_150.1189704360766_-30.55877474487686_2020-12-01.tif, Maules Creek.tif to mapping file\n",
            "Wrote 0118 s2_Maules Creek_alt_150.1189704360766_-30.55877474487686_2018-12-01.tif, s2_Maules Creek_alt_150.1189704360766_-30.55877474487686_2019-01-01.tif, Maules Creek_alt.tif to mapping file\n",
            "Wrote 0119 s2_Maules Creek_alt_150.1189704360766_-30.55877474487686_2019-01-01.tif, s2_Maules Creek_alt_150.1189704360766_-30.55877474487686_2019-03-01.tif, Maules Creek_alt.tif to mapping file\n",
            "Wrote 0120 s2_Maules Creek_alt_150.1189704360766_-30.55877474487686_2019-03-01.tif, s2_Maules Creek_alt_150.1189704360766_-30.55877474487686_2019-10-01.tif, Maules Creek_alt.tif to mapping file\n",
            "Wrote 0121 s2_Mianchi_111.628344391967_34.8216271574413_2018-12-01.tif, s2_Mianchi_111.628344391967_34.8216271574413_2019-03-01.tif, Mianchi.tif to mapping file\n",
            "Wrote 0122 s2_Mianchi_111.628344391967_34.8216271574413_2019-03-01.tif, s2_Mianchi_111.628344391967_34.8216271574413_2019-04-01.tif, Mianchi.tif to mapping file\n",
            "Wrote 0123 s2_Mianchi_111.628344391967_34.8216271574413_2019-04-01.tif, s2_Mianchi_111.628344391967_34.8216271574413_2019-05-01.tif, Mianchi.tif to mapping file\n",
            "Wrote 0124 s2_Mianchi_111.628344391967_34.8216271574413_2019-05-01.tif, s2_Mianchi_111.628344391967_34.8216271574413_2019-06-01.tif, Mianchi.tif to mapping file\n",
            "Wrote 0125 s2_Mianchi_111.628344391967_34.8216271574413_2019-06-01.tif, s2_Mianchi_111.628344391967_34.8216271574413_2019-07-01.tif, Mianchi.tif to mapping file\n",
            "Wrote 0126 s2_Mianchi_111.628344391967_34.8216271574413_2019-07-01.tif, s2_Mianchi_111.628344391967_34.8216271574413_2019-08-01.tif, Mianchi.tif to mapping file\n",
            "Wrote 0127 s2_Mianchi_111.628344391967_34.8216271574413_2019-08-01.tif, s2_Mianchi_111.628344391967_34.8216271574413_2019-09-01.tif, Mianchi.tif to mapping file\n",
            "Wrote 0128 s2_Mianchi_111.628344391967_34.8216271574413_2019-09-01.tif, s2_Mianchi_111.628344391967_34.8216271574413_2020-02-01.tif, Mianchi.tif to mapping file\n",
            "Wrote 0129 s2_Mianchi_111.628344391967_34.8216271574413_2020-02-01.tif, s2_Mianchi_111.628344391967_34.8216271574413_2020-04-01.tif, Mianchi.tif to mapping file\n",
            "Wrote 0130 s2_Mianchi_111.628344391967_34.8216271574413_2020-04-01.tif, s2_Mianchi_111.628344391967_34.8216271574413_2020-05-01.tif, Mianchi.tif to mapping file\n",
            "Wrote 0131 s2_Mianchi_111.628344391967_34.8216271574413_2020-05-01.tif, s2_Mianchi_111.628344391967_34.8216271574413_2020-06-01.tif, Mianchi.tif to mapping file\n",
            "Wrote 0132 s2_Mianchi_111.628344391967_34.8216271574413_2020-06-01.tif, s2_Mianchi_111.628344391967_34.8216271574413_2020-08-01.tif, Mianchi.tif to mapping file\n",
            "Wrote 0133 s2_Mianchi_111.628344391967_34.8216271574413_2020-08-01.tif, s2_Mianchi_111.628344391967_34.8216271574413_2020-09-01.tif, Mianchi.tif to mapping file\n",
            "Wrote 0134 s2_Mianchi_111.628344391967_34.8216271574413_2020-09-01.tif, s2_Mianchi_111.628344391967_34.8216271574413_2020-10-01.tif, Mianchi.tif to mapping file\n",
            "Wrote 0135 s2_Mianchi_111.628344391967_34.8216271574413_2020-10-01.tif, s2_Mianchi_111.628344391967_34.8216271574413_2020-11-01.tif, Mianchi.tif to mapping file\n",
            "Wrote 0136 s2_Mianchi_111.628344391967_34.8216271574413_2020-11-01.tif, s2_Mianchi_111.628344391967_34.8216271574413_2020-12-01.tif, Mianchi.tif to mapping file\n",
            "Wrote 0137 s2_Moa_gorda_-74.87559263998233_20.608891954354334_2019-05-01.tif, s2_Moa_gorda_-74.87559263998233_20.608891954354334_2019-09-01.tif, Moa_gorda.tif to mapping file\n",
            "Wrote 0138 s2_Moa_gorda_-74.87559263998233_20.608891954354334_2019-09-01.tif, s2_Moa_gorda_-74.87559263998233_20.608891954354334_2020-03-01.tif, Moa_gorda.tif to mapping file\n",
            "Wrote 0139 s2_Moa_gorda_-74.87559263998233_20.608891954354334_2020-03-01.tif, s2_Moa_gorda_-74.87559263998233_20.608891954354334_2020-06-01.tif, Moa_gorda.tif to mapping file\n",
            "Wrote 0140 s2_Moa_sotto_-74.96095939538486_20.58394314899455_2018-12-01.tif, s2_Moa_sotto_-74.96095939538486_20.58394314899455_2019-01-01.tif, Moa_sotto.tif to mapping file\n",
            "Wrote 0141 s2_Moa_sotto_-74.96095939538486_20.58394314899455_2019-01-01.tif, s2_Moa_sotto_-74.96095939538486_20.58394314899455_2019-03-01.tif, Moa_sotto.tif to mapping file\n",
            "Wrote 0142 s2_Moa_sotto_-74.96095939538486_20.58394314899455_2019-03-01.tif, s2_Moa_sotto_-74.96095939538486_20.58394314899455_2019-04-01.tif, Moa_sotto.tif to mapping file\n",
            "Wrote 0143 s2_Moa_sotto_-74.96095939538486_20.58394314899455_2019-04-01.tif, s2_Moa_sotto_-74.96095939538486_20.58394314899455_2019-06-01.tif, Moa_sotto.tif to mapping file\n",
            "Wrote 0144 s2_Moa_sotto_-74.96095939538486_20.58394314899455_2019-06-01.tif, s2_Moa_sotto_-74.96095939538486_20.58394314899455_2019-07-01.tif, Moa_sotto.tif to mapping file\n",
            "Wrote 0145 s2_Moa_sotto_-74.96095939538486_20.58394314899455_2019-07-01.tif, s2_Moa_sotto_-74.96095939538486_20.58394314899455_2019-10-01.tif, Moa_sotto.tif to mapping file\n",
            "Wrote 0146 s2_Moa_sotto_-74.96095939538486_20.58394314899455_2019-10-01.tif, s2_Moa_sotto_-74.96095939538486_20.58394314899455_2019-11-01.tif, Moa_sotto.tif to mapping file\n",
            "Wrote 0147 s2_Moa_sotto_-74.96095939538486_20.58394314899455_2019-11-01.tif, s2_Moa_sotto_-74.96095939538486_20.58394314899455_2019-12-01.tif, Moa_sotto.tif to mapping file\n",
            "Wrote 0148 s2_Moa_sotto_-74.96095939538486_20.58394314899455_2019-12-01.tif, s2_Moa_sotto_-74.96095939538486_20.58394314899455_2020-01-01.tif, Moa_sotto.tif to mapping file\n",
            "Wrote 0149 s2_Moa_sotto_-74.96095939538486_20.58394314899455_2020-01-01.tif, s2_Moa_sotto_-74.96095939538486_20.58394314899455_2020-02-01.tif, Moa_sotto.tif to mapping file\n",
            "Wrote 0150 s2_Moa_sotto_-74.96095939538486_20.58394314899455_2020-02-01.tif, s2_Moa_sotto_-74.96095939538486_20.58394314899455_2020-04-01.tif, Moa_sotto.tif to mapping file\n",
            "Wrote 0151 s2_Moa_sotto_-74.96095939538486_20.58394314899455_2020-04-01.tif, s2_Moa_sotto_-74.96095939538486_20.58394314899455_2020-09-01.tif, Moa_sotto.tif to mapping file\n",
            "Wrote 0152 s2_Narrabri_149.89886856651822_-30.518201859142547_2019-02-01.tif, s2_Narrabri_149.89886856651822_-30.518201859142547_2019-04-01.tif, Narrabri.tif to mapping file\n",
            "Wrote 0153 s2_Narrabri_149.89886856651822_-30.518201859142547_2019-04-01.tif, s2_Narrabri_149.89886856651822_-30.518201859142547_2019-05-01.tif, Narrabri.tif to mapping file\n",
            "Wrote 0154 s2_Narrabri_149.89886856651822_-30.518201859142547_2019-05-01.tif, s2_Narrabri_149.89886856651822_-30.518201859142547_2019-06-01.tif, Narrabri.tif to mapping file\n",
            "Wrote 0155 s2_Narrabri_149.89886856651822_-30.518201859142547_2019-06-01.tif, s2_Narrabri_149.89886856651822_-30.518201859142547_2019-07-01.tif, Narrabri.tif to mapping file\n",
            "Wrote 0156 s2_Narrabri_149.89886856651822_-30.518201859142547_2019-07-01.tif, s2_Narrabri_149.89886856651822_-30.518201859142547_2019-08-01.tif, Narrabri.tif to mapping file\n",
            "Wrote 0157 s2_Narrabri_149.89886856651822_-30.518201859142547_2019-08-01.tif, s2_Narrabri_149.89886856651822_-30.518201859142547_2019-09-01.tif, Narrabri.tif to mapping file\n",
            "Wrote 0158 s2_Narrabri_149.89886856651822_-30.518201859142547_2019-09-01.tif, s2_Narrabri_149.89886856651822_-30.518201859142547_2019-11-01.tif, Narrabri.tif to mapping file\n",
            "Wrote 0159 s2_Narrabri_149.89886856651822_-30.518201859142547_2019-11-01.tif, s2_Narrabri_149.89886856651822_-30.518201859142547_2019-12-01.tif, Narrabri.tif to mapping file\n",
            "Wrote 0160 s2_Narrabri_149.89886856651822_-30.518201859142547_2019-12-01.tif, s2_Narrabri_149.89886856651822_-30.518201859142547_2020-01-01.tif, Narrabri.tif to mapping file\n",
            "Wrote 0161 s2_Narrabri_149.89886856651822_-30.518201859142547_2020-01-01.tif, s2_Narrabri_149.89886856651822_-30.518201859142547_2020-02-01.tif, Narrabri.tif to mapping file\n",
            "Wrote 0162 s2_Narrabri_149.89886856651822_-30.518201859142547_2020-02-01.tif, s2_Narrabri_149.89886856651822_-30.518201859142547_2020-03-01.tif, Narrabri.tif to mapping file\n",
            "Wrote 0163 s2_Narrabri_149.89886856651822_-30.518201859142547_2020-03-01.tif, s2_Narrabri_149.89886856651822_-30.518201859142547_2020-04-01.tif, Narrabri.tif to mapping file\n",
            "Wrote 0164 s2_Narrabri_149.89886856651822_-30.518201859142547_2020-04-01.tif, s2_Narrabri_149.89886856651822_-30.518201859142547_2020-05-01.tif, Narrabri.tif to mapping file\n",
            "Wrote 0165 s2_Narrabri_149.89886856651822_-30.518201859142547_2020-05-01.tif, s2_Narrabri_149.89886856651822_-30.518201859142547_2020-06-01.tif, Narrabri.tif to mapping file\n",
            "Wrote 0166 s2_Narrabri_149.89886856651822_-30.518201859142547_2020-06-01.tif, s2_Narrabri_149.89886856651822_-30.518201859142547_2020-07-01.tif, Narrabri.tif to mapping file\n",
            "Wrote 0167 s2_Narrabri_149.89886856651822_-30.518201859142547_2020-07-01.tif, s2_Narrabri_149.89886856651822_-30.518201859142547_2020-08-01.tif, Narrabri.tif to mapping file\n",
            "Wrote 0168 s2_Narrabri_149.89886856651822_-30.518201859142547_2020-08-01.tif, s2_Narrabri_149.89886856651822_-30.518201859142547_2020-09-01.tif, Narrabri.tif to mapping file\n",
            "Wrote 0169 s2_Narrabri_149.89886856651822_-30.518201859142547_2020-09-01.tif, s2_Narrabri_149.89886856651822_-30.518201859142547_2020-10-01.tif, Narrabri.tif to mapping file\n",
            "Wrote 0170 s2_Narrabri_149.89886856651822_-30.518201859142547_2020-10-01.tif, s2_Narrabri_149.89886856651822_-30.518201859142547_2020-11-01.tif, Narrabri.tif to mapping file\n",
            "Wrote 0171 s2_Narrabri_149.89886856651822_-30.518201859142547_2020-11-01.tif, s2_Narrabri_149.89886856651822_-30.518201859142547_2020-12-01.tif, Narrabri.tif to mapping file\n",
            "Wrote 0172 s2_Narrabri_alt_149.89886856651822_-30.518201859142547_2018-12-01.tif, s2_Narrabri_alt_149.89886856651822_-30.518201859142547_2019-01-01.tif, Narrabri_alt.tif to mapping file\n",
            "Wrote 0173 s2_Narrabri_alt_149.89886856651822_-30.518201859142547_2019-01-01.tif, s2_Narrabri_alt_149.89886856651822_-30.518201859142547_2019-03-01.tif, Narrabri_alt.tif to mapping file\n",
            "Wrote 0174 s2_Narrabri_alt_149.89886856651822_-30.518201859142547_2019-03-01.tif, s2_Narrabri_alt_149.89886856651822_-30.518201859142547_2019-10-01.tif, Narrabri_alt.tif to mapping file\n",
            "Wrote 0175 s2_Olympic Dam_136.8546959572593_-30.43649652805288_2018-12-01.tif, s2_Olympic Dam_136.8546959572593_-30.43649652805288_2019-01-01.tif, Olympic Dam.tif to mapping file\n",
            "Wrote 0176 s2_Olympic Dam_136.8546959572593_-30.43649652805288_2019-01-01.tif, s2_Olympic Dam_136.8546959572593_-30.43649652805288_2019-02-01.tif, Olympic Dam.tif to mapping file\n",
            "Wrote 0177 s2_Olympic Dam_136.8546959572593_-30.43649652805288_2019-02-01.tif, s2_Olympic Dam_136.8546959572593_-30.43649652805288_2019-03-01.tif, Olympic Dam.tif to mapping file\n",
            "Wrote 0178 s2_Olympic Dam_136.8546959572593_-30.43649652805288_2019-03-01.tif, s2_Olympic Dam_136.8546959572593_-30.43649652805288_2019-04-01.tif, Olympic Dam.tif to mapping file\n",
            "Wrote 0179 s2_Olympic Dam_136.8546959572593_-30.43649652805288_2019-04-01.tif, s2_Olympic Dam_136.8546959572593_-30.43649652805288_2019-05-01.tif, Olympic Dam.tif to mapping file\n",
            "Wrote 0180 s2_Olympic Dam_136.8546959572593_-30.43649652805288_2019-05-01.tif, s2_Olympic Dam_136.8546959572593_-30.43649652805288_2019-06-01.tif, Olympic Dam.tif to mapping file\n",
            "Wrote 0181 s2_Olympic Dam_136.8546959572593_-30.43649652805288_2019-06-01.tif, s2_Olympic Dam_136.8546959572593_-30.43649652805288_2019-07-01.tif, Olympic Dam.tif to mapping file\n",
            "Wrote 0182 s2_Olympic Dam_136.8546959572593_-30.43649652805288_2019-07-01.tif, s2_Olympic Dam_136.8546959572593_-30.43649652805288_2019-08-01.tif, Olympic Dam.tif to mapping file\n",
            "Wrote 0183 s2_Olympic Dam_136.8546959572593_-30.43649652805288_2019-08-01.tif, s2_Olympic Dam_136.8546959572593_-30.43649652805288_2019-09-01.tif, Olympic Dam.tif to mapping file\n",
            "Wrote 0184 s2_Olympic Dam_136.8546959572593_-30.43649652805288_2019-09-01.tif, s2_Olympic Dam_136.8546959572593_-30.43649652805288_2019-10-01.tif, Olympic Dam.tif to mapping file\n",
            "Wrote 0185 s2_Olympic Dam_136.8546959572593_-30.43649652805288_2019-10-01.tif, s2_Olympic Dam_136.8546959572593_-30.43649652805288_2019-11-01.tif, Olympic Dam.tif to mapping file\n",
            "Wrote 0186 s2_Olympic Dam_136.8546959572593_-30.43649652805288_2019-11-01.tif, s2_Olympic Dam_136.8546959572593_-30.43649652805288_2019-12-01.tif, Olympic Dam.tif to mapping file\n",
            "Wrote 0187 s2_Olympic Dam_136.8546959572593_-30.43649652805288_2019-12-01.tif, s2_Olympic Dam_136.8546959572593_-30.43649652805288_2020-01-01.tif, Olympic Dam.tif to mapping file\n",
            "Wrote 0188 s2_Olympic Dam_136.8546959572593_-30.43649652805288_2020-01-01.tif, s2_Olympic Dam_136.8546959572593_-30.43649652805288_2020-02-01.tif, Olympic Dam.tif to mapping file\n",
            "Wrote 0189 s2_Olympic Dam_136.8546959572593_-30.43649652805288_2020-02-01.tif, s2_Olympic Dam_136.8546959572593_-30.43649652805288_2020-03-01.tif, Olympic Dam.tif to mapping file\n",
            "Wrote 0190 s2_Olympic Dam_136.8546959572593_-30.43649652805288_2020-03-01.tif, s2_Olympic Dam_136.8546959572593_-30.43649652805288_2020-04-01.tif, Olympic Dam.tif to mapping file\n",
            "Wrote 0191 s2_Olympic Dam_136.8546959572593_-30.43649652805288_2020-04-01.tif, s2_Olympic Dam_136.8546959572593_-30.43649652805288_2020-05-01.tif, Olympic Dam.tif to mapping file\n",
            "Wrote 0192 s2_Olympic Dam_136.8546959572593_-30.43649652805288_2020-05-01.tif, s2_Olympic Dam_136.8546959572593_-30.43649652805288_2020-06-01.tif, Olympic Dam.tif to mapping file\n",
            "Wrote 0193 s2_Olympic Dam_136.8546959572593_-30.43649652805288_2020-06-01.tif, s2_Olympic Dam_136.8546959572593_-30.43649652805288_2020-07-01.tif, Olympic Dam.tif to mapping file\n",
            "Wrote 0194 s2_Olympic Dam_136.8546959572593_-30.43649652805288_2020-07-01.tif, s2_Olympic Dam_136.8546959572593_-30.43649652805288_2020-08-01.tif, Olympic Dam.tif to mapping file\n",
            "Wrote 0195 s2_Olympic Dam_136.8546959572593_-30.43649652805288_2020-08-01.tif, s2_Olympic Dam_136.8546959572593_-30.43649652805288_2020-10-01.tif, Olympic Dam.tif to mapping file\n",
            "Wrote 0196 s2_Olympic Dam_136.8546959572593_-30.43649652805288_2020-10-01.tif, s2_Olympic Dam_136.8546959572593_-30.43649652805288_2020-11-01.tif, Olympic Dam.tif to mapping file\n",
            "Wrote 0197 s2_Olympic Dam_136.8546959572593_-30.43649652805288_2020-11-01.tif, s2_Olympic Dam_136.8546959572593_-30.43649652805288_2020-12-01.tif, Olympic Dam.tif to mapping file\n",
            "Wrote 0198 s2_Pingguo_Anren_107.44572668596695_23.465217482264094_2018-12-01.tif, s2_Pingguo_Anren_107.44572668596695_23.465217482264094_2019-08-01.tif, Pingguo_Anren.tif to mapping file\n",
            "Wrote 0199 s2_Pingguo_Anren_107.44572668596695_23.465217482264094_2019-08-01.tif, s2_Pingguo_Anren_107.44572668596695_23.465217482264094_2019-09-01.tif, Pingguo_Anren.tif to mapping file\n",
            "Wrote 0200 s2_Pingguo_Anren_107.44572668596695_23.465217482264094_2019-09-01.tif, s2_Pingguo_Anren_107.44572668596695_23.465217482264094_2019-12-01.tif, Pingguo_Anren.tif to mapping file\n",
            "Wrote 0201 s2_Pingguo_Anren_107.44572668596695_23.465217482264094_2019-12-01.tif, s2_Pingguo_Anren_107.44572668596695_23.465217482264094_2020-04-01.tif, Pingguo_Anren.tif to mapping file\n",
            "Wrote 0202 s2_Pingguo_Anren_107.44572668596695_23.465217482264094_2020-04-01.tif, s2_Pingguo_Anren_107.44572668596695_23.465217482264094_2020-05-01.tif, Pingguo_Anren.tif to mapping file\n",
            "Wrote 0203 s2_Pingguo_Anren_107.44572668596695_23.465217482264094_2020-05-01.tif, s2_Pingguo_Anren_107.44572668596695_23.465217482264094_2020-10-01.tif, Pingguo_Anren.tif to mapping file\n",
            "Wrote 0204 s2_Pingguo_Anren_107.44572668596695_23.465217482264094_2020-10-01.tif, s2_Pingguo_Anren_107.44572668596695_23.465217482264094_2020-11-01.tif, Pingguo_Anren.tif to mapping file\n",
            "Wrote 0205 s2_Pingguo_Anren_107.44572668596695_23.465217482264094_2020-11-01.tif, s2_Pingguo_Anren_107.44572668596695_23.465217482264094_2020-12-01.tif, Pingguo_Anren.tif to mapping file\n",
            "Wrote 0206 s2_Pingguo_Burong_107.45911210248553_23.436000566583864_2018-12-01.tif, s2_Pingguo_Burong_107.45911210248553_23.436000566583864_2019-09-01.tif, Pingguo_Burong.tif to mapping file\n",
            "Wrote 0207 s2_Pingguo_Burong_107.45911210248553_23.436000566583864_2019-09-01.tif, s2_Pingguo_Burong_107.45911210248553_23.436000566583864_2019-11-01.tif, Pingguo_Burong.tif to mapping file\n",
            "Wrote 0208 s2_Pingguo_Burong_107.45911210248553_23.436000566583864_2019-11-01.tif, s2_Pingguo_Burong_107.45911210248553_23.436000566583864_2019-12-01.tif, Pingguo_Burong.tif to mapping file\n",
            "Wrote 0209 s2_Pingguo_Burong_107.45911210248553_23.436000566583864_2019-12-01.tif, s2_Pingguo_Burong_107.45911210248553_23.436000566583864_2020-04-01.tif, Pingguo_Burong.tif to mapping file\n",
            "Wrote 0210 s2_Pingguo_Burong_107.45911210248553_23.436000566583864_2020-04-01.tif, s2_Pingguo_Burong_107.45911210248553_23.436000566583864_2020-05-01.tif, Pingguo_Burong.tif to mapping file\n",
            "Wrote 0211 s2_Pingguo_Burong_107.45911210248553_23.436000566583864_2020-05-01.tif, s2_Pingguo_Burong_107.45911210248553_23.436000566583864_2020-07-01.tif, Pingguo_Burong.tif to mapping file\n",
            "Wrote 0212 s2_Pingguo_Burong_107.45911210248553_23.436000566583864_2020-07-01.tif, s2_Pingguo_Burong_107.45911210248553_23.436000566583864_2020-10-01.tif, Pingguo_Burong.tif to mapping file\n",
            "Wrote 0213 s2_Pingguo_Burong_107.45911210248553_23.436000566583864_2020-10-01.tif, s2_Pingguo_Burong_107.45911210248553_23.436000566583864_2020-11-01.tif, Pingguo_Burong.tif to mapping file\n",
            "Wrote 0214 s2_Pingguo_Burong_107.45911210248553_23.436000566583864_2020-11-01.tif, s2_Pingguo_Burong_107.45911210248553_23.436000566583864_2020-12-01.tif, Pingguo_Burong.tif to mapping file\n",
            "Wrote 0215 s2_Werris Creek_150.633355555961_-31.3853783732025_2018-12-01.tif, s2_Werris Creek_150.633355555961_-31.3853783732025_2019-01-01.tif, Werris Creek.tif to mapping file\n",
            "Wrote 0216 s2_Werris Creek_150.633355555961_-31.3853783732025_2019-01-01.tif, s2_Werris Creek_150.633355555961_-31.3853783732025_2019-02-01.tif, Werris Creek.tif to mapping file\n",
            "Wrote 0217 s2_Werris Creek_150.633355555961_-31.3853783732025_2019-02-01.tif, s2_Werris Creek_150.633355555961_-31.3853783732025_2019-03-01.tif, Werris Creek.tif to mapping file\n",
            "Wrote 0218 s2_Werris Creek_150.633355555961_-31.3853783732025_2019-03-01.tif, s2_Werris Creek_150.633355555961_-31.3853783732025_2019-04-01.tif, Werris Creek.tif to mapping file\n",
            "Wrote 0219 s2_Werris Creek_150.633355555961_-31.3853783732025_2019-04-01.tif, s2_Werris Creek_150.633355555961_-31.3853783732025_2019-05-01.tif, Werris Creek.tif to mapping file\n",
            "Wrote 0220 s2_Werris Creek_150.633355555961_-31.3853783732025_2019-05-01.tif, s2_Werris Creek_150.633355555961_-31.3853783732025_2019-06-01.tif, Werris Creek.tif to mapping file\n",
            "Wrote 0221 s2_Werris Creek_150.633355555961_-31.3853783732025_2019-06-01.tif, s2_Werris Creek_150.633355555961_-31.3853783732025_2019-07-01.tif, Werris Creek.tif to mapping file\n",
            "Wrote 0222 s2_Werris Creek_150.633355555961_-31.3853783732025_2019-07-01.tif, s2_Werris Creek_150.633355555961_-31.3853783732025_2019-08-01.tif, Werris Creek.tif to mapping file\n",
            "Wrote 0223 s2_Werris Creek_150.633355555961_-31.3853783732025_2019-08-01.tif, s2_Werris Creek_150.633355555961_-31.3853783732025_2019-09-01.tif, Werris Creek.tif to mapping file\n",
            "Wrote 0224 s2_Werris Creek_150.633355555961_-31.3853783732025_2019-09-01.tif, s2_Werris Creek_150.633355555961_-31.3853783732025_2019-10-01.tif, Werris Creek.tif to mapping file\n",
            "Wrote 0225 s2_Werris Creek_150.633355555961_-31.3853783732025_2019-10-01.tif, s2_Werris Creek_150.633355555961_-31.3853783732025_2019-11-01.tif, Werris Creek.tif to mapping file\n",
            "Wrote 0226 s2_Werris Creek_150.633355555961_-31.3853783732025_2019-11-01.tif, s2_Werris Creek_150.633355555961_-31.3853783732025_2019-12-01.tif, Werris Creek.tif to mapping file\n",
            "Wrote 0227 s2_Werris Creek_150.633355555961_-31.3853783732025_2019-12-01.tif, s2_Werris Creek_150.633355555961_-31.3853783732025_2020-01-01.tif, Werris Creek.tif to mapping file\n",
            "Wrote 0228 s2_Werris Creek_150.633355555961_-31.3853783732025_2020-01-01.tif, s2_Werris Creek_150.633355555961_-31.3853783732025_2020-02-01.tif, Werris Creek.tif to mapping file\n",
            "Wrote 0229 s2_Werris Creek_150.633355555961_-31.3853783732025_2020-02-01.tif, s2_Werris Creek_150.633355555961_-31.3853783732025_2020-03-01.tif, Werris Creek.tif to mapping file\n",
            "Wrote 0230 s2_Werris Creek_150.633355555961_-31.3853783732025_2020-03-01.tif, s2_Werris Creek_150.633355555961_-31.3853783732025_2020-04-01.tif, Werris Creek.tif to mapping file\n",
            "Wrote 0231 s2_Werris Creek_150.633355555961_-31.3853783732025_2020-04-01.tif, s2_Werris Creek_150.633355555961_-31.3853783732025_2020-05-01.tif, Werris Creek.tif to mapping file\n",
            "Wrote 0232 s2_Werris Creek_150.633355555961_-31.3853783732025_2020-05-01.tif, s2_Werris Creek_150.633355555961_-31.3853783732025_2020-06-01.tif, Werris Creek.tif to mapping file\n",
            "Wrote 0233 s2_Werris Creek_150.633355555961_-31.3853783732025_2020-06-01.tif, s2_Werris Creek_150.633355555961_-31.3853783732025_2020-07-01.tif, Werris Creek.tif to mapping file\n",
            "Wrote 0234 s2_Werris Creek_150.633355555961_-31.3853783732025_2020-07-01.tif, s2_Werris Creek_150.633355555961_-31.3853783732025_2020-08-01.tif, Werris Creek.tif to mapping file\n",
            "Wrote 0235 s2_Werris Creek_150.633355555961_-31.3853783732025_2020-08-01.tif, s2_Werris Creek_150.633355555961_-31.3853783732025_2020-09-01.tif, Werris Creek.tif to mapping file\n",
            "Wrote 0236 s2_Werris Creek_150.633355555961_-31.3853783732025_2020-09-01.tif, s2_Werris Creek_150.633355555961_-31.3853783732025_2020-10-01.tif, Werris Creek.tif to mapping file\n",
            "Wrote 0237 s2_Werris Creek_150.633355555961_-31.3853783732025_2020-10-01.tif, s2_Werris Creek_150.633355555961_-31.3853783732025_2020-11-01.tif, Werris Creek.tif to mapping file\n"
          ]
        }
      ]
    },
    {
      "cell_type": "markdown",
      "source": [
        "# Compress and Export to Drive"
      ],
      "metadata": {
        "id": "CTFbotrG0x9z"
      }
    },
    {
      "cell_type": "code",
      "source": [
        "import zipfile\n",
        "\n",
        "directory_to_compress = '/content/Jasansky_2023_images/'\n",
        "zip_filename = '/content/Jasansky_2023_images.zip'\n",
        "\n",
        "# Create a zip archive of the directory\n",
        "with zipfile.ZipFile(zip_filename, 'w', zipfile.ZIP_DEFLATED) as zipf:\n",
        "    for root, dirs, files in os.walk(directory_to_compress):\n",
        "        for file_name in files:\n",
        "            file_path = os.path.join(root, file_name)\n",
        "            zipf.write(file_path, os.path.relpath(file_path, directory_to_compress))"
      ],
      "metadata": {
        "id": "Rk6CfYZMQ_pI"
      },
      "execution_count": null,
      "outputs": []
    },
    {
      "cell_type": "code",
      "source": [
        "# Copy the zip archive to Colab\n",
        "destination_colab = '/content/drive/MyDrive/2023_dissertation/dataset_archives/Jasansky_2023_images.zip'\n",
        "shutil.copyfile(zip_filename, destination_colab)"
      ],
      "metadata": {
        "colab": {
          "base_uri": "https://localhost:8080/",
          "height": 35
        },
        "id": "rr2aCCceRBpS",
        "outputId": "8ebb7b7e-b221-440c-f756-79b07acc0230"
      },
      "execution_count": null,
      "outputs": [
        {
          "output_type": "execute_result",
          "data": {
            "text/plain": [
              "'/content/drive/MyDrive/2023_dissertation/dataset_archives/Jasansky_2023_images.zip'"
            ],
            "application/vnd.google.colaboratory.intrinsic+json": {
              "type": "string"
            }
          },
          "metadata": {},
          "execution_count": 10
        }
      ]
    },
    {
      "cell_type": "code",
      "source": [],
      "metadata": {
        "id": "CzUahfD3cUgC"
      },
      "execution_count": null,
      "outputs": []
    }
  ]
}