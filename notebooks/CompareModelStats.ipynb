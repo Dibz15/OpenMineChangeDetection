{
 "cells": [
  {
   "cell_type": "markdown",
   "metadata": {},
   "source": [
    "# Introduction\n",
    "\n",
    "Author: Austin Dibble\n",
    "\n",
    "This notebook file was used to compare the performance of different trained versions of the model architectures."
   ]
  },
  {
   "cell_type": "markdown",
   "metadata": {},
   "source": [
    "# Import code and dataset"
   ]
  },
  {
   "cell_type": "code",
   "execution_count": 1,
   "metadata": {
    "colab": {
     "base_uri": "https://localhost:8080/"
    },
    "execution": {
     "iopub.execute_input": "2023-08-03T16:58:50.802333Z",
     "iopub.status.busy": "2023-08-03T16:58:50.801583Z",
     "iopub.status.idle": "2023-08-03T16:58:58.568751Z",
     "shell.execute_reply": "2023-08-03T16:58:58.568032Z",
     "shell.execute_reply.started": "2023-08-03T16:58:50.802294Z"
    },
    "id": "HwJODee0yjao",
    "outputId": "453bfe96-9f60-40ae-82ad-c7b001ffaefc"
   },
   "outputs": [
    {
     "name": "stdout",
     "output_type": "stream",
     "text": [
      "fatal: destination path 'OpenMineChangeDetection' already exists and is not an empty directory.\n"
     ]
    }
   ],
   "source": [
    "!git clone https://github.com/Dibz15/OpenMineChangeDetection.git\n",
    "import sys\n",
    "sys.path.append('/content/OpenMineChangeDetection/')"
   ]
  },
  {
   "cell_type": "code",
   "execution_count": null,
   "metadata": {},
   "outputs": [],
   "source": [
    "from OpenMineChangeDetection.utils import download_prep_oms2cd\n",
    "download_prep_oms2cd(output_dir='OMS2CD')"
   ]
  },
  {
   "cell_type": "markdown",
   "metadata": {},
   "source": [
    "# Install dependences"
   ]
  },
  {
   "cell_type": "code",
   "execution_count": 2,
   "metadata": {
    "execution": {
     "iopub.execute_input": "2023-08-03T16:30:29.334424Z",
     "iopub.status.busy": "2023-08-03T16:30:29.334179Z",
     "iopub.status.idle": "2023-08-03T16:30:56.528400Z",
     "shell.execute_reply": "2023-08-03T16:30:56.527429Z",
     "shell.execute_reply.started": "2023-08-03T16:30:29.334405Z"
    },
    "id": "WndgIba1ynpF"
   },
   "outputs": [],
   "source": [
    "%%capture\n",
    "!pip install rasterio==1.3.8\n",
    "!pip install torchgeo==0.4.1\n",
    "!pip install tiler==0.5.7\n",
    "!pip install kornia==0.6.12\n",
    "!pip install lightning==1.9.5\n",
    "!pip install torchmetrics==0.11.4"
   ]
  },
  {
   "cell_type": "markdown",
   "metadata": {},
   "source": [
    "# Seed random, set device"
   ]
  },
  {
   "cell_type": "code",
   "execution_count": 2,
   "metadata": {
    "execution": {
     "iopub.execute_input": "2023-08-03T16:58:59.660030Z",
     "iopub.status.busy": "2023-08-03T16:58:59.659331Z",
     "iopub.status.idle": "2023-08-03T16:59:00.206388Z",
     "shell.execute_reply": "2023-08-03T16:59:00.205726Z",
     "shell.execute_reply.started": "2023-08-03T16:58:59.659999Z"
    },
    "id": "cI5_3iAFzuKo"
   },
   "outputs": [],
   "source": [
    "import os\n",
    "import torch\n",
    "import random\n",
    "import numpy as np\n",
    "\n",
    "if torch.cuda.is_available():\n",
    "  device = torch.device('cuda')\n",
    "else:\n",
    "  device = torch.device('cpu')\n",
    "\n",
    "torch.manual_seed(543)\n",
    "if torch.cuda.is_available():\n",
    "    torch.cuda.manual_seed_all(543)\n",
    "random.seed(543)\n",
    "np.random.seed(543)"
   ]
  },
  {
   "cell_type": "markdown",
   "metadata": {},
   "source": [
    "# Prepare dataloader"
   ]
  },
  {
   "cell_type": "code",
   "execution_count": 3,
   "metadata": {
    "execution": {
     "iopub.execute_input": "2023-08-03T16:59:01.578704Z",
     "iopub.status.busy": "2023-08-03T16:59:01.578178Z",
     "iopub.status.idle": "2023-08-03T16:59:05.544216Z",
     "shell.execute_reply": "2023-08-03T16:59:05.543289Z",
     "shell.execute_reply.started": "2023-08-03T16:59:01.578682Z"
    },
    "id": "w_IiRHUl0P8Y"
   },
   "outputs": [],
   "source": [
    "from OpenMineChangeDetection.datasets import OMS2CDDataModule\n",
    "from torchgeo.transforms import AugmentationSequential\n",
    "import kornia.augmentation as K\n",
    "from OpenMineChangeDetection.ddpm_cd.ddpm_lightning import CD\n",
    "\n",
    "datamodule = OMS2CDDataModule(root='OMS2CD', bands='rgb', load_area_mask=False,\n",
    "                              batch_size=1, tile_mode=\"constant\", index_no_mask=False, stride=100)\n",
    "datamodule.setup('fit')\n",
    "datamodule.setup('validate')\n",
    "datamodule.setup('test')"
   ]
  },
  {
   "cell_type": "markdown",
   "metadata": {},
   "source": [
    "# Define model loading functions"
   ]
  },
  {
   "cell_type": "code",
   "execution_count": 8,
   "metadata": {
    "execution": {
     "iopub.execute_input": "2023-08-03T16:41:50.912728Z",
     "iopub.status.busy": "2023-08-03T16:41:50.910754Z",
     "iopub.status.idle": "2023-08-03T16:41:50.918393Z",
     "shell.execute_reply": "2023-08-03T16:41:50.917643Z",
     "shell.execute_reply.started": "2023-08-03T16:41:50.912703Z"
    }
   },
   "outputs": [],
   "source": [
    "\n",
    "\n",
    "def get_mask_preds_ddpmcd(model, batch, device):\n",
    "    batch = {k: v.to(device) for k,v in batch.items() if isinstance(v, torch.Tensor)}\n",
    "    batch = datamodule.aug(batch)\n",
    "\n",
    "    mask_pred = model(batch)\n",
    "    # mask_pred = torch.argmax(mask_pred, dim=1, keepdim=False)\n",
    "    mask_pred_prob = torch.softmax(mask_pred, dim=1)\n",
    "    # mask_pred_val, mask_pred_idx = torch.max(mask_pred, 1)\n",
    "    mask_pred_prob_class1 = mask_pred_prob[:, 1, :, :]\n",
    "    return mask_pred_prob_class1, batch['mask']"
   ]
  },
  {
   "cell_type": "code",
   "execution_count": 12,
   "metadata": {
    "execution": {
     "iopub.execute_input": "2023-08-03T16:49:06.580543Z",
     "iopub.status.busy": "2023-08-03T16:49:06.580019Z",
     "iopub.status.idle": "2023-08-03T16:49:06.587654Z",
     "shell.execute_reply": "2023-08-03T16:49:06.586971Z",
     "shell.execute_reply.started": "2023-08-03T16:49:06.580542Z"
    },
    "id": "u6GReVyZ2mor"
   },
   "outputs": [],
   "source": [
    "def get_mask_preds_tinycd(model, batch, device):\n",
    "    batch = {k: v.to(device) for k,v in batch.items() if isinstance(v, torch.Tensor)}\n",
    "    batch = datamodule.aug(batch)\n",
    "    mask_pred = model(batch['image']).squeeze(1)\n",
    "    mask_target = batch['mask']\n",
    "    return mask_pred, mask_target\n",
    "\n",
    "def get_mask_preds_lsnet(model, batch, device):\n",
    "    batch = {k: v.to(device) for k,v in batch.items() if isinstance(v, torch.Tensor)}\n",
    "    batch = datamodule.aug(batch)\n",
    "    mask_pred = model(batch)\n",
    "    mask_pred = mask_pred[-1]\n",
    "    mask_pred_prob = torch.softmax(mask_pred, dim=1)\n",
    "    # mask_pred_val, mask_pred_idx = torch.max(mask_pred, 1)\n",
    "    mask_pred_prob_class1 = mask_pred_prob[:, 1, :, :]\n",
    "    return mask_pred_prob_class1, batch['mask']"
   ]
  },
  {
   "cell_type": "code",
   "execution_count": 10,
   "metadata": {
    "execution": {
     "iopub.execute_input": "2023-07-20T12:32:31.490937Z",
     "iopub.status.busy": "2023-07-20T12:32:31.490727Z",
     "iopub.status.idle": "2023-07-20T12:32:31.497251Z",
     "shell.execute_reply": "2023-07-20T12:32:31.496547Z",
     "shell.execute_reply.started": "2023-07-20T12:32:31.490917Z"
    },
    "id": "fJwwaFMfFmmo"
   },
   "outputs": [],
   "source": [
    "import matplotlib.pyplot as plt\n",
    "from OpenMineChangeDetection.utils import load_tinycd, load_lsnet, load_ddpmcd, load_ddpmcd_oms2cd\n",
    "from OpenMineChangeDetection.utils import evaluate_model, plot_pr_curve\n",
    "\n",
    "def plot_masks(output, target, threshold):\n",
    "    # Convert tensors to numpy arrays\n",
    "    output = output.detach().cpu().numpy()\n",
    "    target = target.detach().cpu().numpy()\n",
    "\n",
    "    # Threshold output to create binary mask\n",
    "    output = output > threshold\n",
    "\n",
    "    # Select the first image\n",
    "    output_img = output[0]\n",
    "    target_img = target[0]\n",
    "\n",
    "    # Create a figure with two subplots\n",
    "    fig, axs = plt.subplots(1, 2, figsize=(12, 6))\n",
    "\n",
    "    # Plot the output mask in the first subplot\n",
    "    axs[0].imshow(output_img, cmap='gray')\n",
    "    axs[0].set_title('Output')\n",
    "\n",
    "    # Plot the target mask in the second subplot\n",
    "    axs[1].imshow(target_img, cmap='gray')\n",
    "    axs[1].set_title('Target')\n",
    "\n",
    "    # Remove the x and y ticks\n",
    "    for ax in axs:\n",
    "        ax.set_xticks([])\n",
    "        ax.set_yticks([])\n",
    "\n",
    "    plt.show()"
   ]
  },
  {
   "cell_type": "markdown",
   "metadata": {},
   "source": [
    "# Define testing functions"
   ]
  },
  {
   "cell_type": "code",
   "execution_count": 12,
   "metadata": {
    "execution": {
     "iopub.execute_input": "2023-07-20T12:32:31.509591Z",
     "iopub.status.busy": "2023-07-20T12:32:31.509325Z",
     "iopub.status.idle": "2023-07-20T12:32:31.752259Z",
     "shell.execute_reply": "2023-07-20T12:32:31.751461Z",
     "shell.execute_reply.started": "2023-07-20T12:32:31.509568Z"
    },
    "id": "EJDCc5HIa5HW"
   },
   "outputs": [],
   "source": [
    "import os\n",
    "import pandas as pd\n",
    "import torch\n",
    "import torchmetrics\n",
    "from tqdm import tqdm\n",
    "\n",
    "def test_model_dir(weights_dir, load_model_func, proc_func, dataloader, device, threshold=0.3):\n",
    "    # Initialize an empty DataFrame to store the stats\n",
    "    stats_list = []\n",
    "    for filename in os.listdir(weights_dir):\n",
    "        if filename.endswith('.pt') or filename.endswith('.pth'):\n",
    "            p = os.path.join(weights_dir, filename)\n",
    "            print(f'Loading model from {p} and evaluating.')\n",
    "            model = load_model_func(p, device)\n",
    "            stats = evaluate_model(model, dataloader, proc_func, device, threshold)\n",
    "            stats['weights_file'] = filename\n",
    "            del stats['PRC']\n",
    "            stats_list.append(stats)\n",
    "            # break\n",
    "    df = pd.DataFrame(stats_list)\n",
    "    # Sort the DataFrame by F1 score in descending order\n",
    "    df = df.sort_values('F1', ascending=False)\n",
    "    return df\n",
    "\n",
    "def test_model_dir_recursive(weights_dir, load_model_func, proc_func, dataloader, device, threshold=0.3):\n",
    "    # Initialize an empty DataFrame to store the stats\n",
    "    stats_list = []\n",
    "\n",
    "    # Use os.walk to recursively search for .ckpt files\n",
    "    for root, _, files in os.walk(weights_dir):\n",
    "        for filename in sorted(files):\n",
    "            if filename.endswith('.ckpt'):\n",
    "                # Get the full path to the file\n",
    "                filepath = os.path.join(root, filename)\n",
    "                print(f'Loading model from {filepath} and evaluating.')\n",
    "\n",
    "                model = load_model_func(filepath, device)\n",
    "                stats = evaluate_model(model, dataloader, proc_func, device, threshold)\n",
    "                stats['weights_path'] = filepath\n",
    "                del stats['PRC']\n",
    "\n",
    "                stats_list.append(stats)\n",
    "\n",
    "    # Convert the list of stats to a DataFrame\n",
    "    df = pd.DataFrame(stats_list)\n",
    "\n",
    "    # Sort the DataFrame by F1 score in descending order\n",
    "    df = df.sort_values('F1', ascending=False)\n",
    "\n",
    "    return df"
   ]
  },
  {
   "cell_type": "markdown",
   "metadata": {},
   "source": [
    "# Test DDPM-CD"
   ]
  },
  {
   "cell_type": "code",
   "execution_count": 18,
   "metadata": {
    "colab": {
     "base_uri": "https://localhost:8080/"
    },
    "execution": {
     "iopub.execute_input": "2023-07-19T08:18:17.745540Z",
     "iopub.status.busy": "2023-07-19T08:18:17.744989Z",
     "iopub.status.idle": "2023-07-19T09:33:04.894399Z",
     "shell.execute_reply": "2023-07-19T09:33:04.892853Z",
     "shell.execute_reply.started": "2023-07-19T08:18:17.745514Z"
    },
    "id": "BgmDrzwfgl2b",
    "outputId": "5d8b5153-9a7f-4348-bd3b-7d57b2275e3f"
   },
   "outputs": [
    {
     "name": "stdout",
     "output_type": "stream",
     "text": [
      "Loading model from ./experiments/ddpm-RS-CDHead-OMS2CD_230715_192507/checkpoint/cd_model_epoch=31-val_loss=0.03.ckpt and evaluating.\n",
      "Loading DDPM gen state dict from diffusion_weights/I190000_E97_gen.pth\n"
     ]
    },
    {
     "name": "stderr",
     "output_type": "stream",
     "text": [
      "100%|██████████| 203/203 [03:10<00:00,  1.07it/s]\n"
     ]
    },
    {
     "name": "stdout",
     "output_type": "stream",
     "text": [
      "Loading model from ./experiments/ddpm-RS-CDHead-OMS2CD_230715_192507/checkpoint/last.ckpt and evaluating.\n",
      "Loading DDPM gen state dict from diffusion_weights/I190000_E97_gen.pth\n"
     ]
    },
    {
     "name": "stderr",
     "output_type": "stream",
     "text": [
      "100%|██████████| 203/203 [03:09<00:00,  1.07it/s]\n"
     ]
    },
    {
     "name": "stdout",
     "output_type": "stream",
     "text": [
      "Loading model from ./experiments/ddpm-RS-CDHead-OMS2CD_230715_130727/checkpoint/cd_model_epoch=13-val_loss=0.04.ckpt and evaluating.\n",
      "Loading DDPM gen state dict from diffusion_weights/I190000_E97_gen.pth\n"
     ]
    },
    {
     "name": "stderr",
     "output_type": "stream",
     "text": [
      "100%|██████████| 203/203 [03:10<00:00,  1.07it/s]\n"
     ]
    },
    {
     "name": "stdout",
     "output_type": "stream",
     "text": [
      "Loading model from ./experiments/ddpm-RS-CDHead-OMS2CD_230715_130727/checkpoint/last.ckpt and evaluating.\n",
      "Loading DDPM gen state dict from diffusion_weights/I190000_E97_gen.pth\n"
     ]
    },
    {
     "name": "stderr",
     "output_type": "stream",
     "text": [
      "100%|██████████| 203/203 [03:10<00:00,  1.06it/s]\n"
     ]
    },
    {
     "name": "stdout",
     "output_type": "stream",
     "text": [
      "Loading model from ./experiments/ddpm-RS-CDHead-OMS2CD_230717_213446/checkpoint/cd_model_ft_epoch=18-val_loss=0.05.ckpt and evaluating.\n",
      "Loading DDPM gen state dict from diffusion_weights/I190000_E97_gen.pth\n"
     ]
    },
    {
     "name": "stderr",
     "output_type": "stream",
     "text": [
      "100%|██████████| 203/203 [03:10<00:00,  1.07it/s]\n"
     ]
    },
    {
     "name": "stdout",
     "output_type": "stream",
     "text": [
      "Loading model from ./experiments/ddpm-RS-CDHead-OMS2CD_230717_213446/checkpoint/cd_model_ft_epoch=21-val_loss=0.05.ckpt and evaluating.\n",
      "Loading DDPM gen state dict from diffusion_weights/I190000_E97_gen.pth\n"
     ]
    },
    {
     "name": "stderr",
     "output_type": "stream",
     "text": [
      "100%|██████████| 203/203 [03:09<00:00,  1.07it/s]\n"
     ]
    },
    {
     "name": "stdout",
     "output_type": "stream",
     "text": [
      "Loading model from ./experiments/ddpm-RS-CDHead-OMS2CD_230717_213446/checkpoint/last.ckpt and evaluating.\n",
      "Loading DDPM gen state dict from diffusion_weights/I190000_E97_gen.pth\n"
     ]
    },
    {
     "name": "stderr",
     "output_type": "stream",
     "text": [
      "100%|██████████| 203/203 [03:10<00:00,  1.07it/s]\n"
     ]
    },
    {
     "name": "stdout",
     "output_type": "stream",
     "text": [
      "Loading model from ./experiments/ddpm-RS-CDHead-OMS2CD_230716_161457/checkpoint/last.ckpt and evaluating.\n",
      "Loading DDPM gen state dict from diffusion_weights/I190000_E97_gen.pth\n"
     ]
    },
    {
     "name": "stderr",
     "output_type": "stream",
     "text": [
      "100%|██████████| 203/203 [03:10<00:00,  1.06it/s]\n"
     ]
    },
    {
     "name": "stdout",
     "output_type": "stream",
     "text": [
      "Loading model from ./experiments/ddpm-RS-CDHead-OMS2CD_230716_173018/checkpoint/cd_model_ft_epoch=28-val_loss=0.03.ckpt and evaluating.\n",
      "Loading DDPM gen state dict from diffusion_weights/I190000_E97_gen.pth\n"
     ]
    },
    {
     "name": "stderr",
     "output_type": "stream",
     "text": [
      "100%|██████████| 203/203 [03:09<00:00,  1.07it/s]\n"
     ]
    },
    {
     "name": "stdout",
     "output_type": "stream",
     "text": [
      "Loading model from ./experiments/ddpm-RS-CDHead-OMS2CD_230716_173018/checkpoint/cd_model_ft_epoch=34-val_loss=0.03.ckpt and evaluating.\n",
      "Loading DDPM gen state dict from diffusion_weights/I190000_E97_gen.pth\n"
     ]
    },
    {
     "name": "stderr",
     "output_type": "stream",
     "text": [
      "100%|██████████| 203/203 [03:10<00:00,  1.07it/s]\n"
     ]
    },
    {
     "name": "stdout",
     "output_type": "stream",
     "text": [
      "Loading model from ./experiments/ddpm-RS-CDHead-OMS2CD_230717_161842/checkpoint/cd_model_ft_epoch=10-val_loss=0.06.ckpt and evaluating.\n",
      "Loading DDPM gen state dict from diffusion_weights/I190000_E97_gen.pth\n"
     ]
    },
    {
     "name": "stderr",
     "output_type": "stream",
     "text": [
      "100%|██████████| 203/203 [03:10<00:00,  1.06it/s]\n"
     ]
    },
    {
     "name": "stdout",
     "output_type": "stream",
     "text": [
      "Loading model from ./experiments/ddpm-RS-CDHead-OMS2CD_230717_161842/checkpoint/last.ckpt and evaluating.\n",
      "Loading DDPM gen state dict from diffusion_weights/I190000_E97_gen.pth\n"
     ]
    },
    {
     "name": "stderr",
     "output_type": "stream",
     "text": [
      "100%|██████████| 203/203 [03:12<00:00,  1.06it/s]\n"
     ]
    },
    {
     "name": "stdout",
     "output_type": "stream",
     "text": [
      "Loading model from ./experiments/ddpm-RS-CDHead-OMS2CD_230718_183929/checkpoint/cd_model_ft_epoch=14-val_loss=0.02.ckpt and evaluating.\n",
      "Loading DDPM gen state dict from diffusion_weights/I190000_E97_gen.pth\n"
     ]
    },
    {
     "name": "stderr",
     "output_type": "stream",
     "text": [
      "100%|██████████| 203/203 [03:11<00:00,  1.06it/s]\n"
     ]
    },
    {
     "name": "stdout",
     "output_type": "stream",
     "text": [
      "Loading model from ./experiments/ddpm-RS-CDHead-OMS2CD_230718_183929/checkpoint/cd_model_ft_epoch=18-val_loss=0.02.ckpt and evaluating.\n",
      "Loading DDPM gen state dict from diffusion_weights/I190000_E97_gen.pth\n"
     ]
    },
    {
     "name": "stderr",
     "output_type": "stream",
     "text": [
      "100%|██████████| 203/203 [03:12<00:00,  1.06it/s]\n"
     ]
    },
    {
     "name": "stdout",
     "output_type": "stream",
     "text": [
      "Loading model from ./experiments/ddpm-RS-CDHead-OMS2CD_230718_183929/checkpoint/last.ckpt and evaluating.\n",
      "Loading DDPM gen state dict from diffusion_weights/I190000_E97_gen.pth\n"
     ]
    },
    {
     "name": "stderr",
     "output_type": "stream",
     "text": [
      "100%|██████████| 203/203 [03:12<00:00,  1.06it/s]\n"
     ]
    },
    {
     "name": "stdout",
     "output_type": "stream",
     "text": [
      "Loading model from ./experiments/ddpm-RS-CDHead-OMS2CD_230717_103144/checkpoint/cd_model_ft_epoch=8-val_loss=0.04.ckpt and evaluating.\n",
      "Loading DDPM gen state dict from diffusion_weights/I190000_E97_gen.pth\n"
     ]
    },
    {
     "name": "stderr",
     "output_type": "stream",
     "text": [
      "100%|██████████| 203/203 [03:11<00:00,  1.06it/s]\n"
     ]
    },
    {
     "name": "stdout",
     "output_type": "stream",
     "text": [
      "Loading model from ./experiments/ddpm-RS-CDHead-OMS2CD_230717_103144/checkpoint/last.ckpt and evaluating.\n",
      "Loading DDPM gen state dict from diffusion_weights/I190000_E97_gen.pth\n"
     ]
    },
    {
     "name": "stderr",
     "output_type": "stream",
     "text": [
      "100%|██████████| 203/203 [03:11<00:00,  1.06it/s]\n"
     ]
    },
    {
     "name": "stdout",
     "output_type": "stream",
     "text": [
      "Loading model from ./checkpoint/last.ckpt and evaluating.\n",
      "Loading DDPM gen state dict from diffusion_weights/I190000_E97_gen.pth\n"
     ]
    },
    {
     "name": "stderr",
     "output_type": "stream",
     "text": [
      "100%|██████████| 203/203 [03:12<00:00,  1.06it/s]\n"
     ]
    }
   ],
   "source": [
    "# Val mask areas only\n",
    "stats_df = test_model_dir_recursive('.',\n",
    "                          load_ddpmcd, get_mask_preds_ddpmcd, datamodule.val_dataloader(),\n",
    "                          device, threshold=0.3)"
   ]
  },
  {
   "cell_type": "code",
   "execution_count": 25,
   "metadata": {
    "execution": {
     "iopub.execute_input": "2023-07-19T09:39:15.377463Z",
     "iopub.status.busy": "2023-07-19T09:39:15.377080Z",
     "iopub.status.idle": "2023-07-19T09:39:15.388285Z",
     "shell.execute_reply": "2023-07-19T09:39:15.386839Z",
     "shell.execute_reply.started": "2023-07-19T09:39:15.377436Z"
    },
    "id": "U9YPzhkgg5xA"
   },
   "outputs": [
    {
     "name": "stdout",
     "output_type": "stream",
     "text": [
      "          OA        F1    recall  precision        AP       IoU  \\\n",
      "0   0.976022  0.643132  0.696230   0.597560  0.678367  0.360586   \n",
      "12  0.978290  0.638660  0.618243   0.660471  0.683351  0.347618   \n",
      "6   0.978204  0.629387  0.596377   0.666267  0.681739  0.352659   \n",
      "5   0.972377  0.626494  0.746496   0.539731  0.669957  0.352664   \n",
      "4   0.976186  0.618575  0.622223   0.614970  0.659356  0.340002   \n",
      "8   0.974628  0.614198  0.650791   0.581501  0.637438  0.341487   \n",
      "2   0.973570  0.606327  0.655866   0.563747  0.628947  0.330890   \n",
      "17  0.977762  0.603603  0.545580   0.675436  0.659877  0.315193   \n",
      "9   0.975544  0.602144  0.596352   0.608049  0.623208  0.325130   \n",
      "1   0.975718  0.597023  0.579611   0.615515  0.633814  0.328054   \n",
      "13  0.978032  0.588476  0.506134   0.702817  0.668155  0.319203   \n",
      "14  0.977065  0.586147  0.523350   0.666068  0.624850  0.308785   \n",
      "10  0.976195  0.576366  0.521817   0.643652  0.630044  0.308024   \n",
      "3   0.969869  0.576167  0.659947   0.511262  0.594375  0.326247   \n",
      "15  0.971314  0.575948  0.627726   0.532061  0.601309  0.303941   \n",
      "11  0.974318  0.568425  0.544987   0.593970  0.599759  0.308274   \n",
      "16  0.971389  0.532877  0.525857   0.540087  0.547457  0.278108   \n",
      "7   0.973968  0.375230  0.251898   0.735185  0.568540  0.180120   \n",
      "\n",
      "                                         weights_path  \n",
      "0   ./experiments/ddpm-RS-CDHead-OMS2CD_230715_192...  \n",
      "12  ./experiments/ddpm-RS-CDHead-OMS2CD_230718_183...  \n",
      "6   ./experiments/ddpm-RS-CDHead-OMS2CD_230717_213...  \n",
      "5   ./experiments/ddpm-RS-CDHead-OMS2CD_230717_213...  \n",
      "4   ./experiments/ddpm-RS-CDHead-OMS2CD_230717_213...  \n",
      "8   ./experiments/ddpm-RS-CDHead-OMS2CD_230716_173...  \n",
      "2   ./experiments/ddpm-RS-CDHead-OMS2CD_230715_130...  \n",
      "17                             ./checkpoint/last.ckpt  \n",
      "9   ./experiments/ddpm-RS-CDHead-OMS2CD_230716_173...  \n",
      "1   ./experiments/ddpm-RS-CDHead-OMS2CD_230715_192...  \n",
      "13  ./experiments/ddpm-RS-CDHead-OMS2CD_230718_183...  \n",
      "14  ./experiments/ddpm-RS-CDHead-OMS2CD_230718_183...  \n",
      "10  ./experiments/ddpm-RS-CDHead-OMS2CD_230717_161...  \n",
      "3   ./experiments/ddpm-RS-CDHead-OMS2CD_230715_130...  \n",
      "15  ./experiments/ddpm-RS-CDHead-OMS2CD_230717_103...  \n",
      "11  ./experiments/ddpm-RS-CDHead-OMS2CD_230717_161...  \n",
      "16  ./experiments/ddpm-RS-CDHead-OMS2CD_230717_103...  \n",
      "7   ./experiments/ddpm-RS-CDHead-OMS2CD_230716_161...  \n",
      "./experiments/ddpm-RS-CDHead-OMS2CD_230715_192507/checkpoint/cd_model_epoch=31-val_loss=0.03.ckpt\n",
      "./experiments/ddpm-RS-CDHead-OMS2CD_230718_183929/checkpoint/cd_model_ft_epoch=14-val_loss=0.02.ckpt\n",
      "./experiments/ddpm-RS-CDHead-OMS2CD_230717_213446/checkpoint/last.ckpt\n",
      "./experiments/ddpm-RS-CDHead-OMS2CD_230717_213446/checkpoint/cd_model_ft_epoch=21-val_loss=0.05.ckpt\n",
      "./experiments/ddpm-RS-CDHead-OMS2CD_230717_213446/checkpoint/cd_model_ft_epoch=18-val_loss=0.05.ckpt\n",
      "./experiments/ddpm-RS-CDHead-OMS2CD_230716_173018/checkpoint/cd_model_ft_epoch=28-val_loss=0.03.ckpt\n",
      "./experiments/ddpm-RS-CDHead-OMS2CD_230715_130727/checkpoint/cd_model_epoch=13-val_loss=0.04.ckpt\n",
      "./checkpoint/last.ckpt\n",
      "./experiments/ddpm-RS-CDHead-OMS2CD_230716_173018/checkpoint/cd_model_ft_epoch=34-val_loss=0.03.ckpt\n",
      "./experiments/ddpm-RS-CDHead-OMS2CD_230715_192507/checkpoint/last.ckpt\n",
      "./experiments/ddpm-RS-CDHead-OMS2CD_230718_183929/checkpoint/cd_model_ft_epoch=18-val_loss=0.02.ckpt\n",
      "./experiments/ddpm-RS-CDHead-OMS2CD_230718_183929/checkpoint/last.ckpt\n",
      "./experiments/ddpm-RS-CDHead-OMS2CD_230717_161842/checkpoint/cd_model_ft_epoch=10-val_loss=0.06.ckpt\n",
      "./experiments/ddpm-RS-CDHead-OMS2CD_230715_130727/checkpoint/last.ckpt\n",
      "./experiments/ddpm-RS-CDHead-OMS2CD_230717_103144/checkpoint/cd_model_ft_epoch=8-val_loss=0.04.ckpt\n",
      "./experiments/ddpm-RS-CDHead-OMS2CD_230717_161842/checkpoint/last.ckpt\n",
      "./experiments/ddpm-RS-CDHead-OMS2CD_230717_103144/checkpoint/last.ckpt\n",
      "./experiments/ddpm-RS-CDHead-OMS2CD_230716_161457/checkpoint/last.ckpt\n"
     ]
    }
   ],
   "source": [
    "print(stats_df.head(100))\n",
    "for path in stats_df['weights_path']:\n",
    "    print(path)"
   ]
  },
  {
   "cell_type": "code",
   "execution_count": 26,
   "metadata": {
    "execution": {
     "iopub.execute_input": "2023-07-19T09:39:37.943673Z",
     "iopub.status.busy": "2023-07-19T09:39:37.942569Z",
     "iopub.status.idle": "2023-07-19T11:06:59.223804Z",
     "shell.execute_reply": "2023-07-19T11:06:59.222773Z",
     "shell.execute_reply.started": "2023-07-19T09:39:37.943615Z"
    }
   },
   "outputs": [
    {
     "name": "stdout",
     "output_type": "stream",
     "text": [
      "Loading model from ./experiments/ddpm-RS-CDHead-OMS2CD_230715_192507/checkpoint/cd_model_epoch=31-val_loss=0.03.ckpt and evaluating.\n",
      "Loading DDPM gen state dict from diffusion_weights/I190000_E97_gen.pth\n"
     ]
    },
    {
     "name": "stderr",
     "output_type": "stream",
     "text": [
      "100%|██████████| 255/255 [04:00<00:00,  1.06it/s]\n"
     ]
    },
    {
     "name": "stdout",
     "output_type": "stream",
     "text": [
      "Loading model from ./experiments/ddpm-RS-CDHead-OMS2CD_230715_192507/checkpoint/last.ckpt and evaluating.\n",
      "Loading DDPM gen state dict from diffusion_weights/I190000_E97_gen.pth\n"
     ]
    },
    {
     "name": "stderr",
     "output_type": "stream",
     "text": [
      "100%|██████████| 255/255 [04:00<00:00,  1.06it/s]\n"
     ]
    },
    {
     "name": "stdout",
     "output_type": "stream",
     "text": [
      "Loading model from ./experiments/ddpm-RS-CDHead-OMS2CD_230715_130727/checkpoint/cd_model_epoch=13-val_loss=0.04.ckpt and evaluating.\n",
      "Loading DDPM gen state dict from diffusion_weights/I190000_E97_gen.pth\n"
     ]
    },
    {
     "name": "stderr",
     "output_type": "stream",
     "text": [
      "100%|██████████| 255/255 [03:59<00:00,  1.06it/s]\n"
     ]
    },
    {
     "name": "stdout",
     "output_type": "stream",
     "text": [
      "Loading model from ./experiments/ddpm-RS-CDHead-OMS2CD_230715_130727/checkpoint/last.ckpt and evaluating.\n",
      "Loading DDPM gen state dict from diffusion_weights/I190000_E97_gen.pth\n"
     ]
    },
    {
     "name": "stderr",
     "output_type": "stream",
     "text": [
      "100%|██████████| 255/255 [04:00<00:00,  1.06it/s]\n"
     ]
    },
    {
     "name": "stdout",
     "output_type": "stream",
     "text": [
      "Loading model from ./experiments/ddpm-RS-CDHead-OMS2CD_230717_213446/checkpoint/cd_model_ft_epoch=18-val_loss=0.05.ckpt and evaluating.\n",
      "Loading DDPM gen state dict from diffusion_weights/I190000_E97_gen.pth\n"
     ]
    },
    {
     "name": "stderr",
     "output_type": "stream",
     "text": [
      "100%|██████████| 255/255 [03:59<00:00,  1.06it/s]\n"
     ]
    },
    {
     "name": "stdout",
     "output_type": "stream",
     "text": [
      "Loading model from ./experiments/ddpm-RS-CDHead-OMS2CD_230717_213446/checkpoint/cd_model_ft_epoch=21-val_loss=0.05.ckpt and evaluating.\n",
      "Loading DDPM gen state dict from diffusion_weights/I190000_E97_gen.pth\n"
     ]
    },
    {
     "name": "stderr",
     "output_type": "stream",
     "text": [
      "100%|██████████| 255/255 [04:00<00:00,  1.06it/s]\n"
     ]
    },
    {
     "name": "stdout",
     "output_type": "stream",
     "text": [
      "Loading model from ./experiments/ddpm-RS-CDHead-OMS2CD_230717_213446/checkpoint/last.ckpt and evaluating.\n",
      "Loading DDPM gen state dict from diffusion_weights/I190000_E97_gen.pth\n"
     ]
    },
    {
     "name": "stderr",
     "output_type": "stream",
     "text": [
      "100%|██████████| 255/255 [03:59<00:00,  1.06it/s]\n"
     ]
    },
    {
     "name": "stdout",
     "output_type": "stream",
     "text": [
      "Loading model from ./experiments/ddpm-RS-CDHead-OMS2CD_230716_161457/checkpoint/last.ckpt and evaluating.\n",
      "Loading DDPM gen state dict from diffusion_weights/I190000_E97_gen.pth\n"
     ]
    },
    {
     "name": "stderr",
     "output_type": "stream",
     "text": [
      "100%|██████████| 255/255 [04:00<00:00,  1.06it/s]\n"
     ]
    },
    {
     "name": "stdout",
     "output_type": "stream",
     "text": [
      "Loading model from ./experiments/ddpm-RS-CDHead-OMS2CD_230716_173018/checkpoint/cd_model_ft_epoch=28-val_loss=0.03.ckpt and evaluating.\n",
      "Loading DDPM gen state dict from diffusion_weights/I190000_E97_gen.pth\n"
     ]
    },
    {
     "name": "stderr",
     "output_type": "stream",
     "text": [
      "100%|██████████| 255/255 [04:00<00:00,  1.06it/s]\n"
     ]
    },
    {
     "name": "stdout",
     "output_type": "stream",
     "text": [
      "Loading model from ./experiments/ddpm-RS-CDHead-OMS2CD_230716_173018/checkpoint/cd_model_ft_epoch=34-val_loss=0.03.ckpt and evaluating.\n",
      "Loading DDPM gen state dict from diffusion_weights/I190000_E97_gen.pth\n"
     ]
    },
    {
     "name": "stderr",
     "output_type": "stream",
     "text": [
      "100%|██████████| 255/255 [03:59<00:00,  1.06it/s]\n"
     ]
    },
    {
     "name": "stdout",
     "output_type": "stream",
     "text": [
      "Loading model from ./experiments/ddpm-RS-CDHead-OMS2CD_230717_161842/checkpoint/cd_model_ft_epoch=10-val_loss=0.06.ckpt and evaluating.\n",
      "Loading DDPM gen state dict from diffusion_weights/I190000_E97_gen.pth\n"
     ]
    },
    {
     "name": "stderr",
     "output_type": "stream",
     "text": [
      "100%|██████████| 255/255 [04:01<00:00,  1.06it/s]\n"
     ]
    },
    {
     "name": "stdout",
     "output_type": "stream",
     "text": [
      "Loading model from ./experiments/ddpm-RS-CDHead-OMS2CD_230717_161842/checkpoint/last.ckpt and evaluating.\n",
      "Loading DDPM gen state dict from diffusion_weights/I190000_E97_gen.pth\n"
     ]
    },
    {
     "name": "stderr",
     "output_type": "stream",
     "text": [
      "100%|██████████| 255/255 [03:59<00:00,  1.07it/s]\n"
     ]
    },
    {
     "name": "stdout",
     "output_type": "stream",
     "text": [
      "Loading model from ./experiments/ddpm-RS-CDHead-OMS2CD_230718_183929/checkpoint/cd_model_ft_epoch=14-val_loss=0.02.ckpt and evaluating.\n",
      "Loading DDPM gen state dict from diffusion_weights/I190000_E97_gen.pth\n"
     ]
    },
    {
     "name": "stderr",
     "output_type": "stream",
     "text": [
      "100%|██████████| 255/255 [04:00<00:00,  1.06it/s]\n"
     ]
    },
    {
     "name": "stdout",
     "output_type": "stream",
     "text": [
      "Loading model from ./experiments/ddpm-RS-CDHead-OMS2CD_230718_183929/checkpoint/cd_model_ft_epoch=18-val_loss=0.02.ckpt and evaluating.\n",
      "Loading DDPM gen state dict from diffusion_weights/I190000_E97_gen.pth\n"
     ]
    },
    {
     "name": "stderr",
     "output_type": "stream",
     "text": [
      "100%|██████████| 255/255 [04:01<00:00,  1.06it/s]\n"
     ]
    },
    {
     "name": "stdout",
     "output_type": "stream",
     "text": [
      "Loading model from ./experiments/ddpm-RS-CDHead-OMS2CD_230718_183929/checkpoint/last.ckpt and evaluating.\n",
      "Loading DDPM gen state dict from diffusion_weights/I190000_E97_gen.pth\n"
     ]
    },
    {
     "name": "stderr",
     "output_type": "stream",
     "text": [
      "100%|██████████| 255/255 [04:00<00:00,  1.06it/s]\n"
     ]
    },
    {
     "name": "stdout",
     "output_type": "stream",
     "text": [
      "Loading model from ./experiments/ddpm-RS-CDHead-OMS2CD_230717_103144/checkpoint/cd_model_ft_epoch=8-val_loss=0.04.ckpt and evaluating.\n",
      "Loading DDPM gen state dict from diffusion_weights/I190000_E97_gen.pth\n"
     ]
    },
    {
     "name": "stderr",
     "output_type": "stream",
     "text": [
      "100%|██████████| 255/255 [04:00<00:00,  1.06it/s]\n"
     ]
    },
    {
     "name": "stdout",
     "output_type": "stream",
     "text": [
      "Loading model from ./experiments/ddpm-RS-CDHead-OMS2CD_230717_103144/checkpoint/last.ckpt and evaluating.\n",
      "Loading DDPM gen state dict from diffusion_weights/I190000_E97_gen.pth\n"
     ]
    },
    {
     "name": "stderr",
     "output_type": "stream",
     "text": [
      "100%|██████████| 255/255 [04:00<00:00,  1.06it/s]\n"
     ]
    },
    {
     "name": "stdout",
     "output_type": "stream",
     "text": [
      "Loading model from ./checkpoint/last.ckpt and evaluating.\n",
      "Loading DDPM gen state dict from diffusion_weights/I190000_E97_gen.pth\n"
     ]
    },
    {
     "name": "stderr",
     "output_type": "stream",
     "text": [
      "100%|██████████| 255/255 [03:59<00:00,  1.07it/s]\n"
     ]
    }
   ],
   "source": [
    "# Test mask areas only\n",
    "stats_df = test_model_dir_recursive('.',\n",
    "                          load_ddpmcd, get_mask_preds_ddpmcd, datamodule.test_dataloader(),\n",
    "                          device, threshold=0.3)"
   ]
  },
  {
   "cell_type": "code",
   "execution_count": 27,
   "metadata": {
    "execution": {
     "iopub.execute_input": "2023-07-19T11:06:59.226518Z",
     "iopub.status.busy": "2023-07-19T11:06:59.226147Z",
     "iopub.status.idle": "2023-07-19T11:06:59.241098Z",
     "shell.execute_reply": "2023-07-19T11:06:59.239841Z",
     "shell.execute_reply.started": "2023-07-19T11:06:59.226482Z"
    }
   },
   "outputs": [
    {
     "name": "stdout",
     "output_type": "stream",
     "text": [
      "          OA        F1    recall  precision        AP       IoU  \\\n",
      "4   0.967752  0.331073  0.332188   0.329966  0.277436  0.162674   \n",
      "5   0.956165  0.327105  0.443491   0.259108  0.275348  0.175451   \n",
      "13  0.973628  0.325668  0.265073   0.422175  0.305308  0.155937   \n",
      "0   0.956841  0.320534  0.423747   0.257753  0.258192  0.170193   \n",
      "12  0.958577  0.320068  0.405828   0.264230  0.266118  0.173040   \n",
      "14  0.972519  0.297700  0.242444   0.385578  0.262847  0.123013   \n",
      "2   0.963158  0.297376  0.324528   0.274416  0.224376  0.145646   \n",
      "6   0.965793  0.295407  0.298487   0.292391  0.239171  0.147090   \n",
      "3   0.960512  0.294432  0.342955   0.257937  0.220861  0.149109   \n",
      "11  0.962592  0.290353  0.318545   0.266746  0.234634  0.141572   \n",
      "9   0.949593  0.285099  0.418374   0.216221  0.205507  0.151686   \n",
      "8   0.952677  0.283304  0.389334   0.222665  0.211611  0.156831   \n",
      "1   0.960391  0.282088  0.323921   0.249824  0.209049  0.136311   \n",
      "10  0.971291  0.280412  0.232842   0.352410  0.237481  0.136782   \n",
      "15  0.966895  0.266901  0.250846   0.285152  0.216608  0.124053   \n",
      "17  0.964048  0.253208  0.253705   0.252713  0.195349  0.132060   \n",
      "16  0.970409  0.241561  0.196150   0.314332  0.201579  0.112823   \n",
      "7   0.976400  0.075082  0.039873   0.641963  0.226077  0.036503   \n",
      "\n",
      "                                         weights_path  \n",
      "4   ./experiments/ddpm-RS-CDHead-OMS2CD_230717_213...  \n",
      "5   ./experiments/ddpm-RS-CDHead-OMS2CD_230717_213...  \n",
      "13  ./experiments/ddpm-RS-CDHead-OMS2CD_230718_183...  \n",
      "0   ./experiments/ddpm-RS-CDHead-OMS2CD_230715_192...  \n",
      "12  ./experiments/ddpm-RS-CDHead-OMS2CD_230718_183...  \n",
      "14  ./experiments/ddpm-RS-CDHead-OMS2CD_230718_183...  \n",
      "2   ./experiments/ddpm-RS-CDHead-OMS2CD_230715_130...  \n",
      "6   ./experiments/ddpm-RS-CDHead-OMS2CD_230717_213...  \n",
      "3   ./experiments/ddpm-RS-CDHead-OMS2CD_230715_130...  \n",
      "11  ./experiments/ddpm-RS-CDHead-OMS2CD_230717_161...  \n",
      "9   ./experiments/ddpm-RS-CDHead-OMS2CD_230716_173...  \n",
      "8   ./experiments/ddpm-RS-CDHead-OMS2CD_230716_173...  \n",
      "1   ./experiments/ddpm-RS-CDHead-OMS2CD_230715_192...  \n",
      "10  ./experiments/ddpm-RS-CDHead-OMS2CD_230717_161...  \n",
      "15  ./experiments/ddpm-RS-CDHead-OMS2CD_230717_103...  \n",
      "17                             ./checkpoint/last.ckpt  \n",
      "16  ./experiments/ddpm-RS-CDHead-OMS2CD_230717_103...  \n",
      "7   ./experiments/ddpm-RS-CDHead-OMS2CD_230716_161...  \n",
      "./experiments/ddpm-RS-CDHead-OMS2CD_230717_213446/checkpoint/cd_model_ft_epoch=18-val_loss=0.05.ckpt\n",
      "./experiments/ddpm-RS-CDHead-OMS2CD_230717_213446/checkpoint/cd_model_ft_epoch=21-val_loss=0.05.ckpt\n",
      "./experiments/ddpm-RS-CDHead-OMS2CD_230718_183929/checkpoint/cd_model_ft_epoch=18-val_loss=0.02.ckpt\n",
      "./experiments/ddpm-RS-CDHead-OMS2CD_230715_192507/checkpoint/cd_model_epoch=31-val_loss=0.03.ckpt\n",
      "./experiments/ddpm-RS-CDHead-OMS2CD_230718_183929/checkpoint/cd_model_ft_epoch=14-val_loss=0.02.ckpt\n",
      "./experiments/ddpm-RS-CDHead-OMS2CD_230718_183929/checkpoint/last.ckpt\n",
      "./experiments/ddpm-RS-CDHead-OMS2CD_230715_130727/checkpoint/cd_model_epoch=13-val_loss=0.04.ckpt\n",
      "./experiments/ddpm-RS-CDHead-OMS2CD_230717_213446/checkpoint/last.ckpt\n",
      "./experiments/ddpm-RS-CDHead-OMS2CD_230715_130727/checkpoint/last.ckpt\n",
      "./experiments/ddpm-RS-CDHead-OMS2CD_230717_161842/checkpoint/last.ckpt\n",
      "./experiments/ddpm-RS-CDHead-OMS2CD_230716_173018/checkpoint/cd_model_ft_epoch=34-val_loss=0.03.ckpt\n",
      "./experiments/ddpm-RS-CDHead-OMS2CD_230716_173018/checkpoint/cd_model_ft_epoch=28-val_loss=0.03.ckpt\n",
      "./experiments/ddpm-RS-CDHead-OMS2CD_230715_192507/checkpoint/last.ckpt\n",
      "./experiments/ddpm-RS-CDHead-OMS2CD_230717_161842/checkpoint/cd_model_ft_epoch=10-val_loss=0.06.ckpt\n",
      "./experiments/ddpm-RS-CDHead-OMS2CD_230717_103144/checkpoint/cd_model_ft_epoch=8-val_loss=0.04.ckpt\n",
      "./checkpoint/last.ckpt\n",
      "./experiments/ddpm-RS-CDHead-OMS2CD_230717_103144/checkpoint/last.ckpt\n",
      "./experiments/ddpm-RS-CDHead-OMS2CD_230716_161457/checkpoint/last.ckpt\n"
     ]
    }
   ],
   "source": [
    "print(stats_df.head(100))\n",
    "for path in stats_df['weights_path']:\n",
    "    print(path)"
   ]
  },
  {
   "cell_type": "code",
   "execution_count": 13,
   "metadata": {
    "execution": {
     "iopub.execute_input": "2023-07-20T12:32:31.754081Z",
     "iopub.status.busy": "2023-07-20T12:32:31.753472Z",
     "iopub.status.idle": "2023-07-20T12:32:32.042080Z",
     "shell.execute_reply": "2023-07-20T12:32:32.041346Z",
     "shell.execute_reply.started": "2023-07-20T12:32:31.754053Z"
    }
   },
   "outputs": [],
   "source": [
    "\n",
    "datamodule = OMS2CDDataModule(root='OMS2CD', bands='rgb', load_area_mask=False,\n",
    "                              batch_size=1, tile_mode=\"constant\", index_no_mask=True, stride=100)\n",
    "datamodule.setup('fit')\n",
    "datamodule.setup('validation')\n",
    "datamodule.setup('test')"
   ]
  },
  {
   "cell_type": "code",
   "execution_count": 29,
   "metadata": {
    "execution": {
     "iopub.execute_input": "2023-07-19T11:07:00.137604Z",
     "iopub.status.busy": "2023-07-19T11:07:00.136663Z",
     "iopub.status.idle": "2023-07-19T13:34:44.803665Z",
     "shell.execute_reply": "2023-07-19T13:34:44.802802Z",
     "shell.execute_reply.started": "2023-07-19T11:07:00.137563Z"
    }
   },
   "outputs": [
    {
     "name": "stdout",
     "output_type": "stream",
     "text": [
      "Loading model from ./experiments/ddpm-RS-CDHead-OMS2CD_230715_192507/checkpoint/cd_model_epoch=31-val_loss=0.03.ckpt and evaluating.\n",
      "Loading DDPM gen state dict from diffusion_weights/I190000_E97_gen.pth\n"
     ]
    },
    {
     "name": "stderr",
     "output_type": "stream",
     "text": [
      "100%|██████████| 463/463 [07:16<00:00,  1.06it/s]\n"
     ]
    },
    {
     "name": "stdout",
     "output_type": "stream",
     "text": [
      "Loading model from ./experiments/ddpm-RS-CDHead-OMS2CD_230715_192507/checkpoint/last.ckpt and evaluating.\n",
      "Loading DDPM gen state dict from diffusion_weights/I190000_E97_gen.pth\n"
     ]
    },
    {
     "name": "stderr",
     "output_type": "stream",
     "text": [
      "100%|██████████| 463/463 [07:16<00:00,  1.06it/s]\n"
     ]
    },
    {
     "name": "stdout",
     "output_type": "stream",
     "text": [
      "Loading model from ./experiments/ddpm-RS-CDHead-OMS2CD_230715_130727/checkpoint/cd_model_epoch=13-val_loss=0.04.ckpt and evaluating.\n",
      "Loading DDPM gen state dict from diffusion_weights/I190000_E97_gen.pth\n"
     ]
    },
    {
     "name": "stderr",
     "output_type": "stream",
     "text": [
      "100%|██████████| 463/463 [07:15<00:00,  1.06it/s]\n"
     ]
    },
    {
     "name": "stdout",
     "output_type": "stream",
     "text": [
      "Loading model from ./experiments/ddpm-RS-CDHead-OMS2CD_230715_130727/checkpoint/last.ckpt and evaluating.\n",
      "Loading DDPM gen state dict from diffusion_weights/I190000_E97_gen.pth\n"
     ]
    },
    {
     "name": "stderr",
     "output_type": "stream",
     "text": [
      "100%|██████████| 463/463 [07:14<00:00,  1.06it/s]\n"
     ]
    },
    {
     "name": "stdout",
     "output_type": "stream",
     "text": [
      "Loading model from ./experiments/ddpm-RS-CDHead-OMS2CD_230717_213446/checkpoint/cd_model_ft_epoch=18-val_loss=0.05.ckpt and evaluating.\n",
      "Loading DDPM gen state dict from diffusion_weights/I190000_E97_gen.pth\n"
     ]
    },
    {
     "name": "stderr",
     "output_type": "stream",
     "text": [
      "100%|██████████| 463/463 [07:16<00:00,  1.06it/s]\n"
     ]
    },
    {
     "name": "stdout",
     "output_type": "stream",
     "text": [
      "Loading model from ./experiments/ddpm-RS-CDHead-OMS2CD_230717_213446/checkpoint/cd_model_ft_epoch=21-val_loss=0.05.ckpt and evaluating.\n",
      "Loading DDPM gen state dict from diffusion_weights/I190000_E97_gen.pth\n"
     ]
    },
    {
     "name": "stderr",
     "output_type": "stream",
     "text": [
      "100%|██████████| 463/463 [07:15<00:00,  1.06it/s]\n"
     ]
    },
    {
     "name": "stdout",
     "output_type": "stream",
     "text": [
      "Loading model from ./experiments/ddpm-RS-CDHead-OMS2CD_230717_213446/checkpoint/last.ckpt and evaluating.\n",
      "Loading DDPM gen state dict from diffusion_weights/I190000_E97_gen.pth\n"
     ]
    },
    {
     "name": "stderr",
     "output_type": "stream",
     "text": [
      "100%|██████████| 463/463 [07:17<00:00,  1.06it/s]\n"
     ]
    },
    {
     "name": "stdout",
     "output_type": "stream",
     "text": [
      "Loading model from ./experiments/ddpm-RS-CDHead-OMS2CD_230716_161457/checkpoint/last.ckpt and evaluating.\n",
      "Loading DDPM gen state dict from diffusion_weights/I190000_E97_gen.pth\n"
     ]
    },
    {
     "name": "stderr",
     "output_type": "stream",
     "text": [
      "100%|██████████| 463/463 [07:15<00:00,  1.06it/s]\n"
     ]
    },
    {
     "name": "stdout",
     "output_type": "stream",
     "text": [
      "Loading model from ./experiments/ddpm-RS-CDHead-OMS2CD_230716_173018/checkpoint/cd_model_ft_epoch=28-val_loss=0.03.ckpt and evaluating.\n",
      "Loading DDPM gen state dict from diffusion_weights/I190000_E97_gen.pth\n"
     ]
    },
    {
     "name": "stderr",
     "output_type": "stream",
     "text": [
      "100%|██████████| 463/463 [07:17<00:00,  1.06it/s]\n"
     ]
    },
    {
     "name": "stdout",
     "output_type": "stream",
     "text": [
      "Loading model from ./experiments/ddpm-RS-CDHead-OMS2CD_230716_173018/checkpoint/cd_model_ft_epoch=34-val_loss=0.03.ckpt and evaluating.\n",
      "Loading DDPM gen state dict from diffusion_weights/I190000_E97_gen.pth\n"
     ]
    },
    {
     "name": "stderr",
     "output_type": "stream",
     "text": [
      "100%|██████████| 463/463 [07:16<00:00,  1.06it/s]\n"
     ]
    },
    {
     "name": "stdout",
     "output_type": "stream",
     "text": [
      "Loading model from ./experiments/ddpm-RS-CDHead-OMS2CD_230717_161842/checkpoint/cd_model_ft_epoch=10-val_loss=0.06.ckpt and evaluating.\n",
      "Loading DDPM gen state dict from diffusion_weights/I190000_E97_gen.pth\n"
     ]
    },
    {
     "name": "stderr",
     "output_type": "stream",
     "text": [
      "100%|██████████| 463/463 [07:17<00:00,  1.06it/s]\n"
     ]
    },
    {
     "name": "stdout",
     "output_type": "stream",
     "text": [
      "Loading model from ./experiments/ddpm-RS-CDHead-OMS2CD_230717_161842/checkpoint/last.ckpt and evaluating.\n",
      "Loading DDPM gen state dict from diffusion_weights/I190000_E97_gen.pth\n"
     ]
    },
    {
     "name": "stderr",
     "output_type": "stream",
     "text": [
      "100%|██████████| 463/463 [07:14<00:00,  1.07it/s]\n"
     ]
    },
    {
     "name": "stdout",
     "output_type": "stream",
     "text": [
      "Loading model from ./experiments/ddpm-RS-CDHead-OMS2CD_230718_183929/checkpoint/cd_model_ft_epoch=14-val_loss=0.02.ckpt and evaluating.\n",
      "Loading DDPM gen state dict from diffusion_weights/I190000_E97_gen.pth\n"
     ]
    },
    {
     "name": "stderr",
     "output_type": "stream",
     "text": [
      "100%|██████████| 463/463 [07:17<00:00,  1.06it/s]\n"
     ]
    },
    {
     "name": "stdout",
     "output_type": "stream",
     "text": [
      "Loading model from ./experiments/ddpm-RS-CDHead-OMS2CD_230718_183929/checkpoint/cd_model_ft_epoch=18-val_loss=0.02.ckpt and evaluating.\n",
      "Loading DDPM gen state dict from diffusion_weights/I190000_E97_gen.pth\n"
     ]
    },
    {
     "name": "stderr",
     "output_type": "stream",
     "text": [
      "100%|██████████| 463/463 [07:14<00:00,  1.06it/s]\n"
     ]
    },
    {
     "name": "stdout",
     "output_type": "stream",
     "text": [
      "Loading model from ./experiments/ddpm-RS-CDHead-OMS2CD_230718_183929/checkpoint/last.ckpt and evaluating.\n",
      "Loading DDPM gen state dict from diffusion_weights/I190000_E97_gen.pth\n"
     ]
    },
    {
     "name": "stderr",
     "output_type": "stream",
     "text": [
      "100%|██████████| 463/463 [07:17<00:00,  1.06it/s]\n"
     ]
    },
    {
     "name": "stdout",
     "output_type": "stream",
     "text": [
      "Loading model from ./experiments/ddpm-RS-CDHead-OMS2CD_230717_103144/checkpoint/cd_model_ft_epoch=8-val_loss=0.04.ckpt and evaluating.\n",
      "Loading DDPM gen state dict from diffusion_weights/I190000_E97_gen.pth\n"
     ]
    },
    {
     "name": "stderr",
     "output_type": "stream",
     "text": [
      "100%|██████████| 463/463 [07:17<00:00,  1.06it/s]\n"
     ]
    },
    {
     "name": "stdout",
     "output_type": "stream",
     "text": [
      "Loading model from ./experiments/ddpm-RS-CDHead-OMS2CD_230717_103144/checkpoint/last.ckpt and evaluating.\n",
      "Loading DDPM gen state dict from diffusion_weights/I190000_E97_gen.pth\n"
     ]
    },
    {
     "name": "stderr",
     "output_type": "stream",
     "text": [
      "100%|██████████| 463/463 [07:14<00:00,  1.07it/s]\n"
     ]
    },
    {
     "name": "stdout",
     "output_type": "stream",
     "text": [
      "Loading model from ./checkpoint/last.ckpt and evaluating.\n",
      "Loading DDPM gen state dict from diffusion_weights/I190000_E97_gen.pth\n"
     ]
    },
    {
     "name": "stderr",
     "output_type": "stream",
     "text": [
      "100%|██████████| 463/463 [07:18<00:00,  1.06it/s]\n"
     ]
    }
   ],
   "source": [
    "# Val all areas\n",
    "stats_df = test_model_dir_recursive('.',\n",
    "                          load_ddpmcd, get_mask_preds_ddpmcd, datamodule.val_dataloader(),\n",
    "                          device, threshold=0.3)"
   ]
  },
  {
   "cell_type": "code",
   "execution_count": 30,
   "metadata": {
    "execution": {
     "iopub.execute_input": "2023-07-19T13:34:44.805161Z",
     "iopub.status.busy": "2023-07-19T13:34:44.804895Z",
     "iopub.status.idle": "2023-07-19T13:34:44.814691Z",
     "shell.execute_reply": "2023-07-19T13:34:44.813587Z",
     "shell.execute_reply.started": "2023-07-19T13:34:44.805130Z"
    }
   },
   "outputs": [
    {
     "name": "stdout",
     "output_type": "stream",
     "text": [
      "          OA        F1    recall  precision        AP       IoU  \\\n",
      "0   0.988461  0.621461  0.696116   0.561267  0.652744  0.381342   \n",
      "12  0.989688  0.619313  0.616487   0.622164  0.650248  0.450914   \n",
      "6   0.990018  0.618477  0.594652   0.644291  0.656321  0.508105   \n",
      "5   0.986821  0.606581  0.746673   0.510753  0.655944  0.418034   \n",
      "4   0.988906  0.603980  0.621770   0.587179  0.632762  0.429826   \n",
      "8   0.988179  0.600686  0.653424   0.555824  0.618443  0.470282   \n",
      "17  0.989959  0.596178  0.544716   0.658380  0.640922  0.531926   \n",
      "2   0.987664  0.589779  0.651721   0.538590  0.607440  0.465170   \n",
      "1   0.988884  0.586127  0.578489   0.593969  0.610580  0.459496   \n",
      "9   0.988461  0.585170  0.598150   0.572742  0.592973  0.450504   \n",
      "13  0.990077  0.579498  0.502523   0.684322  0.646817  0.502630   \n",
      "14  0.989713  0.578749  0.519359   0.653476  0.610355  0.555021   \n",
      "15  0.986963  0.566097  0.625013   0.517332  0.582507  0.481971   \n",
      "10  0.989080  0.564954  0.521083   0.616891  0.602960  0.472242   \n",
      "3   0.985823  0.558975  0.660296   0.484612  0.573592  0.434448   \n",
      "11  0.987812  0.547171  0.541162   0.553314  0.563560  0.410741   \n",
      "16  0.986953  0.522248  0.524096   0.520412  0.524056  0.465322   \n",
      "7   0.988605  0.378752  0.255287   0.733496  0.561033  0.572010   \n",
      "\n",
      "                                         weights_path  \n",
      "0   ./experiments/ddpm-RS-CDHead-OMS2CD_230715_192...  \n",
      "12  ./experiments/ddpm-RS-CDHead-OMS2CD_230718_183...  \n",
      "6   ./experiments/ddpm-RS-CDHead-OMS2CD_230717_213...  \n",
      "5   ./experiments/ddpm-RS-CDHead-OMS2CD_230717_213...  \n",
      "4   ./experiments/ddpm-RS-CDHead-OMS2CD_230717_213...  \n",
      "8   ./experiments/ddpm-RS-CDHead-OMS2CD_230716_173...  \n",
      "17                             ./checkpoint/last.ckpt  \n",
      "2   ./experiments/ddpm-RS-CDHead-OMS2CD_230715_130...  \n",
      "1   ./experiments/ddpm-RS-CDHead-OMS2CD_230715_192...  \n",
      "9   ./experiments/ddpm-RS-CDHead-OMS2CD_230716_173...  \n",
      "13  ./experiments/ddpm-RS-CDHead-OMS2CD_230718_183...  \n",
      "14  ./experiments/ddpm-RS-CDHead-OMS2CD_230718_183...  \n",
      "15  ./experiments/ddpm-RS-CDHead-OMS2CD_230717_103...  \n",
      "10  ./experiments/ddpm-RS-CDHead-OMS2CD_230717_161...  \n",
      "3   ./experiments/ddpm-RS-CDHead-OMS2CD_230715_130...  \n",
      "11  ./experiments/ddpm-RS-CDHead-OMS2CD_230717_161...  \n",
      "16  ./experiments/ddpm-RS-CDHead-OMS2CD_230717_103...  \n",
      "7   ./experiments/ddpm-RS-CDHead-OMS2CD_230716_161...  \n",
      "./experiments/ddpm-RS-CDHead-OMS2CD_230715_192507/checkpoint/cd_model_epoch=31-val_loss=0.03.ckpt\n",
      "./experiments/ddpm-RS-CDHead-OMS2CD_230718_183929/checkpoint/cd_model_ft_epoch=14-val_loss=0.02.ckpt\n",
      "./experiments/ddpm-RS-CDHead-OMS2CD_230717_213446/checkpoint/last.ckpt\n",
      "./experiments/ddpm-RS-CDHead-OMS2CD_230717_213446/checkpoint/cd_model_ft_epoch=21-val_loss=0.05.ckpt\n",
      "./experiments/ddpm-RS-CDHead-OMS2CD_230717_213446/checkpoint/cd_model_ft_epoch=18-val_loss=0.05.ckpt\n",
      "./experiments/ddpm-RS-CDHead-OMS2CD_230716_173018/checkpoint/cd_model_ft_epoch=28-val_loss=0.03.ckpt\n",
      "./checkpoint/last.ckpt\n",
      "./experiments/ddpm-RS-CDHead-OMS2CD_230715_130727/checkpoint/cd_model_epoch=13-val_loss=0.04.ckpt\n",
      "./experiments/ddpm-RS-CDHead-OMS2CD_230715_192507/checkpoint/last.ckpt\n",
      "./experiments/ddpm-RS-CDHead-OMS2CD_230716_173018/checkpoint/cd_model_ft_epoch=34-val_loss=0.03.ckpt\n",
      "./experiments/ddpm-RS-CDHead-OMS2CD_230718_183929/checkpoint/cd_model_ft_epoch=18-val_loss=0.02.ckpt\n",
      "./experiments/ddpm-RS-CDHead-OMS2CD_230718_183929/checkpoint/last.ckpt\n",
      "./experiments/ddpm-RS-CDHead-OMS2CD_230717_103144/checkpoint/cd_model_ft_epoch=8-val_loss=0.04.ckpt\n",
      "./experiments/ddpm-RS-CDHead-OMS2CD_230717_161842/checkpoint/cd_model_ft_epoch=10-val_loss=0.06.ckpt\n",
      "./experiments/ddpm-RS-CDHead-OMS2CD_230715_130727/checkpoint/last.ckpt\n",
      "./experiments/ddpm-RS-CDHead-OMS2CD_230717_161842/checkpoint/last.ckpt\n",
      "./experiments/ddpm-RS-CDHead-OMS2CD_230717_103144/checkpoint/last.ckpt\n",
      "./experiments/ddpm-RS-CDHead-OMS2CD_230716_161457/checkpoint/last.ckpt\n"
     ]
    }
   ],
   "source": [
    "print(stats_df.head(100))\n",
    "for path in stats_df['weights_path']:\n",
    "    print(path)"
   ]
  },
  {
   "cell_type": "code",
   "execution_count": 14,
   "metadata": {
    "execution": {
     "iopub.execute_input": "2023-07-20T12:32:32.043534Z",
     "iopub.status.busy": "2023-07-20T12:32:32.043233Z",
     "iopub.status.idle": "2023-07-20T13:55:26.112564Z",
     "shell.execute_reply": "2023-07-20T13:55:26.110096Z",
     "shell.execute_reply.started": "2023-07-20T12:32:32.043511Z"
    }
   },
   "outputs": [
    {
     "name": "stdout",
     "output_type": "stream",
     "text": [
      "Loading model from ./experiments/ddpm-RS-CDHead-OMS2CD_230715_192507/checkpoint/cd_model_epoch=31-val_loss=0.03.ckpt and evaluating.\n",
      "Loading DDPM gen state dict from diffusion_weights/I190000_E97_gen.pth\n"
     ]
    },
    {
     "name": "stderr",
     "output_type": "stream",
     "text": [
      "100%|██████████| 342/342 [03:47<00:00,  1.50it/s]\n"
     ]
    },
    {
     "name": "stdout",
     "output_type": "stream",
     "text": [
      "Loading model from ./experiments/ddpm-RS-CDHead-OMS2CD_230715_192507/checkpoint/last.ckpt and evaluating.\n",
      "Loading DDPM gen state dict from diffusion_weights/I190000_E97_gen.pth\n"
     ]
    },
    {
     "name": "stderr",
     "output_type": "stream",
     "text": [
      "100%|██████████| 342/342 [03:45<00:00,  1.52it/s]\n"
     ]
    },
    {
     "name": "stdout",
     "output_type": "stream",
     "text": [
      "Loading model from ./experiments/ddpm-RS-CDHead-OMS2CD_230715_130727/checkpoint/cd_model_epoch=13-val_loss=0.04.ckpt and evaluating.\n",
      "Loading DDPM gen state dict from diffusion_weights/I190000_E97_gen.pth\n"
     ]
    },
    {
     "name": "stderr",
     "output_type": "stream",
     "text": [
      "100%|██████████| 342/342 [03:47<00:00,  1.50it/s]\n"
     ]
    },
    {
     "name": "stdout",
     "output_type": "stream",
     "text": [
      "Loading model from ./experiments/ddpm-RS-CDHead-OMS2CD_230715_130727/checkpoint/last.ckpt and evaluating.\n",
      "Loading DDPM gen state dict from diffusion_weights/I190000_E97_gen.pth\n"
     ]
    },
    {
     "name": "stderr",
     "output_type": "stream",
     "text": [
      "100%|██████████| 342/342 [03:48<00:00,  1.50it/s]\n"
     ]
    },
    {
     "name": "stdout",
     "output_type": "stream",
     "text": [
      "Loading model from ./experiments/ddpm-RS-CDHead-OMS2CD_230717_213446/checkpoint/cd_model_ft_epoch=18-val_loss=0.05.ckpt and evaluating.\n",
      "Loading DDPM gen state dict from diffusion_weights/I190000_E97_gen.pth\n"
     ]
    },
    {
     "name": "stderr",
     "output_type": "stream",
     "text": [
      "100%|██████████| 342/342 [03:47<00:00,  1.50it/s]\n"
     ]
    },
    {
     "name": "stdout",
     "output_type": "stream",
     "text": [
      "Loading model from ./experiments/ddpm-RS-CDHead-OMS2CD_230717_213446/checkpoint/cd_model_ft_epoch=21-val_loss=0.05.ckpt and evaluating.\n",
      "Loading DDPM gen state dict from diffusion_weights/I190000_E97_gen.pth\n"
     ]
    },
    {
     "name": "stderr",
     "output_type": "stream",
     "text": [
      "100%|██████████| 342/342 [03:47<00:00,  1.50it/s]\n"
     ]
    },
    {
     "name": "stdout",
     "output_type": "stream",
     "text": [
      "Loading model from ./experiments/ddpm-RS-CDHead-OMS2CD_230717_213446/checkpoint/last.ckpt and evaluating.\n",
      "Loading DDPM gen state dict from diffusion_weights/I190000_E97_gen.pth\n"
     ]
    },
    {
     "name": "stderr",
     "output_type": "stream",
     "text": [
      "100%|██████████| 342/342 [03:46<00:00,  1.51it/s]\n"
     ]
    },
    {
     "name": "stdout",
     "output_type": "stream",
     "text": [
      "Loading model from ./experiments/ddpm-RS-CDHead-OMS2CD_230716_161457/checkpoint/last.ckpt and evaluating.\n",
      "Loading DDPM gen state dict from diffusion_weights/I190000_E97_gen.pth\n"
     ]
    },
    {
     "name": "stderr",
     "output_type": "stream",
     "text": [
      "100%|██████████| 342/342 [03:46<00:00,  1.51it/s]\n"
     ]
    },
    {
     "name": "stdout",
     "output_type": "stream",
     "text": [
      "Loading model from ./experiments/ddpm-RS-CDHead-OMS2CD_230716_173018/checkpoint/cd_model_ft_epoch=28-val_loss=0.03.ckpt and evaluating.\n",
      "Loading DDPM gen state dict from diffusion_weights/I190000_E97_gen.pth\n"
     ]
    },
    {
     "name": "stderr",
     "output_type": "stream",
     "text": [
      "100%|██████████| 342/342 [03:47<00:00,  1.51it/s]\n"
     ]
    },
    {
     "name": "stdout",
     "output_type": "stream",
     "text": [
      "Loading model from ./experiments/ddpm-RS-CDHead-OMS2CD_230716_173018/checkpoint/cd_model_ft_epoch=34-val_loss=0.03.ckpt and evaluating.\n",
      "Loading DDPM gen state dict from diffusion_weights/I190000_E97_gen.pth\n"
     ]
    },
    {
     "name": "stderr",
     "output_type": "stream",
     "text": [
      "100%|██████████| 342/342 [03:48<00:00,  1.50it/s]\n"
     ]
    },
    {
     "name": "stdout",
     "output_type": "stream",
     "text": [
      "Loading model from ./experiments/ddpm-RS-CDHead-OMS2CD_230717_161842/checkpoint/cd_model_ft_epoch=10-val_loss=0.06.ckpt and evaluating.\n",
      "Loading DDPM gen state dict from diffusion_weights/I190000_E97_gen.pth\n"
     ]
    },
    {
     "name": "stderr",
     "output_type": "stream",
     "text": [
      "100%|██████████| 342/342 [03:47<00:00,  1.50it/s]\n"
     ]
    },
    {
     "name": "stdout",
     "output_type": "stream",
     "text": [
      "Loading model from ./experiments/ddpm-RS-CDHead-OMS2CD_230717_161842/checkpoint/last.ckpt and evaluating.\n",
      "Loading DDPM gen state dict from diffusion_weights/I190000_E97_gen.pth\n"
     ]
    },
    {
     "name": "stderr",
     "output_type": "stream",
     "text": [
      "100%|██████████| 342/342 [03:48<00:00,  1.50it/s]\n"
     ]
    },
    {
     "name": "stdout",
     "output_type": "stream",
     "text": [
      "Loading model from ./experiments/ddpm-RS-CDHead-OMS2CD_230718_183929/checkpoint/cd_model_ft_epoch=14-val_loss=0.02.ckpt and evaluating.\n",
      "Loading DDPM gen state dict from diffusion_weights/I190000_E97_gen.pth\n"
     ]
    },
    {
     "name": "stderr",
     "output_type": "stream",
     "text": [
      "100%|██████████| 342/342 [03:48<00:00,  1.50it/s]\n"
     ]
    },
    {
     "name": "stdout",
     "output_type": "stream",
     "text": [
      "Loading model from ./experiments/ddpm-RS-CDHead-OMS2CD_230718_183929/checkpoint/cd_model_ft_epoch=18-val_loss=0.02.ckpt and evaluating.\n",
      "Loading DDPM gen state dict from diffusion_weights/I190000_E97_gen.pth\n"
     ]
    },
    {
     "name": "stderr",
     "output_type": "stream",
     "text": [
      "100%|██████████| 342/342 [03:48<00:00,  1.50it/s]\n"
     ]
    },
    {
     "name": "stdout",
     "output_type": "stream",
     "text": [
      "Loading model from ./experiments/ddpm-RS-CDHead-OMS2CD_230718_183929/checkpoint/last.ckpt and evaluating.\n",
      "Loading DDPM gen state dict from diffusion_weights/I190000_E97_gen.pth\n"
     ]
    },
    {
     "name": "stderr",
     "output_type": "stream",
     "text": [
      "100%|██████████| 342/342 [03:48<00:00,  1.50it/s]\n"
     ]
    },
    {
     "name": "stdout",
     "output_type": "stream",
     "text": [
      "Loading model from ./experiments/ddpm-RS-CDHead-OMS2CD_230717_103144/checkpoint/cd_model_ft_epoch=8-val_loss=0.04.ckpt and evaluating.\n",
      "Loading DDPM gen state dict from diffusion_weights/I190000_E97_gen.pth\n"
     ]
    },
    {
     "name": "stderr",
     "output_type": "stream",
     "text": [
      "100%|██████████| 342/342 [03:47<00:00,  1.50it/s]\n"
     ]
    },
    {
     "name": "stdout",
     "output_type": "stream",
     "text": [
      "Loading model from ./experiments/ddpm-RS-CDHead-OMS2CD_230717_103144/checkpoint/last.ckpt and evaluating.\n",
      "Loading DDPM gen state dict from diffusion_weights/I190000_E97_gen.pth\n"
     ]
    },
    {
     "name": "stderr",
     "output_type": "stream",
     "text": [
      "100%|██████████| 342/342 [03:47<00:00,  1.50it/s]\n"
     ]
    },
    {
     "name": "stdout",
     "output_type": "stream",
     "text": [
      "Loading model from ./checkpoint/last.ckpt and evaluating.\n",
      "Loading DDPM gen state dict from diffusion_weights/I190000_E97_gen.pth\n"
     ]
    },
    {
     "name": "stderr",
     "output_type": "stream",
     "text": [
      "100%|██████████| 342/342 [03:47<00:00,  1.50it/s]\n"
     ]
    }
   ],
   "source": [
    "# Test all areas\n",
    "stats_df = test_model_dir_recursive('.',\n",
    "                          load_ddpmcd, get_mask_preds_ddpmcd, datamodule.test_dataloader(),\n",
    "                          device, threshold=0.3)"
   ]
  },
  {
   "cell_type": "code",
   "execution_count": 15,
   "metadata": {
    "execution": {
     "iopub.execute_input": "2023-07-20T13:55:26.113744Z",
     "iopub.status.busy": "2023-07-20T13:55:26.113504Z",
     "iopub.status.idle": "2023-07-20T13:55:26.124139Z",
     "shell.execute_reply": "2023-07-20T13:55:26.123429Z",
     "shell.execute_reply.started": "2023-07-20T13:55:26.113722Z"
    }
   },
   "outputs": [
    {
     "name": "stdout",
     "output_type": "stream",
     "text": [
      "          OA        F1    recall  precision        AP       IoU  \\\n",
      "13  0.975528  0.277062  0.261795   0.294221  0.232172  0.119554   \n",
      "4   0.967252  0.264459  0.328661   0.221241  0.196513  0.126627   \n",
      "5   0.954244  0.258069  0.444258   0.181853  0.202095  0.133165   \n",
      "14  0.974589  0.254379  0.241986   0.268109  0.197839  0.135466   \n",
      "12  0.957373  0.253372  0.403791   0.184604  0.198096  0.128875   \n",
      "0   0.951069  0.236754  0.423670   0.164277  0.180329  0.140284   \n",
      "6   0.964908  0.235650  0.301994   0.193206  0.164359  0.128695   \n",
      "10  0.971782  0.227579  0.232068   0.223262  0.162203  0.113146   \n",
      "2   0.959187  0.221338  0.323836   0.168125  0.146097  0.124360   \n",
      "11  0.959143  0.217659  0.317290   0.165645  0.157561  0.115677   \n",
      "1   0.957298  0.215488  0.327408   0.160592  0.142356  0.121206   \n",
      "3   0.954741  0.212348  0.340592   0.154263  0.136862  0.125116   \n",
      "8   0.947806  0.209533  0.386193   0.143768  0.137667  0.120392   \n",
      "9   0.943003  0.208648  0.419478   0.138858  0.129206  0.122169   \n",
      "17  0.963457  0.201086  0.256741   0.165261  0.134637  0.113972   \n",
      "15  0.964573  0.200697  0.248298   0.168411  0.137072  0.107358   \n",
      "16  0.969332  0.187740  0.197861   0.178604  0.122553  0.107571   \n",
      "7   0.982114  0.073579  0.039653   0.509359  0.166060  0.103158   \n",
      "\n",
      "                                         weights_path  \n",
      "13  ./experiments/ddpm-RS-CDHead-OMS2CD_230718_183...  \n",
      "4   ./experiments/ddpm-RS-CDHead-OMS2CD_230717_213...  \n",
      "5   ./experiments/ddpm-RS-CDHead-OMS2CD_230717_213...  \n",
      "14  ./experiments/ddpm-RS-CDHead-OMS2CD_230718_183...  \n",
      "12  ./experiments/ddpm-RS-CDHead-OMS2CD_230718_183...  \n",
      "0   ./experiments/ddpm-RS-CDHead-OMS2CD_230715_192...  \n",
      "6   ./experiments/ddpm-RS-CDHead-OMS2CD_230717_213...  \n",
      "10  ./experiments/ddpm-RS-CDHead-OMS2CD_230717_161...  \n",
      "2   ./experiments/ddpm-RS-CDHead-OMS2CD_230715_130...  \n",
      "11  ./experiments/ddpm-RS-CDHead-OMS2CD_230717_161...  \n",
      "1   ./experiments/ddpm-RS-CDHead-OMS2CD_230715_192...  \n",
      "3   ./experiments/ddpm-RS-CDHead-OMS2CD_230715_130...  \n",
      "8   ./experiments/ddpm-RS-CDHead-OMS2CD_230716_173...  \n",
      "9   ./experiments/ddpm-RS-CDHead-OMS2CD_230716_173...  \n",
      "17                             ./checkpoint/last.ckpt  \n",
      "15  ./experiments/ddpm-RS-CDHead-OMS2CD_230717_103...  \n",
      "16  ./experiments/ddpm-RS-CDHead-OMS2CD_230717_103...  \n",
      "7   ./experiments/ddpm-RS-CDHead-OMS2CD_230716_161...  \n",
      "./experiments/ddpm-RS-CDHead-OMS2CD_230718_183929/checkpoint/cd_model_ft_epoch=18-val_loss=0.02.ckpt\n",
      "./experiments/ddpm-RS-CDHead-OMS2CD_230717_213446/checkpoint/cd_model_ft_epoch=18-val_loss=0.05.ckpt\n",
      "./experiments/ddpm-RS-CDHead-OMS2CD_230717_213446/checkpoint/cd_model_ft_epoch=21-val_loss=0.05.ckpt\n",
      "./experiments/ddpm-RS-CDHead-OMS2CD_230718_183929/checkpoint/last.ckpt\n",
      "./experiments/ddpm-RS-CDHead-OMS2CD_230718_183929/checkpoint/cd_model_ft_epoch=14-val_loss=0.02.ckpt\n",
      "./experiments/ddpm-RS-CDHead-OMS2CD_230715_192507/checkpoint/cd_model_epoch=31-val_loss=0.03.ckpt\n",
      "./experiments/ddpm-RS-CDHead-OMS2CD_230717_213446/checkpoint/last.ckpt\n",
      "./experiments/ddpm-RS-CDHead-OMS2CD_230717_161842/checkpoint/cd_model_ft_epoch=10-val_loss=0.06.ckpt\n",
      "./experiments/ddpm-RS-CDHead-OMS2CD_230715_130727/checkpoint/cd_model_epoch=13-val_loss=0.04.ckpt\n",
      "./experiments/ddpm-RS-CDHead-OMS2CD_230717_161842/checkpoint/last.ckpt\n",
      "./experiments/ddpm-RS-CDHead-OMS2CD_230715_192507/checkpoint/last.ckpt\n",
      "./experiments/ddpm-RS-CDHead-OMS2CD_230715_130727/checkpoint/last.ckpt\n",
      "./experiments/ddpm-RS-CDHead-OMS2CD_230716_173018/checkpoint/cd_model_ft_epoch=28-val_loss=0.03.ckpt\n",
      "./experiments/ddpm-RS-CDHead-OMS2CD_230716_173018/checkpoint/cd_model_ft_epoch=34-val_loss=0.03.ckpt\n",
      "./checkpoint/last.ckpt\n",
      "./experiments/ddpm-RS-CDHead-OMS2CD_230717_103144/checkpoint/cd_model_ft_epoch=8-val_loss=0.04.ckpt\n",
      "./experiments/ddpm-RS-CDHead-OMS2CD_230717_103144/checkpoint/last.ckpt\n",
      "./experiments/ddpm-RS-CDHead-OMS2CD_230716_161457/checkpoint/last.ckpt\n"
     ]
    }
   ],
   "source": [
    "print(stats_df.head(100))\n",
    "for path in stats_df['weights_path']:\n",
    "    print(path)"
   ]
  },
  {
   "cell_type": "markdown",
   "metadata": {},
   "source": [
    "# PR curve example"
   ]
  },
  {
   "cell_type": "code",
   "execution_count": 5,
   "metadata": {
    "execution": {
     "iopub.execute_input": "2023-08-03T16:59:33.351302Z",
     "iopub.status.busy": "2023-08-03T16:59:33.350727Z",
     "iopub.status.idle": "2023-08-03T17:00:24.663706Z",
     "shell.execute_reply": "2023-08-03T17:00:24.662914Z",
     "shell.execute_reply.started": "2023-08-03T16:59:33.351277Z"
    }
   },
   "outputs": [
    {
     "name": "stdout",
     "output_type": "stream",
     "text": [
      "export CUDA_VISIBLE_DEVICES=0\n"
     ]
    },
    {
     "name": "stderr",
     "output_type": "stream",
     "text": [
      "INFO:base:Initialization method [orthogonal]\n",
      "INFO:base:Initialization method [orthogonal]\n"
     ]
    },
    {
     "name": "stdout",
     "output_type": "stream",
     "text": [
      "Loading CD gen state dict from diffusion_weights/best_cd_model_gen.pth.\n"
     ]
    },
    {
     "name": "stderr",
     "output_type": "stream",
     "text": [
      "INFO:base:Initialization method [orthogonal]\n"
     ]
    },
    {
     "name": "stdout",
     "output_type": "stream",
     "text": [
      "Loading DDPM gen state dict from diffusion_weights/I190000_E97_gen.pth\n"
     ]
    }
   ],
   "source": [
    "from OpenMineChangeDetection.utils import load_tinycd_oms2cd, load_lsnet_oms2cd, load_ddpmcd_oms2cd\n",
    "from OpenMineChangeDetection.utils import get_mask_preds_lsnet, get_mask_preds_tinycd, get_mask_preds_ddpmcd, evaluate_model, plot_pr_curve\n",
    "\n",
    "lsnet = load_lsnet_oms2cd(device)\n",
    "tinycd = load_tinycd_oms2cd(device)\n",
    "ddpmcd = load_ddpmcd_oms2cd(device)"
   ]
  },
  {
   "cell_type": "code",
   "execution_count": 15,
   "metadata": {
    "execution": {
     "iopub.execute_input": "2023-08-03T17:16:51.230195Z",
     "iopub.status.busy": "2023-08-03T17:16:51.229513Z",
     "iopub.status.idle": "2023-08-03T17:17:01.602664Z",
     "shell.execute_reply": "2023-08-03T17:17:01.602144Z",
     "shell.execute_reply.started": "2023-08-03T17:16:51.230168Z"
    }
   },
   "outputs": [
    {
     "name": "stderr",
     "output_type": "stream",
     "text": [
      "100%|██████████| 255/255 [00:09<00:00, 26.81it/s]\n"
     ]
    },
    {
     "data": {
      "image/png": "[encoded data removed]",
      "text/plain": [
       "<Figure size 640x480 with 2 Axes>"
      ]
     },
     "metadata": {},
     "output_type": "display_data"
    }
   ],
   "source": [
    "datamodule.setup('test')\n",
    "stats = evaluate_model(tinycd.to(device).eval(), datamodule.test_dataloader(), get_mask_preds_tinycd, device, threshold=0.30, pr_thresholds=None)\n",
    "plot_pr_curve(stats['PRC'])"
   ]
  },
  {
   "cell_type": "code",
   "execution_count": 16,
   "metadata": {
    "execution": {
     "iopub.execute_input": "2023-08-03T17:17:01.604105Z",
     "iopub.status.busy": "2023-08-03T17:17:01.603883Z",
     "iopub.status.idle": "2023-08-03T17:17:13.274514Z",
     "shell.execute_reply": "2023-08-03T17:17:13.273970Z",
     "shell.execute_reply.started": "2023-08-03T17:17:01.604082Z"
    }
   },
   "outputs": [
    {
     "name": "stderr",
     "output_type": "stream",
     "text": [
      "100%|██████████| 255/255 [00:10<00:00, 23.27it/s]\n"
     ]
    },
    {
     "data": {
      "image/png": "[encoded data removed]",
      "text/plain": [
       "<Figure size 640x480 with 2 Axes>"
      ]
     },
     "metadata": {},
     "output_type": "display_data"
    }
   ],
   "source": [
    "stats = evaluate_model(lsnet.to(device).eval(), datamodule.test_dataloader(), get_mask_preds_lsnet, device, threshold=0.30, pr_thresholds=None)\n",
    "plot_pr_curve(stats['PRC'])"
   ]
  },
  {
   "cell_type": "code",
   "execution_count": 17,
   "metadata": {
    "execution": {
     "iopub.execute_input": "2023-08-03T17:17:13.275369Z",
     "iopub.status.busy": "2023-08-03T17:17:13.275184Z",
     "iopub.status.idle": "2023-08-03T17:19:09.468801Z",
     "shell.execute_reply": "2023-08-03T17:19:09.468250Z",
     "shell.execute_reply.started": "2023-08-03T17:17:13.275353Z"
    }
   },
   "outputs": [
    {
     "name": "stderr",
     "output_type": "stream",
     "text": [
      "100%|██████████| 255/255 [01:55<00:00,  2.21it/s]\n"
     ]
    },
    {
     "data": {
      "image/png": "[encoded data removed]",
      "text/plain": [
       "<Figure size 640x480 with 2 Axes>"
      ]
     },
     "metadata": {},
     "output_type": "display_data"
    }
   ],
   "source": [
    "stats = evaluate_model(ddpmcd.to(device).eval(), datamodule.test_dataloader(), get_mask_preds_ddpmcd, device, threshold=0.30, pr_thresholds=None)\n",
    "plot_pr_curve(stats['PRC'])"
   ]
  }
 ],
 "metadata": {
  "accelerator": "GPU",
  "colab": {
   "gpuType": "T4",
   "provenance": []
  },
  "kernelspec": {
   "display_name": "Python 3 (ipykernel)",
   "language": "python",
   "name": "python3"
  },
  "language_info": {
   "codemirror_mode": {
    "name": "ipython",
    "version": 3
   },
   "file_extension": ".py",
   "mimetype": "text/x-python",
   "name": "python",
   "nbconvert_exporter": "python",
   "pygments_lexer": "ipython3",
   "version": "3.9.16"
  }
 },
 "nbformat": 4,
 "nbformat_minor": 4
}
