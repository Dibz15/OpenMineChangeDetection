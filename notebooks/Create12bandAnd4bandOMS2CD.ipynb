{
  "nbformat": 4,
  "nbformat_minor": 0,
  "metadata": {
    "colab": {
      "provenance": []
    },
    "kernelspec": {
      "name": "python3",
      "display_name": "Python 3"
    },
    "language_info": {
      "name": "python"
    }
  },
  "cells": [
    {
      "cell_type": "code",
      "execution_count": 1,
      "metadata": {
        "colab": {
          "base_uri": "https://localhost:8080/"
        },
        "id": "xzd-1h7WwpIc",
        "outputId": "565180af-f23d-4c27-a6e8-7a33e6cc5f1c"
      },
      "outputs": [
        {
          "output_type": "stream",
          "name": "stdout",
          "text": [
            "Cloning into 'OpenMineChangeDetection'...\n",
            "remote: Enumerating objects: 3564, done.\u001b[K\n",
            "remote: Counting objects: 100% (163/163), done.\u001b[K\n",
            "remote: Compressing objects: 100% (80/80), done.\u001b[K\n",
            "remote: Total 3564 (delta 89), reused 156 (delta 82), pack-reused 3401\u001b[K\n",
            "Receiving objects: 100% (3564/3564), 124.42 MiB | 17.40 MiB/s, done.\n",
            "Resolving deltas: 100% (2313/2313), done.\n",
            "Updating files: 100% (1702/1702), done.\n"
          ]
        }
      ],
      "source": [
        "!git clone https://github.com/Dibz15/OpenMineChangeDetection.git\n",
        "import sys\n",
        "sys.path.append('/content/OpenMineChangeDetection/')"
      ]
    },
    {
      "cell_type": "code",
      "source": [
        "!pip install rasterio==1.3.8\n",
        "!pip install torchgeo==0.4.1\n",
        "!pip install tiler==0.5.7\n",
        "!pip install kornia==0.6.12\n",
        "!pip install lightning==1.9.5"
      ],
      "metadata": {
        "colab": {
          "base_uri": "https://localhost:8080/"
        },
        "id": "lUdawnegxELP",
        "outputId": "57c5c7de-4ccf-4bf1-f7e6-ffe23edb1e7d"
      },
      "execution_count": 2,
      "outputs": [
        {
          "output_type": "stream",
          "name": "stdout",
          "text": [
            "Collecting rasterio==1.3.8\n",
            "  Downloading rasterio-1.3.8-cp310-cp310-manylinux_2_17_x86_64.manylinux2014_x86_64.whl (21.3 MB)\n",
            "\u001b[2K     \u001b[90m━━━━━━━━━━━━━━━━━━━━━━━━━━━━━━━━━━━━━━━━\u001b[0m \u001b[32m21.3/21.3 MB\u001b[0m \u001b[31m10.9 MB/s\u001b[0m eta \u001b[36m0:00:00\u001b[0m\n",
            "\u001b[?25hCollecting affine (from rasterio==1.3.8)\n",
            "  Downloading affine-2.4.0-py3-none-any.whl (15 kB)\n",
            "Requirement already satisfied: attrs in /usr/local/lib/python3.10/dist-packages (from rasterio==1.3.8) (23.2.0)\n",
            "Requirement already satisfied: certifi in /usr/local/lib/python3.10/dist-packages (from rasterio==1.3.8) (2024.2.2)\n",
            "Requirement already satisfied: click>=4.0 in /usr/local/lib/python3.10/dist-packages (from rasterio==1.3.8) (8.1.7)\n",
            "Requirement already satisfied: cligj>=0.5 in /usr/local/lib/python3.10/dist-packages (from rasterio==1.3.8) (0.7.2)\n",
            "Requirement already satisfied: numpy>=1.18 in /usr/local/lib/python3.10/dist-packages (from rasterio==1.3.8) (1.25.2)\n",
            "Collecting snuggs>=1.4.1 (from rasterio==1.3.8)\n",
            "  Downloading snuggs-1.4.7-py3-none-any.whl (5.4 kB)\n",
            "Requirement already satisfied: click-plugins in /usr/local/lib/python3.10/dist-packages (from rasterio==1.3.8) (1.1.1)\n",
            "Requirement already satisfied: setuptools in /usr/local/lib/python3.10/dist-packages (from rasterio==1.3.8) (67.7.2)\n",
            "Requirement already satisfied: pyparsing>=2.1.6 in /usr/local/lib/python3.10/dist-packages (from snuggs>=1.4.1->rasterio==1.3.8) (3.1.2)\n",
            "Installing collected packages: snuggs, affine, rasterio\n",
            "Successfully installed affine-2.4.0 rasterio-1.3.8 snuggs-1.4.7\n",
            "Collecting torchgeo==0.4.1\n",
            "  Downloading torchgeo-0.4.1-py3-none-any.whl (292 kB)\n",
            "\u001b[2K     \u001b[90m━━━━━━━━━━━━━━━━━━━━━━━━━━━━━━━━━━━━━━━━\u001b[0m \u001b[32m292.5/292.5 kB\u001b[0m \u001b[31m5.2 MB/s\u001b[0m eta \u001b[36m0:00:00\u001b[0m\n",
            "\u001b[?25hCollecting einops<0.7,>=0.3 (from torchgeo==0.4.1)\n",
            "  Downloading einops-0.6.1-py3-none-any.whl (42 kB)\n",
            "\u001b[2K     \u001b[90m━━━━━━━━━━━━━━━━━━━━━━━━━━━━━━━━━━━━━━━━\u001b[0m \u001b[32m42.2/42.2 kB\u001b[0m \u001b[31m4.1 MB/s\u001b[0m eta \u001b[36m0:00:00\u001b[0m\n",
            "\u001b[?25hRequirement already satisfied: fiona<2,>=1.8 in /usr/local/lib/python3.10/dist-packages (from torchgeo==0.4.1) (1.9.6)\n",
            "Collecting kornia<0.7,>=0.6.5 (from torchgeo==0.4.1)\n",
            "  Downloading kornia-0.6.12-py2.py3-none-any.whl (653 kB)\n",
            "\u001b[2K     \u001b[90m━━━━━━━━━━━━━━━━━━━━━━━━━━━━━━━━━━━━━━━━\u001b[0m \u001b[32m653.4/653.4 kB\u001b[0m \u001b[31m10.7 MB/s\u001b[0m eta \u001b[36m0:00:00\u001b[0m\n",
            "\u001b[?25hCollecting lightning<2,>=1.8 (from torchgeo==0.4.1)\n",
            "  Downloading lightning-1.9.5-py3-none-any.whl (2.1 MB)\n",
            "\u001b[2K     \u001b[90m━━━━━━━━━━━━━━━━━━━━━━━━━━━━━━━━━━━━━━━━\u001b[0m \u001b[32m2.1/2.1 MB\u001b[0m \u001b[31m14.5 MB/s\u001b[0m eta \u001b[36m0:00:00\u001b[0m\n",
            "\u001b[?25hRequirement already satisfied: matplotlib<4,>=3.3 in /usr/local/lib/python3.10/dist-packages (from torchgeo==0.4.1) (3.7.1)\n",
            "Requirement already satisfied: numpy<2,>=1.17.2 in /usr/local/lib/python3.10/dist-packages (from torchgeo==0.4.1) (1.25.2)\n",
            "Requirement already satisfied: pillow<10,>=6.2 in /usr/local/lib/python3.10/dist-packages (from torchgeo==0.4.1) (9.4.0)\n",
            "Requirement already satisfied: pyproj<4,>=2.2 in /usr/local/lib/python3.10/dist-packages (from torchgeo==0.4.1) (3.6.1)\n",
            "Requirement already satisfied: rasterio<2,>=1.0.20 in /usr/local/lib/python3.10/dist-packages (from torchgeo==0.4.1) (1.3.8)\n",
            "Collecting rtree<2,>=1 (from torchgeo==0.4.1)\n",
            "  Downloading Rtree-1.2.0-py3-none-manylinux2014_x86_64.manylinux_2_17_x86_64.whl (535 kB)\n",
            "\u001b[2K     \u001b[90m━━━━━━━━━━━━━━━━━━━━━━━━━━━━━━━━━━━━━━━━\u001b[0m \u001b[32m535.2/535.2 kB\u001b[0m \u001b[31m13.7 MB/s\u001b[0m eta \u001b[36m0:00:00\u001b[0m\n",
            "\u001b[?25hRequirement already satisfied: scikit-learn<2,>=0.21 in /usr/local/lib/python3.10/dist-packages (from torchgeo==0.4.1) (1.2.2)\n",
            "Collecting segmentation-models-pytorch<0.4,>=0.2 (from torchgeo==0.4.1)\n",
            "  Downloading segmentation_models_pytorch-0.3.3-py3-none-any.whl (106 kB)\n",
            "\u001b[2K     \u001b[90m━━━━━━━━━━━━━━━━━━━━━━━━━━━━━━━━━━━━━━━━\u001b[0m \u001b[32m106.7/106.7 kB\u001b[0m \u001b[31m10.8 MB/s\u001b[0m eta \u001b[36m0:00:00\u001b[0m\n",
            "\u001b[?25hRequirement already satisfied: shapely<3,>=1.3 in /usr/local/lib/python3.10/dist-packages (from torchgeo==0.4.1) (2.0.3)\n",
            "Collecting timm<0.7,>=0.4.12 (from torchgeo==0.4.1)\n",
            "  Downloading timm-0.6.13-py3-none-any.whl (549 kB)\n",
            "\u001b[2K     \u001b[90m━━━━━━━━━━━━━━━━━━━━━━━━━━━━━━━━━━━━━━━━\u001b[0m \u001b[32m549.1/549.1 kB\u001b[0m \u001b[31m19.3 MB/s\u001b[0m eta \u001b[36m0:00:00\u001b[0m\n",
            "\u001b[?25hRequirement already satisfied: torch<3,>=1.12 in /usr/local/lib/python3.10/dist-packages (from torchgeo==0.4.1) (2.2.1+cu121)\n",
            "Collecting torchmetrics<0.12,>=0.10 (from torchgeo==0.4.1)\n",
            "  Downloading torchmetrics-0.11.4-py3-none-any.whl (519 kB)\n",
            "\u001b[2K     \u001b[90m━━━━━━━━━━━━━━━━━━━━━━━━━━━━━━━━━━━━━━━━\u001b[0m \u001b[32m519.2/519.2 kB\u001b[0m \u001b[31m2.6 MB/s\u001b[0m eta \u001b[36m0:00:00\u001b[0m\n",
            "\u001b[?25hCollecting torchvision<0.16,>=0.13 (from torchgeo==0.4.1)\n",
            "  Downloading torchvision-0.15.2-cp310-cp310-manylinux1_x86_64.whl (6.0 MB)\n",
            "\u001b[2K     \u001b[90m━━━━━━━━━━━━━━━━━━━━━━━━━━━━━━━━━━━━━━━━\u001b[0m \u001b[32m6.0/6.0 MB\u001b[0m \u001b[31m31.8 MB/s\u001b[0m eta \u001b[36m0:00:00\u001b[0m\n",
            "\u001b[?25hRequirement already satisfied: attrs>=19.2.0 in /usr/local/lib/python3.10/dist-packages (from fiona<2,>=1.8->torchgeo==0.4.1) (23.2.0)\n",
            "Requirement already satisfied: certifi in /usr/local/lib/python3.10/dist-packages (from fiona<2,>=1.8->torchgeo==0.4.1) (2024.2.2)\n",
            "Requirement already satisfied: click~=8.0 in /usr/local/lib/python3.10/dist-packages (from fiona<2,>=1.8->torchgeo==0.4.1) (8.1.7)\n",
            "Requirement already satisfied: click-plugins>=1.0 in /usr/local/lib/python3.10/dist-packages (from fiona<2,>=1.8->torchgeo==0.4.1) (1.1.1)\n",
            "Requirement already satisfied: cligj>=0.5 in /usr/local/lib/python3.10/dist-packages (from fiona<2,>=1.8->torchgeo==0.4.1) (0.7.2)\n",
            "Requirement already satisfied: six in /usr/local/lib/python3.10/dist-packages (from fiona<2,>=1.8->torchgeo==0.4.1) (1.16.0)\n",
            "Requirement already satisfied: packaging in /usr/local/lib/python3.10/dist-packages (from kornia<0.7,>=0.6.5->torchgeo==0.4.1) (24.0)\n",
            "Requirement already satisfied: Jinja2<5.0 in /usr/local/lib/python3.10/dist-packages (from lightning<2,>=1.8->torchgeo==0.4.1) (3.1.3)\n",
            "Requirement already satisfied: PyYAML<8.0 in /usr/local/lib/python3.10/dist-packages (from lightning<2,>=1.8->torchgeo==0.4.1) (6.0.1)\n",
            "Collecting arrow<3.0,>=1.2.0 (from lightning<2,>=1.8->torchgeo==0.4.1)\n",
            "  Downloading arrow-1.3.0-py3-none-any.whl (66 kB)\n",
            "\u001b[2K     \u001b[90m━━━━━━━━━━━━━━━━━━━━━━━━━━━━━━━━━━━━━━━━\u001b[0m \u001b[32m66.4/66.4 kB\u001b[0m \u001b[31m6.8 MB/s\u001b[0m eta \u001b[36m0:00:00\u001b[0m\n",
            "\u001b[?25hRequirement already satisfied: beautifulsoup4<6.0,>=4.8.0 in /usr/local/lib/python3.10/dist-packages (from lightning<2,>=1.8->torchgeo==0.4.1) (4.12.3)\n",
            "Collecting croniter<1.4.0,>=1.3.0 (from lightning<2,>=1.8->torchgeo==0.4.1)\n",
            "  Downloading croniter-1.3.15-py2.py3-none-any.whl (19 kB)\n",
            "Collecting dateutils<2.0 (from lightning<2,>=1.8->torchgeo==0.4.1)\n",
            "  Downloading dateutils-0.6.12-py2.py3-none-any.whl (5.7 kB)\n",
            "Collecting deepdiff<8.0,>=5.7.0 (from lightning<2,>=1.8->torchgeo==0.4.1)\n",
            "  Downloading deepdiff-6.7.1-py3-none-any.whl (76 kB)\n",
            "\u001b[2K     \u001b[90m━━━━━━━━━━━━━━━━━━━━━━━━━━━━━━━━━━━━━━━━\u001b[0m \u001b[32m76.6/76.6 kB\u001b[0m \u001b[31m6.6 MB/s\u001b[0m eta \u001b[36m0:00:00\u001b[0m\n",
            "\u001b[?25hCollecting fastapi<0.89.0 (from lightning<2,>=1.8->torchgeo==0.4.1)\n",
            "  Downloading fastapi-0.88.0-py3-none-any.whl (55 kB)\n",
            "\u001b[2K     \u001b[90m━━━━━━━━━━━━━━━━━━━━━━━━━━━━━━━━━━━━━━━━\u001b[0m \u001b[32m55.5/55.5 kB\u001b[0m \u001b[31m6.2 MB/s\u001b[0m eta \u001b[36m0:00:00\u001b[0m\n",
            "\u001b[?25hRequirement already satisfied: fsspec<2024.0,>=2022.5.0 in /usr/local/lib/python3.10/dist-packages (from lightning<2,>=1.8->torchgeo==0.4.1) (2023.6.0)\n",
            "Collecting inquirer<5.0,>=2.10.0 (from lightning<2,>=1.8->torchgeo==0.4.1)\n",
            "  Downloading inquirer-3.2.4-py3-none-any.whl (18 kB)\n",
            "Collecting lightning-cloud>=0.5.27 (from lightning<2,>=1.8->torchgeo==0.4.1)\n",
            "  Downloading lightning_cloud-0.5.65-py3-none-any.whl (1.0 MB)\n",
            "\u001b[2K     \u001b[90m━━━━━━━━━━━━━━━━━━━━━━━━━━━━━━━━━━━━━━━━\u001b[0m \u001b[32m1.0/1.0 MB\u001b[0m \u001b[31m27.8 MB/s\u001b[0m eta \u001b[36m0:00:00\u001b[0m\n",
            "\u001b[?25hCollecting lightning-utilities<2.0,>=0.6.0.post0 (from lightning<2,>=1.8->torchgeo==0.4.1)\n",
            "  Downloading lightning_utilities-0.11.2-py3-none-any.whl (26 kB)\n",
            "Requirement already satisfied: psutil<7.0 in /usr/local/lib/python3.10/dist-packages (from lightning<2,>=1.8->torchgeo==0.4.1) (5.9.5)\n",
            "Requirement already satisfied: pydantic<3.0 in /usr/local/lib/python3.10/dist-packages (from lightning<2,>=1.8->torchgeo==0.4.1) (2.6.4)\n",
            "Requirement already satisfied: requests<4.0 in /usr/local/lib/python3.10/dist-packages (from lightning<2,>=1.8->torchgeo==0.4.1) (2.31.0)\n",
            "Requirement already satisfied: rich<15.0 in /usr/local/lib/python3.10/dist-packages (from lightning<2,>=1.8->torchgeo==0.4.1) (13.7.1)\n",
            "Collecting starlette<2.0 (from lightning<2,>=1.8->torchgeo==0.4.1)\n",
            "  Downloading starlette-0.37.2-py3-none-any.whl (71 kB)\n",
            "\u001b[2K     \u001b[90m━━━━━━━━━━━━━━━━━━━━━━━━━━━━━━━━━━━━━━━━\u001b[0m \u001b[32m71.9/71.9 kB\u001b[0m \u001b[31m7.8 MB/s\u001b[0m eta \u001b[36m0:00:00\u001b[0m\n",
            "\u001b[?25hCollecting starsessions<2.0,>=1.2.1 (from lightning<2,>=1.8->torchgeo==0.4.1)\n",
            "  Downloading starsessions-1.3.0-py3-none-any.whl (10 kB)\n",
            "Requirement already satisfied: tqdm<6.0,>=4.57.0 in /usr/local/lib/python3.10/dist-packages (from lightning<2,>=1.8->torchgeo==0.4.1) (4.66.2)\n",
            "Requirement already satisfied: traitlets<7.0,>=5.3.0 in /usr/local/lib/python3.10/dist-packages (from lightning<2,>=1.8->torchgeo==0.4.1) (5.7.1)\n",
            "Requirement already satisfied: typing-extensions<6.0,>=4.0.0 in /usr/local/lib/python3.10/dist-packages (from lightning<2,>=1.8->torchgeo==0.4.1) (4.10.0)\n",
            "Requirement already satisfied: urllib3<3.0 in /usr/local/lib/python3.10/dist-packages (from lightning<2,>=1.8->torchgeo==0.4.1) (2.0.7)\n",
            "Collecting uvicorn<2.0 (from lightning<2,>=1.8->torchgeo==0.4.1)\n",
            "  Downloading uvicorn-0.29.0-py3-none-any.whl (60 kB)\n",
            "\u001b[2K     \u001b[90m━━━━━━━━━━━━━━━━━━━━━━━━━━━━━━━━━━━━━━━━\u001b[0m \u001b[32m60.8/60.8 kB\u001b[0m \u001b[31m6.5 MB/s\u001b[0m eta \u001b[36m0:00:00\u001b[0m\n",
            "\u001b[?25hRequirement already satisfied: websocket-client<3.0 in /usr/local/lib/python3.10/dist-packages (from lightning<2,>=1.8->torchgeo==0.4.1) (1.7.0)\n",
            "Collecting websockets<12.0 (from lightning<2,>=1.8->torchgeo==0.4.1)\n",
            "  Downloading websockets-11.0.3-cp310-cp310-manylinux_2_5_x86_64.manylinux1_x86_64.manylinux_2_17_x86_64.manylinux2014_x86_64.whl (129 kB)\n",
            "\u001b[2K     \u001b[90m━━━━━━━━━━━━━━━━━━━━━━━━━━━━━━━━━━━━━━━━\u001b[0m \u001b[32m129.9/129.9 kB\u001b[0m \u001b[31m14.7 MB/s\u001b[0m eta \u001b[36m0:00:00\u001b[0m\n",
            "\u001b[?25hRequirement already satisfied: contourpy>=1.0.1 in /usr/local/lib/python3.10/dist-packages (from matplotlib<4,>=3.3->torchgeo==0.4.1) (1.2.0)\n",
            "Requirement already satisfied: cycler>=0.10 in /usr/local/lib/python3.10/dist-packages (from matplotlib<4,>=3.3->torchgeo==0.4.1) (0.12.1)\n",
            "Requirement already satisfied: fonttools>=4.22.0 in /usr/local/lib/python3.10/dist-packages (from matplotlib<4,>=3.3->torchgeo==0.4.1) (4.50.0)\n",
            "Requirement already satisfied: kiwisolver>=1.0.1 in /usr/local/lib/python3.10/dist-packages (from matplotlib<4,>=3.3->torchgeo==0.4.1) (1.4.5)\n",
            "Requirement already satisfied: pyparsing>=2.3.1 in /usr/local/lib/python3.10/dist-packages (from matplotlib<4,>=3.3->torchgeo==0.4.1) (3.1.2)\n",
            "Requirement already satisfied: python-dateutil>=2.7 in /usr/local/lib/python3.10/dist-packages (from matplotlib<4,>=3.3->torchgeo==0.4.1) (2.8.2)\n",
            "Requirement already satisfied: affine in /usr/local/lib/python3.10/dist-packages (from rasterio<2,>=1.0.20->torchgeo==0.4.1) (2.4.0)\n",
            "Requirement already satisfied: snuggs>=1.4.1 in /usr/local/lib/python3.10/dist-packages (from rasterio<2,>=1.0.20->torchgeo==0.4.1) (1.4.7)\n",
            "Requirement already satisfied: setuptools in /usr/local/lib/python3.10/dist-packages (from rasterio<2,>=1.0.20->torchgeo==0.4.1) (67.7.2)\n",
            "Requirement already satisfied: scipy>=1.3.2 in /usr/local/lib/python3.10/dist-packages (from scikit-learn<2,>=0.21->torchgeo==0.4.1) (1.11.4)\n",
            "Requirement already satisfied: joblib>=1.1.1 in /usr/local/lib/python3.10/dist-packages (from scikit-learn<2,>=0.21->torchgeo==0.4.1) (1.3.2)\n",
            "Requirement already satisfied: threadpoolctl>=2.0.0 in /usr/local/lib/python3.10/dist-packages (from scikit-learn<2,>=0.21->torchgeo==0.4.1) (3.4.0)\n",
            "Collecting pretrainedmodels==0.7.4 (from segmentation-models-pytorch<0.4,>=0.2->torchgeo==0.4.1)\n",
            "  Downloading pretrainedmodels-0.7.4.tar.gz (58 kB)\n",
            "\u001b[2K     \u001b[90m━━━━━━━━━━━━━━━━━━━━━━━━━━━━━━━━━━━━━━━━\u001b[0m \u001b[32m58.8/58.8 kB\u001b[0m \u001b[31m5.7 MB/s\u001b[0m eta \u001b[36m0:00:00\u001b[0m\n",
            "\u001b[?25h  Preparing metadata (setup.py) ... \u001b[?25l\u001b[?25hdone\n",
            "Collecting efficientnet-pytorch==0.7.1 (from segmentation-models-pytorch<0.4,>=0.2->torchgeo==0.4.1)\n",
            "  Downloading efficientnet_pytorch-0.7.1.tar.gz (21 kB)\n",
            "  Preparing metadata (setup.py) ... \u001b[?25l\u001b[?25hdone\n",
            "INFO: pip is looking at multiple versions of segmentation-models-pytorch to determine which version is compatible with other requirements. This could take a while.\n",
            "Collecting segmentation-models-pytorch<0.4,>=0.2 (from torchgeo==0.4.1)\n",
            "  Downloading segmentation_models_pytorch-0.3.2-py3-none-any.whl (106 kB)\n",
            "\u001b[2K     \u001b[90m━━━━━━━━━━━━━━━━━━━━━━━━━━━━━━━━━━━━━━━━\u001b[0m \u001b[32m106.7/106.7 kB\u001b[0m \u001b[31m11.5 MB/s\u001b[0m eta \u001b[36m0:00:00\u001b[0m\n",
            "\u001b[?25hCollecting timm<0.7,>=0.4.12 (from torchgeo==0.4.1)\n",
            "  Downloading timm-0.6.12-py3-none-any.whl (549 kB)\n",
            "\u001b[2K     \u001b[90m━━━━━━━━━━━━━━━━━━━━━━━━━━━━━━━━━━━━━━━━\u001b[0m \u001b[32m549.1/549.1 kB\u001b[0m \u001b[31m40.7 MB/s\u001b[0m eta \u001b[36m0:00:00\u001b[0m\n",
            "\u001b[?25hRequirement already satisfied: huggingface-hub in /usr/local/lib/python3.10/dist-packages (from timm<0.7,>=0.4.12->torchgeo==0.4.1) (0.20.3)\n",
            "Collecting munch (from pretrainedmodels==0.7.4->segmentation-models-pytorch<0.4,>=0.2->torchgeo==0.4.1)\n",
            "  Downloading munch-4.0.0-py2.py3-none-any.whl (9.9 kB)\n",
            "Requirement already satisfied: filelock in /usr/local/lib/python3.10/dist-packages (from torch<3,>=1.12->torchgeo==0.4.1) (3.13.3)\n",
            "Requirement already satisfied: sympy in /usr/local/lib/python3.10/dist-packages (from torch<3,>=1.12->torchgeo==0.4.1) (1.12)\n",
            "Requirement already satisfied: networkx in /usr/local/lib/python3.10/dist-packages (from torch<3,>=1.12->torchgeo==0.4.1) (3.2.1)\n",
            "Collecting nvidia-cuda-nvrtc-cu12==12.1.105 (from torch<3,>=1.12->torchgeo==0.4.1)\n",
            "  Downloading nvidia_cuda_nvrtc_cu12-12.1.105-py3-none-manylinux1_x86_64.whl (23.7 MB)\n",
            "\u001b[2K     \u001b[90m━━━━━━━━━━━━━━━━━━━━━━━━━━━━━━━━━━━━━━━━\u001b[0m \u001b[32m23.7/23.7 MB\u001b[0m \u001b[31m43.9 MB/s\u001b[0m eta \u001b[36m0:00:00\u001b[0m\n",
            "\u001b[?25hCollecting nvidia-cuda-runtime-cu12==12.1.105 (from torch<3,>=1.12->torchgeo==0.4.1)\n",
            "  Downloading nvidia_cuda_runtime_cu12-12.1.105-py3-none-manylinux1_x86_64.whl (823 kB)\n",
            "\u001b[2K     \u001b[90m━━━━━━━━━━━━━━━━━━━━━━━━━━━━━━━━━━━━━━━━\u001b[0m \u001b[32m823.6/823.6 kB\u001b[0m \u001b[31m44.5 MB/s\u001b[0m eta \u001b[36m0:00:00\u001b[0m\n",
            "\u001b[?25hCollecting nvidia-cuda-cupti-cu12==12.1.105 (from torch<3,>=1.12->torchgeo==0.4.1)\n",
            "  Downloading nvidia_cuda_cupti_cu12-12.1.105-py3-none-manylinux1_x86_64.whl (14.1 MB)\n",
            "\u001b[2K     \u001b[90m━━━━━━━━━━━━━━━━━━━━━━━━━━━━━━━━━━━━━━━━\u001b[0m \u001b[32m14.1/14.1 MB\u001b[0m \u001b[31m22.2 MB/s\u001b[0m eta \u001b[36m0:00:00\u001b[0m\n",
            "\u001b[?25hCollecting nvidia-cudnn-cu12==8.9.2.26 (from torch<3,>=1.12->torchgeo==0.4.1)\n",
            "  Downloading nvidia_cudnn_cu12-8.9.2.26-py3-none-manylinux1_x86_64.whl (731.7 MB)\n",
            "\u001b[2K     \u001b[90m━━━━━━━━━━━━━━━━━━━━━━━━━━━━━━━━━━━━━━━━\u001b[0m \u001b[32m731.7/731.7 MB\u001b[0m \u001b[31m1.8 MB/s\u001b[0m eta \u001b[36m0:00:00\u001b[0m\n",
            "\u001b[?25hCollecting nvidia-cublas-cu12==12.1.3.1 (from torch<3,>=1.12->torchgeo==0.4.1)\n",
            "  Downloading nvidia_cublas_cu12-12.1.3.1-py3-none-manylinux1_x86_64.whl (410.6 MB)\n",
            "\u001b[2K     \u001b[90m━━━━━━━━━━━━━━━━━━━━━━━━━━━━━━━━━━━━━━━━\u001b[0m \u001b[32m410.6/410.6 MB\u001b[0m \u001b[31m3.4 MB/s\u001b[0m eta \u001b[36m0:00:00\u001b[0m\n",
            "\u001b[?25hCollecting nvidia-cufft-cu12==11.0.2.54 (from torch<3,>=1.12->torchgeo==0.4.1)\n",
            "  Downloading nvidia_cufft_cu12-11.0.2.54-py3-none-manylinux1_x86_64.whl (121.6 MB)\n",
            "\u001b[2K     \u001b[90m━━━━━━━━━━━━━━━━━━━━━━━━━━━━━━━━━━━━━━━━\u001b[0m \u001b[32m121.6/121.6 MB\u001b[0m \u001b[31m8.3 MB/s\u001b[0m eta \u001b[36m0:00:00\u001b[0m\n",
            "\u001b[?25hCollecting nvidia-curand-cu12==10.3.2.106 (from torch<3,>=1.12->torchgeo==0.4.1)\n",
            "  Downloading nvidia_curand_cu12-10.3.2.106-py3-none-manylinux1_x86_64.whl (56.5 MB)\n",
            "\u001b[2K     \u001b[90m━━━━━━━━━━━━━━━━━━━━━━━━━━━━━━━━━━━━━━━━\u001b[0m \u001b[32m56.5/56.5 MB\u001b[0m \u001b[31m9.8 MB/s\u001b[0m eta \u001b[36m0:00:00\u001b[0m\n",
            "\u001b[?25hCollecting nvidia-cusolver-cu12==11.4.5.107 (from torch<3,>=1.12->torchgeo==0.4.1)\n",
            "  Downloading nvidia_cusolver_cu12-11.4.5.107-py3-none-manylinux1_x86_64.whl (124.2 MB)\n",
            "\u001b[2K     \u001b[90m━━━━━━━━━━━━━━━━━━━━━━━━━━━━━━━━━━━━━━━━\u001b[0m \u001b[32m124.2/124.2 MB\u001b[0m \u001b[31m8.3 MB/s\u001b[0m eta \u001b[36m0:00:00\u001b[0m\n",
            "\u001b[?25hCollecting nvidia-cusparse-cu12==12.1.0.106 (from torch<3,>=1.12->torchgeo==0.4.1)\n",
            "  Downloading nvidia_cusparse_cu12-12.1.0.106-py3-none-manylinux1_x86_64.whl (196.0 MB)\n",
            "\u001b[2K     \u001b[90m━━━━━━━━━━━━━━━━━━━━━━━━━━━━━━━━━━━━━━━━\u001b[0m \u001b[32m196.0/196.0 MB\u001b[0m \u001b[31m5.0 MB/s\u001b[0m eta \u001b[36m0:00:00\u001b[0m\n",
            "\u001b[?25hCollecting nvidia-nccl-cu12==2.19.3 (from torch<3,>=1.12->torchgeo==0.4.1)\n",
            "  Downloading nvidia_nccl_cu12-2.19.3-py3-none-manylinux1_x86_64.whl (166.0 MB)\n",
            "\u001b[2K     \u001b[90m━━━━━━━━━━━━━━━━━━━━━━━━━━━━━━━━━━━━━━━━\u001b[0m \u001b[32m166.0/166.0 MB\u001b[0m \u001b[31m2.3 MB/s\u001b[0m eta \u001b[36m0:00:00\u001b[0m\n",
            "\u001b[?25hCollecting nvidia-nvtx-cu12==12.1.105 (from torch<3,>=1.12->torchgeo==0.4.1)\n",
            "  Downloading nvidia_nvtx_cu12-12.1.105-py3-none-manylinux1_x86_64.whl (99 kB)\n",
            "\u001b[2K     \u001b[90m━━━━━━━━━━━━━━━━━━━━━━━━━━━━━━━━━━━━━━━━\u001b[0m \u001b[32m99.1/99.1 kB\u001b[0m \u001b[31m11.3 MB/s\u001b[0m eta \u001b[36m0:00:00\u001b[0m\n",
            "\u001b[?25hRequirement already satisfied: triton==2.2.0 in /usr/local/lib/python3.10/dist-packages (from torch<3,>=1.12->torchgeo==0.4.1) (2.2.0)\n",
            "Collecting nvidia-nvjitlink-cu12 (from nvidia-cusolver-cu12==11.4.5.107->torch<3,>=1.12->torchgeo==0.4.1)\n",
            "  Downloading nvidia_nvjitlink_cu12-12.4.99-py3-none-manylinux2014_x86_64.whl (21.1 MB)\n",
            "\u001b[2K     \u001b[90m━━━━━━━━━━━━━━━━━━━━━━━━━━━━━━━━━━━━━━━━\u001b[0m \u001b[32m21.1/21.1 MB\u001b[0m \u001b[31m60.6 MB/s\u001b[0m eta \u001b[36m0:00:00\u001b[0m\n",
            "\u001b[?25hCollecting torch<3,>=1.12 (from torchgeo==0.4.1)\n",
            "  Downloading torch-2.0.1-cp310-cp310-manylinux1_x86_64.whl (619.9 MB)\n",
            "\u001b[2K     \u001b[90m━━━━━━━━━━━━━━━━━━━━━━━━━━━━━━━━━━━━━━━━\u001b[0m \u001b[32m619.9/619.9 MB\u001b[0m \u001b[31m1.1 MB/s\u001b[0m eta \u001b[36m0:00:00\u001b[0m\n",
            "\u001b[?25hCollecting nvidia-cuda-nvrtc-cu11==11.7.99 (from torch<3,>=1.12->torchgeo==0.4.1)\n",
            "  Downloading nvidia_cuda_nvrtc_cu11-11.7.99-2-py3-none-manylinux1_x86_64.whl (21.0 MB)\n",
            "\u001b[2K     \u001b[90m━━━━━━━━━━━━━━━━━━━━━━━━━━━━━━━━━━━━━━━━\u001b[0m \u001b[32m21.0/21.0 MB\u001b[0m \u001b[31m61.7 MB/s\u001b[0m eta \u001b[36m0:00:00\u001b[0m\n",
            "\u001b[?25hCollecting nvidia-cuda-runtime-cu11==11.7.99 (from torch<3,>=1.12->torchgeo==0.4.1)\n",
            "  Downloading nvidia_cuda_runtime_cu11-11.7.99-py3-none-manylinux1_x86_64.whl (849 kB)\n",
            "\u001b[2K     \u001b[90m━━━━━━━━━━━━━━━━━━━━━━━━━━━━━━━━━━━━━━━━\u001b[0m \u001b[32m849.3/849.3 kB\u001b[0m \u001b[31m52.3 MB/s\u001b[0m eta \u001b[36m0:00:00\u001b[0m\n",
            "\u001b[?25hCollecting nvidia-cuda-cupti-cu11==11.7.101 (from torch<3,>=1.12->torchgeo==0.4.1)\n",
            "  Downloading nvidia_cuda_cupti_cu11-11.7.101-py3-none-manylinux1_x86_64.whl (11.8 MB)\n",
            "\u001b[2K     \u001b[90m━━━━━━━━━━━━━━━━━━━━━━━━━━━━━━━━━━━━━━━━\u001b[0m \u001b[32m11.8/11.8 MB\u001b[0m \u001b[31m75.9 MB/s\u001b[0m eta \u001b[36m0:00:00\u001b[0m\n",
            "\u001b[?25hCollecting nvidia-cudnn-cu11==8.5.0.96 (from torch<3,>=1.12->torchgeo==0.4.1)\n",
            "  Downloading nvidia_cudnn_cu11-8.5.0.96-2-py3-none-manylinux1_x86_64.whl (557.1 MB)\n",
            "\u001b[2K     \u001b[90m━━━━━━━━━━━━━━━━━━━━━━━━━━━━━━━━━━━━━━━━\u001b[0m \u001b[32m557.1/557.1 MB\u001b[0m \u001b[31m2.2 MB/s\u001b[0m eta \u001b[36m0:00:00\u001b[0m\n",
            "\u001b[?25hCollecting nvidia-cublas-cu11==11.10.3.66 (from torch<3,>=1.12->torchgeo==0.4.1)\n",
            "  Downloading nvidia_cublas_cu11-11.10.3.66-py3-none-manylinux1_x86_64.whl (317.1 MB)\n",
            "\u001b[2K     \u001b[90m━━━━━━━━━━━━━━━━━━━━━━━━━━━━━━━━━━━━━━━━\u001b[0m \u001b[32m317.1/317.1 MB\u001b[0m \u001b[31m3.6 MB/s\u001b[0m eta \u001b[36m0:00:00\u001b[0m\n",
            "\u001b[?25hCollecting nvidia-cufft-cu11==10.9.0.58 (from torch<3,>=1.12->torchgeo==0.4.1)\n",
            "  Downloading nvidia_cufft_cu11-10.9.0.58-py3-none-manylinux1_x86_64.whl (168.4 MB)\n",
            "\u001b[2K     \u001b[90m━━━━━━━━━━━━━━━━━━━━━━━━━━━━━━━━━━━━━━━━\u001b[0m \u001b[32m168.4/168.4 MB\u001b[0m \u001b[31m6.4 MB/s\u001b[0m eta \u001b[36m0:00:00\u001b[0m\n",
            "\u001b[?25hCollecting nvidia-curand-cu11==10.2.10.91 (from torch<3,>=1.12->torchgeo==0.4.1)\n",
            "  Downloading nvidia_curand_cu11-10.2.10.91-py3-none-manylinux1_x86_64.whl (54.6 MB)\n",
            "\u001b[2K     \u001b[90m━━━━━━━━━━━━━━━━━━━━━━━━━━━━━━━━━━━━━━━━\u001b[0m \u001b[32m54.6/54.6 MB\u001b[0m \u001b[31m10.1 MB/s\u001b[0m eta \u001b[36m0:00:00\u001b[0m\n",
            "\u001b[?25hCollecting nvidia-cusolver-cu11==11.4.0.1 (from torch<3,>=1.12->torchgeo==0.4.1)\n",
            "  Downloading nvidia_cusolver_cu11-11.4.0.1-2-py3-none-manylinux1_x86_64.whl (102.6 MB)\n",
            "\u001b[2K     \u001b[90m━━━━━━━━━━━━━━━━━━━━━━━━━━━━━━━━━━━━━━━━\u001b[0m \u001b[32m102.6/102.6 MB\u001b[0m \u001b[31m8.8 MB/s\u001b[0m eta \u001b[36m0:00:00\u001b[0m\n",
            "\u001b[?25hCollecting nvidia-cusparse-cu11==11.7.4.91 (from torch<3,>=1.12->torchgeo==0.4.1)\n",
            "  Downloading nvidia_cusparse_cu11-11.7.4.91-py3-none-manylinux1_x86_64.whl (173.2 MB)\n",
            "\u001b[2K     \u001b[90m━━━━━━━━━━━━━━━━━━━━━━━━━━━━━━━━━━━━━━━━\u001b[0m \u001b[32m173.2/173.2 MB\u001b[0m \u001b[31m2.4 MB/s\u001b[0m eta \u001b[36m0:00:00\u001b[0m\n",
            "\u001b[?25hCollecting nvidia-nccl-cu11==2.14.3 (from torch<3,>=1.12->torchgeo==0.4.1)\n",
            "  Downloading nvidia_nccl_cu11-2.14.3-py3-none-manylinux1_x86_64.whl (177.1 MB)\n",
            "\u001b[2K     \u001b[90m━━━━━━━━━━━━━━━━━━━━━━━━━━━━━━━━━━━━━━━━\u001b[0m \u001b[32m177.1/177.1 MB\u001b[0m \u001b[31m6.2 MB/s\u001b[0m eta \u001b[36m0:00:00\u001b[0m\n",
            "\u001b[?25hCollecting nvidia-nvtx-cu11==11.7.91 (from torch<3,>=1.12->torchgeo==0.4.1)\n",
            "  Downloading nvidia_nvtx_cu11-11.7.91-py3-none-manylinux1_x86_64.whl (98 kB)\n",
            "\u001b[2K     \u001b[90m━━━━━━━━━━━━━━━━━━━━━━━━━━━━━━━━━━━━━━━━\u001b[0m \u001b[32m98.6/98.6 kB\u001b[0m \u001b[31m11.8 MB/s\u001b[0m eta \u001b[36m0:00:00\u001b[0m\n",
            "\u001b[?25hCollecting triton==2.0.0 (from torch<3,>=1.12->torchgeo==0.4.1)\n",
            "  Downloading triton-2.0.0-1-cp310-cp310-manylinux2014_x86_64.manylinux_2_17_x86_64.whl (63.3 MB)\n",
            "\u001b[2K     \u001b[90m━━━━━━━━━━━━━━━━━━━━━━━━━━━━━━━━━━━━━━━━\u001b[0m \u001b[32m63.3/63.3 MB\u001b[0m \u001b[31m9.0 MB/s\u001b[0m eta \u001b[36m0:00:00\u001b[0m\n",
            "\u001b[?25hRequirement already satisfied: wheel in /usr/local/lib/python3.10/dist-packages (from nvidia-cublas-cu11==11.10.3.66->torch<3,>=1.12->torchgeo==0.4.1) (0.43.0)\n",
            "Requirement already satisfied: cmake in /usr/local/lib/python3.10/dist-packages (from triton==2.0.0->torch<3,>=1.12->torchgeo==0.4.1) (3.27.9)\n",
            "Collecting lit (from triton==2.0.0->torch<3,>=1.12->torchgeo==0.4.1)\n",
            "  Downloading lit-18.1.2.tar.gz (161 kB)\n",
            "\u001b[2K     \u001b[90m━━━━━━━━━━━━━━━━━━━━━━━━━━━━━━━━━━━━━━━━\u001b[0m \u001b[32m161.0/161.0 kB\u001b[0m \u001b[31m18.3 MB/s\u001b[0m eta \u001b[36m0:00:00\u001b[0m\n",
            "\u001b[?25h  Installing build dependencies ... \u001b[?25l\u001b[?25hdone\n",
            "  Getting requirements to build wheel ... \u001b[?25l\u001b[?25hdone\n",
            "  Installing backend dependencies ... \u001b[?25l\u001b[?25hdone\n",
            "  Preparing metadata (pyproject.toml) ... \u001b[?25l\u001b[?25hdone\n",
            "Collecting types-python-dateutil>=2.8.10 (from arrow<3.0,>=1.2.0->lightning<2,>=1.8->torchgeo==0.4.1)\n",
            "  Downloading types_python_dateutil-2.9.0.20240316-py3-none-any.whl (9.7 kB)\n",
            "Requirement already satisfied: soupsieve>1.2 in /usr/local/lib/python3.10/dist-packages (from beautifulsoup4<6.0,>=4.8.0->lightning<2,>=1.8->torchgeo==0.4.1) (2.5)\n",
            "Requirement already satisfied: pytz in /usr/local/lib/python3.10/dist-packages (from dateutils<2.0->lightning<2,>=1.8->torchgeo==0.4.1) (2023.4)\n",
            "Collecting ordered-set<4.2.0,>=4.0.2 (from deepdiff<8.0,>=5.7.0->lightning<2,>=1.8->torchgeo==0.4.1)\n",
            "  Downloading ordered_set-4.1.0-py3-none-any.whl (7.6 kB)\n",
            "Collecting pydantic<3.0 (from lightning<2,>=1.8->torchgeo==0.4.1)\n",
            "  Downloading pydantic-1.10.14-cp310-cp310-manylinux_2_17_x86_64.manylinux2014_x86_64.whl (3.1 MB)\n",
            "\u001b[2K     \u001b[90m━━━━━━━━━━━━━━━━━━━━━━━━━━━━━━━━━━━━━━━━\u001b[0m \u001b[32m3.1/3.1 MB\u001b[0m \u001b[31m69.7 MB/s\u001b[0m eta \u001b[36m0:00:00\u001b[0m\n",
            "\u001b[?25hCollecting starlette<2.0 (from lightning<2,>=1.8->torchgeo==0.4.1)\n",
            "  Downloading starlette-0.22.0-py3-none-any.whl (64 kB)\n",
            "\u001b[2K     \u001b[90m━━━━━━━━━━━━━━━━━━━━━━━━━━━━━━━━━━━━━━━━\u001b[0m \u001b[32m64.3/64.3 kB\u001b[0m \u001b[31m6.8 MB/s\u001b[0m eta \u001b[36m0:00:00\u001b[0m\n",
            "\u001b[?25hRequirement already satisfied: anyio<5,>=3.4.0 in /usr/local/lib/python3.10/dist-packages (from starlette<2.0->lightning<2,>=1.8->torchgeo==0.4.1) (3.7.1)\n",
            "Requirement already satisfied: aiohttp!=4.0.0a0,!=4.0.0a1 in /usr/local/lib/python3.10/dist-packages (from fsspec<2024.0,>=2022.5.0->lightning<2,>=1.8->torchgeo==0.4.1) (3.9.3)\n",
            "Collecting blessed>=1.19.0 (from inquirer<5.0,>=2.10.0->lightning<2,>=1.8->torchgeo==0.4.1)\n",
            "  Downloading blessed-1.20.0-py2.py3-none-any.whl (58 kB)\n",
            "\u001b[2K     \u001b[90m━━━━━━━━━━━━━━━━━━━━━━━━━━━━━━━━━━━━━━━━\u001b[0m \u001b[32m58.4/58.4 kB\u001b[0m \u001b[31m6.7 MB/s\u001b[0m eta \u001b[36m0:00:00\u001b[0m\n",
            "\u001b[?25hCollecting editor>=1.6.0 (from inquirer<5.0,>=2.10.0->lightning<2,>=1.8->torchgeo==0.4.1)\n",
            "  Downloading editor-1.6.6-py3-none-any.whl (4.0 kB)\n",
            "Collecting readchar>=3.0.6 (from inquirer<5.0,>=2.10.0->lightning<2,>=1.8->torchgeo==0.4.1)\n",
            "  Downloading readchar-4.0.6-py3-none-any.whl (8.5 kB)\n",
            "Requirement already satisfied: MarkupSafe>=2.0 in /usr/local/lib/python3.10/dist-packages (from Jinja2<5.0->lightning<2,>=1.8->torchgeo==0.4.1) (2.1.5)\n",
            "Requirement already satisfied: pyjwt in /usr/lib/python3/dist-packages (from lightning-cloud>=0.5.27->lightning<2,>=1.8->torchgeo==0.4.1) (2.3.0)\n",
            "Collecting python-multipart (from lightning-cloud>=0.5.27->lightning<2,>=1.8->torchgeo==0.4.1)\n",
            "  Downloading python_multipart-0.0.9-py3-none-any.whl (22 kB)\n",
            "Collecting boto3 (from lightning-cloud>=0.5.27->lightning<2,>=1.8->torchgeo==0.4.1)\n",
            "  Downloading boto3-1.34.72-py3-none-any.whl (139 kB)\n",
            "\u001b[2K     \u001b[90m━━━━━━━━━━━━━━━━━━━━━━━━━━━━━━━━━━━━━━━━\u001b[0m \u001b[32m139.3/139.3 kB\u001b[0m \u001b[31m13.3 MB/s\u001b[0m eta \u001b[36m0:00:00\u001b[0m\n",
            "\u001b[?25hRequirement already satisfied: charset-normalizer<4,>=2 in /usr/local/lib/python3.10/dist-packages (from requests<4.0->lightning<2,>=1.8->torchgeo==0.4.1) (3.3.2)\n",
            "Requirement already satisfied: idna<4,>=2.5 in /usr/local/lib/python3.10/dist-packages (from requests<4.0->lightning<2,>=1.8->torchgeo==0.4.1) (3.6)\n",
            "Requirement already satisfied: markdown-it-py>=2.2.0 in /usr/local/lib/python3.10/dist-packages (from rich<15.0->lightning<2,>=1.8->torchgeo==0.4.1) (3.0.0)\n",
            "Requirement already satisfied: pygments<3.0.0,>=2.13.0 in /usr/local/lib/python3.10/dist-packages (from rich<15.0->lightning<2,>=1.8->torchgeo==0.4.1) (2.16.1)\n",
            "Requirement already satisfied: itsdangerous<3.0.0,>=2.0.1 in /usr/local/lib/python3.10/dist-packages (from starsessions<2.0,>=1.2.1->lightning<2,>=1.8->torchgeo==0.4.1) (2.1.2)\n",
            "Collecting h11>=0.8 (from uvicorn<2.0->lightning<2,>=1.8->torchgeo==0.4.1)\n",
            "  Downloading h11-0.14.0-py3-none-any.whl (58 kB)\n",
            "\u001b[2K     \u001b[90m━━━━━━━━━━━━━━━━━━━━━━━━━━━━━━━━━━━━━━━━\u001b[0m \u001b[32m58.3/58.3 kB\u001b[0m \u001b[31m6.8 MB/s\u001b[0m eta \u001b[36m0:00:00\u001b[0m\n",
            "\u001b[?25hRequirement already satisfied: mpmath>=0.19 in /usr/local/lib/python3.10/dist-packages (from sympy->torch<3,>=1.12->torchgeo==0.4.1) (1.3.0)\n",
            "Requirement already satisfied: aiosignal>=1.1.2 in /usr/local/lib/python3.10/dist-packages (from aiohttp!=4.0.0a0,!=4.0.0a1->fsspec<2024.0,>=2022.5.0->lightning<2,>=1.8->torchgeo==0.4.1) (1.3.1)\n",
            "Requirement already satisfied: frozenlist>=1.1.1 in /usr/local/lib/python3.10/dist-packages (from aiohttp!=4.0.0a0,!=4.0.0a1->fsspec<2024.0,>=2022.5.0->lightning<2,>=1.8->torchgeo==0.4.1) (1.4.1)\n",
            "Requirement already satisfied: multidict<7.0,>=4.5 in /usr/local/lib/python3.10/dist-packages (from aiohttp!=4.0.0a0,!=4.0.0a1->fsspec<2024.0,>=2022.5.0->lightning<2,>=1.8->torchgeo==0.4.1) (6.0.5)\n",
            "Requirement already satisfied: yarl<2.0,>=1.0 in /usr/local/lib/python3.10/dist-packages (from aiohttp!=4.0.0a0,!=4.0.0a1->fsspec<2024.0,>=2022.5.0->lightning<2,>=1.8->torchgeo==0.4.1) (1.9.4)\n",
            "Requirement already satisfied: async-timeout<5.0,>=4.0 in /usr/local/lib/python3.10/dist-packages (from aiohttp!=4.0.0a0,!=4.0.0a1->fsspec<2024.0,>=2022.5.0->lightning<2,>=1.8->torchgeo==0.4.1) (4.0.3)\n",
            "Requirement already satisfied: sniffio>=1.1 in /usr/local/lib/python3.10/dist-packages (from anyio<5,>=3.4.0->starlette<2.0->lightning<2,>=1.8->torchgeo==0.4.1) (1.3.1)\n",
            "Requirement already satisfied: exceptiongroup in /usr/local/lib/python3.10/dist-packages (from anyio<5,>=3.4.0->starlette<2.0->lightning<2,>=1.8->torchgeo==0.4.1) (1.2.0)\n",
            "Requirement already satisfied: wcwidth>=0.1.4 in /usr/local/lib/python3.10/dist-packages (from blessed>=1.19.0->inquirer<5.0,>=2.10.0->lightning<2,>=1.8->torchgeo==0.4.1) (0.2.13)\n",
            "Collecting runs (from editor>=1.6.0->inquirer<5.0,>=2.10.0->lightning<2,>=1.8->torchgeo==0.4.1)\n",
            "  Downloading runs-1.2.2-py3-none-any.whl (7.0 kB)\n",
            "Collecting xmod (from editor>=1.6.0->inquirer<5.0,>=2.10.0->lightning<2,>=1.8->torchgeo==0.4.1)\n",
            "  Downloading xmod-1.8.1-py3-none-any.whl (4.6 kB)\n",
            "Requirement already satisfied: mdurl~=0.1 in /usr/local/lib/python3.10/dist-packages (from markdown-it-py>=2.2.0->rich<15.0->lightning<2,>=1.8->torchgeo==0.4.1) (0.1.2)\n",
            "Collecting botocore<1.35.0,>=1.34.72 (from boto3->lightning-cloud>=0.5.27->lightning<2,>=1.8->torchgeo==0.4.1)\n",
            "  Downloading botocore-1.34.72-py3-none-any.whl (12.0 MB)\n",
            "\u001b[2K     \u001b[90m━━━━━━━━━━━━━━━━━━━━━━━━━━━━━━━━━━━━━━━━\u001b[0m \u001b[32m12.0/12.0 MB\u001b[0m \u001b[31m80.2 MB/s\u001b[0m eta \u001b[36m0:00:00\u001b[0m\n",
            "\u001b[?25hCollecting jmespath<2.0.0,>=0.7.1 (from boto3->lightning-cloud>=0.5.27->lightning<2,>=1.8->torchgeo==0.4.1)\n",
            "  Downloading jmespath-1.0.1-py3-none-any.whl (20 kB)\n",
            "Collecting s3transfer<0.11.0,>=0.10.0 (from boto3->lightning-cloud>=0.5.27->lightning<2,>=1.8->torchgeo==0.4.1)\n",
            "  Downloading s3transfer-0.10.1-py3-none-any.whl (82 kB)\n",
            "\u001b[2K     \u001b[90m━━━━━━━━━━━━━━━━━━━━━━━━━━━━━━━━━━━━━━━━\u001b[0m \u001b[32m82.2/82.2 kB\u001b[0m \u001b[31m9.7 MB/s\u001b[0m eta \u001b[36m0:00:00\u001b[0m\n",
            "\u001b[?25hBuilding wheels for collected packages: efficientnet-pytorch, pretrainedmodels, lit\n",
            "  Building wheel for efficientnet-pytorch (setup.py) ... \u001b[?25l\u001b[?25hdone\n",
            "  Created wheel for efficientnet-pytorch: filename=efficientnet_pytorch-0.7.1-py3-none-any.whl size=16429 sha256=ffdbf4c86381feb35ae57f8f62acdf465a80caf1b9fe9774c684b2d6f1c090ae\n",
            "  Stored in directory: /root/.cache/pip/wheels/03/3f/e9/911b1bc46869644912bda90a56bcf7b960f20b5187feea3baf\n",
            "  Building wheel for pretrainedmodels (setup.py) ... \u001b[?25l\u001b[?25hdone\n",
            "  Created wheel for pretrainedmodels: filename=pretrainedmodels-0.7.4-py3-none-any.whl size=60945 sha256=4164847fff6c22716a81ae21f2b1f8a6962bd727a50dfab06cdf75eb0dbe1ff4\n",
            "  Stored in directory: /root/.cache/pip/wheels/35/cb/a5/8f534c60142835bfc889f9a482e4a67e0b817032d9c6883b64\n",
            "  Building wheel for lit (pyproject.toml) ... \u001b[?25l\u001b[?25hdone\n",
            "  Created wheel for lit: filename=lit-18.1.2-py3-none-any.whl size=96368 sha256=a923399f897539474ca6eb6b4afc2bc241f759da289660ac9a42914bc50db9c7\n",
            "  Stored in directory: /root/.cache/pip/wheels/f4/4d/9c/3e28d23c2c6fc6a9bd89c91a7b7ff775fc71a41ac9a52563e9\n",
            "Successfully built efficientnet-pytorch pretrainedmodels lit\n",
            "Installing collected packages: lit, xmod, websockets, types-python-dateutil, rtree, readchar, python-multipart, pydantic, ordered-set, nvidia-nvtx-cu11, nvidia-nccl-cu11, nvidia-cusparse-cu11, nvidia-curand-cu11, nvidia-cufft-cu11, nvidia-cuda-runtime-cu11, nvidia-cuda-nvrtc-cu11, nvidia-cuda-cupti-cu11, nvidia-cublas-cu11, munch, lightning-utilities, jmespath, h11, einops, blessed, uvicorn, starlette, runs, nvidia-cusolver-cu11, nvidia-cudnn-cu11, deepdiff, dateutils, croniter, botocore, arrow, starsessions, s3transfer, fastapi, editor, inquirer, boto3, lightning-cloud, triton, torch, torchvision, torchmetrics, timm, pretrainedmodels, efficientnet-pytorch, segmentation-models-pytorch, lightning, kornia, torchgeo\n",
            "  Attempting uninstall: pydantic\n",
            "    Found existing installation: pydantic 2.6.4\n",
            "    Uninstalling pydantic-2.6.4:\n",
            "      Successfully uninstalled pydantic-2.6.4\n",
            "  Attempting uninstall: triton\n",
            "    Found existing installation: triton 2.2.0\n",
            "    Uninstalling triton-2.2.0:\n",
            "      Successfully uninstalled triton-2.2.0\n",
            "  Attempting uninstall: torch\n",
            "    Found existing installation: torch 2.2.1+cu121\n",
            "    Uninstalling torch-2.2.1+cu121:\n",
            "      Successfully uninstalled torch-2.2.1+cu121\n",
            "  Attempting uninstall: torchvision\n",
            "    Found existing installation: torchvision 0.17.1+cu121\n",
            "    Uninstalling torchvision-0.17.1+cu121:\n",
            "      Successfully uninstalled torchvision-0.17.1+cu121\n",
            "\u001b[31mERROR: pip's dependency resolver does not currently take into account all the packages that are installed. This behaviour is the source of the following dependency conflicts.\n",
            "torchaudio 2.2.1+cu121 requires torch==2.2.1, but you have torch 2.0.1 which is incompatible.\n",
            "torchtext 0.17.1 requires torch==2.2.1, but you have torch 2.0.1 which is incompatible.\u001b[0m\u001b[31m\n",
            "\u001b[0mSuccessfully installed arrow-1.3.0 blessed-1.20.0 boto3-1.34.72 botocore-1.34.72 croniter-1.3.15 dateutils-0.6.12 deepdiff-6.7.1 editor-1.6.6 efficientnet-pytorch-0.7.1 einops-0.6.1 fastapi-0.88.0 h11-0.14.0 inquirer-3.2.4 jmespath-1.0.1 kornia-0.6.12 lightning-1.9.5 lightning-cloud-0.5.65 lightning-utilities-0.11.2 lit-18.1.2 munch-4.0.0 nvidia-cublas-cu11-11.10.3.66 nvidia-cuda-cupti-cu11-11.7.101 nvidia-cuda-nvrtc-cu11-11.7.99 nvidia-cuda-runtime-cu11-11.7.99 nvidia-cudnn-cu11-8.5.0.96 nvidia-cufft-cu11-10.9.0.58 nvidia-curand-cu11-10.2.10.91 nvidia-cusolver-cu11-11.4.0.1 nvidia-cusparse-cu11-11.7.4.91 nvidia-nccl-cu11-2.14.3 nvidia-nvtx-cu11-11.7.91 ordered-set-4.1.0 pretrainedmodels-0.7.4 pydantic-1.10.14 python-multipart-0.0.9 readchar-4.0.6 rtree-1.2.0 runs-1.2.2 s3transfer-0.10.1 segmentation-models-pytorch-0.3.2 starlette-0.22.0 starsessions-1.3.0 timm-0.6.12 torch-2.0.1 torchgeo-0.4.1 torchmetrics-0.11.4 torchvision-0.15.2 triton-2.0.0 types-python-dateutil-2.9.0.20240316 uvicorn-0.29.0 websockets-11.0.3 xmod-1.8.1\n",
            "Collecting tiler==0.5.7\n",
            "  Downloading tiler-0.5.7-py3-none-any.whl (17 kB)\n",
            "Requirement already satisfied: numpy in /usr/local/lib/python3.10/dist-packages (from tiler==0.5.7) (1.25.2)\n",
            "Requirement already satisfied: tqdm in /usr/local/lib/python3.10/dist-packages (from tiler==0.5.7) (4.66.2)\n",
            "Installing collected packages: tiler\n",
            "Successfully installed tiler-0.5.7\n",
            "Requirement already satisfied: kornia==0.6.12 in /usr/local/lib/python3.10/dist-packages (0.6.12)\n",
            "Requirement already satisfied: packaging in /usr/local/lib/python3.10/dist-packages (from kornia==0.6.12) (24.0)\n",
            "Requirement already satisfied: torch>=1.9.1 in /usr/local/lib/python3.10/dist-packages (from kornia==0.6.12) (2.0.1)\n",
            "Requirement already satisfied: filelock in /usr/local/lib/python3.10/dist-packages (from torch>=1.9.1->kornia==0.6.12) (3.13.3)\n",
            "Requirement already satisfied: typing-extensions in /usr/local/lib/python3.10/dist-packages (from torch>=1.9.1->kornia==0.6.12) (4.10.0)\n",
            "Requirement already satisfied: sympy in /usr/local/lib/python3.10/dist-packages (from torch>=1.9.1->kornia==0.6.12) (1.12)\n",
            "Requirement already satisfied: networkx in /usr/local/lib/python3.10/dist-packages (from torch>=1.9.1->kornia==0.6.12) (3.2.1)\n",
            "Requirement already satisfied: jinja2 in /usr/local/lib/python3.10/dist-packages (from torch>=1.9.1->kornia==0.6.12) (3.1.3)\n",
            "Requirement already satisfied: nvidia-cuda-nvrtc-cu11==11.7.99 in /usr/local/lib/python3.10/dist-packages (from torch>=1.9.1->kornia==0.6.12) (11.7.99)\n",
            "Requirement already satisfied: nvidia-cuda-runtime-cu11==11.7.99 in /usr/local/lib/python3.10/dist-packages (from torch>=1.9.1->kornia==0.6.12) (11.7.99)\n",
            "Requirement already satisfied: nvidia-cuda-cupti-cu11==11.7.101 in /usr/local/lib/python3.10/dist-packages (from torch>=1.9.1->kornia==0.6.12) (11.7.101)\n",
            "Requirement already satisfied: nvidia-cudnn-cu11==8.5.0.96 in /usr/local/lib/python3.10/dist-packages (from torch>=1.9.1->kornia==0.6.12) (8.5.0.96)\n",
            "Requirement already satisfied: nvidia-cublas-cu11==11.10.3.66 in /usr/local/lib/python3.10/dist-packages (from torch>=1.9.1->kornia==0.6.12) (11.10.3.66)\n",
            "Requirement already satisfied: nvidia-cufft-cu11==10.9.0.58 in /usr/local/lib/python3.10/dist-packages (from torch>=1.9.1->kornia==0.6.12) (10.9.0.58)\n",
            "Requirement already satisfied: nvidia-curand-cu11==10.2.10.91 in /usr/local/lib/python3.10/dist-packages (from torch>=1.9.1->kornia==0.6.12) (10.2.10.91)\n",
            "Requirement already satisfied: nvidia-cusolver-cu11==11.4.0.1 in /usr/local/lib/python3.10/dist-packages (from torch>=1.9.1->kornia==0.6.12) (11.4.0.1)\n",
            "Requirement already satisfied: nvidia-cusparse-cu11==11.7.4.91 in /usr/local/lib/python3.10/dist-packages (from torch>=1.9.1->kornia==0.6.12) (11.7.4.91)\n",
            "Requirement already satisfied: nvidia-nccl-cu11==2.14.3 in /usr/local/lib/python3.10/dist-packages (from torch>=1.9.1->kornia==0.6.12) (2.14.3)\n",
            "Requirement already satisfied: nvidia-nvtx-cu11==11.7.91 in /usr/local/lib/python3.10/dist-packages (from torch>=1.9.1->kornia==0.6.12) (11.7.91)\n",
            "Requirement already satisfied: triton==2.0.0 in /usr/local/lib/python3.10/dist-packages (from torch>=1.9.1->kornia==0.6.12) (2.0.0)\n",
            "Requirement already satisfied: setuptools in /usr/local/lib/python3.10/dist-packages (from nvidia-cublas-cu11==11.10.3.66->torch>=1.9.1->kornia==0.6.12) (67.7.2)\n",
            "Requirement already satisfied: wheel in /usr/local/lib/python3.10/dist-packages (from nvidia-cublas-cu11==11.10.3.66->torch>=1.9.1->kornia==0.6.12) (0.43.0)\n",
            "Requirement already satisfied: cmake in /usr/local/lib/python3.10/dist-packages (from triton==2.0.0->torch>=1.9.1->kornia==0.6.12) (3.27.9)\n",
            "Requirement already satisfied: lit in /usr/local/lib/python3.10/dist-packages (from triton==2.0.0->torch>=1.9.1->kornia==0.6.12) (18.1.2)\n",
            "Requirement already satisfied: MarkupSafe>=2.0 in /usr/local/lib/python3.10/dist-packages (from jinja2->torch>=1.9.1->kornia==0.6.12) (2.1.5)\n",
            "Requirement already satisfied: mpmath>=0.19 in /usr/local/lib/python3.10/dist-packages (from sympy->torch>=1.9.1->kornia==0.6.12) (1.3.0)\n",
            "Requirement already satisfied: lightning==1.9.5 in /usr/local/lib/python3.10/dist-packages (1.9.5)\n",
            "Requirement already satisfied: Jinja2<5.0 in /usr/local/lib/python3.10/dist-packages (from lightning==1.9.5) (3.1.3)\n",
            "Requirement already satisfied: PyYAML<8.0 in /usr/local/lib/python3.10/dist-packages (from lightning==1.9.5) (6.0.1)\n",
            "Requirement already satisfied: arrow<3.0,>=1.2.0 in /usr/local/lib/python3.10/dist-packages (from lightning==1.9.5) (1.3.0)\n",
            "Requirement already satisfied: beautifulsoup4<6.0,>=4.8.0 in /usr/local/lib/python3.10/dist-packages (from lightning==1.9.5) (4.12.3)\n",
            "Requirement already satisfied: click<10.0 in /usr/local/lib/python3.10/dist-packages (from lightning==1.9.5) (8.1.7)\n",
            "Requirement already satisfied: croniter<1.4.0,>=1.3.0 in /usr/local/lib/python3.10/dist-packages (from lightning==1.9.5) (1.3.15)\n",
            "Requirement already satisfied: dateutils<2.0 in /usr/local/lib/python3.10/dist-packages (from lightning==1.9.5) (0.6.12)\n",
            "Requirement already satisfied: deepdiff<8.0,>=5.7.0 in /usr/local/lib/python3.10/dist-packages (from lightning==1.9.5) (6.7.1)\n",
            "Requirement already satisfied: fastapi<0.89.0 in /usr/local/lib/python3.10/dist-packages (from lightning==1.9.5) (0.88.0)\n",
            "Requirement already satisfied: fsspec<2024.0,>=2022.5.0 in /usr/local/lib/python3.10/dist-packages (from lightning==1.9.5) (2023.6.0)\n",
            "Requirement already satisfied: inquirer<5.0,>=2.10.0 in /usr/local/lib/python3.10/dist-packages (from lightning==1.9.5) (3.2.4)\n",
            "Requirement already satisfied: lightning-cloud>=0.5.27 in /usr/local/lib/python3.10/dist-packages (from lightning==1.9.5) (0.5.65)\n",
            "Requirement already satisfied: lightning-utilities<2.0,>=0.6.0.post0 in /usr/local/lib/python3.10/dist-packages (from lightning==1.9.5) (0.11.2)\n",
            "Requirement already satisfied: numpy<3.0,>=1.17.2 in /usr/local/lib/python3.10/dist-packages (from lightning==1.9.5) (1.25.2)\n",
            "Requirement already satisfied: packaging in /usr/local/lib/python3.10/dist-packages (from lightning==1.9.5) (24.0)\n",
            "Requirement already satisfied: psutil<7.0 in /usr/local/lib/python3.10/dist-packages (from lightning==1.9.5) (5.9.5)\n",
            "Requirement already satisfied: pydantic<3.0 in /usr/local/lib/python3.10/dist-packages (from lightning==1.9.5) (1.10.14)\n",
            "Requirement already satisfied: requests<4.0 in /usr/local/lib/python3.10/dist-packages (from lightning==1.9.5) (2.31.0)\n",
            "Requirement already satisfied: rich<15.0 in /usr/local/lib/python3.10/dist-packages (from lightning==1.9.5) (13.7.1)\n",
            "Requirement already satisfied: starlette<2.0 in /usr/local/lib/python3.10/dist-packages (from lightning==1.9.5) (0.22.0)\n",
            "Requirement already satisfied: starsessions<2.0,>=1.2.1 in /usr/local/lib/python3.10/dist-packages (from lightning==1.9.5) (1.3.0)\n",
            "Requirement already satisfied: torch<4.0,>=1.10.0 in /usr/local/lib/python3.10/dist-packages (from lightning==1.9.5) (2.0.1)\n",
            "Requirement already satisfied: torchmetrics<2.0,>=0.7.0 in /usr/local/lib/python3.10/dist-packages (from lightning==1.9.5) (0.11.4)\n",
            "Requirement already satisfied: tqdm<6.0,>=4.57.0 in /usr/local/lib/python3.10/dist-packages (from lightning==1.9.5) (4.66.2)\n",
            "Requirement already satisfied: traitlets<7.0,>=5.3.0 in /usr/local/lib/python3.10/dist-packages (from lightning==1.9.5) (5.7.1)\n",
            "Requirement already satisfied: typing-extensions<6.0,>=4.0.0 in /usr/local/lib/python3.10/dist-packages (from lightning==1.9.5) (4.10.0)\n",
            "Requirement already satisfied: urllib3<3.0 in /usr/local/lib/python3.10/dist-packages (from lightning==1.9.5) (2.0.7)\n",
            "Requirement already satisfied: uvicorn<2.0 in /usr/local/lib/python3.10/dist-packages (from lightning==1.9.5) (0.29.0)\n",
            "Requirement already satisfied: websocket-client<3.0 in /usr/local/lib/python3.10/dist-packages (from lightning==1.9.5) (1.7.0)\n",
            "Requirement already satisfied: websockets<12.0 in /usr/local/lib/python3.10/dist-packages (from lightning==1.9.5) (11.0.3)\n",
            "Requirement already satisfied: python-dateutil>=2.7.0 in /usr/local/lib/python3.10/dist-packages (from arrow<3.0,>=1.2.0->lightning==1.9.5) (2.8.2)\n",
            "Requirement already satisfied: types-python-dateutil>=2.8.10 in /usr/local/lib/python3.10/dist-packages (from arrow<3.0,>=1.2.0->lightning==1.9.5) (2.9.0.20240316)\n",
            "Requirement already satisfied: soupsieve>1.2 in /usr/local/lib/python3.10/dist-packages (from beautifulsoup4<6.0,>=4.8.0->lightning==1.9.5) (2.5)\n",
            "Requirement already satisfied: pytz in /usr/local/lib/python3.10/dist-packages (from dateutils<2.0->lightning==1.9.5) (2023.4)\n",
            "Requirement already satisfied: ordered-set<4.2.0,>=4.0.2 in /usr/local/lib/python3.10/dist-packages (from deepdiff<8.0,>=5.7.0->lightning==1.9.5) (4.1.0)\n",
            "Requirement already satisfied: anyio<5,>=3.4.0 in /usr/local/lib/python3.10/dist-packages (from starlette<2.0->lightning==1.9.5) (3.7.1)\n",
            "Requirement already satisfied: aiohttp!=4.0.0a0,!=4.0.0a1 in /usr/local/lib/python3.10/dist-packages (from fsspec<2024.0,>=2022.5.0->lightning==1.9.5) (3.9.3)\n",
            "Requirement already satisfied: blessed>=1.19.0 in /usr/local/lib/python3.10/dist-packages (from inquirer<5.0,>=2.10.0->lightning==1.9.5) (1.20.0)\n",
            "Requirement already satisfied: editor>=1.6.0 in /usr/local/lib/python3.10/dist-packages (from inquirer<5.0,>=2.10.0->lightning==1.9.5) (1.6.6)\n",
            "Requirement already satisfied: readchar>=3.0.6 in /usr/local/lib/python3.10/dist-packages (from inquirer<5.0,>=2.10.0->lightning==1.9.5) (4.0.6)\n",
            "Requirement already satisfied: MarkupSafe>=2.0 in /usr/local/lib/python3.10/dist-packages (from Jinja2<5.0->lightning==1.9.5) (2.1.5)\n",
            "Requirement already satisfied: pyjwt in /usr/lib/python3/dist-packages (from lightning-cloud>=0.5.27->lightning==1.9.5) (2.3.0)\n",
            "Requirement already satisfied: python-multipart in /usr/local/lib/python3.10/dist-packages (from lightning-cloud>=0.5.27->lightning==1.9.5) (0.0.9)\n",
            "Requirement already satisfied: six in /usr/local/lib/python3.10/dist-packages (from lightning-cloud>=0.5.27->lightning==1.9.5) (1.16.0)\n",
            "Requirement already satisfied: boto3 in /usr/local/lib/python3.10/dist-packages (from lightning-cloud>=0.5.27->lightning==1.9.5) (1.34.72)\n",
            "Requirement already satisfied: setuptools in /usr/local/lib/python3.10/dist-packages (from lightning-utilities<2.0,>=0.6.0.post0->lightning==1.9.5) (67.7.2)\n",
            "Requirement already satisfied: charset-normalizer<4,>=2 in /usr/local/lib/python3.10/dist-packages (from requests<4.0->lightning==1.9.5) (3.3.2)\n",
            "Requirement already satisfied: idna<4,>=2.5 in /usr/local/lib/python3.10/dist-packages (from requests<4.0->lightning==1.9.5) (3.6)\n",
            "Requirement already satisfied: certifi>=2017.4.17 in /usr/local/lib/python3.10/dist-packages (from requests<4.0->lightning==1.9.5) (2024.2.2)\n",
            "Requirement already satisfied: markdown-it-py>=2.2.0 in /usr/local/lib/python3.10/dist-packages (from rich<15.0->lightning==1.9.5) (3.0.0)\n",
            "Requirement already satisfied: pygments<3.0.0,>=2.13.0 in /usr/local/lib/python3.10/dist-packages (from rich<15.0->lightning==1.9.5) (2.16.1)\n",
            "Requirement already satisfied: itsdangerous<3.0.0,>=2.0.1 in /usr/local/lib/python3.10/dist-packages (from starsessions<2.0,>=1.2.1->lightning==1.9.5) (2.1.2)\n",
            "Requirement already satisfied: filelock in /usr/local/lib/python3.10/dist-packages (from torch<4.0,>=1.10.0->lightning==1.9.5) (3.13.3)\n",
            "Requirement already satisfied: sympy in /usr/local/lib/python3.10/dist-packages (from torch<4.0,>=1.10.0->lightning==1.9.5) (1.12)\n",
            "Requirement already satisfied: networkx in /usr/local/lib/python3.10/dist-packages (from torch<4.0,>=1.10.0->lightning==1.9.5) (3.2.1)\n",
            "Requirement already satisfied: nvidia-cuda-nvrtc-cu11==11.7.99 in /usr/local/lib/python3.10/dist-packages (from torch<4.0,>=1.10.0->lightning==1.9.5) (11.7.99)\n",
            "Requirement already satisfied: nvidia-cuda-runtime-cu11==11.7.99 in /usr/local/lib/python3.10/dist-packages (from torch<4.0,>=1.10.0->lightning==1.9.5) (11.7.99)\n",
            "Requirement already satisfied: nvidia-cuda-cupti-cu11==11.7.101 in /usr/local/lib/python3.10/dist-packages (from torch<4.0,>=1.10.0->lightning==1.9.5) (11.7.101)\n",
            "Requirement already satisfied: nvidia-cudnn-cu11==8.5.0.96 in /usr/local/lib/python3.10/dist-packages (from torch<4.0,>=1.10.0->lightning==1.9.5) (8.5.0.96)\n",
            "Requirement already satisfied: nvidia-cublas-cu11==11.10.3.66 in /usr/local/lib/python3.10/dist-packages (from torch<4.0,>=1.10.0->lightning==1.9.5) (11.10.3.66)\n",
            "Requirement already satisfied: nvidia-cufft-cu11==10.9.0.58 in /usr/local/lib/python3.10/dist-packages (from torch<4.0,>=1.10.0->lightning==1.9.5) (10.9.0.58)\n",
            "Requirement already satisfied: nvidia-curand-cu11==10.2.10.91 in /usr/local/lib/python3.10/dist-packages (from torch<4.0,>=1.10.0->lightning==1.9.5) (10.2.10.91)\n",
            "Requirement already satisfied: nvidia-cusolver-cu11==11.4.0.1 in /usr/local/lib/python3.10/dist-packages (from torch<4.0,>=1.10.0->lightning==1.9.5) (11.4.0.1)\n",
            "Requirement already satisfied: nvidia-cusparse-cu11==11.7.4.91 in /usr/local/lib/python3.10/dist-packages (from torch<4.0,>=1.10.0->lightning==1.9.5) (11.7.4.91)\n",
            "Requirement already satisfied: nvidia-nccl-cu11==2.14.3 in /usr/local/lib/python3.10/dist-packages (from torch<4.0,>=1.10.0->lightning==1.9.5) (2.14.3)\n",
            "Requirement already satisfied: nvidia-nvtx-cu11==11.7.91 in /usr/local/lib/python3.10/dist-packages (from torch<4.0,>=1.10.0->lightning==1.9.5) (11.7.91)\n",
            "Requirement already satisfied: triton==2.0.0 in /usr/local/lib/python3.10/dist-packages (from torch<4.0,>=1.10.0->lightning==1.9.5) (2.0.0)\n",
            "Requirement already satisfied: wheel in /usr/local/lib/python3.10/dist-packages (from nvidia-cublas-cu11==11.10.3.66->torch<4.0,>=1.10.0->lightning==1.9.5) (0.43.0)\n",
            "Requirement already satisfied: cmake in /usr/local/lib/python3.10/dist-packages (from triton==2.0.0->torch<4.0,>=1.10.0->lightning==1.9.5) (3.27.9)\n",
            "Requirement already satisfied: lit in /usr/local/lib/python3.10/dist-packages (from triton==2.0.0->torch<4.0,>=1.10.0->lightning==1.9.5) (18.1.2)\n",
            "Requirement already satisfied: h11>=0.8 in /usr/local/lib/python3.10/dist-packages (from uvicorn<2.0->lightning==1.9.5) (0.14.0)\n",
            "Requirement already satisfied: aiosignal>=1.1.2 in /usr/local/lib/python3.10/dist-packages (from aiohttp!=4.0.0a0,!=4.0.0a1->fsspec<2024.0,>=2022.5.0->lightning==1.9.5) (1.3.1)\n",
            "Requirement already satisfied: attrs>=17.3.0 in /usr/local/lib/python3.10/dist-packages (from aiohttp!=4.0.0a0,!=4.0.0a1->fsspec<2024.0,>=2022.5.0->lightning==1.9.5) (23.2.0)\n",
            "Requirement already satisfied: frozenlist>=1.1.1 in /usr/local/lib/python3.10/dist-packages (from aiohttp!=4.0.0a0,!=4.0.0a1->fsspec<2024.0,>=2022.5.0->lightning==1.9.5) (1.4.1)\n",
            "Requirement already satisfied: multidict<7.0,>=4.5 in /usr/local/lib/python3.10/dist-packages (from aiohttp!=4.0.0a0,!=4.0.0a1->fsspec<2024.0,>=2022.5.0->lightning==1.9.5) (6.0.5)\n",
            "Requirement already satisfied: yarl<2.0,>=1.0 in /usr/local/lib/python3.10/dist-packages (from aiohttp!=4.0.0a0,!=4.0.0a1->fsspec<2024.0,>=2022.5.0->lightning==1.9.5) (1.9.4)\n",
            "Requirement already satisfied: async-timeout<5.0,>=4.0 in /usr/local/lib/python3.10/dist-packages (from aiohttp!=4.0.0a0,!=4.0.0a1->fsspec<2024.0,>=2022.5.0->lightning==1.9.5) (4.0.3)\n",
            "Requirement already satisfied: sniffio>=1.1 in /usr/local/lib/python3.10/dist-packages (from anyio<5,>=3.4.0->starlette<2.0->lightning==1.9.5) (1.3.1)\n",
            "Requirement already satisfied: exceptiongroup in /usr/local/lib/python3.10/dist-packages (from anyio<5,>=3.4.0->starlette<2.0->lightning==1.9.5) (1.2.0)\n",
            "Requirement already satisfied: wcwidth>=0.1.4 in /usr/local/lib/python3.10/dist-packages (from blessed>=1.19.0->inquirer<5.0,>=2.10.0->lightning==1.9.5) (0.2.13)\n",
            "Requirement already satisfied: runs in /usr/local/lib/python3.10/dist-packages (from editor>=1.6.0->inquirer<5.0,>=2.10.0->lightning==1.9.5) (1.2.2)\n",
            "Requirement already satisfied: xmod in /usr/local/lib/python3.10/dist-packages (from editor>=1.6.0->inquirer<5.0,>=2.10.0->lightning==1.9.5) (1.8.1)\n",
            "Requirement already satisfied: mdurl~=0.1 in /usr/local/lib/python3.10/dist-packages (from markdown-it-py>=2.2.0->rich<15.0->lightning==1.9.5) (0.1.2)\n",
            "Requirement already satisfied: botocore<1.35.0,>=1.34.72 in /usr/local/lib/python3.10/dist-packages (from boto3->lightning-cloud>=0.5.27->lightning==1.9.5) (1.34.72)\n",
            "Requirement already satisfied: jmespath<2.0.0,>=0.7.1 in /usr/local/lib/python3.10/dist-packages (from boto3->lightning-cloud>=0.5.27->lightning==1.9.5) (1.0.1)\n",
            "Requirement already satisfied: s3transfer<0.11.0,>=0.10.0 in /usr/local/lib/python3.10/dist-packages (from boto3->lightning-cloud>=0.5.27->lightning==1.9.5) (0.10.1)\n",
            "Requirement already satisfied: mpmath>=0.19 in /usr/local/lib/python3.10/dist-packages (from sympy->torch<4.0,>=1.10.0->lightning==1.9.5) (1.3.0)\n"
          ]
        }
      ]
    },
    {
      "cell_type": "code",
      "source": [
        "!apt install -y gdal-bin libgdal-dev\n",
        "!pip install gdal"
      ],
      "metadata": {
        "colab": {
          "base_uri": "https://localhost:8080/"
        },
        "id": "jbC2VqdnQ-dB",
        "outputId": "64635a53-5862-478f-dfd5-94156459705a"
      },
      "execution_count": 12,
      "outputs": [
        {
          "output_type": "stream",
          "name": "stdout",
          "text": [
            "Reading package lists... Done\n",
            "Building dependency tree... Done\n",
            "Reading state information... Done\n",
            "libgdal-dev is already the newest version (3.6.4+dfsg-1~jammy0).\n",
            "The following additional packages will be installed:\n",
            "  python3-gdal python3-numpy\n",
            "Suggested packages:\n",
            "  libgdal-grass python-numpy-doc python3-pytest\n",
            "The following NEW packages will be installed:\n",
            "  gdal-bin python3-gdal python3-numpy\n",
            "0 upgraded, 3 newly installed, 0 to remove and 39 not upgraded.\n",
            "Need to get 5,055 kB of archives.\n",
            "After this operation, 25.1 MB of additional disk space will be used.\n",
            "Get:1 http://archive.ubuntu.com/ubuntu jammy-updates/main amd64 python3-numpy amd64 1:1.21.5-1ubuntu22.04.1 [3,467 kB]\n",
            "Get:2 https://ppa.launchpadcontent.net/ubuntugis/ppa/ubuntu jammy/main amd64 python3-gdal amd64 3.6.4+dfsg-1~jammy0 [1,027 kB]\n",
            "Get:3 https://ppa.launchpadcontent.net/ubuntugis/ppa/ubuntu jammy/main amd64 gdal-bin amd64 3.6.4+dfsg-1~jammy0 [561 kB]\n",
            "Fetched 5,055 kB in 2s (2,506 kB/s)\n",
            "Selecting previously unselected package python3-numpy.\n",
            "(Reading database ... 121753 files and directories currently installed.)\n",
            "Preparing to unpack .../python3-numpy_1%3a1.21.5-1ubuntu22.04.1_amd64.deb ...\n",
            "Unpacking python3-numpy (1:1.21.5-1ubuntu22.04.1) ...\n",
            "Selecting previously unselected package python3-gdal.\n",
            "Preparing to unpack .../python3-gdal_3.6.4+dfsg-1~jammy0_amd64.deb ...\n",
            "Unpacking python3-gdal (3.6.4+dfsg-1~jammy0) ...\n",
            "Selecting previously unselected package gdal-bin.\n",
            "Preparing to unpack .../gdal-bin_3.6.4+dfsg-1~jammy0_amd64.deb ...\n",
            "Unpacking gdal-bin (3.6.4+dfsg-1~jammy0) ...\n",
            "Setting up python3-numpy (1:1.21.5-1ubuntu22.04.1) ...\n",
            "Setting up python3-gdal (3.6.4+dfsg-1~jammy0) ...\n",
            "Setting up gdal-bin (3.6.4+dfsg-1~jammy0) ...\n",
            "Processing triggers for man-db (2.10.2-1) ...\n",
            "Requirement already satisfied: gdal in /usr/local/lib/python3.10/dist-packages (3.6.4)\n"
          ]
        }
      ]
    },
    {
      "cell_type": "code",
      "source": [
        "from OpenMineChangeDetection.utils import download_prep_oms2cd, download_file\n",
        "# download_prep_oms2cd(output_dir='OMS2CD')"
      ],
      "metadata": {
        "id": "bcmpc9_qwwWG"
      },
      "execution_count": 2,
      "outputs": []
    },
    {
      "cell_type": "code",
      "source": [
        "def download_prep_zip(url, output_dir):\n",
        "    import zipfile\n",
        "    import os\n",
        "    oms2cd_file = os.path.join(output_dir, 'tmp_01234.zip')\n",
        "\n",
        "    if os.path.isdir(output_dir):\n",
        "        print(f'Output directory {output_dir} already exists. Skipping dataset prep.')\n",
        "        return\n",
        "\n",
        "    os.makedirs(output_dir)\n",
        "    download_file(url, oms2cd_file)\n",
        "\n",
        "    print(f'Extracting archive into {output_dir}.')\n",
        "    with zipfile.ZipFile(oms2cd_file, 'r') as zip_ref:\n",
        "        zip_ref.extractall(output_dir)\n",
        "\n",
        "    print(f'Removing .zip file.')\n",
        "    try:\n",
        "        os.remove(oms2cd_file)\n",
        "    except:\n",
        "        pass\n",
        "\n",
        "    print(f'Done.')\n"
      ],
      "metadata": {
        "id": "guAdUbeZwzWa"
      },
      "execution_count": 9,
      "outputs": []
    },
    {
      "cell_type": "code",
      "source": [
        "download_prep_zip(\"https://drive.usercontent.google.com/download?id=1pndvMftPNYgAS9SX_CpJ9kJh9CWZfXjA&export=download&authuser=0&confirm=t&uuid=fc7874fa-94b8-40ba-a12f-c9f35bdfaf20&at=APZUnTW3f7YRPlJ4yew8C0uBOIp_%3A1711557428433\",\n",
        "                  '12band')"
      ],
      "metadata": {
        "colab": {
          "base_uri": "https://localhost:8080/"
        },
        "id": "X5heMAGe1OQG",
        "outputId": "f9ca59e9-e431-4e9c-f026-33f53982cfb1"
      },
      "execution_count": 5,
      "outputs": [
        {
          "output_type": "stream",
          "name": "stderr",
          "text": [
            "Downloading file to 12band/tmp_01234.zip: 100%|██████████| 3.23G/3.23G [01:26<00:00, 40.3MB/s]\n"
          ]
        },
        {
          "output_type": "stream",
          "name": "stdout",
          "text": [
            "Extracting archive into 12band.\n",
            "Removing .zip file.\n",
            "Done.\n"
          ]
        }
      ]
    },
    {
      "cell_type": "code",
      "source": [
        "download_prep_zip(\"https://drive.usercontent.google.com/download?id=1Kyle3U-lHQsj_zo7xO-GQJk_ZX9SmiKG&export=download&authuser=1&confirm=t&uuid=bd2805e6-3d2e-4ae9-a399-74654742448a&at=APZUnTX8msfWBes6cP7mRR_P04c3:1711558306554\",\n",
        "                  \"OMS2CD\")"
      ],
      "metadata": {
        "colab": {
          "base_uri": "https://localhost:8080/"
        },
        "id": "EFAkn25V1S_e",
        "outputId": "ed925f4c-5682-40f3-ecea-24b8f833d6dd"
      },
      "execution_count": 6,
      "outputs": [
        {
          "output_type": "stream",
          "name": "stderr",
          "text": [
            "Downloading file to OMS2CD/tmp_01234.zip: 100%|██████████| 80.4M/80.4M [00:02<00:00, 32.5MB/s]\n"
          ]
        },
        {
          "output_type": "stream",
          "name": "stdout",
          "text": [
            "Extracting archive into OMS2CD.\n",
            "Removing .zip file.\n",
            "Done.\n"
          ]
        }
      ]
    },
    {
      "cell_type": "code",
      "source": [
        "!ls -l 12band | wc -l"
      ],
      "metadata": {
        "colab": {
          "base_uri": "https://localhost:8080/"
        },
        "id": "GWrVi_622hvr",
        "outputId": "1b883b9a-f401-477f-ca16-329eca1ac79d"
      },
      "execution_count": 7,
      "outputs": [
        {
          "output_type": "stream",
          "name": "stdout",
          "text": [
            "351\n"
          ]
        }
      ]
    },
    {
      "cell_type": "code",
      "source": [
        "import os\n",
        "import shutil\n",
        "\n",
        "# Paths to the directories\n",
        "dir_a = 'OMS2CD'\n",
        "dir_b = '12band'\n",
        "\n",
        "OMS2CD_files = os.listdir(dir_a)\n",
        "\n",
        "alt_file_map = {}\n",
        "\n",
        "# Remove '_alt' from files, because the original 12band files don't reflect this\n",
        "for i in range(len(OMS2CD_files)):\n",
        "  if '_alt' in OMS2CD_files[i]:\n",
        "    old_name = OMS2CD_files[i]\n",
        "    new_name = OMS2CD_files[i].replace('_alt', '')\n",
        "    alt_file_map[new_name] = old_name\n",
        "    OMS2CD_files[i] = new_name\n",
        "# Get a list of filenames in each directory\n",
        "files_in_a = set(OMS2CD_files)\n",
        "files_in_b = set(os.listdir(dir_b))\n",
        "\n",
        "os.makedirs('12band_reduced')\n",
        "\n",
        "for f in files_in_b:\n",
        "  if f in files_in_a:\n",
        "    file_path = os.path.join(dir_b, f)\n",
        "    try:\n",
        "      new_name = os.path.join('12band_reduced', alt_file_map.get(f, f))\n",
        "      shutil.copyfile(file_path, new_name)\n",
        "      print(f'Copied {file_path} to {new_name}')\n",
        "    except OSError as e:\n",
        "      print(f'Error copying {file_path}: {e}')\n",
        "\n"
      ],
      "metadata": {
        "colab": {
          "base_uri": "https://localhost:8080/"
        },
        "id": "xVGnj9By17Lp",
        "outputId": "7d8b8a36-5aa1-4b01-a8e0-b8cad248b4e3"
      },
      "execution_count": 8,
      "outputs": [
        {
          "output_type": "stream",
          "name": "stdout",
          "text": [
            "Copied 12band/s2_Artemyevsky_81.7826042963516_50.600017274045_2019-06-01.tif to 12band_reduced/s2_Artemyevsky_81.7826042963516_50.600017274045_2019-06-01.tif\n",
            "Copied 12band/s2_Maules Creek_150.1189704360766_-30.55877474487686_2019-06-01.tif to 12band_reduced/s2_Maules Creek_150.1189704360766_-30.55877474487686_2019-06-01.tif\n",
            "Copied 12band/s2_Moa_sotto_-74.96095939538486_20.58394314899455_2020-02-01.tif to 12band_reduced/s2_Moa_sotto_-74.96095939538486_20.58394314899455_2020-02-01.tif\n",
            "Copied 12band/s2_Gunnedah_sugarloaf_150.11685310638242_-30.981028551012983_2020-08-01.tif to 12band_reduced/s2_Gunnedah_sugarloaf_150.11685310638242_-30.981028551012983_2020-08-01.tif\n",
            "Copied 12band/s2_Olympic Dam_136.8546959572593_-30.43649652805288_2019-05-01.tif to 12band_reduced/s2_Olympic Dam_136.8546959572593_-30.43649652805288_2019-05-01.tif\n",
            "Copied 12band/s2_Mianchi_111.628344391967_34.8216271574413_2019-06-01.tif to 12band_reduced/s2_Mianchi_111.628344391967_34.8216271574413_2019-06-01.tif\n",
            "Copied 12band/s2_Gunnedah_vickery_150.27155437222632_-30.761526187954605_2019-02-01.tif to 12band_reduced/s2_Gunnedah_vickery_150.27155437222632_-30.761526187954605_2019-02-01.tif\n",
            "Copied 12band/s2_Artemyevsky_81.7826042963516_50.600017274045_2020-01-01.tif to 12band_reduced/s2_Artemyevsky_81.7826042963516_50.600017274045_2020-01-01.tif\n",
            "Copied 12band/s2_Pingguo_Burong_107.45911210248553_23.436000566583864_2020-12-01.tif to 12band_reduced/s2_Pingguo_Burong_107.45911210248553_23.436000566583864_2020-12-01.tif\n",
            "Copied 12band/s2_Artemyevsky_81.7826042963516_50.600017274045_2020-02-01.tif to 12band_reduced/s2_Artemyevsky_81.7826042963516_50.600017274045_2020-02-01.tif\n",
            "Copied 12band/s2_Mianchi_111.628344391967_34.8216271574413_2020-04-01.tif to 12band_reduced/s2_Mianchi_111.628344391967_34.8216271574413_2020-04-01.tif\n",
            "Copied 12band/s2_Gunnedah_vickery_150.27155437222632_-30.761526187954605_2019-03-01.tif to 12band_reduced/s2_Gunnedah_vickery_150.27155437222632_-30.761526187954605_2019-03-01.tif\n",
            "Copied 12band/s2_Artemyevsky_81.7826042963516_50.600017274045_2019-02-01.tif to 12band_reduced/s2_Artemyevsky_81.7826042963516_50.600017274045_2019-02-01.tif\n",
            "Copied 12band/s2_Narrabri_149.89886856651822_-30.518201859142547_2020-06-01.tif to 12band_reduced/s2_Narrabri_149.89886856651822_-30.518201859142547_2020-06-01.tif\n",
            "Copied 12band/s2_Gunnedah_sugarloaf_150.11685310638242_-30.981028551012983_2020-07-01.tif to 12band_reduced/s2_Gunnedah_sugarloaf_150.11685310638242_-30.981028551012983_2020-07-01.tif\n",
            "Copied 12band/s2_Gunnedah_vickery_150.27155437222632_-30.761526187954605_2019-05-01.tif to 12band_reduced/s2_Gunnedah_vickery_150.27155437222632_-30.761526187954605_2019-05-01.tif\n",
            "Copied 12band/s2_Moa_sotto_-74.96095939538486_20.58394314899455_2019-12-01.tif to 12band_reduced/s2_Moa_sotto_-74.96095939538486_20.58394314899455_2019-12-01.tif\n",
            "Copied 12band/s2_Mianchi_111.628344391967_34.8216271574413_2019-07-01.tif to 12band_reduced/s2_Mianchi_111.628344391967_34.8216271574413_2019-07-01.tif\n",
            "Copied 12band/s2_Artemyevsky_81.7826042963516_50.600017274045_2020-08-01.tif to 12band_reduced/s2_Artemyevsky_81.7826042963516_50.600017274045_2020-08-01.tif\n",
            "Copied 12band/s2_Narrabri_149.89886856651822_-30.518201859142547_2020-03-01.tif to 12band_reduced/s2_Narrabri_149.89886856651822_-30.518201859142547_2020-03-01.tif\n",
            "Copied 12band/s2_Gunnedah_leard_150.17770055678767_-30.62245095758179_2019-05-01.tif to 12band_reduced/s2_Gunnedah_leard_150.17770055678767_-30.62245095758179_2019-05-01.tif\n",
            "Copied 12band/s2_Gunnedah_sugarloaf_150.11685310638242_-30.981028551012983_2019-05-01.tif to 12band_reduced/s2_Gunnedah_sugarloaf_150.11685310638242_-30.981028551012983_2019-05-01.tif\n",
            "Copied 12band/s2_Artemyevsky_81.7826042963516_50.600017274045_2020-09-01.tif to 12band_reduced/s2_Artemyevsky_81.7826042963516_50.600017274045_2020-09-01.tif\n",
            "Copied 12band/s2_Pingguo_Burong_107.45911210248553_23.436000566583864_2020-11-01.tif to 12band_reduced/s2_Pingguo_Burong_107.45911210248553_23.436000566583864_2020-11-01.tif\n",
            "Copied 12band/s2_Gunnedah_vickery_150.27155437222632_-30.761526187954605_2020-02-01.tif to 12band_reduced/s2_Gunnedah_vickery_150.27155437222632_-30.761526187954605_2020-02-01.tif\n",
            "Copied 12band/s2_Artemyevsky_81.7826042963516_50.600017274045_2020-06-01.tif to 12band_reduced/s2_Artemyevsky_81.7826042963516_50.600017274045_2020-06-01.tif\n",
            "Copied 12band/s2_Gunnedah_vickery_150.27155437222632_-30.761526187954605_2019-06-01.tif to 12band_reduced/s2_Gunnedah_vickery_150.27155437222632_-30.761526187954605_2019-06-01.tif\n",
            "Copied 12band/s2_Artemyevsky_81.7826042963516_50.600017274045_2019-01-01.tif to 12band_reduced/s2_Artemyevsky_81.7826042963516_50.600017274045_2019-01-01.tif\n",
            "Copied 12band/s2_Maules Creek_150.1189704360766_-30.55877474487686_2020-10-01.tif to 12band_reduced/s2_Maules Creek_150.1189704360766_-30.55877474487686_2020-10-01.tif\n",
            "Copied 12band/s2_Mianchi_111.628344391967_34.8216271574413_2019-03-01.tif to 12band_reduced/s2_Mianchi_111.628344391967_34.8216271574413_2019-03-01.tif\n",
            "Copied 12band/s2_Maules Creek_150.1189704360766_-30.55877474487686_2019-10-01.tif to 12band_reduced/s2_Maules Creek_alt_150.1189704360766_-30.55877474487686_2019-10-01.tif\n",
            "Copied 12band/s2_Mianchi_111.628344391967_34.8216271574413_2019-05-01.tif to 12band_reduced/s2_Mianchi_111.628344391967_34.8216271574413_2019-05-01.tif\n",
            "Copied 12band/s2_Narrabri_149.89886856651822_-30.518201859142547_2019-04-01.tif to 12band_reduced/s2_Narrabri_149.89886856651822_-30.518201859142547_2019-04-01.tif\n",
            "Copied 12band/s2_Artemyevsky_81.7826042963516_50.600017274045_2020-12-01.tif to 12band_reduced/s2_Artemyevsky_81.7826042963516_50.600017274045_2020-12-01.tif\n",
            "Copied 12band/s2_Werris Creek_150.633355555961_-31.3853783732025_2019-11-01.tif to 12band_reduced/s2_Werris Creek_150.633355555961_-31.3853783732025_2019-11-01.tif\n",
            "Copied 12band/s2_Artemyevsky_81.7826042963516_50.600017274045_2019-04-01.tif to 12band_reduced/s2_Artemyevsky_81.7826042963516_50.600017274045_2019-04-01.tif\n",
            "Copied 12band/s2_Narrabri_149.89886856651822_-30.518201859142547_2019-07-01.tif to 12band_reduced/s2_Narrabri_149.89886856651822_-30.518201859142547_2019-07-01.tif\n",
            "Copied 12band/s2_Maules Creek_150.1189704360766_-30.55877474487686_2019-11-01.tif to 12band_reduced/s2_Maules Creek_150.1189704360766_-30.55877474487686_2019-11-01.tif\n",
            "Copied 12band/s2_Gunnedah_leard_150.17770055678767_-30.62245095758179_2019-06-01.tif to 12band_reduced/s2_Gunnedah_leard_150.17770055678767_-30.62245095758179_2019-06-01.tif\n",
            "Copied 12band/s2_Moa_gorda_-74.87559263998233_20.608891954354334_2019-09-01.tif to 12band_reduced/s2_Moa_gorda_-74.87559263998233_20.608891954354334_2019-09-01.tif\n",
            "Copied 12band/s2_Moa_gorda_-74.87559263998233_20.608891954354334_2020-06-01.tif to 12band_reduced/s2_Moa_gorda_-74.87559263998233_20.608891954354334_2020-06-01.tif\n",
            "Copied 12band/s2_Gunnedah_vickery_150.27155437222632_-30.761526187954605_2020-11-01.tif to 12band_reduced/s2_Gunnedah_vickery_150.27155437222632_-30.761526187954605_2020-11-01.tif\n",
            "Copied 12band/s2_Artemyevsky_81.7826042963516_50.600017274045_2020-04-01.tif to 12band_reduced/s2_Artemyevsky_81.7826042963516_50.600017274045_2020-04-01.tif\n",
            "Copied 12band/s2_Werris Creek_150.633355555961_-31.3853783732025_2019-08-01.tif to 12band_reduced/s2_Werris Creek_150.633355555961_-31.3853783732025_2019-08-01.tif\n",
            "Copied 12band/s2_Guizhou_Xiuwen_106.62430578887023_26.78665816391409_2019-04-01.tif to 12band_reduced/s2_Guizhou_Xiuwen_106.62430578887023_26.78665816391409_2019-04-01.tif\n",
            "Copied 12band/s2_Gunnedah_vickery_150.27155437222632_-30.761526187954605_2019-01-01.tif to 12band_reduced/s2_Gunnedah_vickery_150.27155437222632_-30.761526187954605_2019-01-01.tif\n",
            "Copied 12band/s2_Artemyevsky_81.7826042963516_50.600017274045_2020-07-01.tif to 12band_reduced/s2_Artemyevsky_81.7826042963516_50.600017274045_2020-07-01.tif\n",
            "Copied 12band/s2_Narrabri_149.89886856651822_-30.518201859142547_2020-04-01.tif to 12band_reduced/s2_Narrabri_149.89886856651822_-30.518201859142547_2020-04-01.tif\n",
            "Copied 12band/s2_Maules Creek_150.1189704360766_-30.55877474487686_2020-09-01.tif to 12band_reduced/s2_Maules Creek_150.1189704360766_-30.55877474487686_2020-09-01.tif\n",
            "Copied 12band/s2_Werris Creek_150.633355555961_-31.3853783732025_2020-03-01.tif to 12band_reduced/s2_Werris Creek_150.633355555961_-31.3853783732025_2020-03-01.tif\n",
            "Copied 12band/s2_Pingguo_Anren_107.44572668596695_23.465217482264094_2020-11-01.tif to 12band_reduced/s2_Pingguo_Anren_107.44572668596695_23.465217482264094_2020-11-01.tif\n",
            "Copied 12band/s2_Artemyevsky_81.7826042963516_50.600017274045_2019-10-01.tif to 12band_reduced/s2_Artemyevsky_81.7826042963516_50.600017274045_2019-10-01.tif\n",
            "Copied 12band/s2_Gunnedah_sugarloaf_150.11685310638242_-30.981028551012983_2020-09-01.tif to 12band_reduced/s2_Gunnedah_sugarloaf_150.11685310638242_-30.981028551012983_2020-09-01.tif\n",
            "Copied 12band/s2_Gunnedah_sugarloaf_150.11685310638242_-30.981028551012983_2020-02-01.tif to 12band_reduced/s2_Gunnedah_sugarloaf_150.11685310638242_-30.981028551012983_2020-02-01.tif\n",
            "Copied 12band/s2_Werris Creek_150.633355555961_-31.3853783732025_2019-07-01.tif to 12band_reduced/s2_Werris Creek_150.633355555961_-31.3853783732025_2019-07-01.tif\n",
            "Copied 12band/s2_Werris Creek_150.633355555961_-31.3853783732025_2020-04-01.tif to 12band_reduced/s2_Werris Creek_150.633355555961_-31.3853783732025_2020-04-01.tif\n",
            "Copied 12band/s2_Gunnedah_sugarloaf_150.11685310638242_-30.981028551012983_2019-12-01.tif to 12band_reduced/s2_Gunnedah_sugarloaf_150.11685310638242_-30.981028551012983_2019-12-01.tif\n",
            "Copied 12band/s2_Narrabri_149.89886856651822_-30.518201859142547_2020-01-01.tif to 12band_reduced/s2_Narrabri_149.89886856651822_-30.518201859142547_2020-01-01.tif\n",
            "Copied 12band/s2_Narrabri_149.89886856651822_-30.518201859142547_2019-06-01.tif to 12band_reduced/s2_Narrabri_149.89886856651822_-30.518201859142547_2019-06-01.tif\n",
            "Copied 12band/s2_Artemyevsky_81.7826042963516_50.600017274045_2018-12-01.tif to 12band_reduced/s2_Artemyevsky_81.7826042963516_50.600017274045_2018-12-01.tif\n",
            "Copied 12band/s2_Artemyevsky_81.7826042963516_50.600017274045_2019-08-01.tif to 12band_reduced/s2_Artemyevsky_81.7826042963516_50.600017274045_2019-08-01.tif\n",
            "Copied 12band/s2_Werris Creek_150.633355555961_-31.3853783732025_2019-12-01.tif to 12band_reduced/s2_Werris Creek_150.633355555961_-31.3853783732025_2019-12-01.tif\n",
            "Copied 12band/s2_Werris Creek_150.633355555961_-31.3853783732025_2019-04-01.tif to 12band_reduced/s2_Werris Creek_150.633355555961_-31.3853783732025_2019-04-01.tif\n",
            "Copied 12band/s2_Maules Creek_150.1189704360766_-30.55877474487686_2019-05-01.tif to 12band_reduced/s2_Maules Creek_150.1189704360766_-30.55877474487686_2019-05-01.tif\n",
            "Copied 12band/s2_Olympic Dam_136.8546959572593_-30.43649652805288_2019-12-01.tif to 12band_reduced/s2_Olympic Dam_136.8546959572593_-30.43649652805288_2019-12-01.tif\n",
            "Copied 12band/s2_Artemyevsky_81.7826042963516_50.600017274045_2020-03-01.tif to 12band_reduced/s2_Artemyevsky_81.7826042963516_50.600017274045_2020-03-01.tif\n",
            "Copied 12band/s2_Artemyevsky_81.7826042963516_50.600017274045_2019-03-01.tif to 12band_reduced/s2_Artemyevsky_81.7826042963516_50.600017274045_2019-03-01.tif\n",
            "Copied 12band/s2_Olympic Dam_136.8546959572593_-30.43649652805288_2020-01-01.tif to 12band_reduced/s2_Olympic Dam_136.8546959572593_-30.43649652805288_2020-01-01.tif\n",
            "Copied 12band/s2_Artemyevsky_81.7826042963516_50.600017274045_2019-11-01.tif to 12band_reduced/s2_Artemyevsky_81.7826042963516_50.600017274045_2019-11-01.tif\n",
            "Copied 12band/s2_Moa_gorda_-74.87559263998233_20.608891954354334_2020-03-01.tif to 12band_reduced/s2_Moa_gorda_-74.87559263998233_20.608891954354334_2020-03-01.tif\n",
            "Copied 12band/s2_Guizhou_Xiuwen_106.62430578887023_26.78665816391409_2019-12-01.tif to 12band_reduced/s2_Guizhou_Xiuwen_106.62430578887023_26.78665816391409_2019-12-01.tif\n",
            "Copied 12band/s2_Pingguo_Burong_107.45911210248553_23.436000566583864_2020-07-01.tif to 12band_reduced/s2_Pingguo_Burong_107.45911210248553_23.436000566583864_2020-07-01.tif\n",
            "Copied 12band/s2_Narrabri_149.89886856651822_-30.518201859142547_2020-05-01.tif to 12band_reduced/s2_Narrabri_149.89886856651822_-30.518201859142547_2020-05-01.tif\n",
            "Copied 12band/s2_Artemyevsky_81.7826042963516_50.600017274045_2020-10-01.tif to 12band_reduced/s2_Artemyevsky_81.7826042963516_50.600017274045_2020-10-01.tif\n",
            "Copied 12band/s2_Olympic Dam_136.8546959572593_-30.43649652805288_2019-04-01.tif to 12band_reduced/s2_Olympic Dam_136.8546959572593_-30.43649652805288_2019-04-01.tif\n",
            "Copied 12band/s2_Gunnedah_vickery_150.27155437222632_-30.761526187954605_2020-03-01.tif to 12band_reduced/s2_Gunnedah_vickery_150.27155437222632_-30.761526187954605_2020-03-01.tif\n",
            "Copied 12band/s2_Artemyevsky_81.7826042963516_50.600017274045_2019-05-01.tif to 12band_reduced/s2_Artemyevsky_81.7826042963516_50.600017274045_2019-05-01.tif\n",
            "Copied 12band/s2_Guizhou_Xiuwen_106.62430578887023_26.78665816391409_2019-10-01.tif to 12band_reduced/s2_Guizhou_Xiuwen_106.62430578887023_26.78665816391409_2019-10-01.tif\n",
            "Copied 12band/s2_Maules Creek_150.1189704360766_-30.55877474487686_2019-12-01.tif to 12band_reduced/s2_Maules Creek_150.1189704360766_-30.55877474487686_2019-12-01.tif\n",
            "Copied 12band/s2_Maules Creek_150.1189704360766_-30.55877474487686_2019-03-01.tif to 12band_reduced/s2_Maules Creek_alt_150.1189704360766_-30.55877474487686_2019-03-01.tif\n",
            "Copied 12band/s2_Guizhou_Xiuwen_106.62430578887023_26.78665816391409_2020-04-01.tif to 12band_reduced/s2_Guizhou_Xiuwen_106.62430578887023_26.78665816391409_2020-04-01.tif\n",
            "Copied 12band/s2_Gunnedah_vickery_150.27155437222632_-30.761526187954605_2019-04-01.tif to 12band_reduced/s2_Gunnedah_vickery_150.27155437222632_-30.761526187954605_2019-04-01.tif\n",
            "Copied 12band/s2_Mianchi_111.628344391967_34.8216271574413_2020-02-01.tif to 12band_reduced/s2_Mianchi_111.628344391967_34.8216271574413_2020-02-01.tif\n",
            "Copied 12band/s2_Narrabri_149.89886856651822_-30.518201859142547_2019-09-01.tif to 12band_reduced/s2_Narrabri_149.89886856651822_-30.518201859142547_2019-09-01.tif\n",
            "Copied 12band/s2_Maules Creek_150.1189704360766_-30.55877474487686_2019-04-01.tif to 12band_reduced/s2_Maules Creek_150.1189704360766_-30.55877474487686_2019-04-01.tif\n",
            "Copied 12band/s2_Gunnedah_vickery_150.27155437222632_-30.761526187954605_2020-12-01.tif to 12band_reduced/s2_Gunnedah_vickery_150.27155437222632_-30.761526187954605_2020-12-01.tif\n",
            "Copied 12band/s2_Gunnedah_leard_150.17770055678767_-30.62245095758179_2019-04-01.tif to 12band_reduced/s2_Gunnedah_leard_150.17770055678767_-30.62245095758179_2019-04-01.tif\n",
            "Copied 12band/s2_Moa_sotto_-74.96095939538486_20.58394314899455_2020-04-01.tif to 12band_reduced/s2_Moa_sotto_-74.96095939538486_20.58394314899455_2020-04-01.tif\n",
            "Copied 12band/s2_Werris Creek_150.633355555961_-31.3853783732025_2019-03-01.tif to 12band_reduced/s2_Werris Creek_150.633355555961_-31.3853783732025_2019-03-01.tif\n",
            "Copied 12band/s2_Moa_sotto_-74.96095939538486_20.58394314899455_2019-11-01.tif to 12band_reduced/s2_Moa_sotto_-74.96095939538486_20.58394314899455_2019-11-01.tif\n",
            "Copied 12band/s2_Moa_sotto_-74.96095939538486_20.58394314899455_2019-01-01.tif to 12band_reduced/s2_Moa_sotto_-74.96095939538486_20.58394314899455_2019-01-01.tif\n",
            "Copied 12band/s2_Artemyevsky_81.7826042963516_50.600017274045_2019-07-01.tif to 12band_reduced/s2_Artemyevsky_81.7826042963516_50.600017274045_2019-07-01.tif\n",
            "Copied 12band/s2_Artemyevsky_81.7826042963516_50.600017274045_2020-05-01.tif to 12band_reduced/s2_Artemyevsky_81.7826042963516_50.600017274045_2020-05-01.tif\n",
            "Copied 12band/s2_Moa_sotto_-74.96095939538486_20.58394314899455_2019-03-01.tif to 12band_reduced/s2_Moa_sotto_-74.96095939538486_20.58394314899455_2019-03-01.tif\n",
            "Copied 12band/s2_Narrabri_149.89886856651822_-30.518201859142547_2019-05-01.tif to 12band_reduced/s2_Narrabri_149.89886856651822_-30.518201859142547_2019-05-01.tif\n",
            "Copied 12band/s2_Pingguo_Burong_107.45911210248553_23.436000566583864_2020-10-01.tif to 12band_reduced/s2_Pingguo_Burong_107.45911210248553_23.436000566583864_2020-10-01.tif\n",
            "Copied 12band/s2_Narrabri_149.89886856651822_-30.518201859142547_2019-11-01.tif to 12band_reduced/s2_Narrabri_149.89886856651822_-30.518201859142547_2019-11-01.tif\n",
            "Copied 12band/s2_Narrabri_149.89886856651822_-30.518201859142547_2020-02-01.tif to 12band_reduced/s2_Narrabri_149.89886856651822_-30.518201859142547_2020-02-01.tif\n",
            "Copied 12band/s2_Narrabri_149.89886856651822_-30.518201859142547_2019-12-01.tif to 12band_reduced/s2_Narrabri_149.89886856651822_-30.518201859142547_2019-12-01.tif\n",
            "Copied 12band/s2_Narrabri_149.89886856651822_-30.518201859142547_2019-08-01.tif to 12band_reduced/s2_Narrabri_149.89886856651822_-30.518201859142547_2019-08-01.tif\n",
            "Copied 12band/s2_Mianchi_111.628344391967_34.8216271574413_2019-04-01.tif to 12band_reduced/s2_Mianchi_111.628344391967_34.8216271574413_2019-04-01.tif\n",
            "Copied 12band/s2_Pingguo_Anren_107.44572668596695_23.465217482264094_2020-12-01.tif to 12band_reduced/s2_Pingguo_Anren_107.44572668596695_23.465217482264094_2020-12-01.tif\n"
          ]
        }
      ]
    },
    {
      "cell_type": "code",
      "source": [
        "!ls -l 12band | wc -l"
      ],
      "metadata": {
        "colab": {
          "base_uri": "https://localhost:8080/"
        },
        "id": "W7Ryxm8S2neq",
        "outputId": "cc5e9178-a6a9-4d9a-e3d6-d512cea91038"
      },
      "execution_count": 9,
      "outputs": [
        {
          "output_type": "stream",
          "name": "stdout",
          "text": [
            "351\n"
          ]
        }
      ]
    },
    {
      "cell_type": "code",
      "source": [
        "!ls -l 12band_reduced | wc -l"
      ],
      "metadata": {
        "colab": {
          "base_uri": "https://localhost:8080/"
        },
        "id": "GT-rFPbI8a56",
        "outputId": "a4ea4848-b5c6-42ec-918c-600240348012"
      },
      "execution_count": 10,
      "outputs": [
        {
          "output_type": "stream",
          "name": "stdout",
          "text": [
            "103\n"
          ]
        }
      ]
    },
    {
      "cell_type": "code",
      "source": [
        "!ls -l OMS2CD | wc -l"
      ],
      "metadata": {
        "colab": {
          "base_uri": "https://localhost:8080/"
        },
        "id": "gscYubfF2wef",
        "outputId": "4e261988-8349-4a9c-f1b6-8a70da4a48d1"
      },
      "execution_count": 11,
      "outputs": [
        {
          "output_type": "stream",
          "name": "stdout",
          "text": [
            "110\n"
          ]
        }
      ]
    },
    {
      "cell_type": "code",
      "source": [
        "# import pandas as pd\n",
        "\n",
        "# df = pd.read_csv('OMS2CD/mapping.csv')\n",
        "\n",
        "# file_paths_df = set(df['imageA'].tolist() + df['imageB'].tolist())\n",
        "\n",
        "# # Get a set of all filenames present in directory B\n",
        "# files_in_b = {os.path.basename(file) for file in os.listdir(dir_b)}\n",
        "\n",
        "# # Check each file in the DataFrame against the files in directory B\n",
        "# missing_files = [file for file in file_paths_df if os.path.basename(file) not in files_in_b]\n",
        "\n",
        "# # Warn the user about missing files\n",
        "# if missing_files:\n",
        "#     print(\"Warning: The following files are listed in the DataFrame but missing from directory B:\")\n",
        "#     for file in missing_files:\n",
        "#         print(file)\n",
        "# else:\n",
        "#     print(\"All files listed in the DataFrame are present in directory B.\")"
      ],
      "metadata": {
        "id": "K4zYgwfs2z3Z"
      },
      "execution_count": null,
      "outputs": []
    },
    {
      "cell_type": "code",
      "source": [
        "# Get a list of filenames in each directory\n",
        "files_in_a = set(os.listdir('OMS2CD'))\n",
        "files_in_b = set(os.listdir('12band_reduced'))\n",
        "\n",
        "for f in files_in_a:\n",
        "  if f not in files_in_b:\n",
        "    print(f'{f} not in 12band_reduced')\n",
        "    full_a = os.path.join('OMS2CD', f)\n",
        "    full_b = os.path.join('12band_reduced', f)\n",
        "    print(f'Copying {full_a} to {full_b}')\n",
        "    if os.path.isdir(full_a):\n",
        "      shutil.copytree(full_a, full_b)\n",
        "    else:\n",
        "      shutil.copy(full_a, full_b)"
      ],
      "metadata": {
        "colab": {
          "base_uri": "https://localhost:8080/"
        },
        "id": "rMjIKAjo30sc",
        "outputId": "44ccb4ee-4bc4-4ece-8da2-f7f8bc1a4a7c"
      },
      "execution_count": 13,
      "outputs": [
        {
          "output_type": "stream",
          "name": "stdout",
          "text": [
            "mapping.csv not in 12band_reduced\n",
            "Copying OMS2CD/mapping.csv to 12band_reduced/mapping.csv\n",
            "train.csv not in 12band_reduced\n",
            "Copying OMS2CD/train.csv to 12band_reduced/train.csv\n",
            "test.csv not in 12band_reduced\n",
            "Copying OMS2CD/test.csv to 12band_reduced/test.csv\n",
            "mask not in 12band_reduced\n",
            "Copying OMS2CD/mask to 12band_reduced/mask\n",
            "val.csv not in 12band_reduced\n",
            "Copying OMS2CD/val.csv to 12band_reduced/val.csv\n",
            "README.txt not in 12band_reduced\n",
            "Copying OMS2CD/README.txt to 12band_reduced/README.txt\n",
            "area_mask not in 12band_reduced\n",
            "Copying OMS2CD/area_mask to 12band_reduced/area_mask\n"
          ]
        }
      ]
    },
    {
      "cell_type": "markdown",
      "source": [],
      "metadata": {
        "id": "87YAD1-I6NBH"
      }
    },
    {
      "cell_type": "code",
      "source": [
        "!du -h 12band"
      ],
      "metadata": {
        "colab": {
          "base_uri": "https://localhost:8080/"
        },
        "id": "fbmX6ef0-z9u",
        "outputId": "d8c27e6a-df69-4888-efce-6c85ee8d1a02"
      },
      "execution_count": 14,
      "outputs": [
        {
          "output_type": "stream",
          "name": "stdout",
          "text": [
            "3.5G\t12band\n"
          ]
        }
      ]
    },
    {
      "cell_type": "code",
      "source": [
        "!du -h 12band_reduced"
      ],
      "metadata": {
        "colab": {
          "base_uri": "https://localhost:8080/"
        },
        "id": "KE7l_qoP-ii1",
        "outputId": "2e5a487a-d6ff-4b7d-baa5-a3690098f321"
      },
      "execution_count": 19,
      "outputs": [
        {
          "output_type": "stream",
          "name": "stdout",
          "text": [
            "52M\t12band_reduced/mask\n",
            "47M\t12band_reduced/area_mask\n",
            "1.2G\t12band_reduced\n"
          ]
        }
      ]
    },
    {
      "cell_type": "code",
      "source": [
        "import rasterio\n",
        "import matplotlib.pyplot as plt\n",
        "\n",
        "def show_tiff_band(file_path, band):\n",
        "  # Open the TIFF file\n",
        "  with rasterio.open(file_path) as src:\n",
        "      # Read the third channel\n",
        "      third_channel = src.read(band)\n",
        "\n",
        "      # Attempt to print the RowsPerStrip value\n",
        "      # Note: Not all TIFF files will have this tag, hence using .get() with a default value\n",
        "      print(src.meta)\n",
        "      print(src.tags())\n",
        "\n",
        "  # Plotting the third channel\n",
        "  plt.imshow(third_channel, cmap='gray')\n",
        "  plt.colorbar()\n",
        "  plt.title('Third Channel of TIFF Image')\n",
        "  plt.xlabel('X pixel')\n",
        "  plt.ylabel('Y pixel')\n",
        "  plt.show()\n"
      ],
      "metadata": {
        "id": "Tlg9o2-9X2yP"
      },
      "execution_count": 10,
      "outputs": []
    },
    {
      "cell_type": "code",
      "source": [
        "file_path = '/content/12band_reduced/s2_Artemyevsky_81.7826042963516_50.600017274045_2018-12-01.tif'\n",
        "show_tiff_band(file_path, 1)"
      ],
      "metadata": {
        "colab": {
          "base_uri": "https://localhost:8080/",
          "height": 544
        },
        "id": "GM0hesS3BTiM",
        "outputId": "0a8d735a-f7fb-4459-ac48-8a07650da9ea"
      },
      "execution_count": 42,
      "outputs": [
        {
          "output_type": "stream",
          "name": "stdout",
          "text": [
            "{'driver': 'GTiff', 'dtype': 'uint16', 'nodata': None, 'width': 647, 'height': 1006, 'count': 11, 'crs': CRS.from_epsg(32644), 'transform': Affine(10.0, 0.0, 552150.0,\n",
            "       0.0, -10.0, 5610670.0)}\n",
            "{'AREA_OR_POINT': 'Area'}\n"
          ]
        },
        {
          "output_type": "display_data",
          "data": {
            "text/plain": [
              "<Figure size 640x480 with 2 Axes>"
            ],
            "image/png": "[encoded data removed]"
          },
          "metadata": {}
        }
      ]
    },
    {
      "cell_type": "code",
      "source": [
        "import os\n",
        "import subprocess\n",
        "from shutil import copy2\n",
        "\n",
        "def set_rows_per_strip(file_path, new_file_path, rows_per_strip):\n",
        "    print(f'Setting rows per strip on {new_file_path}')\n",
        "    result = subprocess.run(['gdal_translate', '-co', f'TILED=YES', '-co', f'BLOCKYSIZE={rows_per_strip}', file_path, new_file_path])\n",
        "    return result.returncode\n",
        "\n",
        "def update_tiffs_in_directory(src_directory, dst_directory, rows_per_strip):\n",
        "    if not os.path.exists(dst_directory):\n",
        "        os.makedirs(dst_directory)\n",
        "\n",
        "    for root, dirs, files in os.walk(src_directory):\n",
        "        for dir in dirs:\n",
        "            dst_dir = os.path.join(root.replace(src_directory, dst_directory), dir)\n",
        "            os.makedirs(dst_dir, exist_ok=True)\n",
        "\n",
        "        for file in files:\n",
        "            old_file_path = os.path.join(root, file)\n",
        "            new_file_path = os.path.join(root.replace(src_directory, dst_directory), file)\n",
        "\n",
        "            if file.endswith('.tif'):\n",
        "                set_rows_per_strip(old_file_path, new_file_path, rows_per_strip)"
      ],
      "metadata": {
        "id": "KHCk9lmiAfDh"
      },
      "execution_count": 11,
      "outputs": []
    },
    {
      "cell_type": "code",
      "source": [
        "\n",
        "src_directory = '/content/12band_reduced'  # replace with your source directory path\n",
        "dst_directory = '/content/12band_reduced'  # replace with your destination directory path\n",
        "rows_per_strip = 256  # replace with desired number of rows per strip\n",
        "update_tiffs_in_directory(src_directory, dst_directory, rows_per_strip)\n"
      ],
      "metadata": {
        "id": "sjhV-uPhAiu2"
      },
      "execution_count": 18,
      "outputs": []
    },
    {
      "cell_type": "code",
      "source": [
        "import zipfile\n",
        "import shutil\n",
        "\n",
        "def compress_directory(source_dir, zip_file):\n",
        "    # Create a zip archive of the directory\n",
        "    with zipfile.ZipFile(zip_file, 'w', zipfile.ZIP_DEFLATED) as zipf:\n",
        "        for root, dirs, files in os.walk(source_dir):\n",
        "            for file_name in files:\n",
        "                file_path = os.path.join(root, file_name)\n",
        "                zipf.write(file_path, os.path.relpath(file_path, source_dir))\n",
        "\n",
        "def copy_to_drive(source_path, drive_path):\n",
        "    shutil.copyfile(source_path, os.path.join('/content/drive/MyDrive/', drive_path))"
      ],
      "metadata": {
        "id": "CB18mViB-k5A"
      },
      "execution_count": 12,
      "outputs": []
    },
    {
      "cell_type": "code",
      "source": [
        "from google.colab import drive\n",
        "drive.mount('/content/drive')"
      ],
      "metadata": {
        "colab": {
          "base_uri": "https://localhost:8080/"
        },
        "id": "LITaGwCV_s_q",
        "outputId": "c98f0707-9418-436a-8c63-d2b31b5c6719"
      },
      "execution_count": 18,
      "outputs": [
        {
          "output_type": "stream",
          "name": "stdout",
          "text": [
            "Drive already mounted at /content/drive; to attempt to forcibly remount, call drive.mount(\"/content/drive\", force_remount=True).\n"
          ]
        }
      ]
    },
    {
      "cell_type": "code",
      "source": [
        "directory_to_compress = '/content/12band_reduced/'\n",
        "zip_filename = '/content/OMS2CD_12band.zip'\n",
        "compress_directory(directory_to_compress, zip_filename)\n",
        "copy_to_drive(zip_filename, '2023_dissertation/dataset_archives/OMS2CD_12band.zip')"
      ],
      "metadata": {
        "id": "M9AZ-WDM_hAi"
      },
      "execution_count": null,
      "outputs": []
    },
    {
      "cell_type": "code",
      "source": [
        "from tqdm import tqdm\n",
        "import numpy as np\n",
        "def export_rgbir_bands(source_dir, output_dir, source_bands='all'):\n",
        "    assert source_bands in ['all', 'rgbir']\n",
        "    if not os.path.exists(output_dir):\n",
        "        print(f'Creating directory {output_dir}.')\n",
        "        os.makedirs(output_dir)\n",
        "\n",
        "    if source_bands == 'all':\n",
        "        band_idx = [4, 3, 2, 8]\n",
        "    else:\n",
        "        band_idx = [3, 2, 1, 4]\n",
        "    # Iterate over the files in the input directory\n",
        "    for filename in tqdm(os.listdir(source_dir)):\n",
        "        if filename.endswith('.tif'):\n",
        "            with rasterio.open(os.path.join(source_dir, filename)) as src:\n",
        "                rgb = src.read(band_idx)\n",
        "\n",
        "                rgb = np.interp(rgb, (0, 10000), (0, 255)).astype(np.uint8)\n",
        "\n",
        "                meta = src.meta\n",
        "                meta.update(count=4, dtype=rasterio.uint8)\n",
        "\n",
        "                with rasterio.open(os.path.join(output_dir, filename), 'w', **meta) as dst:\n",
        "                    print(f'Writing {filename} RGB-NIR channels to {output_dir}.')\n",
        "                    dst.write(rgb)"
      ],
      "metadata": {
        "id": "x9pPOTTJDgqj"
      },
      "execution_count": 13,
      "outputs": []
    },
    {
      "cell_type": "code",
      "source": [
        "export_rgbir_bands('12band_reduced', 'OMS2CD_rgbnir', source_bands='all')"
      ],
      "metadata": {
        "colab": {
          "base_uri": "https://localhost:8080/"
        },
        "id": "dpxtXeymURAZ",
        "outputId": "241b79f7-2844-4f6c-eaf4-adbd5757025c"
      },
      "execution_count": 14,
      "outputs": [
        {
          "output_type": "stream",
          "name": "stdout",
          "text": [
            "Creating directory OMS2CD_rgbnir.\n"
          ]
        },
        {
          "output_type": "stream",
          "name": "stderr",
          "text": [
            "\r  0%|          | 0/109 [00:00<?, ?it/s]"
          ]
        },
        {
          "output_type": "stream",
          "name": "stdout",
          "text": [
            "Writing s2_Pingguo_Burong_107.45911210248553_23.436000566583864_2020-07-01.tif RGB-NIR channels to OMS2CD_rgbnir.\n"
          ]
        },
        {
          "output_type": "stream",
          "name": "stderr",
          "text": [
            "  4%|▎         | 4/109 [00:00<00:12,  8.35it/s]"
          ]
        },
        {
          "output_type": "stream",
          "name": "stdout",
          "text": [
            "Writing s2_Guizhou_Xiuwen_106.62430578887023_26.78665816391409_2019-04-01.tif RGB-NIR channels to OMS2CD_rgbnir.\n",
            "Writing s2_Narrabri_149.89886856651822_-30.518201859142547_2019-05-01.tif RGB-NIR channels to OMS2CD_rgbnir.\n",
            "Writing s2_Narrabri_149.89886856651822_-30.518201859142547_2019-12-01.tif RGB-NIR channels to OMS2CD_rgbnir.\n"
          ]
        },
        {
          "output_type": "stream",
          "name": "stderr",
          "text": [
            "\r  5%|▍         | 5/109 [00:00<00:20,  5.20it/s]"
          ]
        },
        {
          "output_type": "stream",
          "name": "stdout",
          "text": [
            "Writing s2_Artemyevsky_81.7826042963516_50.600017274045_2020-02-01.tif RGB-NIR channels to OMS2CD_rgbnir.\n"
          ]
        },
        {
          "output_type": "stream",
          "name": "stderr",
          "text": [
            "\r  6%|▌         | 6/109 [00:01<00:29,  3.53it/s]"
          ]
        },
        {
          "output_type": "stream",
          "name": "stdout",
          "text": [
            "Writing s2_Werris Creek_150.633355555961_-31.3853783732025_2019-03-01.tif RGB-NIR channels to OMS2CD_rgbnir.\n"
          ]
        },
        {
          "output_type": "stream",
          "name": "stderr",
          "text": [
            "\r  6%|▋         | 7/109 [00:01<00:26,  3.87it/s]"
          ]
        },
        {
          "output_type": "stream",
          "name": "stdout",
          "text": [
            "Writing s2_Gunnedah_vickery_150.27155437222632_-30.761526187954605_2019-03-01.tif RGB-NIR channels to OMS2CD_rgbnir.\n"
          ]
        },
        {
          "output_type": "stream",
          "name": "stderr",
          "text": [
            "\r  7%|▋         | 8/109 [00:02<00:33,  3.05it/s]"
          ]
        },
        {
          "output_type": "stream",
          "name": "stdout",
          "text": [
            "Writing s2_Maules Creek_150.1189704360766_-30.55877474487686_2019-06-01.tif RGB-NIR channels to OMS2CD_rgbnir.\n"
          ]
        },
        {
          "output_type": "stream",
          "name": "stderr",
          "text": [
            " 10%|█         | 11/109 [00:02<00:24,  4.03it/s]"
          ]
        },
        {
          "output_type": "stream",
          "name": "stdout",
          "text": [
            "Writing s2_Moa_sotto_-74.96095939538486_20.58394314899455_2019-03-01.tif RGB-NIR channels to OMS2CD_rgbnir.\n",
            "Writing s2_Narrabri_149.89886856651822_-30.518201859142547_2020-04-01.tif RGB-NIR channels to OMS2CD_rgbnir.\n",
            "Writing s2_Pingguo_Anren_107.44572668596695_23.465217482264094_2020-11-01.tif RGB-NIR channels to OMS2CD_rgbnir.\n"
          ]
        },
        {
          "output_type": "stream",
          "name": "stderr",
          "text": [
            "\r 11%|█         | 12/109 [00:03<00:25,  3.76it/s]"
          ]
        },
        {
          "output_type": "stream",
          "name": "stdout",
          "text": [
            "Writing s2_Artemyevsky_81.7826042963516_50.600017274045_2019-06-01.tif RGB-NIR channels to OMS2CD_rgbnir.\n"
          ]
        },
        {
          "output_type": "stream",
          "name": "stderr",
          "text": [
            " 13%|█▎        | 14/109 [00:03<00:23,  4.00it/s]"
          ]
        },
        {
          "output_type": "stream",
          "name": "stdout",
          "text": [
            "Writing s2_Werris Creek_150.633355555961_-31.3853783732025_2019-11-01.tif RGB-NIR channels to OMS2CD_rgbnir.\n",
            "Writing s2_Guizhou_Xiuwen_106.62430578887023_26.78665816391409_2019-12-01.tif RGB-NIR channels to OMS2CD_rgbnir.\n",
            "Writing s2_Narrabri_149.89886856651822_-30.518201859142547_2019-06-01.tif RGB-NIR channels to OMS2CD_rgbnir.\n"
          ]
        },
        {
          "output_type": "stream",
          "name": "stderr",
          "text": [
            "\r 15%|█▍        | 16/109 [00:03<00:18,  4.89it/s]"
          ]
        },
        {
          "output_type": "stream",
          "name": "stdout",
          "text": [
            "Writing s2_Artemyevsky_81.7826042963516_50.600017274045_2020-03-01.tif RGB-NIR channels to OMS2CD_rgbnir.\n"
          ]
        },
        {
          "output_type": "stream",
          "name": "stderr",
          "text": [
            " 17%|█▋        | 18/109 [00:04<00:19,  4.66it/s]"
          ]
        },
        {
          "output_type": "stream",
          "name": "stdout",
          "text": [
            "Writing s2_Werris Creek_150.633355555961_-31.3853783732025_2020-04-01.tif RGB-NIR channels to OMS2CD_rgbnir.\n",
            "Writing s2_Gunnedah_vickery_150.27155437222632_-30.761526187954605_2019-01-01.tif RGB-NIR channels to OMS2CD_rgbnir.\n",
            "Writing s2_Gunnedah_sugarloaf_150.11685310638242_-30.981028551012983_2020-08-01.tif RGB-NIR channels to OMS2CD_rgbnir.\n"
          ]
        },
        {
          "output_type": "stream",
          "name": "stderr",
          "text": [
            "\r 18%|█▊        | 20/109 [00:04<00:17,  5.19it/s]"
          ]
        },
        {
          "output_type": "stream",
          "name": "stdout",
          "text": [
            "Writing s2_Artemyevsky_81.7826042963516_50.600017274045_2020-07-01.tif RGB-NIR channels to OMS2CD_rgbnir.\n"
          ]
        },
        {
          "output_type": "stream",
          "name": "stderr",
          "text": [
            "\r 19%|█▉        | 21/109 [00:05<00:19,  4.45it/s]"
          ]
        },
        {
          "output_type": "stream",
          "name": "stdout",
          "text": [
            "Writing s2_Maules Creek_150.1189704360766_-30.55877474487686_2020-10-01.tif RGB-NIR channels to OMS2CD_rgbnir.\n"
          ]
        },
        {
          "output_type": "stream",
          "name": "stderr",
          "text": [
            "\r 21%|██        | 23/109 [00:05<00:16,  5.35it/s]"
          ]
        },
        {
          "output_type": "stream",
          "name": "stdout",
          "text": [
            "Writing s2_Artemyevsky_81.7826042963516_50.600017274045_2020-12-01.tif RGB-NIR channels to OMS2CD_rgbnir.\n"
          ]
        },
        {
          "output_type": "stream",
          "name": "stderr",
          "text": [
            "\r 22%|██▏       | 24/109 [00:05<00:19,  4.40it/s]"
          ]
        },
        {
          "output_type": "stream",
          "name": "stdout",
          "text": [
            "Writing s2_Moa_sotto_-74.96095939538486_20.58394314899455_2019-12-01.tif RGB-NIR channels to OMS2CD_rgbnir.\n"
          ]
        },
        {
          "output_type": "stream",
          "name": "stderr",
          "text": [
            "\r 23%|██▎       | 25/109 [00:06<00:23,  3.52it/s]"
          ]
        },
        {
          "output_type": "stream",
          "name": "stdout",
          "text": [
            "Writing s2_Moa_sotto_-74.96095939538486_20.58394314899455_2020-04-01.tif RGB-NIR channels to OMS2CD_rgbnir.\n",
            "Writing s2_Narrabri_149.89886856651822_-30.518201859142547_2020-03-01.tif RGB-NIR channels to OMS2CD_rgbnir.\n"
          ]
        },
        {
          "output_type": "stream",
          "name": "stderr",
          "text": [
            "\r 25%|██▍       | 27/109 [00:06<00:19,  4.21it/s]"
          ]
        },
        {
          "output_type": "stream",
          "name": "stdout",
          "text": [
            "Writing s2_Narrabri_149.89886856651822_-30.518201859142547_2019-07-01.tif RGB-NIR channels to OMS2CD_rgbnir.\n"
          ]
        },
        {
          "output_type": "stream",
          "name": "stderr",
          "text": [
            "\r 27%|██▋       | 29/109 [00:06<00:18,  4.32it/s]"
          ]
        },
        {
          "output_type": "stream",
          "name": "stdout",
          "text": [
            "Writing s2_Gunnedah_vickery_150.27155437222632_-30.761526187954605_2020-11-01.tif RGB-NIR channels to OMS2CD_rgbnir.\n"
          ]
        },
        {
          "output_type": "stream",
          "name": "stderr",
          "text": [
            "\r 28%|██▊       | 30/109 [00:08<00:34,  2.26it/s]"
          ]
        },
        {
          "output_type": "stream",
          "name": "stdout",
          "text": [
            "Writing s2_Artemyevsky_81.7826042963516_50.600017274045_2019-05-01.tif RGB-NIR channels to OMS2CD_rgbnir.\n"
          ]
        },
        {
          "output_type": "stream",
          "name": "stderr",
          "text": [
            "\r 28%|██▊       | 31/109 [00:09<00:51,  1.50it/s]"
          ]
        },
        {
          "output_type": "stream",
          "name": "stdout",
          "text": [
            "Writing s2_Maules Creek_alt_150.1189704360766_-30.55877474487686_2019-10-01.tif RGB-NIR channels to OMS2CD_rgbnir.\n"
          ]
        },
        {
          "output_type": "stream",
          "name": "stderr",
          "text": [
            "\r 29%|██▉       | 32/109 [00:10<00:53,  1.44it/s]"
          ]
        },
        {
          "output_type": "stream",
          "name": "stdout",
          "text": [
            "Writing s2_Guizhou_Xiuwen_106.62430578887023_26.78665816391409_2019-10-01.tif RGB-NIR channels to OMS2CD_rgbnir.\n"
          ]
        },
        {
          "output_type": "stream",
          "name": "stderr",
          "text": [
            "\r 30%|███       | 33/109 [00:11<01:07,  1.12it/s]"
          ]
        },
        {
          "output_type": "stream",
          "name": "stdout",
          "text": [
            "Writing s2_Artemyevsky_81.7826042963516_50.600017274045_2019-07-01.tif RGB-NIR channels to OMS2CD_rgbnir.\n"
          ]
        },
        {
          "output_type": "stream",
          "name": "stderr",
          "text": [
            "\r 31%|███       | 34/109 [00:13<01:16,  1.01s/it]"
          ]
        },
        {
          "output_type": "stream",
          "name": "stdout",
          "text": [
            "Writing s2_Mianchi_111.628344391967_34.8216271574413_2019-07-01.tif RGB-NIR channels to OMS2CD_rgbnir.\n"
          ]
        },
        {
          "output_type": "stream",
          "name": "stderr",
          "text": [
            "\r 32%|███▏      | 35/109 [00:14<01:20,  1.08s/it]"
          ]
        },
        {
          "output_type": "stream",
          "name": "stdout",
          "text": [
            "Writing s2_Artemyevsky_81.7826042963516_50.600017274045_2019-04-01.tif RGB-NIR channels to OMS2CD_rgbnir.\n"
          ]
        },
        {
          "output_type": "stream",
          "name": "stderr",
          "text": [
            "\r 34%|███▍      | 37/109 [00:16<01:18,  1.09s/it]"
          ]
        },
        {
          "output_type": "stream",
          "name": "stdout",
          "text": [
            "Writing s2_Artemyevsky_81.7826042963516_50.600017274045_2019-01-01.tif RGB-NIR channels to OMS2CD_rgbnir.\n"
          ]
        },
        {
          "output_type": "stream",
          "name": "stderr",
          "text": [
            "\r 35%|███▍      | 38/109 [00:17<01:18,  1.10s/it]"
          ]
        },
        {
          "output_type": "stream",
          "name": "stdout",
          "text": [
            "Writing s2_Artemyevsky_81.7826042963516_50.600017274045_2018-12-01.tif RGB-NIR channels to OMS2CD_rgbnir.\n"
          ]
        },
        {
          "output_type": "stream",
          "name": "stderr",
          "text": [
            "\r 36%|███▌      | 39/109 [00:19<01:22,  1.18s/it]"
          ]
        },
        {
          "output_type": "stream",
          "name": "stdout",
          "text": [
            "Writing s2_Artemyevsky_81.7826042963516_50.600017274045_2020-06-01.tif RGB-NIR channels to OMS2CD_rgbnir.\n"
          ]
        },
        {
          "output_type": "stream",
          "name": "stderr",
          "text": [
            "\r 37%|███▋      | 40/109 [00:19<01:06,  1.04it/s]"
          ]
        },
        {
          "output_type": "stream",
          "name": "stdout",
          "text": [
            "Writing s2_Artemyevsky_81.7826042963516_50.600017274045_2020-04-01.tif RGB-NIR channels to OMS2CD_rgbnir.\n"
          ]
        },
        {
          "output_type": "stream",
          "name": "stderr",
          "text": [
            "\r 38%|███▊      | 41/109 [00:19<00:55,  1.23it/s]"
          ]
        },
        {
          "output_type": "stream",
          "name": "stdout",
          "text": [
            "Writing s2_Mianchi_111.628344391967_34.8216271574413_2019-04-01.tif RGB-NIR channels to OMS2CD_rgbnir.\n"
          ]
        },
        {
          "output_type": "stream",
          "name": "stderr",
          "text": [
            "\r 39%|███▊      | 42/109 [00:20<00:43,  1.54it/s]"
          ]
        },
        {
          "output_type": "stream",
          "name": "stdout",
          "text": [
            "Writing s2_Gunnedah_vickery_150.27155437222632_-30.761526187954605_2019-06-01.tif RGB-NIR channels to OMS2CD_rgbnir.\n"
          ]
        },
        {
          "output_type": "stream",
          "name": "stderr",
          "text": [
            "\r 39%|███▉      | 43/109 [00:20<00:42,  1.56it/s]"
          ]
        },
        {
          "output_type": "stream",
          "name": "stdout",
          "text": [
            "Writing s2_Olympic Dam_136.8546959572593_-30.43649652805288_2019-12-01.tif RGB-NIR channels to OMS2CD_rgbnir.\n"
          ]
        },
        {
          "output_type": "stream",
          "name": "stderr",
          "text": [
            " 41%|████▏     | 45/109 [00:21<00:27,  2.32it/s]"
          ]
        },
        {
          "output_type": "stream",
          "name": "stdout",
          "text": [
            "Writing s2_Werris Creek_150.633355555961_-31.3853783732025_2020-03-01.tif RGB-NIR channels to OMS2CD_rgbnir.\n",
            "Writing s2_Gunnedah_vickery_150.27155437222632_-30.761526187954605_2020-02-01.tif RGB-NIR channels to OMS2CD_rgbnir.\n"
          ]
        },
        {
          "output_type": "stream",
          "name": "stderr",
          "text": [
            "\r 42%|████▏     | 46/109 [00:21<00:24,  2.53it/s]"
          ]
        },
        {
          "output_type": "stream",
          "name": "stdout",
          "text": [
            "Writing s2_Gunnedah_leard_150.17770055678767_-30.62245095758179_2019-04-01.tif RGB-NIR channels to OMS2CD_rgbnir.\n"
          ]
        },
        {
          "output_type": "stream",
          "name": "stderr",
          "text": [
            "\r 43%|████▎     | 47/109 [00:21<00:22,  2.72it/s]"
          ]
        },
        {
          "output_type": "stream",
          "name": "stdout",
          "text": [
            "Writing s2_Werris Creek_150.633355555961_-31.3853783732025_2019-08-01.tif RGB-NIR channels to OMS2CD_rgbnir.\n"
          ]
        },
        {
          "output_type": "stream",
          "name": "stderr",
          "text": [
            "\r 44%|████▍     | 48/109 [00:22<00:22,  2.72it/s]"
          ]
        },
        {
          "output_type": "stream",
          "name": "stdout",
          "text": [
            "Writing s2_Moa_sotto_-74.96095939538486_20.58394314899455_2019-11-01.tif RGB-NIR channels to OMS2CD_rgbnir.\n",
            "Writing s2_Narrabri_149.89886856651822_-30.518201859142547_2019-04-01.tif RGB-NIR channels to OMS2CD_rgbnir.\n"
          ]
        },
        {
          "output_type": "stream",
          "name": "stderr",
          "text": [
            " 49%|████▊     | 53/109 [00:22<00:08,  6.41it/s]"
          ]
        },
        {
          "output_type": "stream",
          "name": "stdout",
          "text": [
            "Writing s2_Moa_gorda_-74.87559263998233_20.608891954354334_2020-03-01.tif RGB-NIR channels to OMS2CD_rgbnir.\n",
            "Writing s2_Gunnedah_sugarloaf_150.11685310638242_-30.981028551012983_2019-05-01.tif RGB-NIR channels to OMS2CD_rgbnir.\n",
            "Writing s2_Narrabri_149.89886856651822_-30.518201859142547_2019-11-01.tif RGB-NIR channels to OMS2CD_rgbnir.\n"
          ]
        },
        {
          "output_type": "stream",
          "name": "stderr",
          "text": [
            " 51%|█████▏    | 56/109 [00:23<00:07,  6.87it/s]"
          ]
        },
        {
          "output_type": "stream",
          "name": "stdout",
          "text": [
            "Writing s2_Gunnedah_leard_150.17770055678767_-30.62245095758179_2019-05-01.tif RGB-NIR channels to OMS2CD_rgbnir.\n",
            "Writing s2_Narrabri_149.89886856651822_-30.518201859142547_2020-06-01.tif RGB-NIR channels to OMS2CD_rgbnir.\n",
            "Writing s2_Gunnedah_sugarloaf_150.11685310638242_-30.981028551012983_2020-09-01.tif RGB-NIR channels to OMS2CD_rgbnir.\n"
          ]
        },
        {
          "output_type": "stream",
          "name": "stderr",
          "text": [
            " 53%|█████▎    | 58/109 [00:23<00:08,  5.81it/s]"
          ]
        },
        {
          "output_type": "stream",
          "name": "stdout",
          "text": [
            "Writing s2_Maules Creek_150.1189704360766_-30.55877474487686_2019-05-01.tif RGB-NIR channels to OMS2CD_rgbnir.\n",
            "Writing s2_Moa_gorda_-74.87559263998233_20.608891954354334_2020-06-01.tif RGB-NIR channels to OMS2CD_rgbnir.\n"
          ]
        },
        {
          "output_type": "stream",
          "name": "stderr",
          "text": [
            "\r 55%|█████▌    | 60/109 [00:23<00:06,  7.41it/s]"
          ]
        },
        {
          "output_type": "stream",
          "name": "stdout",
          "text": [
            "Writing s2_Guizhou_Xiuwen_106.62430578887023_26.78665816391409_2020-04-01.tif RGB-NIR channels to OMS2CD_rgbnir.\n"
          ]
        },
        {
          "output_type": "stream",
          "name": "stderr",
          "text": [
            "\r 56%|█████▌    | 61/109 [00:23<00:08,  5.93it/s]"
          ]
        },
        {
          "output_type": "stream",
          "name": "stdout",
          "text": [
            "Writing s2_Mianchi_111.628344391967_34.8216271574413_2019-05-01.tif RGB-NIR channels to OMS2CD_rgbnir.\n",
            "Writing s2_Pingguo_Burong_107.45911210248553_23.436000566583864_2020-10-01.tif RGB-NIR channels to OMS2CD_rgbnir.\n"
          ]
        },
        {
          "output_type": "stream",
          "name": "stderr",
          "text": [
            "\r 58%|█████▊    | 63/109 [00:24<00:09,  4.79it/s]"
          ]
        },
        {
          "output_type": "stream",
          "name": "stdout",
          "text": [
            "Writing s2_Olympic Dam_136.8546959572593_-30.43649652805288_2019-04-01.tif RGB-NIR channels to OMS2CD_rgbnir.\n"
          ]
        },
        {
          "output_type": "stream",
          "name": "stderr",
          "text": [
            " 60%|█████▉    | 65/109 [00:24<00:09,  4.74it/s]"
          ]
        },
        {
          "output_type": "stream",
          "name": "stdout",
          "text": [
            "Writing s2_Mianchi_111.628344391967_34.8216271574413_2020-02-01.tif RGB-NIR channels to OMS2CD_rgbnir.\n",
            "Writing s2_Gunnedah_vickery_150.27155437222632_-30.761526187954605_2019-04-01.tif RGB-NIR channels to OMS2CD_rgbnir.\n"
          ]
        },
        {
          "output_type": "stream",
          "name": "stderr",
          "text": [
            "\r 61%|██████    | 66/109 [00:25<00:09,  4.51it/s]"
          ]
        },
        {
          "output_type": "stream",
          "name": "stdout",
          "text": [
            "Writing s2_Artemyevsky_81.7826042963516_50.600017274045_2019-02-01.tif RGB-NIR channels to OMS2CD_rgbnir.\n",
            "Writing s2_Narrabri_149.89886856651822_-30.518201859142547_2019-08-01.tif RGB-NIR channels to OMS2CD_rgbnir.\n"
          ]
        },
        {
          "output_type": "stream",
          "name": "stderr",
          "text": [
            "\r 62%|██████▏   | 68/109 [00:25<00:07,  5.16it/s]"
          ]
        },
        {
          "output_type": "stream",
          "name": "stdout",
          "text": [
            "Writing s2_Artemyevsky_81.7826042963516_50.600017274045_2020-01-01.tif RGB-NIR channels to OMS2CD_rgbnir.\n"
          ]
        },
        {
          "output_type": "stream",
          "name": "stderr",
          "text": [
            "\r 63%|██████▎   | 69/109 [00:25<00:08,  4.47it/s]"
          ]
        },
        {
          "output_type": "stream",
          "name": "stdout",
          "text": [
            "Writing s2_Maules Creek_150.1189704360766_-30.55877474487686_2020-09-01.tif RGB-NIR channels to OMS2CD_rgbnir.\n"
          ]
        },
        {
          "output_type": "stream",
          "name": "stderr",
          "text": [
            " 66%|██████▌   | 72/109 [00:26<00:06,  5.68it/s]"
          ]
        },
        {
          "output_type": "stream",
          "name": "stdout",
          "text": [
            "Writing s2_Artemyevsky_81.7826042963516_50.600017274045_2020-10-01.tif RGB-NIR channels to OMS2CD_rgbnir.\n",
            "Writing s2_Gunnedah_vickery_150.27155437222632_-30.761526187954605_2019-05-01.tif RGB-NIR channels to OMS2CD_rgbnir.\n"
          ]
        },
        {
          "output_type": "stream",
          "name": "stderr",
          "text": [
            "\r 67%|██████▋   | 73/109 [00:26<00:08,  4.46it/s]"
          ]
        },
        {
          "output_type": "stream",
          "name": "stdout",
          "text": [
            "Writing s2_Moa_sotto_-74.96095939538486_20.58394314899455_2020-02-01.tif RGB-NIR channels to OMS2CD_rgbnir.\n"
          ]
        },
        {
          "output_type": "stream",
          "name": "stderr",
          "text": [
            "\r 68%|██████▊   | 74/109 [00:26<00:08,  4.01it/s]"
          ]
        },
        {
          "output_type": "stream",
          "name": "stdout",
          "text": [
            "Writing s2_Artemyevsky_81.7826042963516_50.600017274045_2019-11-01.tif RGB-NIR channels to OMS2CD_rgbnir.\n"
          ]
        },
        {
          "output_type": "stream",
          "name": "stderr",
          "text": [
            " 70%|██████▉   | 76/109 [00:27<00:08,  3.82it/s]"
          ]
        },
        {
          "output_type": "stream",
          "name": "stdout",
          "text": [
            "Writing s2_Moa_sotto_-74.96095939538486_20.58394314899455_2019-01-01.tif RGB-NIR channels to OMS2CD_rgbnir.\n",
            "Writing s2_Gunnedah_sugarloaf_150.11685310638242_-30.981028551012983_2019-12-01.tif RGB-NIR channels to OMS2CD_rgbnir.\n"
          ]
        },
        {
          "output_type": "stream",
          "name": "stderr",
          "text": [
            "\r 71%|███████   | 77/109 [00:27<00:09,  3.20it/s]"
          ]
        },
        {
          "output_type": "stream",
          "name": "stdout",
          "text": [
            "Writing s2_Werris Creek_150.633355555961_-31.3853783732025_2019-07-01.tif RGB-NIR channels to OMS2CD_rgbnir.\n"
          ]
        },
        {
          "output_type": "stream",
          "name": "stderr",
          "text": [
            "\r 72%|███████▏  | 78/109 [00:28<00:10,  2.85it/s]"
          ]
        },
        {
          "output_type": "stream",
          "name": "stdout",
          "text": [
            "Writing s2_Mianchi_111.628344391967_34.8216271574413_2019-03-01.tif RGB-NIR channels to OMS2CD_rgbnir.\n"
          ]
        },
        {
          "output_type": "stream",
          "name": "stderr",
          "text": [
            "\r 72%|███████▏  | 79/109 [00:28<00:10,  2.92it/s]"
          ]
        },
        {
          "output_type": "stream",
          "name": "stdout",
          "text": [
            "Writing s2_Artemyevsky_81.7826042963516_50.600017274045_2020-05-01.tif RGB-NIR channels to OMS2CD_rgbnir.\n",
            "Writing s2_Pingguo_Burong_107.45911210248553_23.436000566583864_2020-12-01.tif RGB-NIR channels to OMS2CD_rgbnir.\n"
          ]
        },
        {
          "output_type": "stream",
          "name": "stderr",
          "text": [
            "\r 75%|███████▌  | 82/109 [00:29<00:06,  4.10it/s]"
          ]
        },
        {
          "output_type": "stream",
          "name": "stdout",
          "text": [
            "Writing s2_Mianchi_111.628344391967_34.8216271574413_2020-04-01.tif RGB-NIR channels to OMS2CD_rgbnir.\n",
            "Writing s2_Pingguo_Anren_107.44572668596695_23.465217482264094_2020-12-01.tif RGB-NIR channels to OMS2CD_rgbnir.\n"
          ]
        },
        {
          "output_type": "stream",
          "name": "stderr",
          "text": [
            "\r 77%|███████▋  | 84/109 [00:30<00:07,  3.41it/s]"
          ]
        },
        {
          "output_type": "stream",
          "name": "stdout",
          "text": [
            "Writing s2_Olympic Dam_136.8546959572593_-30.43649652805288_2019-05-01.tif RGB-NIR channels to OMS2CD_rgbnir.\n",
            "Writing s2_Narrabri_149.89886856651822_-30.518201859142547_2019-09-01.tif RGB-NIR channels to OMS2CD_rgbnir.\n"
          ]
        },
        {
          "output_type": "stream",
          "name": "stderr",
          "text": [
            "\r 79%|███████▉  | 86/109 [00:30<00:06,  3.53it/s]"
          ]
        },
        {
          "output_type": "stream",
          "name": "stdout",
          "text": [
            "Writing s2_Maules Creek_150.1189704360766_-30.55877474487686_2019-11-01.tif RGB-NIR channels to OMS2CD_rgbnir.\n",
            "Writing s2_Narrabri_149.89886856651822_-30.518201859142547_2020-02-01.tif RGB-NIR channels to OMS2CD_rgbnir.\n"
          ]
        },
        {
          "output_type": "stream",
          "name": "stderr",
          "text": [
            " 82%|████████▏ | 89/109 [00:31<00:04,  4.39it/s]"
          ]
        },
        {
          "output_type": "stream",
          "name": "stdout",
          "text": [
            "Writing s2_Gunnedah_leard_150.17770055678767_-30.62245095758179_2019-06-01.tif RGB-NIR channels to OMS2CD_rgbnir.\n",
            "Writing s2_Narrabri_149.89886856651822_-30.518201859142547_2020-01-01.tif RGB-NIR channels to OMS2CD_rgbnir.\n"
          ]
        },
        {
          "output_type": "stream",
          "name": "stderr",
          "text": [
            "\r 83%|████████▎ | 90/109 [00:31<00:04,  4.10it/s]"
          ]
        },
        {
          "output_type": "stream",
          "name": "stdout",
          "text": [
            "Writing s2_Artemyevsky_81.7826042963516_50.600017274045_2020-08-01.tif RGB-NIR channels to OMS2CD_rgbnir.\n"
          ]
        },
        {
          "output_type": "stream",
          "name": "stderr",
          "text": [
            "\r 83%|████████▎ | 91/109 [00:31<00:04,  4.12it/s]"
          ]
        },
        {
          "output_type": "stream",
          "name": "stdout",
          "text": [
            "Writing s2_Artemyevsky_81.7826042963516_50.600017274045_2019-08-01.tif RGB-NIR channels to OMS2CD_rgbnir.\n"
          ]
        },
        {
          "output_type": "stream",
          "name": "stderr",
          "text": [
            "\r 84%|████████▍ | 92/109 [00:31<00:04,  3.90it/s]"
          ]
        },
        {
          "output_type": "stream",
          "name": "stdout",
          "text": [
            "Writing s2_Mianchi_111.628344391967_34.8216271574413_2019-06-01.tif RGB-NIR channels to OMS2CD_rgbnir.\n"
          ]
        },
        {
          "output_type": "stream",
          "name": "stderr",
          "text": [
            "\r 85%|████████▌ | 93/109 [00:32<00:04,  3.71it/s]"
          ]
        },
        {
          "output_type": "stream",
          "name": "stdout",
          "text": [
            "Writing s2_Werris Creek_150.633355555961_-31.3853783732025_2019-12-01.tif RGB-NIR channels to OMS2CD_rgbnir.\n"
          ]
        },
        {
          "output_type": "stream",
          "name": "stderr",
          "text": [
            " 87%|████████▋ | 95/109 [00:32<00:03,  4.14it/s]"
          ]
        },
        {
          "output_type": "stream",
          "name": "stdout",
          "text": [
            "Writing s2_Werris Creek_150.633355555961_-31.3853783732025_2019-04-01.tif RGB-NIR channels to OMS2CD_rgbnir.\n",
            "Writing s2_Gunnedah_vickery_150.27155437222632_-30.761526187954605_2019-02-01.tif RGB-NIR channels to OMS2CD_rgbnir.\n"
          ]
        },
        {
          "output_type": "stream",
          "name": "stderr",
          "text": [
            "\r 88%|████████▊ | 96/109 [00:32<00:03,  3.85it/s]"
          ]
        },
        {
          "output_type": "stream",
          "name": "stdout",
          "text": [
            "Writing s2_Maules Creek_150.1189704360766_-30.55877474487686_2019-12-01.tif RGB-NIR channels to OMS2CD_rgbnir.\n"
          ]
        },
        {
          "output_type": "stream",
          "name": "stderr",
          "text": [
            "\r 89%|████████▉ | 97/109 [00:33<00:03,  3.15it/s]"
          ]
        },
        {
          "output_type": "stream",
          "name": "stdout",
          "text": [
            "Writing s2_Olympic Dam_136.8546959572593_-30.43649652805288_2020-01-01.tif RGB-NIR channels to OMS2CD_rgbnir.\n"
          ]
        },
        {
          "output_type": "stream",
          "name": "stderr",
          "text": [
            "\r 90%|████████▉ | 98/109 [00:33<00:03,  3.07it/s]"
          ]
        },
        {
          "output_type": "stream",
          "name": "stdout",
          "text": [
            "Writing s2_Artemyevsky_81.7826042963516_50.600017274045_2020-09-01.tif RGB-NIR channels to OMS2CD_rgbnir.\n",
            "Writing s2_Gunnedah_sugarloaf_150.11685310638242_-30.981028551012983_2020-02-01.tif RGB-NIR channels to OMS2CD_rgbnir.\n"
          ]
        },
        {
          "output_type": "stream",
          "name": "stderr",
          "text": [
            "\r 92%|█████████▏| 100/109 [00:33<00:02,  4.35it/s]"
          ]
        },
        {
          "output_type": "stream",
          "name": "stdout",
          "text": [
            "Writing s2_Gunnedah_vickery_150.27155437222632_-30.761526187954605_2020-03-01.tif RGB-NIR channels to OMS2CD_rgbnir.\n"
          ]
        },
        {
          "output_type": "stream",
          "name": "stderr",
          "text": [
            "\r 93%|█████████▎| 101/109 [00:34<00:01,  4.35it/s]"
          ]
        },
        {
          "output_type": "stream",
          "name": "stdout",
          "text": [
            "Writing s2_Artemyevsky_81.7826042963516_50.600017274045_2019-10-01.tif RGB-NIR channels to OMS2CD_rgbnir.\n",
            "Writing s2_Narrabri_149.89886856651822_-30.518201859142547_2020-05-01.tif RGB-NIR channels to OMS2CD_rgbnir.\n"
          ]
        },
        {
          "output_type": "stream",
          "name": "stderr",
          "text": [
            "\r 94%|█████████▍| 103/109 [00:34<00:01,  5.09it/s]"
          ]
        },
        {
          "output_type": "stream",
          "name": "stdout",
          "text": [
            "Writing s2_Artemyevsky_81.7826042963516_50.600017274045_2019-03-01.tif RGB-NIR channels to OMS2CD_rgbnir.\n"
          ]
        },
        {
          "output_type": "stream",
          "name": "stderr",
          "text": [
            "\r 95%|█████████▌| 104/109 [00:34<00:01,  4.39it/s]"
          ]
        },
        {
          "output_type": "stream",
          "name": "stdout",
          "text": [
            "Writing s2_Maules Creek_150.1189704360766_-30.55877474487686_2019-04-01.tif RGB-NIR channels to OMS2CD_rgbnir.\n",
            "Writing s2_Moa_gorda_-74.87559263998233_20.608891954354334_2019-09-01.tif RGB-NIR channels to OMS2CD_rgbnir.\n"
          ]
        },
        {
          "output_type": "stream",
          "name": "stderr",
          "text": [
            " 98%|█████████▊| 107/109 [00:35<00:00,  5.96it/s]"
          ]
        },
        {
          "output_type": "stream",
          "name": "stdout",
          "text": [
            "Writing s2_Pingguo_Burong_107.45911210248553_23.436000566583864_2020-11-01.tif RGB-NIR channels to OMS2CD_rgbnir.\n",
            "Writing s2_Gunnedah_sugarloaf_150.11685310638242_-30.981028551012983_2020-07-01.tif RGB-NIR channels to OMS2CD_rgbnir.\n"
          ]
        },
        {
          "output_type": "stream",
          "name": "stderr",
          "text": [
            "\r 99%|█████████▉| 108/109 [00:35<00:00,  6.18it/s]"
          ]
        },
        {
          "output_type": "stream",
          "name": "stdout",
          "text": [
            "Writing s2_Gunnedah_vickery_150.27155437222632_-30.761526187954605_2020-12-01.tif RGB-NIR channels to OMS2CD_rgbnir.\n"
          ]
        },
        {
          "output_type": "stream",
          "name": "stderr",
          "text": [
            "100%|██████████| 109/109 [00:35<00:00,  3.05it/s]"
          ]
        },
        {
          "output_type": "stream",
          "name": "stdout",
          "text": [
            "Writing s2_Maules Creek_alt_150.1189704360766_-30.55877474487686_2019-03-01.tif RGB-NIR channels to OMS2CD_rgbnir.\n"
          ]
        },
        {
          "output_type": "stream",
          "name": "stderr",
          "text": [
            "\n"
          ]
        }
      ]
    },
    {
      "cell_type": "code",
      "source": [
        "# Get a list of filenames in each directory\n",
        "files_in_a = set(os.listdir('12band_reduced'))\n",
        "files_in_b = set(os.listdir('OMS2CD_rgbnir'))\n",
        "\n",
        "for f in files_in_a:\n",
        "  if f not in files_in_b:\n",
        "    print(f'{f} not in OMS2CD_rgbnir')\n",
        "    full_a = os.path.join('12band_reduced', f)\n",
        "    full_b = os.path.join('OMS2CD_rgbnir', f)\n",
        "    print(f'Copying {full_a} to {full_b}')\n",
        "    if os.path.isdir(full_a):\n",
        "      shutil.copytree(full_a, full_b)\n",
        "    else:\n",
        "      shutil.copy(full_a, full_b)"
      ],
      "metadata": {
        "colab": {
          "base_uri": "https://localhost:8080/"
        },
        "id": "wcc2Ph3xUqpj",
        "outputId": "f22b4b37-b5ea-4ec8-d077-5306358c8737"
      },
      "execution_count": 15,
      "outputs": [
        {
          "output_type": "stream",
          "name": "stdout",
          "text": [
            "train.csv not in OMS2CD_rgbnir\n",
            "Copying 12band_reduced/train.csv to OMS2CD_rgbnir/train.csv\n",
            "mapping.csv not in OMS2CD_rgbnir\n",
            "Copying 12band_reduced/mapping.csv to OMS2CD_rgbnir/mapping.csv\n",
            "README.txt not in OMS2CD_rgbnir\n",
            "Copying 12band_reduced/README.txt to OMS2CD_rgbnir/README.txt\n",
            "mask not in OMS2CD_rgbnir\n",
            "Copying 12band_reduced/mask to OMS2CD_rgbnir/mask\n",
            "val.csv not in OMS2CD_rgbnir\n",
            "Copying 12band_reduced/val.csv to OMS2CD_rgbnir/val.csv\n",
            "test.csv not in OMS2CD_rgbnir\n",
            "Copying 12band_reduced/test.csv to OMS2CD_rgbnir/test.csv\n",
            "area_mask not in OMS2CD_rgbnir\n",
            "Copying 12band_reduced/area_mask to OMS2CD_rgbnir/area_mask\n"
          ]
        }
      ]
    },
    {
      "cell_type": "code",
      "source": [
        "!du -h OMS2CD_rgbnir"
      ],
      "metadata": {
        "colab": {
          "base_uri": "https://localhost:8080/"
        },
        "id": "C-uWztzIVozS",
        "outputId": "67e7724e-a95b-473c-f542-259834c9f17a"
      },
      "execution_count": 16,
      "outputs": [
        {
          "output_type": "stream",
          "name": "stdout",
          "text": [
            "52M\tOMS2CD_rgbnir/mask\n",
            "47M\tOMS2CD_rgbnir/area_mask\n",
            "330M\tOMS2CD_rgbnir\n"
          ]
        }
      ]
    },
    {
      "cell_type": "code",
      "source": [
        "directory_to_compress = '/content/OMS2CD_rgbnir/'\n",
        "zip_filename = '/content/OMS2CD_rgbnir.zip'\n",
        "compress_directory(directory_to_compress, zip_filename)\n",
        "copy_to_drive(zip_filename, '2023_dissertation/dataset_archives/OMS2CD_rgbnir.zip')"
      ],
      "metadata": {
        "id": "mdnV94TPVyp2"
      },
      "execution_count": 19,
      "outputs": []
    },
    {
      "cell_type": "code",
      "source": [
        "file_path = '/content/OMS2CD_rgbnir/s2_Olympic Dam_136.8546959572593_-30.43649652805288_2020-01-01.tif'\n",
        "show_tiff_band(file_path, 4)"
      ],
      "metadata": {
        "colab": {
          "base_uri": "https://localhost:8080/",
          "height": 487
        },
        "id": "CVaWWo_lWuuY",
        "outputId": "5f7e207a-3942-4eb7-9a0f-5e1deb06c891"
      },
      "execution_count": 20,
      "outputs": [
        {
          "output_type": "stream",
          "name": "stdout",
          "text": [
            "{'driver': 'GTiff', 'dtype': 'uint8', 'nodata': None, 'width': 1330, 'height': 1000, 'count': 4, 'crs': CRS.from_epsg(32753), 'transform': Affine(10.0, 0.0, 671460.0,\n",
            "       0.0, -10.0, 6636380.0)}\n",
            "{'AREA_OR_POINT': 'Area'}\n"
          ]
        },
        {
          "output_type": "display_data",
          "data": {
            "text/plain": [
              "<Figure size 640x480 with 2 Axes>"
            ],
            "image/png": "[encoded data removed]"
          },
          "metadata": {}
        }
      ]
    },
    {
      "cell_type": "code",
      "source": [
        "from OpenMineChangeDetection.datasets import OMS2CD\n",
        "\n",
        "# Calculate the Mean/var of the RGB/NIR version of the dataset\n",
        "OMS2CD.CalcMeanVar('12band_reduced', split='train', bands='all')"
      ],
      "metadata": {
        "colab": {
          "base_uri": "https://localhost:8080/"
        },
        "id": "6cIlEkM-d82t",
        "outputId": "4e156a2b-3ddf-4f91-a06d-cb913b5e49b4"
      },
      "execution_count": 2,
      "outputs": [
        {
          "output_type": "execute_result",
          "data": {
            "text/plain": [
              "(tensor([7476.4429, 7541.8765, 7298.9458, 7608.5132, 7783.0039, 7646.7476,\n",
              "         7455.5493, 7909.8477, 7355.8169,  987.4725, 1077.0780]),\n",
              " tensor([1796.4598, 2179.1035, 2135.9128, 2232.3074, 2172.5774, 2054.2542,\n",
              "         1965.7772, 2143.4385, 1642.2606,  270.6682,  288.4058]))"
            ]
          },
          "metadata": {},
          "execution_count": 2
        }
      ]
    },
    {
      "cell_type": "code",
      "source": [
        "OMS2CD.CalcMeanVar('OMS2CD', split='train', bands='rgb')"
      ],
      "metadata": {
        "colab": {
          "base_uri": "https://localhost:8080/"
        },
        "id": "p1vhQVvleQRk",
        "outputId": "1397eec9-f6ad-44a5-deae-2846ef4c85d4"
      },
      "execution_count": 5,
      "outputs": [
        {
          "output_type": "execute_result",
          "data": {
            "text/plain": [
              "(tensor([192.9281, 185.3099, 191.5535]), tensor([55.8543, 53.8187, 55.0701]))"
            ]
          },
          "metadata": {},
          "execution_count": 5
        }
      ]
    },
    {
      "cell_type": "code",
      "source": [
        "OMS2CD.CalcMeanVar('OMS2CD_rgbnir', split='train', bands='rgbnir')"
      ],
      "metadata": {
        "colab": {
          "base_uri": "https://localhost:8080/"
        },
        "id": "sWnZAaBXhh7D",
        "outputId": "066ed1b5-694b-4dc3-8c3f-a5b92073bb3b"
      },
      "execution_count": 3,
      "outputs": [
        {
          "output_type": "execute_result",
          "data": {
            "text/plain": [
              "(tensor([192.9281, 185.3099, 191.5535, 200.3148]),\n",
              " tensor([55.8543, 53.8187, 55.0701, 53.1153]))"
            ]
          },
          "metadata": {},
          "execution_count": 3
        }
      ]
    },
    {
      "cell_type": "code",
      "source": [
        "!sha256sum OMS2CD_12band.zip"
      ],
      "metadata": {
        "colab": {
          "base_uri": "https://localhost:8080/"
        },
        "id": "6TUbz6RGk50Z",
        "outputId": "8709010c-8b70-45cb-e2a1-9674aaee02ce"
      },
      "execution_count": 5,
      "outputs": [
        {
          "output_type": "stream",
          "name": "stdout",
          "text": [
            "b8e92aa1265882ea888f95d3f24fadfe1ab804ac907e1e8c2ad9e3595eb045bd  OMS2CD_12band.zip\n"
          ]
        }
      ]
    },
    {
      "cell_type": "code",
      "source": [
        "!sha256sum OMS2CD_rgbnir.zip"
      ],
      "metadata": {
        "colab": {
          "base_uri": "https://localhost:8080/"
        },
        "id": "C3MLiDe6n6jJ",
        "outputId": "4060db78-4bdf-46c7-cffa-8579d62fc143"
      },
      "execution_count": 6,
      "outputs": [
        {
          "output_type": "stream",
          "name": "stdout",
          "text": [
            "0bc64f25766b6823b8b113505b991e36add944ffc0b5a4795922173c0e63a49e  OMS2CD_rgbnir.zip\n"
          ]
        }
      ]
    },
    {
      "cell_type": "code",
      "source": [],
      "metadata": {
        "id": "Ia4V7OJUqAxr"
      },
      "execution_count": null,
      "outputs": []
    }
  ]
}